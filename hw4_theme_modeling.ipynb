{
  "nbformat": 4,
  "nbformat_minor": 0,
  "metadata": {
    "colab": {
      "name": "hw4_theme modeling.ipynb",
      "provenance": [],
      "collapsed_sections": []
    },
    "kernelspec": {
      "name": "python3",
      "display_name": "Python 3"
    },
    "language_info": {
      "name": "python"
    },
    "accelerator": "GPU",
    "gpuClass": "standard"
  },
  "cells": [
    {
      "cell_type": "markdown",
      "source": [
        "\n",
        "\n",
        "Постановка задачи:\n",
        "\n",
        "    Объединить в одну выборку\n",
        "    Провести исследование и выявить тематики о которых говорят в твитах\n",
        "    Сделать визуализацию кластеров тематик\n",
        "    Проинтерпритировать получившиеся тематики\n",
        "\n"
      ],
      "metadata": {
        "id": "z8me2XF09Zid"
      }
    },
    {
      "cell_type": "code",
      "execution_count": 2,
      "metadata": {
        "colab": {
          "base_uri": "https://localhost:8080/"
        },
        "id": "VKGLVKEH9Toe",
        "outputId": "bc936ac0-4f9a-4d09-c1bf-4e1d7986f36c"
      },
      "outputs": [
        {
          "output_type": "stream",
          "name": "stdout",
          "text": [
            "--2022-06-20 07:15:02--  https://www.dropbox.com/s/fnpq3z4bcnoktiv/positive.csv\n",
            "Resolving www.dropbox.com (www.dropbox.com)... 162.125.81.18, 2620:100:6031:18::a27d:5112\n",
            "Connecting to www.dropbox.com (www.dropbox.com)|162.125.81.18|:443... connected.\n",
            "HTTP request sent, awaiting response... 301 Moved Permanently\n",
            "Location: /s/raw/fnpq3z4bcnoktiv/positive.csv [following]\n",
            "--2022-06-20 07:15:03--  https://www.dropbox.com/s/raw/fnpq3z4bcnoktiv/positive.csv\n",
            "Reusing existing connection to www.dropbox.com:443.\n",
            "HTTP request sent, awaiting response... 302 Found\n",
            "Location: https://ucbea9130d93c53abea6d8c334e6.dl.dropboxusercontent.com/cd/0/inline/BnhEKTIhZLzgIoIOluMeo_UiwdmH3hNWCqdkgLffgtFNL32KN-C-ibwE7zIPoDaRik21yj7Jh6qNgCsUDoT315zc3gteG5XvvU3xseUx2pEG_7Q9z5PDMMuw3JRHPp6S4nkRaEBTGFz4_fzq0ZUrWQz9otqEb14_Yz7uvYbU288pmQ/file# [following]\n",
            "--2022-06-20 07:15:03--  https://ucbea9130d93c53abea6d8c334e6.dl.dropboxusercontent.com/cd/0/inline/BnhEKTIhZLzgIoIOluMeo_UiwdmH3hNWCqdkgLffgtFNL32KN-C-ibwE7zIPoDaRik21yj7Jh6qNgCsUDoT315zc3gteG5XvvU3xseUx2pEG_7Q9z5PDMMuw3JRHPp6S4nkRaEBTGFz4_fzq0ZUrWQz9otqEb14_Yz7uvYbU288pmQ/file\n",
            "Resolving ucbea9130d93c53abea6d8c334e6.dl.dropboxusercontent.com (ucbea9130d93c53abea6d8c334e6.dl.dropboxusercontent.com)... 162.125.81.15, 2620:100:6031:15::a27d:510f\n",
            "Connecting to ucbea9130d93c53abea6d8c334e6.dl.dropboxusercontent.com (ucbea9130d93c53abea6d8c334e6.dl.dropboxusercontent.com)|162.125.81.15|:443... connected.\n",
            "HTTP request sent, awaiting response... 200 OK\n",
            "Length: 26233379 (25M) [text/plain]\n",
            "Saving to: ‘positive.csv’\n",
            "\n",
            "positive.csv        100%[===================>]  25.02M  15.4MB/s    in 1.6s    \n",
            "\n",
            "2022-06-20 07:15:05 (15.4 MB/s) - ‘positive.csv’ saved [26233379/26233379]\n",
            "\n",
            "--2022-06-20 07:15:06--  https://www.dropbox.com/s/r6u59ljhhjdg6j0/negative.csv\n",
            "Resolving www.dropbox.com (www.dropbox.com)... 162.125.81.18, 2620:100:6031:18::a27d:5112\n",
            "Connecting to www.dropbox.com (www.dropbox.com)|162.125.81.18|:443... connected.\n",
            "HTTP request sent, awaiting response... 301 Moved Permanently\n",
            "Location: /s/raw/r6u59ljhhjdg6j0/negative.csv [following]\n",
            "--2022-06-20 07:15:06--  https://www.dropbox.com/s/raw/r6u59ljhhjdg6j0/negative.csv\n",
            "Reusing existing connection to www.dropbox.com:443.\n",
            "HTTP request sent, awaiting response... 302 Found\n",
            "Location: https://ucd282c1c954b8031acfe07953f4.dl.dropboxusercontent.com/cd/0/inline/BnhxpBKiek38kMGaOn0Uxrd4UQzJrqDNAboi0hf-d0KLouOlgi2h3hfsEY3Kqma4ZmYf9oRjsMrkApfUn4oSiSMqxy8jvD72JydAbegtxrMqzbV1fdFWhk6QIoTEC4YBBat_K-Eb06-STQWpe6164ZdZQAr8v438LN_4YhvjF-Yv2w/file# [following]\n",
            "--2022-06-20 07:15:06--  https://ucd282c1c954b8031acfe07953f4.dl.dropboxusercontent.com/cd/0/inline/BnhxpBKiek38kMGaOn0Uxrd4UQzJrqDNAboi0hf-d0KLouOlgi2h3hfsEY3Kqma4ZmYf9oRjsMrkApfUn4oSiSMqxy8jvD72JydAbegtxrMqzbV1fdFWhk6QIoTEC4YBBat_K-Eb06-STQWpe6164ZdZQAr8v438LN_4YhvjF-Yv2w/file\n",
            "Resolving ucd282c1c954b8031acfe07953f4.dl.dropboxusercontent.com (ucd282c1c954b8031acfe07953f4.dl.dropboxusercontent.com)... 162.125.81.15, 2620:100:6031:15::a27d:510f\n",
            "Connecting to ucd282c1c954b8031acfe07953f4.dl.dropboxusercontent.com (ucd282c1c954b8031acfe07953f4.dl.dropboxusercontent.com)|162.125.81.15|:443... connected.\n",
            "HTTP request sent, awaiting response... 200 OK\n",
            "Length: 24450101 (23M) [text/plain]\n",
            "Saving to: ‘negative.csv’\n",
            "\n",
            "negative.csv        100%[===================>]  23.32M  15.2MB/s    in 1.5s    \n",
            "\n",
            "2022-06-20 07:15:08 (15.2 MB/s) - ‘negative.csv’ saved [24450101/24450101]\n",
            "\n"
          ]
        }
      ],
      "source": [
        "# Загрузка данных\n",
        "!wget https://www.dropbox.com/s/fnpq3z4bcnoktiv/positive.csv\n",
        "!wget https://www.dropbox.com/s/r6u59ljhhjdg6j0/negative.csv"
      ]
    },
    {
      "cell_type": "code",
      "source": [
        "# Установка доп библиотек\n",
        "!pip install pymorphy2\n",
        "!pip install pyLDAvis\n",
        "!pip install stop_words"
      ],
      "metadata": {
        "colab": {
          "base_uri": "https://localhost:8080/"
        },
        "id": "wWTxUSyf9e5O",
        "outputId": "82ccb662-9b08-49b9-aebb-2687ccd23416"
      },
      "execution_count": 1,
      "outputs": [
        {
          "output_type": "stream",
          "name": "stdout",
          "text": [
            "Looking in indexes: https://pypi.org/simple, https://us-python.pkg.dev/colab-wheels/public/simple/\n",
            "Collecting pymorphy2\n",
            "  Downloading pymorphy2-0.9.1-py3-none-any.whl (55 kB)\n",
            "\u001b[K     |████████████████████████████████| 55 kB 4.1 MB/s \n",
            "\u001b[?25hRequirement already satisfied: docopt>=0.6 in /usr/local/lib/python3.7/dist-packages (from pymorphy2) (0.6.2)\n",
            "Collecting dawg-python>=0.7.1\n",
            "  Downloading DAWG_Python-0.7.2-py2.py3-none-any.whl (11 kB)\n",
            "Collecting pymorphy2-dicts-ru<3.0,>=2.4\n",
            "  Downloading pymorphy2_dicts_ru-2.4.417127.4579844-py2.py3-none-any.whl (8.2 MB)\n",
            "\u001b[K     |████████████████████████████████| 8.2 MB 23.4 MB/s \n",
            "\u001b[?25hInstalling collected packages: pymorphy2-dicts-ru, dawg-python, pymorphy2\n",
            "Successfully installed dawg-python-0.7.2 pymorphy2-0.9.1 pymorphy2-dicts-ru-2.4.417127.4579844\n",
            "Looking in indexes: https://pypi.org/simple, https://us-python.pkg.dev/colab-wheels/public/simple/\n",
            "Collecting pyLDAvis\n",
            "  Downloading pyLDAvis-3.3.1.tar.gz (1.7 MB)\n",
            "\u001b[K     |████████████████████████████████| 1.7 MB 31.9 MB/s \n",
            "\u001b[?25h  Installing build dependencies ... \u001b[?25l\u001b[?25hdone\n",
            "  Getting requirements to build wheel ... \u001b[?25l\u001b[?25hdone\n",
            "  Installing backend dependencies ... \u001b[?25l\u001b[?25hdone\n",
            "    Preparing wheel metadata ... \u001b[?25l\u001b[?25hdone\n",
            "Requirement already satisfied: scikit-learn in /usr/local/lib/python3.7/dist-packages (from pyLDAvis) (1.0.2)\n",
            "Collecting funcy\n",
            "  Downloading funcy-1.17-py2.py3-none-any.whl (33 kB)\n",
            "Requirement already satisfied: pandas>=1.2.0 in /usr/local/lib/python3.7/dist-packages (from pyLDAvis) (1.3.5)\n",
            "Requirement already satisfied: numexpr in /usr/local/lib/python3.7/dist-packages (from pyLDAvis) (2.8.1)\n",
            "Requirement already satisfied: jinja2 in /usr/local/lib/python3.7/dist-packages (from pyLDAvis) (2.11.3)\n",
            "Requirement already satisfied: sklearn in /usr/local/lib/python3.7/dist-packages (from pyLDAvis) (0.0)\n",
            "Requirement already satisfied: numpy>=1.20.0 in /usr/local/lib/python3.7/dist-packages (from pyLDAvis) (1.21.6)\n",
            "Requirement already satisfied: joblib in /usr/local/lib/python3.7/dist-packages (from pyLDAvis) (1.1.0)\n",
            "Requirement already satisfied: gensim in /usr/local/lib/python3.7/dist-packages (from pyLDAvis) (3.6.0)\n",
            "Requirement already satisfied: setuptools in /usr/local/lib/python3.7/dist-packages (from pyLDAvis) (57.4.0)\n",
            "Requirement already satisfied: future in /usr/local/lib/python3.7/dist-packages (from pyLDAvis) (0.16.0)\n",
            "Requirement already satisfied: scipy in /usr/local/lib/python3.7/dist-packages (from pyLDAvis) (1.4.1)\n",
            "Requirement already satisfied: pytz>=2017.3 in /usr/local/lib/python3.7/dist-packages (from pandas>=1.2.0->pyLDAvis) (2022.1)\n",
            "Requirement already satisfied: python-dateutil>=2.7.3 in /usr/local/lib/python3.7/dist-packages (from pandas>=1.2.0->pyLDAvis) (2.8.2)\n",
            "Requirement already satisfied: six>=1.5 in /usr/local/lib/python3.7/dist-packages (from python-dateutil>=2.7.3->pandas>=1.2.0->pyLDAvis) (1.15.0)\n",
            "Requirement already satisfied: smart-open>=1.2.1 in /usr/local/lib/python3.7/dist-packages (from gensim->pyLDAvis) (5.2.1)\n",
            "Requirement already satisfied: MarkupSafe>=0.23 in /usr/local/lib/python3.7/dist-packages (from jinja2->pyLDAvis) (2.0.1)\n",
            "Requirement already satisfied: packaging in /usr/local/lib/python3.7/dist-packages (from numexpr->pyLDAvis) (21.3)\n",
            "Requirement already satisfied: pyparsing!=3.0.5,>=2.0.2 in /usr/local/lib/python3.7/dist-packages (from packaging->numexpr->pyLDAvis) (3.0.9)\n",
            "Requirement already satisfied: threadpoolctl>=2.0.0 in /usr/local/lib/python3.7/dist-packages (from scikit-learn->pyLDAvis) (3.1.0)\n",
            "Building wheels for collected packages: pyLDAvis\n",
            "  Building wheel for pyLDAvis (PEP 517) ... \u001b[?25l\u001b[?25hdone\n",
            "  Created wheel for pyLDAvis: filename=pyLDAvis-3.3.1-py2.py3-none-any.whl size=136898 sha256=e6854d6be96453649671c719efe559aeb4de8075abd4ff02c9f5b01ab70f1b32\n",
            "  Stored in directory: /root/.cache/pip/wheels/c9/21/f6/17bcf2667e8a68532ba2fbf6d5c72fdf4c7f7d9abfa4852d2f\n",
            "Successfully built pyLDAvis\n",
            "Installing collected packages: funcy, pyLDAvis\n",
            "Successfully installed funcy-1.17 pyLDAvis-3.3.1\n",
            "Looking in indexes: https://pypi.org/simple, https://us-python.pkg.dev/colab-wheels/public/simple/\n",
            "Collecting stop_words\n",
            "  Downloading stop-words-2018.7.23.tar.gz (31 kB)\n",
            "Building wheels for collected packages: stop-words\n",
            "  Building wheel for stop-words (setup.py) ... \u001b[?25l\u001b[?25hdone\n",
            "  Created wheel for stop-words: filename=stop_words-2018.7.23-py3-none-any.whl size=32911 sha256=08cb87bf186872660df152e96bfa2a31c863e10b47a48dd3ce4c67c551ebb148\n",
            "  Stored in directory: /root/.cache/pip/wheels/fb/86/b2/277b10b1ce9f73ce15059bf6975d4547cc4ec3feeb651978e9\n",
            "Successfully built stop-words\n",
            "Installing collected packages: stop-words\n",
            "Successfully installed stop-words-2018.7.23\n"
          ]
        }
      ]
    },
    {
      "cell_type": "code",
      "source": [
        "import pandas as pd\n",
        "import re\n",
        "import numpy as np\n",
        "from nltk.corpus import stopwords\n",
        "from pymystem3 import Mystem\n",
        "import nltk\n",
        "nltk.download('stopwords')\n",
        "nltk.download('punkt')\n",
        "from nltk.tokenize import word_tokenize\n",
        "from stop_words import get_stop_words\n",
        "import string\n",
        "from pymorphy2 import MorphAnalyzer\n",
        "from gensim.models import *\n",
        "from gensim import corpora\n",
        "import pyLDAvis\n",
        "import pyLDAvis.gensim_models as gensimvis\n",
        "import matplotlib.pyplot as plt\n",
        "\n",
        "import warnings\n",
        "warnings.filterwarnings('ignore')"
      ],
      "metadata": {
        "colab": {
          "base_uri": "https://localhost:8080/"
        },
        "id": "PGpavTXZ9xkm",
        "outputId": "27b030d5-7b8f-4d9a-ed16-4b5f64601232"
      },
      "execution_count": 3,
      "outputs": [
        {
          "output_type": "stream",
          "name": "stderr",
          "text": [
            "[nltk_data] Downloading package stopwords to /root/nltk_data...\n",
            "[nltk_data]   Unzipping corpora/stopwords.zip.\n",
            "[nltk_data] Downloading package punkt to /root/nltk_data...\n",
            "[nltk_data]   Unzipping tokenizers/punkt.zip.\n",
            "/usr/local/lib/python3.7/dist-packages/past/types/oldstr.py:5: DeprecationWarning: Using or importing the ABCs from 'collections' instead of from 'collections.abc' is deprecated since Python 3.3,and in 3.9 it will stop working\n",
            "  from collections import Iterable\n"
          ]
        }
      ]
    },
    {
      "cell_type": "code",
      "source": [
        "#Загружаем и объединяем датасеты\n",
        "positive = pd.read_csv('positive.csv', sep=';', usecols=[3], names=['tweet'])\n",
        "negative = pd.read_csv('negative.csv', sep=';', usecols=[3], names=['tweet'])\n",
        "\n",
        "df = positive.append(negative)\n",
        "df.sample(2)"
      ],
      "metadata": {
        "colab": {
          "base_uri": "https://localhost:8080/",
          "height": 112
        },
        "id": "Vzbu7rF590z4",
        "outputId": "a25203c3-2cf8-4c0f-f3a6-04984d49102a"
      },
      "execution_count": 4,
      "outputs": [
        {
          "output_type": "execute_result",
          "data": {
            "text/plain": [
              "                                                    tweet\n",
              "106439  Никогда не обманывай людей, которые верят тебе...\n",
              "9948    @yoursadness да) напиши ему кстати, а то мой в..."
            ],
            "text/html": [
              "\n",
              "  <div id=\"df-faf02e0f-6d70-45c1-a56c-3c815b986f54\">\n",
              "    <div class=\"colab-df-container\">\n",
              "      <div>\n",
              "<style scoped>\n",
              "    .dataframe tbody tr th:only-of-type {\n",
              "        vertical-align: middle;\n",
              "    }\n",
              "\n",
              "    .dataframe tbody tr th {\n",
              "        vertical-align: top;\n",
              "    }\n",
              "\n",
              "    .dataframe thead th {\n",
              "        text-align: right;\n",
              "    }\n",
              "</style>\n",
              "<table border=\"1\" class=\"dataframe\">\n",
              "  <thead>\n",
              "    <tr style=\"text-align: right;\">\n",
              "      <th></th>\n",
              "      <th>tweet</th>\n",
              "    </tr>\n",
              "  </thead>\n",
              "  <tbody>\n",
              "    <tr>\n",
              "      <th>106439</th>\n",
              "      <td>Никогда не обманывай людей, которые верят тебе...</td>\n",
              "    </tr>\n",
              "    <tr>\n",
              "      <th>9948</th>\n",
              "      <td>@yoursadness да) напиши ему кстати, а то мой в...</td>\n",
              "    </tr>\n",
              "  </tbody>\n",
              "</table>\n",
              "</div>\n",
              "      <button class=\"colab-df-convert\" onclick=\"convertToInteractive('df-faf02e0f-6d70-45c1-a56c-3c815b986f54')\"\n",
              "              title=\"Convert this dataframe to an interactive table.\"\n",
              "              style=\"display:none;\">\n",
              "        \n",
              "  <svg xmlns=\"http://www.w3.org/2000/svg\" height=\"24px\"viewBox=\"0 0 24 24\"\n",
              "       width=\"24px\">\n",
              "    <path d=\"M0 0h24v24H0V0z\" fill=\"none\"/>\n",
              "    <path d=\"M18.56 5.44l.94 2.06.94-2.06 2.06-.94-2.06-.94-.94-2.06-.94 2.06-2.06.94zm-11 1L8.5 8.5l.94-2.06 2.06-.94-2.06-.94L8.5 2.5l-.94 2.06-2.06.94zm10 10l.94 2.06.94-2.06 2.06-.94-2.06-.94-.94-2.06-.94 2.06-2.06.94z\"/><path d=\"M17.41 7.96l-1.37-1.37c-.4-.4-.92-.59-1.43-.59-.52 0-1.04.2-1.43.59L10.3 9.45l-7.72 7.72c-.78.78-.78 2.05 0 2.83L4 21.41c.39.39.9.59 1.41.59.51 0 1.02-.2 1.41-.59l7.78-7.78 2.81-2.81c.8-.78.8-2.07 0-2.86zM5.41 20L4 18.59l7.72-7.72 1.47 1.35L5.41 20z\"/>\n",
              "  </svg>\n",
              "      </button>\n",
              "      \n",
              "  <style>\n",
              "    .colab-df-container {\n",
              "      display:flex;\n",
              "      flex-wrap:wrap;\n",
              "      gap: 12px;\n",
              "    }\n",
              "\n",
              "    .colab-df-convert {\n",
              "      background-color: #E8F0FE;\n",
              "      border: none;\n",
              "      border-radius: 50%;\n",
              "      cursor: pointer;\n",
              "      display: none;\n",
              "      fill: #1967D2;\n",
              "      height: 32px;\n",
              "      padding: 0 0 0 0;\n",
              "      width: 32px;\n",
              "    }\n",
              "\n",
              "    .colab-df-convert:hover {\n",
              "      background-color: #E2EBFA;\n",
              "      box-shadow: 0px 1px 2px rgba(60, 64, 67, 0.3), 0px 1px 3px 1px rgba(60, 64, 67, 0.15);\n",
              "      fill: #174EA6;\n",
              "    }\n",
              "\n",
              "    [theme=dark] .colab-df-convert {\n",
              "      background-color: #3B4455;\n",
              "      fill: #D2E3FC;\n",
              "    }\n",
              "\n",
              "    [theme=dark] .colab-df-convert:hover {\n",
              "      background-color: #434B5C;\n",
              "      box-shadow: 0px 1px 3px 1px rgba(0, 0, 0, 0.15);\n",
              "      filter: drop-shadow(0px 1px 2px rgba(0, 0, 0, 0.3));\n",
              "      fill: #FFFFFF;\n",
              "    }\n",
              "  </style>\n",
              "\n",
              "      <script>\n",
              "        const buttonEl =\n",
              "          document.querySelector('#df-faf02e0f-6d70-45c1-a56c-3c815b986f54 button.colab-df-convert');\n",
              "        buttonEl.style.display =\n",
              "          google.colab.kernel.accessAllowed ? 'block' : 'none';\n",
              "\n",
              "        async function convertToInteractive(key) {\n",
              "          const element = document.querySelector('#df-faf02e0f-6d70-45c1-a56c-3c815b986f54');\n",
              "          const dataTable =\n",
              "            await google.colab.kernel.invokeFunction('convertToInteractive',\n",
              "                                                     [key], {});\n",
              "          if (!dataTable) return;\n",
              "\n",
              "          const docLinkHtml = 'Like what you see? Visit the ' +\n",
              "            '<a target=\"_blank\" href=https://colab.research.google.com/notebooks/data_table.ipynb>data table notebook</a>'\n",
              "            + ' to learn more about interactive tables.';\n",
              "          element.innerHTML = '';\n",
              "          dataTable['output_type'] = 'display_data';\n",
              "          await google.colab.output.renderOutput(dataTable, element);\n",
              "          const docLink = document.createElement('div');\n",
              "          docLink.innerHTML = docLinkHtml;\n",
              "          element.appendChild(docLink);\n",
              "        }\n",
              "      </script>\n",
              "    </div>\n",
              "  </div>\n",
              "  "
            ]
          },
          "metadata": {},
          "execution_count": 4
        }
      ]
    },
    {
      "cell_type": "markdown",
      "source": [
        "Предобрабатываем датасет"
      ],
      "metadata": {
        "id": "Yzvwq3yx9_HU"
      }
    },
    {
      "cell_type": "code",
      "source": [
        "morpher = MorphAnalyzer()\n",
        "sw = get_stop_words(\"ru\") + stopwords.words('russian')\n",
        "punkt = list(string.punctuation)\n",
        "noise = set(sw + punkt)\n",
        "\n",
        "def lemmatize_text(text):\n",
        "    return [t for t in [morpher.parse(token)[0].normal_form \n",
        "                                for token in word_tokenize(text)] if t not in noise and t.isalpha() and len(t) >= 4]"
      ],
      "metadata": {
        "id": "MN1QmD8499Ct"
      },
      "execution_count": 5,
      "outputs": []
    },
    {
      "cell_type": "code",
      "source": [
        "# очистка токенов от ненужных для определения темы и нецензурных слов\n",
        "\n",
        "def clear_tokens(tokens):\n",
        "    token_str = ' '.join(tokens)\n",
        "    token_str = re.sub(r'[A-za-z]', ' ',  token_str) \n",
        "    token_str = re.sub(r'\\w+ще\\b', ' ',  token_str) \n",
        "    token_str = re.sub(r'\\bбл\\w+', ' ',  token_str) \n",
        "    token_str = re.sub(r'\\bидио\\w+', ' ',  token_str) \n",
        "    token_str = re.sub(r'\\bпид\\w+', ' ',  token_str)\n",
        "    token_str = re.sub(r'\\bху\\w+', ' ', token_str)\n",
        "    token_str = re.sub(r'\\w+xу.\\b', ' ',  token_str)\n",
        "    token_str = re.sub(r'\\w+xу\\w+', ' ',  token_str)\n",
        "    token_str = re.sub(r'\\w+хо\\b', ' ',  token_str)\n",
        "    token_str = re.sub(r'\\bсук\\w+', ' ',  token_str)\n",
        "    token_str = re.sub(r'\\bпоп\\w+', ' ',  token_str)\n",
        "    token_str = re.sub(r'\\bпиз\\w+', ' ',  token_str)\n",
        "    token_str = re.sub(r'\\bгов\\w+', ' ',  token_str)\n",
        "    token_str = re.sub(r'\\bфиг\\w+', ' ',  token_str)\n",
        "    token_str = re.sub(r'\\bпи.де\\w+', ' ',  token_str)\n",
        "    token_str = re.sub(r'никто',  ' ', token_str) \n",
        "    token_str = re.sub(r'завтра',  ' ', token_str) \n",
        "    token_str = re.sub(r'свой', ' ', token_str) \n",
        "    token_str = re.sub(r'\\w+ть\\b', ' ',  token_str) \n",
        "    token_str = re.sub(r'\\w+ться\\b', ' ',  token_str)\n",
        "    token_str = re.sub(r'который', ' ', token_str)\n",
        "    token_str = re.sub(r'нету', ' ', token_str)\n",
        "    token_str = re.sub(r'вчера', ' ', token_str)\n",
        "    token_str = re.sub(r'\\w+ти\\b', ' ', token_str)\n",
        "    token_str = re.sub(r'самый', ' ', token_str)\n",
        "    clear_tokens = token_str.split()\n",
        "    clear_tokens = [w for w in clear_tokens if len(w)>2]\n",
        "    return clear_tokens\n",
        "\n",
        "def preprocess(text):\n",
        "    return (clear_tokens(lemmatize_text(text)))"
      ],
      "metadata": {
        "id": "u2gG0v24-Glm"
      },
      "execution_count": 6,
      "outputs": []
    },
    {
      "cell_type": "code",
      "source": [
        "df['tweet'] = df['tweet'].apply(preprocess)\n",
        "df.sample(5)"
      ],
      "metadata": {
        "colab": {
          "base_uri": "https://localhost:8080/",
          "height": 206
        },
        "id": "OvdmPTmF-L0x",
        "outputId": "2c52ab17-b5f3-428a-928c-067e29a278f1"
      },
      "execution_count": 7,
      "outputs": [
        {
          "output_type": "execute_result",
          "data": {
            "text/plain": [
              "                                                   tweet\n",
              "64364                                            [народ]\n",
              "49492                   [девочка, последний, обострение]\n",
              "20524                    [любимый, тимберлейк, загрузка]\n",
              "70400  [ленивый, новогодний, маникюр, жалко, времча, ...\n",
              "79498                                  [пятница, платье]"
            ],
            "text/html": [
              "\n",
              "  <div id=\"df-a4a4ed5b-ba4a-4838-afd7-2463b1b0ae65\">\n",
              "    <div class=\"colab-df-container\">\n",
              "      <div>\n",
              "<style scoped>\n",
              "    .dataframe tbody tr th:only-of-type {\n",
              "        vertical-align: middle;\n",
              "    }\n",
              "\n",
              "    .dataframe tbody tr th {\n",
              "        vertical-align: top;\n",
              "    }\n",
              "\n",
              "    .dataframe thead th {\n",
              "        text-align: right;\n",
              "    }\n",
              "</style>\n",
              "<table border=\"1\" class=\"dataframe\">\n",
              "  <thead>\n",
              "    <tr style=\"text-align: right;\">\n",
              "      <th></th>\n",
              "      <th>tweet</th>\n",
              "    </tr>\n",
              "  </thead>\n",
              "  <tbody>\n",
              "    <tr>\n",
              "      <th>64364</th>\n",
              "      <td>[народ]</td>\n",
              "    </tr>\n",
              "    <tr>\n",
              "      <th>49492</th>\n",
              "      <td>[девочка, последний, обострение]</td>\n",
              "    </tr>\n",
              "    <tr>\n",
              "      <th>20524</th>\n",
              "      <td>[любимый, тимберлейк, загрузка]</td>\n",
              "    </tr>\n",
              "    <tr>\n",
              "      <th>70400</th>\n",
              "      <td>[ленивый, новогодний, маникюр, жалко, времча, ...</td>\n",
              "    </tr>\n",
              "    <tr>\n",
              "      <th>79498</th>\n",
              "      <td>[пятница, платье]</td>\n",
              "    </tr>\n",
              "  </tbody>\n",
              "</table>\n",
              "</div>\n",
              "      <button class=\"colab-df-convert\" onclick=\"convertToInteractive('df-a4a4ed5b-ba4a-4838-afd7-2463b1b0ae65')\"\n",
              "              title=\"Convert this dataframe to an interactive table.\"\n",
              "              style=\"display:none;\">\n",
              "        \n",
              "  <svg xmlns=\"http://www.w3.org/2000/svg\" height=\"24px\"viewBox=\"0 0 24 24\"\n",
              "       width=\"24px\">\n",
              "    <path d=\"M0 0h24v24H0V0z\" fill=\"none\"/>\n",
              "    <path d=\"M18.56 5.44l.94 2.06.94-2.06 2.06-.94-2.06-.94-.94-2.06-.94 2.06-2.06.94zm-11 1L8.5 8.5l.94-2.06 2.06-.94-2.06-.94L8.5 2.5l-.94 2.06-2.06.94zm10 10l.94 2.06.94-2.06 2.06-.94-2.06-.94-.94-2.06-.94 2.06-2.06.94z\"/><path d=\"M17.41 7.96l-1.37-1.37c-.4-.4-.92-.59-1.43-.59-.52 0-1.04.2-1.43.59L10.3 9.45l-7.72 7.72c-.78.78-.78 2.05 0 2.83L4 21.41c.39.39.9.59 1.41.59.51 0 1.02-.2 1.41-.59l7.78-7.78 2.81-2.81c.8-.78.8-2.07 0-2.86zM5.41 20L4 18.59l7.72-7.72 1.47 1.35L5.41 20z\"/>\n",
              "  </svg>\n",
              "      </button>\n",
              "      \n",
              "  <style>\n",
              "    .colab-df-container {\n",
              "      display:flex;\n",
              "      flex-wrap:wrap;\n",
              "      gap: 12px;\n",
              "    }\n",
              "\n",
              "    .colab-df-convert {\n",
              "      background-color: #E8F0FE;\n",
              "      border: none;\n",
              "      border-radius: 50%;\n",
              "      cursor: pointer;\n",
              "      display: none;\n",
              "      fill: #1967D2;\n",
              "      height: 32px;\n",
              "      padding: 0 0 0 0;\n",
              "      width: 32px;\n",
              "    }\n",
              "\n",
              "    .colab-df-convert:hover {\n",
              "      background-color: #E2EBFA;\n",
              "      box-shadow: 0px 1px 2px rgba(60, 64, 67, 0.3), 0px 1px 3px 1px rgba(60, 64, 67, 0.15);\n",
              "      fill: #174EA6;\n",
              "    }\n",
              "\n",
              "    [theme=dark] .colab-df-convert {\n",
              "      background-color: #3B4455;\n",
              "      fill: #D2E3FC;\n",
              "    }\n",
              "\n",
              "    [theme=dark] .colab-df-convert:hover {\n",
              "      background-color: #434B5C;\n",
              "      box-shadow: 0px 1px 3px 1px rgba(0, 0, 0, 0.15);\n",
              "      filter: drop-shadow(0px 1px 2px rgba(0, 0, 0, 0.3));\n",
              "      fill: #FFFFFF;\n",
              "    }\n",
              "  </style>\n",
              "\n",
              "      <script>\n",
              "        const buttonEl =\n",
              "          document.querySelector('#df-a4a4ed5b-ba4a-4838-afd7-2463b1b0ae65 button.colab-df-convert');\n",
              "        buttonEl.style.display =\n",
              "          google.colab.kernel.accessAllowed ? 'block' : 'none';\n",
              "\n",
              "        async function convertToInteractive(key) {\n",
              "          const element = document.querySelector('#df-a4a4ed5b-ba4a-4838-afd7-2463b1b0ae65');\n",
              "          const dataTable =\n",
              "            await google.colab.kernel.invokeFunction('convertToInteractive',\n",
              "                                                     [key], {});\n",
              "          if (!dataTable) return;\n",
              "\n",
              "          const docLinkHtml = 'Like what you see? Visit the ' +\n",
              "            '<a target=\"_blank\" href=https://colab.research.google.com/notebooks/data_table.ipynb>data table notebook</a>'\n",
              "            + ' to learn more about interactive tables.';\n",
              "          element.innerHTML = '';\n",
              "          dataTable['output_type'] = 'display_data';\n",
              "          await google.colab.output.renderOutput(dataTable, element);\n",
              "          const docLink = document.createElement('div');\n",
              "          docLink.innerHTML = docLinkHtml;\n",
              "          element.appendChild(docLink);\n",
              "        }\n",
              "      </script>\n",
              "    </div>\n",
              "  </div>\n",
              "  "
            ]
          },
          "metadata": {},
          "execution_count": 7
        }
      ]
    },
    {
      "cell_type": "markdown",
      "source": [
        "Модель LDA для определения тематики"
      ],
      "metadata": {
        "id": "IL83L5vK-VMo"
      }
    },
    {
      "cell_type": "code",
      "source": [
        "dictionary = corpora.Dictionary(df['tweet'])\n",
        "dictionary.filter_extremes(no_below = 10, no_above = 0.9, keep_n=None) # игнорируем слова, которые встречаются реже 10 раз или составляют более 0.9 словаря \n",
        "dictionary.save('tweet.dict')"
      ],
      "metadata": {
        "id": "gGtO2o9P-Ssv"
      },
      "execution_count": 8,
      "outputs": []
    },
    {
      "cell_type": "code",
      "source": [
        "#Векторизация\n",
        "corpus = [dictionary.doc2bow(tweet) for tweet in df['tweet']]\n",
        "corpora.MmCorpus.serialize('tweets.model', corpus) "
      ],
      "metadata": {
        "id": "785UKS8I-gDA"
      },
      "execution_count": 9,
      "outputs": []
    },
    {
      "cell_type": "code",
      "source": [
        "#Посмотрим на примере\n",
        "print(df['tweet'].iloc[1])\n",
        "print(corpus[1])"
      ],
      "metadata": {
        "colab": {
          "base_uri": "https://localhost:8080/"
        },
        "id": "YXqrmnxD-jTo",
        "outputId": "e13ecd1b-54b1-4eba-b47b-01a9c515fc94"
      },
      "execution_count": 10,
      "outputs": [
        {
          "output_type": "stream",
          "name": "stdout",
          "text": [
            "['похожий', 'мальчик', 'равно', 'хороший']\n",
            "[(4, 1), (5, 1), (6, 1), (7, 1)]\n"
          ]
        }
      ]
    },
    {
      "cell_type": "code",
      "source": [
        "#Обучаем модель\n",
        "lda = ldamodel.LdaModel(corpus, id2word=dictionary, num_topics=4)"
      ],
      "metadata": {
        "id": "O9sRLWIu-pY_"
      },
      "execution_count": 41,
      "outputs": []
    },
    {
      "cell_type": "code",
      "source": [
        "lda.show_topics(num_topics=4, num_words=25, formatted=True)"
      ],
      "metadata": {
        "colab": {
          "base_uri": "https://localhost:8080/"
        },
        "id": "joKq8gpDBZgc",
        "outputId": "fede8f21-efd3-4fe3-bbfc-a985404c675c"
      },
      "execution_count": 42,
      "outputs": [
        {
          "output_type": "execute_result",
          "data": {
            "text/plain": [
              "[(0,\n",
              "  '0.033*\"хороший\" + 0.021*\"друг\" + 0.019*\"настроение\" + 0.015*\"плохой\" + 0.014*\"телефон\" + 0.012*\"снег\" + 0.012*\"скучно\" + 0.011*\"сильно\" + 0.010*\"твиттер\" + 0.010*\"слово\" + 0.010*\"вечер\" + 0.010*\"новый\" + 0.010*\"учёба\" + 0.010*\"большой\" + 0.009*\"боль\" + 0.009*\"месяц\" + 0.009*\"твит\" + 0.009*\"любимый\" + 0.008*\"больно\" + 0.008*\"погода\" + 0.008*\"нормально\" + 0.007*\"песня\" + 0.007*\"зима\" + 0.007*\"слеза\" + 0.007*\"история\"'),\n",
              " (1,\n",
              "  '0.032*\"школа\" + 0.021*\"большой\" + 0.020*\"мама\" + 0.016*\"урок\" + 0.015*\"голова\" + 0.013*\"дело\" + 0.013*\"экзамен\" + 0.012*\"каникулы\" + 0.011*\"жалко\" + 0.010*\"новый\" + 0.009*\"нужный\" + 0.009*\"ранний\" + 0.008*\"капец\" + 0.008*\"момент\" + 0.008*\"должный\" + 0.007*\"папа\" + 0.007*\"наверное\" + 0.007*\"рука\" + 0.007*\"проблема\" + 0.007*\"сразу\" + 0.007*\"душа\" + 0.006*\"быстро\" + 0.006*\"родитель\" + 0.006*\"мысль\" + 0.006*\"черта\"'),\n",
              " (2,\n",
              "  '0.023*\"утро\" + 0.017*\"ночь\" + 0.013*\"фильм\" + 0.013*\"прийтись\" + 0.012*\"ужасно\" + 0.011*\"правда\" + 0.010*\"ужасный\" + 0.010*\"город\" + 0.009*\"неделя\" + 0.009*\"холодно\" + 0.009*\"столько\" + 0.009*\"ужас\" + 0.008*\"вроде\" + 0.008*\"ребёнок\" + 0.008*\"никак\" + 0.008*\"добрый\" + 0.007*\"улица\" + 0.007*\"точно\" + 0.007*\"лето\" + 0.007*\"начало\" + 0.007*\"лента\" + 0.007*\"вопрос\" + 0.007*\"понедельник\" + 0.007*\"целый\" + 0.007*\"помочь\"'),\n",
              " (3,\n",
              "  '0.021*\"жаль\" + 0.018*\"последний\" + 0.017*\"работа\" + 0.014*\"скоро\" + 0.013*\"домой\" + 0.012*\"равно\" + 0.011*\"обидно\" + 0.010*\"фотка\" + 0.009*\"смочь\" + 0.009*\"парень\" + 0.009*\"нога\" + 0.009*\"чувство\" + 0.009*\"деньга\" + 0.008*\"грустно\" + 0.008*\"выходной\" + 0.007*\"серия\" + 0.006*\"конец\" + 0.006*\"новый\" + 0.006*\"лень\" + 0.006*\"печально\" + 0.006*\"сезон\" + 0.006*\"страшно\" + 0.006*\"утром\" + 0.005*\"каток\" + 0.005*\"неделя\"')]"
            ]
          },
          "metadata": {},
          "execution_count": 42
        }
      ]
    },
    {
      "cell_type": "code",
      "source": [
        "#Оценка модели\n",
        "print('Персплексия: ', np.exp(lda.log_perplexity(corpus)))"
      ],
      "metadata": {
        "colab": {
          "base_uri": "https://localhost:8080/"
        },
        "id": "hfRQZQLVBrRO",
        "outputId": "e1d183cb-f6b2-4119-b36b-78c574b6eca8"
      },
      "execution_count": 43,
      "outputs": [
        {
          "output_type": "stream",
          "name": "stdout",
          "text": [
            "Персплексия:  0.00029564319768207893\n"
          ]
        }
      ]
    },
    {
      "cell_type": "code",
      "source": [
        "coherence_model_lda = CoherenceModel(model=lda, texts=df['tweet'], dictionary=dictionary, coherence='c_v')\n",
        "coherence_lda = coherence_model_lda.get_coherence()\n",
        "print('Средняя когерентность: ', coherence_lda)"
      ],
      "metadata": {
        "colab": {
          "base_uri": "https://localhost:8080/"
        },
        "id": "p13ODWO6ByXr",
        "outputId": "8ea570db-d82f-41fa-dbce-a7306f175fae"
      },
      "execution_count": 44,
      "outputs": [
        {
          "output_type": "stream",
          "name": "stdout",
          "text": [
            "Средняя когерентность:  0.2489888690214019\n"
          ]
        }
      ]
    },
    {
      "cell_type": "markdown",
      "source": [
        "В целом, модель показала неплохой результат с низкой персплексией и достаточно высокой когерентностью."
      ],
      "metadata": {
        "id": "Fuy6SRCsCAkz"
      }
    },
    {
      "cell_type": "code",
      "source": [
        "#Визуализация результатов модели\n",
        "vis_data = gensimvis.prepare(lda, corpus, dictionary)\n",
        "pyLDAvis.display(vis_data)"
      ],
      "metadata": {
        "colab": {
          "base_uri": "https://localhost:8080/",
          "height": 861
        },
        "id": "mH1jhZvDB3Zd",
        "outputId": "4bcb194d-31eb-41ad-dcdb-b11d75f241c4"
      },
      "execution_count": 45,
      "outputs": [
        {
          "output_type": "execute_result",
          "data": {
            "text/plain": [
              "<IPython.core.display.HTML object>"
            ],
            "text/html": [
              "\n",
              "<link rel=\"stylesheet\" type=\"text/css\" href=\"https://cdn.jsdelivr.net/gh/bmabey/pyLDAvis@3.3.1/pyLDAvis/js/ldavis.v1.0.0.css\">\n",
              "\n",
              "\n",
              "<div id=\"ldavis_el711400413328713767366636524\"></div>\n",
              "<script type=\"text/javascript\">\n",
              "\n",
              "var ldavis_el711400413328713767366636524_data = {\"mdsDat\": {\"x\": [0.20914428006985147, -0.3054030119766959, 0.2369053331375154, -0.1406466012306708], \"y\": [-0.18020486632884786, -0.22902694651414193, 0.06701160564402565, 0.3422202071989641], \"topics\": [1, 2, 3, 4], \"cluster\": [1, 1, 1, 1], \"Freq\": [26.479137795279843, 25.090895905437172, 24.85820944568878, 23.571756853594206]}, \"tinfo\": {\"Term\": [\"\\u0445\\u043e\\u0440\\u043e\\u0448\\u0438\\u0439\", \"\\u0448\\u043a\\u043e\\u043b\\u0430\", \"\\u0443\\u0442\\u0440\\u043e\", \"\\u0436\\u0430\\u043b\\u044c\", \"\\u0434\\u0440\\u0443\\u0433\", \"\\u043c\\u0430\\u043c\\u0430\", \"\\u043d\\u0430\\u0441\\u0442\\u0440\\u043e\\u0435\\u043d\\u0438\\u0435\", \"\\u043f\\u043e\\u0441\\u043b\\u0435\\u0434\\u043d\\u0438\\u0439\", \"\\u043d\\u043e\\u0447\\u044c\", \"\\u0440\\u0430\\u0431\\u043e\\u0442\\u0430\", \"\\u0431\\u043e\\u043b\\u044c\\u0448\\u043e\\u0439\", \"\\u0443\\u0440\\u043e\\u043a\", \"\\u0433\\u043e\\u043b\\u043e\\u0432\\u0430\", \"\\u043f\\u043b\\u043e\\u0445\\u043e\\u0439\", \"\\u0441\\u043a\\u043e\\u0440\\u043e\", \"\\u0442\\u0435\\u043b\\u0435\\u0444\\u043e\\u043d\", \"\\u0434\\u0435\\u043b\\u043e\", \"\\u044d\\u043a\\u0437\\u0430\\u043c\\u0435\\u043d\", \"\\u0444\\u0438\\u043b\\u044c\\u043c\", \"\\u0434\\u043e\\u043c\\u043e\\u0439\", \"\\u043f\\u0440\\u0438\\u0439\\u0442\\u0438\\u0441\\u044c\", \"\\u043a\\u0430\\u043d\\u0438\\u043a\\u0443\\u043b\\u044b\", \"\\u0443\\u0436\\u0430\\u0441\\u043d\\u043e\", \"\\u0441\\u043d\\u0435\\u0433\", \"\\u0440\\u0430\\u0432\\u043d\\u043e\", \"\\u0441\\u043a\\u0443\\u0447\\u043d\\u043e\", \"\\u0436\\u0430\\u043b\\u043a\\u043e\", \"\\u043f\\u0440\\u0430\\u0432\\u0434\\u0430\", \"\\u043e\\u0431\\u0438\\u0434\\u043d\\u043e\", \"\\u0441\\u0438\\u043b\\u044c\\u043d\\u043e\", \"\\u0448\\u043a\\u043e\\u043b\\u0430\", \"\\u043c\\u0430\\u043c\\u0430\", \"\\u0443\\u0440\\u043e\\u043a\", \"\\u0433\\u043e\\u043b\\u043e\\u0432\\u0430\", \"\\u0434\\u0435\\u043b\\u043e\", \"\\u044d\\u043a\\u0437\\u0430\\u043c\\u0435\\u043d\", \"\\u043a\\u0430\\u043d\\u0438\\u043a\\u0443\\u043b\\u044b\", \"\\u0436\\u0430\\u043b\\u043a\\u043e\", \"\\u0440\\u0430\\u043d\\u043d\\u0438\\u0439\", \"\\u043a\\u0430\\u043f\\u0435\\u0446\", \"\\u043c\\u043e\\u043c\\u0435\\u043d\\u0442\", \"\\u0434\\u043e\\u043b\\u0436\\u043d\\u044b\\u0439\", \"\\u043f\\u0430\\u043f\\u0430\", \"\\u0434\\u0443\\u0448\\u0430\", \"\\u0431\\u044b\\u0441\\u0442\\u0440\\u043e\", \"\\u043c\\u044b\\u0441\\u043b\\u044c\", \"\\u0447\\u0435\\u0440\\u0442\\u0430\", \"\\u043f\\u0440\\u0430\\u0437\\u0434\\u043d\\u0438\\u043a\", \"\\u044f\\u043d\\u0432\\u0430\\u0440\\u044c\", \"\\u0440\\u0435\\u0431\\u044f\\u0442\\u0430\", \"\\u0434\\u0435\\u0432\\u043e\\u0447\\u043a\\u0430\", \"\\u0434\\u043e\\u0436\\u0434\\u044c\", \"\\u0431\\u0438\\u043b\\u0435\\u0442\", \"\\u0451\\u043b\\u043a\\u0430\", \"\\u043f\\u0440\\u0438\\u0432\\u0435\\u0442\", \"\\u043f\\u043e\\u0441\\u0442\\u043e\\u044f\\u043d\\u043d\\u043e\", \"\\u0442\\u0430\\u043a\\u0438\", \"\\u0433\\u043e\\u0440\\u043b\\u043e\", \"\\u0444\\u0438\\u0437\\u0438\\u043a\\u0430\", \"\\u043f\\u0437\\u0434\\u0446\\u0430\", \"\\u043d\\u0443\\u0436\\u043d\\u044b\\u0439\", \"\\u043f\\u0440\\u043e\\u0431\\u043b\\u0435\\u043c\\u0430\", \"\\u043d\\u0430\\u0432\\u0435\\u0440\\u043d\\u043e\\u0435\", \"\\u0441\\u0440\\u0430\\u0437\\u0443\", \"\\u043b\\u0438\\u0446\\u043e\", \"\\u0440\\u043e\\u0434\\u0438\\u0442\\u0435\\u043b\\u044c\", \"\\u0441\\u0435\\u0440\\u0434\\u0446\\u0435\", \"\\u0431\\u043e\\u043b\\u044c\\u0448\\u043e\\u0439\", \"\\u0434\\u0435\\u0432\\u0443\\u0448\\u043a\\u0430\", \"\\u0440\\u0443\\u043a\\u0430\", \"\\u043c\\u0443\\u0437\\u044b\\u043a\\u0430\", \"\\u043d\\u043e\\u0432\\u044b\\u0439\", \"\\u0436\\u0430\\u043b\\u044c\", \"\\u043f\\u043e\\u0441\\u043b\\u0435\\u0434\\u043d\\u0438\\u0439\", \"\\u0440\\u0430\\u0431\\u043e\\u0442\\u0430\", \"\\u0441\\u043a\\u043e\\u0440\\u043e\", \"\\u0434\\u043e\\u043c\\u043e\\u0439\", \"\\u0440\\u0430\\u0432\\u043d\\u043e\", \"\\u043e\\u0431\\u0438\\u0434\\u043d\\u043e\", \"\\u0444\\u043e\\u0442\\u043a\\u0430\", \"\\u0441\\u043c\\u043e\\u0447\\u044c\", \"\\u043f\\u0430\\u0440\\u0435\\u043d\\u044c\", \"\\u0447\\u0443\\u0432\\u0441\\u0442\\u0432\\u043e\", \"\\u043d\\u043e\\u0433\\u0430\", \"\\u0433\\u0440\\u0443\\u0441\\u0442\\u043d\\u043e\", \"\\u0441\\u0435\\u0440\\u0438\\u044f\", \"\\u043b\\u0435\\u043d\\u044c\", \"\\u043f\\u0435\\u0447\\u0430\\u043b\\u044c\\u043d\\u043e\", \"\\u0441\\u0435\\u0437\\u043e\\u043d\", \"\\u0441\\u0442\\u0440\\u0430\\u0448\\u043d\\u043e\", \"\\u043a\\u0430\\u0442\\u043e\\u043a\", \"\\u0443\\u0442\\u0440\\u043e\\u043c\", \"\\u043d\\u043e\\u0440\\u043c\\u0430\", \"\\u043f\\u043e\\u044d\\u0442\\u043e\\u043c\\u0443\", \"\\u0431\\u0440\\u0430\\u0442\", \"\\u0438\\u0433\\u0440\\u0430\", \"\\u0434\\u043e\\u0440\\u043e\\u0433\\u0430\", \"\\u0432\\u043e\\u0434\\u0430\", \"\\u0431\\u0435\\u0434\\u043d\\u044b\\u0439\", \"\\u0433\\u043e\\u0442\\u043e\\u0432\\u044b\\u0439\", \"\\u043a\\u043e\\u043c\\u043f\", \"\\u0432\\u0438\\u0434\\u0438\\u043c\\u043e\", \"\\u0432\\u044b\\u0445\\u043e\\u0434\\u043d\\u043e\\u0439\", \"\\u043f\\u043e\\u0434\\u0440\\u0443\\u0433\\u0430\", \"\\u043c\\u043e\\u0440\\u043e\\u0437\", \"\\u0434\\u0435\\u043d\\u044c\\u0433\\u0430\", \"\\u043c\\u043e\\u0441\\u043a\\u0432\\u0430\", \"\\u0436\\u043e\\u043f\\u0430\", \"\\u0447\\u0451\\u0440\\u043d\\u044b\\u0439\", \"\\u043a\\u0440\\u0430\\u0441\\u0438\\u0432\\u044b\\u0439\", \"\\u043a\\u043e\\u043d\\u0435\\u0446\", \"\\u043d\\u043e\\u0432\\u044b\\u0439\", \"\\u043c\\u0438\\u043d\\u0443\\u0442\\u0430\", \"\\u043d\\u0435\\u0434\\u0435\\u043b\\u044f\", \"\\u0434\\u0440\\u0443\\u0433\", \"\\u043d\\u0430\\u0441\\u0442\\u0440\\u043e\\u0435\\u043d\\u0438\\u0435\", \"\\u043f\\u043b\\u043e\\u0445\\u043e\\u0439\", \"\\u0442\\u0435\\u043b\\u0435\\u0444\\u043e\\u043d\", \"\\u0441\\u043a\\u0443\\u0447\\u043d\\u043e\", \"\\u0441\\u043d\\u0435\\u0433\", \"\\u0441\\u0438\\u043b\\u044c\\u043d\\u043e\", \"\\u0442\\u0432\\u0438\\u0442\\u0442\\u0435\\u0440\", \"\\u0441\\u043b\\u043e\\u0432\\u043e\", \"\\u0443\\u0447\\u0451\\u0431\\u0430\", \"\\u0431\\u043e\\u043b\\u044c\", \"\\u043c\\u0435\\u0441\\u044f\\u0446\", \"\\u0442\\u0432\\u0438\\u0442\", \"\\u0432\\u0435\\u0447\\u0435\\u0440\", \"\\u0431\\u043e\\u043b\\u044c\\u043d\\u043e\", \"\\u0441\\u043b\\u0435\\u0437\\u0430\", \"\\u043f\\u0435\\u0441\\u043d\\u044f\", \"\\u0441\\u0442\\u0430\\u0440\\u044b\\u0439\", \"\\u043d\\u0435\\u0447\\u0435\\u0433\\u043e\", \"\\u0442\\u0435\\u043c\\u043f\\u0435\\u0440\\u0430\\u0442\\u0443\\u0440\\u0430\", \"\\u043f\\u043e\\u0445\\u043e\\u0434\", \"\\u0441\\u0435\\u0440\\u0438\\u0430\\u043b\", \"\\u043a\\u0440\\u0443\\u0442\\u043e\", \"\\u0441\\u0435\\u0441\\u0441\\u0438\\u044f\", \"\\u0431\\u043e\\u043b\\u044c\\u043d\\u0438\\u0446\\u0430\", \"\\u043b\\u0435\\u0447\\u044c\", \"\\u043d\\u043e\\u0432\\u043e\\u0433\\u043e\\u0434\\u043d\\u0438\\u0439\", \"\\u0441\\u043e\\u0436\\u0430\\u043b\\u0435\\u043d\\u0438\\u0435\", \"\\u043a\\u0440\\u0443\\u0442\\u043e\\u0439\", \"\\u043c\\u0430\\u0433\\u0430\\u0437\\u0438\\u043d\", \"\\u0445\\u043e\\u0440\\u043e\\u0448\\u0438\\u0439\", \"\\u043f\\u043e\\u0433\\u043e\\u0434\\u0430\", \"\\u043d\\u043e\\u0440\\u043c\\u0430\\u043b\\u044c\\u043d\\u043e\", \"\\u0437\\u0438\\u043c\\u0430\", \"\\u0438\\u0441\\u0442\\u043e\\u0440\\u0438\\u044f\", \"\\u043b\\u044e\\u0431\\u0438\\u043c\\u044b\\u0439\", \"\\u043d\\u043e\\u0432\\u044b\\u0439\", \"\\u0431\\u043e\\u043b\\u044c\\u0448\\u043e\\u0439\", \"\\u043c\\u0430\\u043b\\u0435\\u043d\\u044c\\u043a\\u0438\\u0439\", \"\\u0443\\u0442\\u0440\\u043e\", \"\\u043d\\u043e\\u0447\\u044c\", \"\\u0444\\u0438\\u043b\\u044c\\u043c\", \"\\u043f\\u0440\\u0438\\u0439\\u0442\\u0438\\u0441\\u044c\", \"\\u0443\\u0436\\u0430\\u0441\\u043d\\u043e\", \"\\u0443\\u0436\\u0430\\u0441\\u043d\\u044b\\u0439\", \"\\u043f\\u0440\\u0430\\u0432\\u0434\\u0430\", \"\\u0433\\u043e\\u0440\\u043e\\u0434\", \"\\u0445\\u043e\\u043b\\u043e\\u0434\\u043d\\u043e\", \"\\u0441\\u0442\\u043e\\u043b\\u044c\\u043a\\u043e\", \"\\u0443\\u0436\\u0430\\u0441\", \"\\u0440\\u0435\\u0431\\u0451\\u043d\\u043e\\u043a\", \"\\u043d\\u0438\\u043a\\u0430\\u043a\", \"\\u0434\\u043e\\u0431\\u0440\\u044b\\u0439\", \"\\u0442\\u043e\\u0447\\u043d\\u043e\", \"\\u043b\\u0435\\u0442\\u043e\", \"\\u0432\\u043e\\u043f\\u0440\\u043e\\u0441\", \"\\u0446\\u0435\\u043b\\u044b\\u0439\", \"\\u043f\\u0435\\u0447\\u0430\\u043b\\u044c\", \"\\u0448\\u0435\\u0440\\u043b\\u043e\\u043a\", \"\\u043a\\u043d\\u0438\\u0433\\u0430\", \"\\u0447\\u0435\\u0441\\u0442\\u043d\\u043e\", \"\\u0441\\u0438\\u043b\\u0430\", \"\\u0442\\u044f\\u0436\\u0435\\u043b\\u043e\", \"\\u0433\\u043e\\u0441\\u043f\\u043e\\u0434\\u044c\", \"\\u043a\\u043b\\u0430\\u0441\\u0441\\u043d\\u044b\\u0439\", \"\\u043d\\u0438\\u043a\\u0430\\u043a\\u043e\\u0439\", \"\\u043f\\u0440\\u0430\\u0432\\u043e\", \"\\u0441\\u043a\\u043e\\u0440\\u044b\\u0439\", \"\\u0430\\u0430\\u0430\\u0430\", \"\\u043d\\u0430\\u0447\\u0430\\u043b\\u043e\", \"\\u043f\\u043e\\u043d\\u0435\\u0434\\u0435\\u043b\\u044c\\u043d\\u0438\\u043a\", \"\\u0440\\u043e\\u0441\\u0441\\u0438\\u044f\", \"\\u043f\\u043e\\u043c\\u043e\\u0447\\u044c\", \"\\u043f\\u0440\\u044f\\u043c\", \"\\u043b\\u0435\\u043d\\u0442\\u0430\", \"\\u0432\\u0440\\u043e\\u0434\\u0435\", \"\\u043d\\u0435\\u0434\\u0435\\u043b\\u044f\", \"\\u0443\\u043b\\u0438\\u0446\\u0430\"], \"Freq\": [4858.0, 4958.0, 3208.0, 3090.0, 3052.0, 3112.0, 2831.0, 2720.0, 2401.0, 2472.0, 4626.0, 2478.0, 2393.0, 2160.0, 2092.0, 1997.0, 2058.0, 1987.0, 1815.0, 1860.0, 1738.0, 1873.0, 1713.0, 1752.0, 1753.0, 1738.0, 1743.0, 1570.0, 1596.0, 1552.0, 4957.566919665155, 3111.888965232691, 2477.7827230640078, 2393.056870190335, 2057.570247505998, 1986.543775513816, 1872.6789763135375, 1742.3249557973115, 1384.8308338368909, 1217.4129724272918, 1212.9660518388455, 1173.759496202093, 1147.6037441503465, 1025.5092858278012, 996.6512251477267, 907.6721684273616, 874.7788624526705, 818.9570135702486, 778.5969396956895, 797.0686910981966, 738.6564523644363, 741.9918061113796, 726.6987802322463, 650.530867043956, 651.7528284767701, 643.8132001151068, 633.0753845878888, 626.4636122735843, 612.4654184187683, 611.9754290131536, 1445.6163748331594, 1061.3020284452848, 1133.7690010645194, 1047.7275582091886, 700.0258937537478, 936.4162780828746, 803.7348260350467, 3235.440037002323, 819.4396723685506, 1128.2174813405304, 842.1709421012763, 1607.59652238279, 3089.7468793998687, 2719.506029463693, 2471.2913741763527, 2092.082670448757, 1859.5784372458813, 1752.3798681474154, 1595.5786701704294, 1420.6412165665547, 1390.7675359089212, 1355.511107234974, 1337.533171771803, 1338.9374207304452, 1215.2021661040276, 983.4997812021024, 903.1066314824025, 869.0099564664815, 861.5159519836965, 834.3224350011682, 807.5114448434007, 814.0585544460511, 777.5979434321649, 722.9878032068557, 722.6860182900899, 708.7184247324627, 697.5990122956239, 668.0953414037607, 653.6570514080422, 639.6698569613361, 612.6433257987501, 611.9732504924492, 1185.1982255028313, 786.133064612762, 668.2734000066564, 1296.2752947371418, 675.9209103997015, 692.0669536470631, 791.00900929005, 778.9913947080515, 948.2948650401554, 907.1030120529181, 766.3764688220169, 791.1119655390014, 3051.371818442932, 2830.5891485279785, 2159.85139950674, 1996.789154636892, 1737.3049370037045, 1751.9385010858148, 1551.2638142606959, 1524.5341171908656, 1508.198212118899, 1392.5631708735039, 1368.0392127775615, 1353.994218238774, 1321.3091894688393, 1505.1472987278569, 1152.0053001851752, 1054.2986677587412, 1086.485340700954, 1000.8673461650226, 990.6614766955777, 984.2165107354226, 955.4389486940054, 960.6896049811617, 911.389035875797, 897.3159006538199, 859.0954019024605, 838.3664159395245, 785.5563016306488, 782.180373569353, 784.3704409763318, 725.6839660371262, 4838.590559778895, 1151.0752267577202, 1102.8403242022016, 1074.1901788134833, 1017.9663884082341, 1299.954567299977, 1451.1809634672973, 1390.200443681531, 982.4099197569947, 3207.93579747082, 2400.298382580666, 1814.3869133733733, 1737.2149768278045, 1712.5847335720132, 1427.4886728762963, 1569.4746518346715, 1350.2220165540884, 1302.1063083525257, 1282.3655697467555, 1194.6536351363054, 1080.2393813922931, 1060.950338529008, 1045.8905401537565, 1027.733353393583, 984.6236435373211, 937.5614182539701, 925.8514435755975, 899.103444440614, 876.637800064058, 797.1725594584454, 734.372572214391, 707.5576360476217, 677.0335742208841, 626.5294545164317, 595.672839694905, 630.0527588410565, 561.3794993350401, 525.746772229114, 526.117316512214, 964.0352727693908, 933.251086917586, 785.4028195731212, 907.6230554553583, 890.4360679898715, 955.6148396926689, 1118.329007697724, 1302.5994197681523, 1035.5280286007628], \"Total\": [4858.0, 4958.0, 3208.0, 3090.0, 3052.0, 3112.0, 2831.0, 2720.0, 2401.0, 2472.0, 4626.0, 2478.0, 2393.0, 2160.0, 2092.0, 1997.0, 2058.0, 1987.0, 1815.0, 1860.0, 1738.0, 1873.0, 1713.0, 1752.0, 1753.0, 1738.0, 1743.0, 1570.0, 1596.0, 1552.0, 4958.394990771912, 3112.8211170592185, 2478.6228797615804, 2393.8915486068327, 2058.400632172364, 1987.3922230694207, 1873.5048388597913, 1743.1529751370483, 1385.661632475657, 1218.2426870223421, 1213.8118841482965, 1174.6149615657334, 1148.4804455921103, 1026.3513609728284, 997.4747440725897, 908.5037595300769, 875.6166619488905, 819.8036751991111, 779.4274954842257, 797.9193485309843, 739.489516835414, 742.8304181677257, 727.5414854037257, 651.3522446940163, 652.5823603824988, 644.648967229181, 633.9066732402357, 627.289771642964, 613.2897908598984, 612.8041965344087, 1450.2915046945893, 1063.3243399748274, 1140.7261681197201, 1053.7917085342426, 701.2320990502756, 956.9839067665151, 815.4328293475535, 4626.204433784681, 900.021417398067, 1642.5597084633796, 968.7513534792154, 3966.173316341937, 3090.69028234512, 2720.413706171151, 2472.1640963127134, 2092.918607940096, 1860.4079687281574, 1753.212152109254, 1596.4914216456466, 1421.4997949866108, 1391.612427979154, 1356.3392757327579, 1338.3622892057695, 1339.7696571572394, 1216.0285947842117, 984.3310196201157, 903.9341000950759, 869.8396137588883, 862.3399092902882, 835.1468116232857, 808.3398635989832, 814.90497758338, 778.4327596635297, 723.8174594081107, 723.5238031808955, 709.5450102700515, 698.4361297747471, 668.928732879741, 654.4870911263671, 640.5181741364527, 613.4702048267469, 612.8019267525697, 1191.4061341050724, 788.1528685814978, 669.4330652771091, 1329.5034940918986, 678.0614651203567, 696.6667472848582, 829.2761476065559, 814.3483678375767, 1289.000846453791, 3966.173316341937, 1433.698220529196, 2289.6727653826983, 3052.180791017295, 2831.391328249493, 2160.668153207473, 1997.6023533573423, 1738.1115162696422, 1752.7974350524526, 1552.0736515216315, 1525.3424372642314, 1509.0139759384556, 1393.3837274645757, 1368.8506333291068, 1354.8138281255835, 1322.118937339557, 1506.1993732827348, 1152.818153626975, 1055.1135502002128, 1087.3268542745134, 1001.6803412813703, 991.4697004978283, 985.027965600847, 956.2506651007872, 961.5064626105736, 912.2036207616717, 898.1365695531413, 859.9119087646962, 839.1837112735212, 786.3523704783772, 782.9890889014455, 785.1859053677997, 726.4971533005979, 4858.24728400433, 1152.3888157557365, 1104.4692929445084, 1075.9630642576467, 1020.5254400049902, 2482.4893873881897, 3966.173316341937, 4626.204433784681, 1576.9453735786717, 3208.763565375052, 2401.1194632273623, 1815.2102399627422, 1738.0417393339528, 1713.4076505007517, 1428.3132779741204, 1570.3906822464244, 1351.050033932202, 1302.9321145194567, 1283.1969966435256, 1195.4821928800768, 1081.067565322268, 1061.7698529026977, 1046.7105050809917, 1028.563973821741, 985.4699038312025, 938.3805318004655, 926.6730524097161, 899.9256490874089, 877.4798877215557, 798.00095534486, 735.1967684706619, 708.3782414326703, 677.8588062160653, 627.349837828496, 596.4947032678667, 630.9927171879481, 562.2217315380307, 526.5596281277966, 526.9349394495987, 966.6438845175409, 935.4908210671565, 787.9068606891217, 955.6660795872874, 1001.6563160761972, 1168.061125808253, 1657.6498514790044, 2289.6727653826983, 1857.790636997476], \"Category\": [\"Default\", \"Default\", \"Default\", \"Default\", \"Default\", \"Default\", \"Default\", \"Default\", \"Default\", \"Default\", \"Default\", \"Default\", \"Default\", \"Default\", \"Default\", \"Default\", \"Default\", \"Default\", \"Default\", \"Default\", \"Default\", \"Default\", \"Default\", \"Default\", \"Default\", \"Default\", \"Default\", \"Default\", \"Default\", \"Default\", \"Topic1\", \"Topic1\", \"Topic1\", \"Topic1\", \"Topic1\", \"Topic1\", \"Topic1\", \"Topic1\", \"Topic1\", \"Topic1\", \"Topic1\", \"Topic1\", \"Topic1\", \"Topic1\", \"Topic1\", \"Topic1\", \"Topic1\", \"Topic1\", \"Topic1\", \"Topic1\", \"Topic1\", \"Topic1\", \"Topic1\", \"Topic1\", \"Topic1\", \"Topic1\", \"Topic1\", \"Topic1\", \"Topic1\", \"Topic1\", \"Topic1\", \"Topic1\", \"Topic1\", \"Topic1\", \"Topic1\", \"Topic1\", \"Topic1\", \"Topic1\", \"Topic1\", \"Topic1\", \"Topic1\", \"Topic1\", \"Topic2\", \"Topic2\", \"Topic2\", \"Topic2\", \"Topic2\", \"Topic2\", \"Topic2\", \"Topic2\", \"Topic2\", \"Topic2\", \"Topic2\", \"Topic2\", \"Topic2\", \"Topic2\", \"Topic2\", \"Topic2\", \"Topic2\", \"Topic2\", \"Topic2\", \"Topic2\", \"Topic2\", \"Topic2\", \"Topic2\", \"Topic2\", \"Topic2\", \"Topic2\", \"Topic2\", \"Topic2\", \"Topic2\", \"Topic2\", \"Topic2\", \"Topic2\", \"Topic2\", \"Topic2\", \"Topic2\", \"Topic2\", \"Topic2\", \"Topic2\", \"Topic2\", \"Topic2\", \"Topic2\", \"Topic2\", \"Topic3\", \"Topic3\", \"Topic3\", \"Topic3\", \"Topic3\", \"Topic3\", \"Topic3\", \"Topic3\", \"Topic3\", \"Topic3\", \"Topic3\", \"Topic3\", \"Topic3\", \"Topic3\", \"Topic3\", \"Topic3\", \"Topic3\", \"Topic3\", \"Topic3\", \"Topic3\", \"Topic3\", \"Topic3\", \"Topic3\", \"Topic3\", \"Topic3\", \"Topic3\", \"Topic3\", \"Topic3\", \"Topic3\", \"Topic3\", \"Topic3\", \"Topic3\", \"Topic3\", \"Topic3\", \"Topic3\", \"Topic3\", \"Topic3\", \"Topic3\", \"Topic3\", \"Topic4\", \"Topic4\", \"Topic4\", \"Topic4\", \"Topic4\", \"Topic4\", \"Topic4\", \"Topic4\", \"Topic4\", \"Topic4\", \"Topic4\", \"Topic4\", \"Topic4\", \"Topic4\", \"Topic4\", \"Topic4\", \"Topic4\", \"Topic4\", \"Topic4\", \"Topic4\", \"Topic4\", \"Topic4\", \"Topic4\", \"Topic4\", \"Topic4\", \"Topic4\", \"Topic4\", \"Topic4\", \"Topic4\", \"Topic4\", \"Topic4\", \"Topic4\", \"Topic4\", \"Topic4\", \"Topic4\", \"Topic4\", \"Topic4\", \"Topic4\", \"Topic4\"], \"logprob\": [30.0, 29.0, 28.0, 27.0, 26.0, 25.0, 24.0, 23.0, 22.0, 21.0, 20.0, 19.0, 18.0, 17.0, 16.0, 15.0, 14.0, 13.0, 12.0, 11.0, 10.0, 9.0, 8.0, 7.0, 6.0, 5.0, 4.0, 3.0, 2.0, 1.0, -3.4481, -3.9138, -4.1416, -4.1764, -4.3275, -4.3626, -4.4216, -4.4938, -4.7234, -4.8523, -4.8559, -4.8888, -4.9113, -5.0238, -5.0523, -5.1459, -5.1828, -5.2487, -5.2993, -5.2758, -5.3519, -5.3474, -5.3682, -5.479, -5.4771, -5.4893, -5.5062, -5.5167, -5.5393, -5.5401, -4.6805, -4.9895, -4.9234, -5.0024, -5.4056, -5.1147, -5.2675, -3.8748, -5.2481, -4.9284, -5.2208, -4.5742, -3.867, -3.9947, -4.0904, -4.257, -4.3748, -4.4342, -4.5279, -4.644, -4.6653, -4.691, -4.7043, -4.7033, -4.8002, -5.0118, -5.0971, -5.1355, -5.1442, -5.1763, -5.2089, -5.2009, -5.2467, -5.3195, -5.3199, -5.3394, -5.3552, -5.3985, -5.4203, -5.4419, -5.4851, -5.4862, -4.8252, -5.2358, -5.3982, -4.7356, -5.3868, -5.3632, -5.2296, -5.2449, -5.0482, -5.0926, -5.2612, -5.2295, -3.8702, -3.9453, -4.2158, -4.2943, -4.4335, -4.4251, -4.5468, -4.5641, -4.5749, -4.6547, -4.6724, -4.6828, -4.7072, -4.5769, -4.8443, -4.9329, -4.9029, -4.985, -4.9952, -5.0017, -5.0314, -5.0259, -5.0786, -5.0942, -5.1377, -5.1621, -5.2272, -5.2315, -5.2287, -5.3065, -3.4092, -4.8451, -4.8879, -4.9143, -4.968, -4.7235, -4.6134, -4.6564, -5.0036, -3.7671, -4.0571, -4.3369, -4.3804, -4.3947, -4.5768, -4.4819, -4.6324, -4.6687, -4.684, -4.7548, -4.8555, -4.8735, -4.8878, -4.9053, -4.9482, -4.9972, -5.0097, -5.039, -5.0643, -5.1594, -5.2414, -5.2786, -5.3227, -5.4002, -5.4507, -5.3946, -5.51, -5.5756, -5.5749, -4.9693, -5.0018, -5.1742, -5.0296, -5.0487, -4.9781, -4.8208, -4.6683, -4.8978], \"loglift\": [30.0, 29.0, 28.0, 27.0, 26.0, 25.0, 24.0, 23.0, 22.0, 21.0, 20.0, 19.0, 18.0, 17.0, 16.0, 15.0, 14.0, 13.0, 12.0, 11.0, 10.0, 9.0, 8.0, 7.0, 6.0, 5.0, 4.0, 3.0, 2.0, 1.0, 1.3286, 1.3285, 1.3285, 1.3285, 1.3284, 1.3284, 1.3284, 1.3283, 1.3282, 1.3281, 1.3281, 1.3281, 1.328, 1.328, 1.328, 1.3279, 1.3279, 1.3278, 1.3277, 1.3277, 1.3277, 1.3277, 1.3277, 1.3276, 1.3275, 1.3275, 1.3275, 1.3275, 1.3275, 1.3275, 1.3256, 1.3269, 1.3227, 1.323, 1.3271, 1.3071, 1.3144, 0.9712, 1.235, 0.9532, 1.1888, 0.4258, 1.3824, 1.3823, 1.3823, 1.3823, 1.3822, 1.3822, 1.3821, 1.3821, 1.3821, 1.3821, 1.382, 1.382, 1.382, 1.3818, 1.3817, 1.3817, 1.3817, 1.3817, 1.3816, 1.3816, 1.3816, 1.3815, 1.3815, 1.3815, 1.3815, 1.3814, 1.3814, 1.3813, 1.3813, 1.3813, 1.3774, 1.3801, 1.3809, 1.3574, 1.3795, 1.376, 1.3354, 1.3383, 1.0757, -0.0926, 0.7563, 0.3199, 1.3917, 1.3917, 1.3916, 1.3916, 1.3915, 1.3915, 1.3915, 1.3915, 1.3914, 1.3914, 1.3914, 1.3914, 1.3914, 1.3913, 1.3913, 1.3912, 1.3912, 1.3912, 1.3912, 1.3912, 1.3911, 1.3911, 1.3911, 1.3911, 1.391, 1.391, 1.391, 1.3909, 1.3909, 1.3909, 1.3879, 1.3908, 1.3905, 1.3903, 1.3895, 0.745, 0.3866, 0.1897, 0.9187, 1.4449, 1.4448, 1.4447, 1.4446, 1.4446, 1.4445, 1.4445, 1.4445, 1.4445, 1.4445, 1.4444, 1.4444, 1.4443, 1.4443, 1.4443, 1.4443, 1.4442, 1.4442, 1.4442, 1.4442, 1.4441, 1.444, 1.444, 1.4439, 1.4438, 1.4437, 1.4436, 1.4436, 1.4436, 1.4436, 1.4424, 1.4427, 1.4419, 1.3935, 1.3274, 1.2444, 1.0516, 0.8811, 0.8606]}, \"token.table\": {\"Topic\": [4, 2, 1, 3, 3, 3, 1, 3, 2, 1, 3, 2, 2, 4, 3, 4, 2, 3, 1, 1, 4, 4, 2, 2, 1, 1, 4, 1, 1, 2, 4, 1, 1, 2, 2, 3, 1, 1, 2, 1, 2, 1, 3, 2, 3, 4, 1, 1, 2, 4, 4, 2, 2, 3, 4, 2, 4, 3, 3, 3, 4, 2, 4, 3, 1, 3, 1, 3, 4, 3, 1, 2, 3, 4, 1, 3, 1, 2, 3, 4, 1, 1, 2, 2, 4, 1, 2, 4, 1, 1, 4, 3, 2, 4, 1, 2, 3, 4, 3, 4, 4, 3, 1, 2, 3, 2, 2, 1, 2, 3, 4, 1, 4, 2, 1, 2, 3, 4, 2, 1, 3, 1, 3, 2, 3, 2, 3, 4, 3, 4, 2, 1, 3, 2, 4, 4, 1, 1, 4, 1, 2, 1, 4, 2, 2, 1, 1, 4, 1, 2, 3, 3, 4, 1, 4, 2, 1, 3, 3, 2, 3, 4, 3, 2, 4, 3, 3, 3, 2, 3, 3, 1, 2, 3, 4, 2, 1, 3, 3, 3, 3, 4, 4, 4, 4, 4, 1, 2, 3, 4, 1, 4, 2, 3, 1, 4, 2, 4, 1, 2, 3, 4, 4, 1, 4, 2, 1, 2, 4, 4, 1, 1, 1, 1], \"Freq\": [0.9982257023028778, 0.9992557666408228, 0.9992557326082578, 0.9993785784157925, 0.9989395323458118, 0.9992903012288618, 0.6992773549683922, 0.30046229471593977, 0.9992760387721971, 0.9995240540420589, 0.9992037088157056, 0.9986913769073487, 0.9986116116200559, 0.9995944802907032, 0.32515913992275763, 0.6744488282627885, 0.9946230475723676, 0.005036066063657557, 0.9996275735183778, 0.9979438981770963, 0.9992228015944413, 0.9994423560708856, 0.9991910079098828, 0.9991541360222749, 0.9993380341110056, 0.9099783451461663, 0.08888677364065116, 0.9998053672515922, 0.024821296180601807, 0.9747999954563619, 0.9993212019201654, 0.9988820891721504, 0.9994764568936584, 0.9997807100727287, 0.9993755624084227, 0.9996131320199739, 0.9996576601481822, 0.9993385691597391, 0.9997766575482949, 0.005741626129838017, 0.9933013204619769, 0.0009293999331565746, 0.9981755282101611, 0.9992318876714472, 0.997525353209247, 0.0019597747607254363, 0.9997305377337063, 0.9989799347571874, 0.9995795535834766, 0.9991706493533697, 0.9987456714955593, 0.9992335327403884, 0.7354533572325196, 0.002327384041875062, 0.26144280737063197, 0.9565930635663447, 0.042979149197460924, 0.9986805349877184, 0.9984896502093422, 0.18149735087990726, 0.8184503181188271, 0.998966628103777, 0.9995231677503538, 0.9985894491782678, 0.998242951154198, 0.0014260613587917116, 0.2698903783451427, 0.5236678982816201, 0.206244587630915, 0.9993156844478478, 0.2821911319541339, 0.010780335378023094, 0.6227229024246281, 0.08434027089865127, 0.9997362145049973, 0.9993993063041662, 0.1890216477355817, 0.5342825910164412, 0.009067459116467018, 0.2671412955082206, 0.9993311285225501, 0.001493801325134805, 0.9978592851900497, 0.9969597665899053, 0.0029495851082541576, 0.8691600759844154, 0.0020645132446185637, 0.12799982116635095, 0.9994455063891673, 0.9941036084665201, 0.00525980745220381, 0.9998617894158293, 0.002069014279232951, 0.9972648825902826, 0.0004367436321551647, 0.3454642130347353, 0.08516500827025712, 0.5690769526981796, 0.999526258343959, 0.9992749342989979, 0.9984267374869679, 0.9995518923937842, 0.4054285760469699, 0.22868390452400605, 0.36584382079860284, 0.9994255302371361, 0.9994440628838427, 0.0009054122250280097, 0.0009054122250280097, 0.9986696842058946, 0.9995337744562457, 0.9970409364733244, 0.0027580662143107176, 0.9996921864790604, 0.999581668461179, 0.9997498592433117, 0.9987797098275489, 0.9989714160404833, 0.9990347487679252, 0.9986876778276705, 0.9996907654669315, 0.0008677626737848893, 0.9987948375264075, 0.9972684631785043, 0.0012687893933568757, 0.011510296572156714, 0.03871645210634531, 0.9501226625016633, 0.002137915151020413, 0.9973374179510226, 0.9998479252731993, 0.9989933013745909, 0.9986921158369544, 0.9988706276734756, 0.9991144354954813, 0.9978269578184243, 0.999019673583537, 0.9991076063071067, 0.9994006246740933, 0.9978140818493044, 0.0009404468254941606, 0.11081645292750902, 0.8885283162656128, 0.9995291185101953, 0.9993086107076113, 0.9995225151219098, 0.9988478177240885, 0.9990124897309729, 0.9780728739343003, 0.011494446168031308, 0.010449496516392098, 0.002538371094079259, 0.9963106544261091, 0.6867330266217524, 0.3129262195776425, 0.9996058291091178, 0.9859794345578395, 0.013489768383254023, 0.9994732613557287, 0.9986477926697571, 0.9987345248020502, 0.9994660459475643, 0.9993082470534959, 0.9995610875948013, 0.9989371989459458, 0.9993605034779197, 0.998944615771448, 0.9993280539778798, 0.9995599148391888, 0.9995450500802286, 0.9987367781806089, 0.9945039342335512, 0.005693724814314224, 0.9993208000064172, 0.9990671762428867, 0.9986268143429099, 0.9985697054810905, 0.9991536787591828, 0.9997755013852198, 0.9996984618303388, 0.9989564097297279, 0.9994516881437666, 0.9987330603243774, 0.9995966540673307, 0.9997620820120462, 0.9990805392665795, 0.17386243291764358, 0.0005382737861227355, 0.2680603454891223, 0.557651642423154, 0.9997486992609217, 0.9997620375077517, 0.9988894685782094, 0.9997246074738694, 0.997896930816197, 0.9993332783519516, 0.9996484030540325, 0.9992846023909692, 0.0014408488474943098, 0.002470026595704531, 0.9960382247178522, 0.00020583554964204425, 0.9992736894550177, 0.9992957398189317, 0.9983721793647823, 0.999729304084035, 0.04461722443939673, 0.9538439062584545, 0.0012058709307945063, 0.9994531068708575, 0.9999203389861746, 0.9998026443573302, 0.9994515262975678, 0.9994592101326344], \"Term\": [\"\\u0430\\u0430\\u0430\\u0430\", \"\\u0431\\u0435\\u0434\\u043d\\u044b\\u0439\", \"\\u0431\\u0438\\u043b\\u0435\\u0442\", \"\\u0431\\u043e\\u043b\\u044c\", \"\\u0431\\u043e\\u043b\\u044c\\u043d\\u0438\\u0446\\u0430\", \"\\u0431\\u043e\\u043b\\u044c\\u043d\\u043e\", \"\\u0431\\u043e\\u043b\\u044c\\u0448\\u043e\\u0439\", \"\\u0431\\u043e\\u043b\\u044c\\u0448\\u043e\\u0439\", \"\\u0431\\u0440\\u0430\\u0442\", \"\\u0431\\u044b\\u0441\\u0442\\u0440\\u043e\", \"\\u0432\\u0435\\u0447\\u0435\\u0440\", \"\\u0432\\u0438\\u0434\\u0438\\u043c\\u043e\", \"\\u0432\\u043e\\u0434\\u0430\", \"\\u0432\\u043e\\u043f\\u0440\\u043e\\u0441\", \"\\u0432\\u0440\\u043e\\u0434\\u0435\", \"\\u0432\\u0440\\u043e\\u0434\\u0435\", \"\\u0432\\u044b\\u0445\\u043e\\u0434\\u043d\\u043e\\u0439\", \"\\u0432\\u044b\\u0445\\u043e\\u0434\\u043d\\u043e\\u0439\", \"\\u0433\\u043e\\u043b\\u043e\\u0432\\u0430\", \"\\u0433\\u043e\\u0440\\u043b\\u043e\", \"\\u0433\\u043e\\u0440\\u043e\\u0434\", \"\\u0433\\u043e\\u0441\\u043f\\u043e\\u0434\\u044c\", \"\\u0433\\u043e\\u0442\\u043e\\u0432\\u044b\\u0439\", \"\\u0433\\u0440\\u0443\\u0441\\u0442\\u043d\\u043e\", \"\\u0434\\u0435\\u0432\\u043e\\u0447\\u043a\\u0430\", \"\\u0434\\u0435\\u0432\\u0443\\u0448\\u043a\\u0430\", \"\\u0434\\u0435\\u0432\\u0443\\u0448\\u043a\\u0430\", \"\\u0434\\u0435\\u043b\\u043e\", \"\\u0434\\u0435\\u043d\\u044c\\u0433\\u0430\", \"\\u0434\\u0435\\u043d\\u044c\\u0433\\u0430\", \"\\u0434\\u043e\\u0431\\u0440\\u044b\\u0439\", \"\\u0434\\u043e\\u0436\\u0434\\u044c\", \"\\u0434\\u043e\\u043b\\u0436\\u043d\\u044b\\u0439\", \"\\u0434\\u043e\\u043c\\u043e\\u0439\", \"\\u0434\\u043e\\u0440\\u043e\\u0433\\u0430\", \"\\u0434\\u0440\\u0443\\u0433\", \"\\u0434\\u0443\\u0448\\u0430\", \"\\u0436\\u0430\\u043b\\u043a\\u043e\", \"\\u0436\\u0430\\u043b\\u044c\", \"\\u0436\\u043e\\u043f\\u0430\", \"\\u0436\\u043e\\u043f\\u0430\", \"\\u0437\\u0438\\u043c\\u0430\", \"\\u0437\\u0438\\u043c\\u0430\", \"\\u0438\\u0433\\u0440\\u0430\", \"\\u0438\\u0441\\u0442\\u043e\\u0440\\u0438\\u044f\", \"\\u0438\\u0441\\u0442\\u043e\\u0440\\u0438\\u044f\", \"\\u043a\\u0430\\u043d\\u0438\\u043a\\u0443\\u043b\\u044b\", \"\\u043a\\u0430\\u043f\\u0435\\u0446\", \"\\u043a\\u0430\\u0442\\u043e\\u043a\", \"\\u043a\\u043b\\u0430\\u0441\\u0441\\u043d\\u044b\\u0439\", \"\\u043a\\u043d\\u0438\\u0433\\u0430\", \"\\u043a\\u043e\\u043c\\u043f\", \"\\u043a\\u043e\\u043d\\u0435\\u0446\", \"\\u043a\\u043e\\u043d\\u0435\\u0446\", \"\\u043a\\u043e\\u043d\\u0435\\u0446\", \"\\u043a\\u0440\\u0430\\u0441\\u0438\\u0432\\u044b\\u0439\", \"\\u043a\\u0440\\u0430\\u0441\\u0438\\u0432\\u044b\\u0439\", \"\\u043a\\u0440\\u0443\\u0442\\u043e\", \"\\u043a\\u0440\\u0443\\u0442\\u043e\\u0439\", \"\\u043b\\u0435\\u043d\\u0442\\u0430\", \"\\u043b\\u0435\\u043d\\u0442\\u0430\", \"\\u043b\\u0435\\u043d\\u044c\", \"\\u043b\\u0435\\u0442\\u043e\", \"\\u043b\\u0435\\u0447\\u044c\", \"\\u043b\\u0438\\u0446\\u043e\", \"\\u043b\\u0438\\u0446\\u043e\", \"\\u043b\\u044e\\u0431\\u0438\\u043c\\u044b\\u0439\", \"\\u043b\\u044e\\u0431\\u0438\\u043c\\u044b\\u0439\", \"\\u043b\\u044e\\u0431\\u0438\\u043c\\u044b\\u0439\", \"\\u043c\\u0430\\u0433\\u0430\\u0437\\u0438\\u043d\", \"\\u043c\\u0430\\u043b\\u0435\\u043d\\u044c\\u043a\\u0438\\u0439\", \"\\u043c\\u0430\\u043b\\u0435\\u043d\\u044c\\u043a\\u0438\\u0439\", \"\\u043c\\u0430\\u043b\\u0435\\u043d\\u044c\\u043a\\u0438\\u0439\", \"\\u043c\\u0430\\u043b\\u0435\\u043d\\u044c\\u043a\\u0438\\u0439\", \"\\u043c\\u0430\\u043c\\u0430\", \"\\u043c\\u0435\\u0441\\u044f\\u0446\", \"\\u043c\\u0438\\u043d\\u0443\\u0442\\u0430\", \"\\u043c\\u0438\\u043d\\u0443\\u0442\\u0430\", \"\\u043c\\u0438\\u043d\\u0443\\u0442\\u0430\", \"\\u043c\\u0438\\u043d\\u0443\\u0442\\u0430\", \"\\u043c\\u043e\\u043c\\u0435\\u043d\\u0442\", \"\\u043c\\u043e\\u0440\\u043e\\u0437\", \"\\u043c\\u043e\\u0440\\u043e\\u0437\", \"\\u043c\\u043e\\u0441\\u043a\\u0432\\u0430\", \"\\u043c\\u043e\\u0441\\u043a\\u0432\\u0430\", \"\\u043c\\u0443\\u0437\\u044b\\u043a\\u0430\", \"\\u043c\\u0443\\u0437\\u044b\\u043a\\u0430\", \"\\u043c\\u0443\\u0437\\u044b\\u043a\\u0430\", \"\\u043c\\u044b\\u0441\\u043b\\u044c\", \"\\u043d\\u0430\\u0432\\u0435\\u0440\\u043d\\u043e\\u0435\", \"\\u043d\\u0430\\u0432\\u0435\\u0440\\u043d\\u043e\\u0435\", \"\\u043d\\u0430\\u0441\\u0442\\u0440\\u043e\\u0435\\u043d\\u0438\\u0435\", \"\\u043d\\u0430\\u0447\\u0430\\u043b\\u043e\", \"\\u043d\\u0430\\u0447\\u0430\\u043b\\u043e\", \"\\u043d\\u0435\\u0434\\u0435\\u043b\\u044f\", \"\\u043d\\u0435\\u0434\\u0435\\u043b\\u044f\", \"\\u043d\\u0435\\u0434\\u0435\\u043b\\u044f\", \"\\u043d\\u0435\\u0434\\u0435\\u043b\\u044f\", \"\\u043d\\u0435\\u0447\\u0435\\u0433\\u043e\", \"\\u043d\\u0438\\u043a\\u0430\\u043a\", \"\\u043d\\u0438\\u043a\\u0430\\u043a\\u043e\\u0439\", \"\\u043d\\u043e\\u0432\\u043e\\u0433\\u043e\\u0434\\u043d\\u0438\\u0439\", \"\\u043d\\u043e\\u0432\\u044b\\u0439\", \"\\u043d\\u043e\\u0432\\u044b\\u0439\", \"\\u043d\\u043e\\u0432\\u044b\\u0439\", \"\\u043d\\u043e\\u0433\\u0430\", \"\\u043d\\u043e\\u0440\\u043c\\u0430\", \"\\u043d\\u043e\\u0440\\u043c\\u0430\\u043b\\u044c\\u043d\\u043e\", \"\\u043d\\u043e\\u0440\\u043c\\u0430\\u043b\\u044c\\u043d\\u043e\", \"\\u043d\\u043e\\u0440\\u043c\\u0430\\u043b\\u044c\\u043d\\u043e\", \"\\u043d\\u043e\\u0447\\u044c\", \"\\u043d\\u0443\\u0436\\u043d\\u044b\\u0439\", \"\\u043d\\u0443\\u0436\\u043d\\u044b\\u0439\", \"\\u043e\\u0431\\u0438\\u0434\\u043d\\u043e\", \"\\u043f\\u0430\\u043f\\u0430\", \"\\u043f\\u0430\\u0440\\u0435\\u043d\\u044c\", \"\\u043f\\u0435\\u0441\\u043d\\u044f\", \"\\u043f\\u0435\\u0447\\u0430\\u043b\\u044c\", \"\\u043f\\u0435\\u0447\\u0430\\u043b\\u044c\\u043d\\u043e\", \"\\u043f\\u0437\\u0434\\u0446\\u0430\", \"\\u043f\\u043b\\u043e\\u0445\\u043e\\u0439\", \"\\u043f\\u043e\\u0433\\u043e\\u0434\\u0430\", \"\\u043f\\u043e\\u0433\\u043e\\u0434\\u0430\", \"\\u043f\\u043e\\u0434\\u0440\\u0443\\u0433\\u0430\", \"\\u043f\\u043e\\u0434\\u0440\\u0443\\u0433\\u0430\", \"\\u043f\\u043e\\u043c\\u043e\\u0447\\u044c\", \"\\u043f\\u043e\\u043c\\u043e\\u0447\\u044c\", \"\\u043f\\u043e\\u043c\\u043e\\u0447\\u044c\", \"\\u043f\\u043e\\u043d\\u0435\\u0434\\u0435\\u043b\\u044c\\u043d\\u0438\\u043a\", \"\\u043f\\u043e\\u043d\\u0435\\u0434\\u0435\\u043b\\u044c\\u043d\\u0438\\u043a\", \"\\u043f\\u043e\\u0441\\u043b\\u0435\\u0434\\u043d\\u0438\\u0439\", \"\\u043f\\u043e\\u0441\\u0442\\u043e\\u044f\\u043d\\u043d\\u043e\", \"\\u043f\\u043e\\u0445\\u043e\\u0434\", \"\\u043f\\u043e\\u044d\\u0442\\u043e\\u043c\\u0443\", \"\\u043f\\u0440\\u0430\\u0432\\u0434\\u0430\", \"\\u043f\\u0440\\u0430\\u0432\\u043e\", \"\\u043f\\u0440\\u0430\\u0437\\u0434\\u043d\\u0438\\u043a\", \"\\u043f\\u0440\\u0438\\u0432\\u0435\\u0442\", \"\\u043f\\u0440\\u0438\\u0439\\u0442\\u0438\\u0441\\u044c\", \"\\u043f\\u0440\\u043e\\u0431\\u043b\\u0435\\u043c\\u0430\", \"\\u043f\\u0440\\u043e\\u0431\\u043b\\u0435\\u043c\\u0430\", \"\\u043f\\u0440\\u044f\\u043c\", \"\\u043f\\u0440\\u044f\\u043c\", \"\\u0440\\u0430\\u0431\\u043e\\u0442\\u0430\", \"\\u0440\\u0430\\u0432\\u043d\\u043e\", \"\\u0440\\u0430\\u043d\\u043d\\u0438\\u0439\", \"\\u0440\\u0435\\u0431\\u044f\\u0442\\u0430\", \"\\u0440\\u0435\\u0431\\u0451\\u043d\\u043e\\u043a\", \"\\u0440\\u043e\\u0434\\u0438\\u0442\\u0435\\u043b\\u044c\", \"\\u0440\\u043e\\u0434\\u0438\\u0442\\u0435\\u043b\\u044c\", \"\\u0440\\u043e\\u0434\\u0438\\u0442\\u0435\\u043b\\u044c\", \"\\u0440\\u043e\\u0441\\u0441\\u0438\\u044f\", \"\\u0440\\u043e\\u0441\\u0441\\u0438\\u044f\", \"\\u0440\\u0443\\u043a\\u0430\", \"\\u0440\\u0443\\u043a\\u0430\", \"\\u0441\\u0435\\u0437\\u043e\\u043d\", \"\\u0441\\u0435\\u0440\\u0434\\u0446\\u0435\", \"\\u0441\\u0435\\u0440\\u0434\\u0446\\u0435\", \"\\u0441\\u0435\\u0440\\u0438\\u0430\\u043b\", \"\\u0441\\u0435\\u0440\\u0438\\u044f\", \"\\u0441\\u0435\\u0441\\u0441\\u0438\\u044f\", \"\\u0441\\u0438\\u043b\\u0430\", \"\\u0441\\u0438\\u043b\\u044c\\u043d\\u043e\", \"\\u0441\\u043a\\u043e\\u0440\\u043e\", \"\\u0441\\u043a\\u043e\\u0440\\u044b\\u0439\", \"\\u0441\\u043a\\u0443\\u0447\\u043d\\u043e\", \"\\u0441\\u043b\\u0435\\u0437\\u0430\", \"\\u0441\\u043b\\u043e\\u0432\\u043e\", \"\\u0441\\u043c\\u043e\\u0447\\u044c\", \"\\u0441\\u043d\\u0435\\u0433\", \"\\u0441\\u043e\\u0436\\u0430\\u043b\\u0435\\u043d\\u0438\\u0435\", \"\\u0441\\u0440\\u0430\\u0437\\u0443\", \"\\u0441\\u0440\\u0430\\u0437\\u0443\", \"\\u0441\\u0442\\u0430\\u0440\\u044b\\u0439\", \"\\u0441\\u0442\\u043e\\u043b\\u044c\\u043a\\u043e\", \"\\u0441\\u0442\\u0440\\u0430\\u0448\\u043d\\u043e\", \"\\u0442\\u0430\\u043a\\u0438\", \"\\u0442\\u0432\\u0438\\u0442\", \"\\u0442\\u0432\\u0438\\u0442\\u0442\\u0435\\u0440\", \"\\u0442\\u0435\\u043b\\u0435\\u0444\\u043e\\u043d\", \"\\u0442\\u0435\\u043c\\u043f\\u0435\\u0440\\u0430\\u0442\\u0443\\u0440\\u0430\", \"\\u0442\\u043e\\u0447\\u043d\\u043e\", \"\\u0442\\u044f\\u0436\\u0435\\u043b\\u043e\", \"\\u0443\\u0436\\u0430\\u0441\", \"\\u0443\\u0436\\u0430\\u0441\\u043d\\u043e\", \"\\u0443\\u0436\\u0430\\u0441\\u043d\\u044b\\u0439\", \"\\u0443\\u043b\\u0438\\u0446\\u0430\", \"\\u0443\\u043b\\u0438\\u0446\\u0430\", \"\\u0443\\u043b\\u0438\\u0446\\u0430\", \"\\u0443\\u043b\\u0438\\u0446\\u0430\", \"\\u0443\\u0440\\u043e\\u043a\", \"\\u0443\\u0442\\u0440\\u043e\", \"\\u0443\\u0442\\u0440\\u043e\\u043c\", \"\\u0443\\u0447\\u0451\\u0431\\u0430\", \"\\u0444\\u0438\\u0437\\u0438\\u043a\\u0430\", \"\\u0444\\u0438\\u043b\\u044c\\u043c\", \"\\u0444\\u043e\\u0442\\u043a\\u0430\", \"\\u0445\\u043e\\u043b\\u043e\\u0434\\u043d\\u043e\", \"\\u0445\\u043e\\u0440\\u043e\\u0448\\u0438\\u0439\", \"\\u0445\\u043e\\u0440\\u043e\\u0448\\u0438\\u0439\", \"\\u0445\\u043e\\u0440\\u043e\\u0448\\u0438\\u0439\", \"\\u0445\\u043e\\u0440\\u043e\\u0448\\u0438\\u0439\", \"\\u0446\\u0435\\u043b\\u044b\\u0439\", \"\\u0447\\u0435\\u0440\\u0442\\u0430\", \"\\u0447\\u0435\\u0441\\u0442\\u043d\\u043e\", \"\\u0447\\u0443\\u0432\\u0441\\u0442\\u0432\\u043e\", \"\\u0447\\u0451\\u0440\\u043d\\u044b\\u0439\", \"\\u0447\\u0451\\u0440\\u043d\\u044b\\u0439\", \"\\u0447\\u0451\\u0440\\u043d\\u044b\\u0439\", \"\\u0448\\u0435\\u0440\\u043b\\u043e\\u043a\", \"\\u0448\\u043a\\u043e\\u043b\\u0430\", \"\\u044d\\u043a\\u0437\\u0430\\u043c\\u0435\\u043d\", \"\\u044f\\u043d\\u0432\\u0430\\u0440\\u044c\", \"\\u0451\\u043b\\u043a\\u0430\"]}, \"R\": 30, \"lambda.step\": 0.01, \"plot.opts\": {\"xlab\": \"PC1\", \"ylab\": \"PC2\"}, \"topic.order\": [2, 4, 1, 3]};\n",
              "\n",
              "function LDAvis_load_lib(url, callback){\n",
              "  var s = document.createElement('script');\n",
              "  s.src = url;\n",
              "  s.async = true;\n",
              "  s.onreadystatechange = s.onload = callback;\n",
              "  s.onerror = function(){console.warn(\"failed to load library \" + url);};\n",
              "  document.getElementsByTagName(\"head\")[0].appendChild(s);\n",
              "}\n",
              "\n",
              "if(typeof(LDAvis) !== \"undefined\"){\n",
              "   // already loaded: just create the visualization\n",
              "   !function(LDAvis){\n",
              "       new LDAvis(\"#\" + \"ldavis_el711400413328713767366636524\", ldavis_el711400413328713767366636524_data);\n",
              "   }(LDAvis);\n",
              "}else if(typeof define === \"function\" && define.amd){\n",
              "   // require.js is available: use it to load d3/LDAvis\n",
              "   require.config({paths: {d3: \"https://d3js.org/d3.v5\"}});\n",
              "   require([\"d3\"], function(d3){\n",
              "      window.d3 = d3;\n",
              "      LDAvis_load_lib(\"https://cdn.jsdelivr.net/gh/bmabey/pyLDAvis@3.3.1/pyLDAvis/js/ldavis.v3.0.0.js\", function(){\n",
              "        new LDAvis(\"#\" + \"ldavis_el711400413328713767366636524\", ldavis_el711400413328713767366636524_data);\n",
              "      });\n",
              "    });\n",
              "}else{\n",
              "    // require.js not available: dynamically load d3 & LDAvis\n",
              "    LDAvis_load_lib(\"https://d3js.org/d3.v5.js\", function(){\n",
              "         LDAvis_load_lib(\"https://cdn.jsdelivr.net/gh/bmabey/pyLDAvis@3.3.1/pyLDAvis/js/ldavis.v3.0.0.js\", function(){\n",
              "                 new LDAvis(\"#\" + \"ldavis_el711400413328713767366636524\", ldavis_el711400413328713767366636524_data);\n",
              "            })\n",
              "         });\n",
              "}\n",
              "</script>"
            ]
          },
          "metadata": {},
          "execution_count": 45
        }
      ]
    },
    {
      "cell_type": "markdown",
      "source": [
        "В качестве эксперимента модель была обучена на выделение 3, 5, 6, 7 и 10 тематик. При 6, 7 и 10 тематиках значения начали пересекаться. При 5 тематиках круги лежат слишком плотно друг к другу. Наилучший результат показало значение 4.\n",
        "\n",
        "Выделенные тематики:\n",
        "1. школа, учеба\n",
        "2. работа\n",
        "3. настроение, эмоции\n",
        "4. досуг"
      ],
      "metadata": {
        "id": "PCcmoV8BCpN0"
      }
    }
  ]
}