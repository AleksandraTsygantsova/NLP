{
  "nbformat": 4,
  "nbformat_minor": 0,
  "metadata": {
    "colab": {
      "name": "hw8_RNN.ipynb",
      "provenance": []
    },
    "kernelspec": {
      "name": "python3",
      "display_name": "Python 3"
    },
    "language_info": {
      "name": "python"
    },
    "accelerator": "GPU",
    "gpuClass": "standard"
  },
  "cells": [
    {
      "cell_type": "markdown",
      "source": [
        "**Задание**\n",
        "\n",
        "Данные берем отызывы за лето\n",
        "\n",
        "На вебинаре мы говорили, что долгое время CNN и RNN архитектуры были конурируещими выяснить какая архитектура больше подходит для нашей задачи\n",
        "\n",
        "1. построить свёрточные архитектуры\n",
        "2. построить различные архитектуры с RNN\n",
        "3. построить совместные архитектуры CNN -> RNN или (RNN -> CNN)"
      ],
      "metadata": {
        "id": "6ue6tmaSeEHl"
      }
    },
    {
      "cell_type": "code",
      "source": [
        "# ! pip install stop_words\n",
        "# ! pip install pymorphy2"
      ],
      "metadata": {
        "id": "iszOFQySf-4w"
      },
      "execution_count": 1,
      "outputs": []
    },
    {
      "cell_type": "code",
      "execution_count": 2,
      "metadata": {
        "id": "-bIHYjUMd_Pz"
      },
      "outputs": [],
      "source": [
        "import pandas as pd\n",
        "from sklearn.model_selection import train_test_split\n",
        "\n",
        "from string import punctuation\n",
        "from stop_words import get_stop_words\n",
        "from pymorphy2 import MorphAnalyzer\n",
        "import re\n",
        "from keras.preprocessing.text import Tokenizer\n",
        "from keras.preprocessing.sequence import pad_sequences\n",
        "from sklearn.preprocessing import LabelEncoder\n",
        "import tensorflow as tf\n",
        "\n",
        "from keras.losses import SparseCategoricalCrossentropy\n",
        "from keras.models import Sequential, Model\n",
        "from keras.layers import Dense, Dropout, Activation, Input, Embedding, Conv1D, GlobalMaxPool1D, MaxPool1D, SimpleRNN, LSTM, GRU, Masking, Flatten\n",
        "from keras.callbacks import TensorBoard \n",
        "from keras.callbacks import EarlyStopping \n",
        "from tensorflow.keras.utils import to_categorical"
      ]
    },
    {
      "cell_type": "code",
      "source": [
        "! pip install --upgrade xlrd"
      ],
      "metadata": {
        "colab": {
          "base_uri": "https://localhost:8080/"
        },
        "id": "qusaVu56gvP8",
        "outputId": "0cd9b972-9a68-4337-cdc2-f235730bc5bf"
      },
      "execution_count": 3,
      "outputs": [
        {
          "output_type": "stream",
          "name": "stdout",
          "text": [
            "Looking in indexes: https://pypi.org/simple, https://us-python.pkg.dev/colab-wheels/public/simple/\n",
            "Requirement already satisfied: xlrd in /usr/local/lib/python3.7/dist-packages (2.0.1)\n"
          ]
        }
      ]
    },
    {
      "cell_type": "code",
      "source": [
        "#Загрузка данных\n",
        "df = pd.read_excel('/content/отзывы за лето.xls')\n",
        "df.head(5)"
      ],
      "metadata": {
        "colab": {
          "base_uri": "https://localhost:8080/",
          "height": 206
        },
        "id": "hAbdf1Hb2e7u",
        "outputId": "a39ab7c6-7a80-4b93-851c-8664c9c9b5a7"
      },
      "execution_count": 4,
      "outputs": [
        {
          "output_type": "execute_result",
          "data": {
            "text/plain": [
              "   Rating                                            Content        Date\n",
              "0       5                                     It just works!  2017-08-14\n",
              "1       4  В целом удобноное приложение...из минусов хотя...  2017-08-14\n",
              "2       5                                        Отлично все  2017-08-14\n",
              "3       5  Стал зависать на 1% работы антивируса. Дальше ...  2017-08-14\n",
              "4       5                     Очень удобно, работает быстро.  2017-08-14"
            ],
            "text/html": [
              "\n",
              "  <div id=\"df-2706784a-badb-4702-8922-a11db4b12435\">\n",
              "    <div class=\"colab-df-container\">\n",
              "      <div>\n",
              "<style scoped>\n",
              "    .dataframe tbody tr th:only-of-type {\n",
              "        vertical-align: middle;\n",
              "    }\n",
              "\n",
              "    .dataframe tbody tr th {\n",
              "        vertical-align: top;\n",
              "    }\n",
              "\n",
              "    .dataframe thead th {\n",
              "        text-align: right;\n",
              "    }\n",
              "</style>\n",
              "<table border=\"1\" class=\"dataframe\">\n",
              "  <thead>\n",
              "    <tr style=\"text-align: right;\">\n",
              "      <th></th>\n",
              "      <th>Rating</th>\n",
              "      <th>Content</th>\n",
              "      <th>Date</th>\n",
              "    </tr>\n",
              "  </thead>\n",
              "  <tbody>\n",
              "    <tr>\n",
              "      <th>0</th>\n",
              "      <td>5</td>\n",
              "      <td>It just works!</td>\n",
              "      <td>2017-08-14</td>\n",
              "    </tr>\n",
              "    <tr>\n",
              "      <th>1</th>\n",
              "      <td>4</td>\n",
              "      <td>В целом удобноное приложение...из минусов хотя...</td>\n",
              "      <td>2017-08-14</td>\n",
              "    </tr>\n",
              "    <tr>\n",
              "      <th>2</th>\n",
              "      <td>5</td>\n",
              "      <td>Отлично все</td>\n",
              "      <td>2017-08-14</td>\n",
              "    </tr>\n",
              "    <tr>\n",
              "      <th>3</th>\n",
              "      <td>5</td>\n",
              "      <td>Стал зависать на 1% работы антивируса. Дальше ...</td>\n",
              "      <td>2017-08-14</td>\n",
              "    </tr>\n",
              "    <tr>\n",
              "      <th>4</th>\n",
              "      <td>5</td>\n",
              "      <td>Очень удобно, работает быстро.</td>\n",
              "      <td>2017-08-14</td>\n",
              "    </tr>\n",
              "  </tbody>\n",
              "</table>\n",
              "</div>\n",
              "      <button class=\"colab-df-convert\" onclick=\"convertToInteractive('df-2706784a-badb-4702-8922-a11db4b12435')\"\n",
              "              title=\"Convert this dataframe to an interactive table.\"\n",
              "              style=\"display:none;\">\n",
              "        \n",
              "  <svg xmlns=\"http://www.w3.org/2000/svg\" height=\"24px\"viewBox=\"0 0 24 24\"\n",
              "       width=\"24px\">\n",
              "    <path d=\"M0 0h24v24H0V0z\" fill=\"none\"/>\n",
              "    <path d=\"M18.56 5.44l.94 2.06.94-2.06 2.06-.94-2.06-.94-.94-2.06-.94 2.06-2.06.94zm-11 1L8.5 8.5l.94-2.06 2.06-.94-2.06-.94L8.5 2.5l-.94 2.06-2.06.94zm10 10l.94 2.06.94-2.06 2.06-.94-2.06-.94-.94-2.06-.94 2.06-2.06.94z\"/><path d=\"M17.41 7.96l-1.37-1.37c-.4-.4-.92-.59-1.43-.59-.52 0-1.04.2-1.43.59L10.3 9.45l-7.72 7.72c-.78.78-.78 2.05 0 2.83L4 21.41c.39.39.9.59 1.41.59.51 0 1.02-.2 1.41-.59l7.78-7.78 2.81-2.81c.8-.78.8-2.07 0-2.86zM5.41 20L4 18.59l7.72-7.72 1.47 1.35L5.41 20z\"/>\n",
              "  </svg>\n",
              "      </button>\n",
              "      \n",
              "  <style>\n",
              "    .colab-df-container {\n",
              "      display:flex;\n",
              "      flex-wrap:wrap;\n",
              "      gap: 12px;\n",
              "    }\n",
              "\n",
              "    .colab-df-convert {\n",
              "      background-color: #E8F0FE;\n",
              "      border: none;\n",
              "      border-radius: 50%;\n",
              "      cursor: pointer;\n",
              "      display: none;\n",
              "      fill: #1967D2;\n",
              "      height: 32px;\n",
              "      padding: 0 0 0 0;\n",
              "      width: 32px;\n",
              "    }\n",
              "\n",
              "    .colab-df-convert:hover {\n",
              "      background-color: #E2EBFA;\n",
              "      box-shadow: 0px 1px 2px rgba(60, 64, 67, 0.3), 0px 1px 3px 1px rgba(60, 64, 67, 0.15);\n",
              "      fill: #174EA6;\n",
              "    }\n",
              "\n",
              "    [theme=dark] .colab-df-convert {\n",
              "      background-color: #3B4455;\n",
              "      fill: #D2E3FC;\n",
              "    }\n",
              "\n",
              "    [theme=dark] .colab-df-convert:hover {\n",
              "      background-color: #434B5C;\n",
              "      box-shadow: 0px 1px 3px 1px rgba(0, 0, 0, 0.15);\n",
              "      filter: drop-shadow(0px 1px 2px rgba(0, 0, 0, 0.3));\n",
              "      fill: #FFFFFF;\n",
              "    }\n",
              "  </style>\n",
              "\n",
              "      <script>\n",
              "        const buttonEl =\n",
              "          document.querySelector('#df-2706784a-badb-4702-8922-a11db4b12435 button.colab-df-convert');\n",
              "        buttonEl.style.display =\n",
              "          google.colab.kernel.accessAllowed ? 'block' : 'none';\n",
              "\n",
              "        async function convertToInteractive(key) {\n",
              "          const element = document.querySelector('#df-2706784a-badb-4702-8922-a11db4b12435');\n",
              "          const dataTable =\n",
              "            await google.colab.kernel.invokeFunction('convertToInteractive',\n",
              "                                                     [key], {});\n",
              "          if (!dataTable) return;\n",
              "\n",
              "          const docLinkHtml = 'Like what you see? Visit the ' +\n",
              "            '<a target=\"_blank\" href=https://colab.research.google.com/notebooks/data_table.ipynb>data table notebook</a>'\n",
              "            + ' to learn more about interactive tables.';\n",
              "          element.innerHTML = '';\n",
              "          dataTable['output_type'] = 'display_data';\n",
              "          await google.colab.output.renderOutput(dataTable, element);\n",
              "          const docLink = document.createElement('div');\n",
              "          docLink.innerHTML = docLinkHtml;\n",
              "          element.appendChild(docLink);\n",
              "        }\n",
              "      </script>\n",
              "    </div>\n",
              "  </div>\n",
              "  "
            ]
          },
          "metadata": {},
          "execution_count": 4
        }
      ]
    },
    {
      "cell_type": "code",
      "source": [
        "#Разбиваем на трейн и тест\n",
        "df_train, df_test = train_test_split(df, test_size=0.33, random_state=42)\n",
        "df_train = df_train.reset_index(drop=True)\n",
        "df_test = df_test.reset_index(drop=True)\n",
        "df_train.shape, df_test.shape"
      ],
      "metadata": {
        "colab": {
          "base_uri": "https://localhost:8080/"
        },
        "id": "shRcZBYJ3bbS",
        "outputId": "c33062d5-69b7-494e-d9eb-4c86ad7f045c"
      },
      "execution_count": 5,
      "outputs": [
        {
          "output_type": "execute_result",
          "data": {
            "text/plain": [
              "((13841, 3), (6818, 3))"
            ]
          },
          "metadata": {},
          "execution_count": 5
        }
      ]
    },
    {
      "cell_type": "code",
      "source": [
        "#Предобрабатываем данные\n",
        "sw = set(get_stop_words(\"ru\"))\n",
        "exclude = set(punctuation)\n",
        "morpher = MorphAnalyzer()\n",
        "\n",
        "def preprocess_text(txt):\n",
        "    txt = str(txt)\n",
        "    txt = \"\".join(c for c in txt if c not in exclude)\n",
        "    txt = txt.lower()\n",
        "    txt = re.sub(\"\\sне\", \"не\", txt)\n",
        "    txt = [morpher.parse(word)[0].normal_form for word in txt.split() if word not in sw]\n",
        "    return \" \".join(txt)\n",
        "\n",
        "df_train['Content'] = df_train['Content'].apply(preprocess_text)\n",
        "df_test['Content'] = df_test['Content'].apply(preprocess_text)\n"
      ],
      "metadata": {
        "id": "cyKgUqvX3i11"
      },
      "execution_count": 6,
      "outputs": []
    },
    {
      "cell_type": "code",
      "source": [
        "text_corpus_train = df_train['Content'].values\n",
        "text_corpus_test = df_test['Content'].values"
      ],
      "metadata": {
        "id": "OyV_A6VBiBjP"
      },
      "execution_count": 7,
      "outputs": []
    },
    {
      "cell_type": "code",
      "source": [
        "# Определяем токенайзер\n",
        "tokenizer = Tokenizer(num_words=None, \n",
        "                     filters='#$%&()*+-<=>@[\\\\]^_`{|}~\\t\\n',\n",
        "                     lower = False, split = ' ')\n",
        "# Обучаем токенайзер на тренировочном наборе данных - > получаем готовый словарь\n",
        "tokenizer.fit_on_texts(text_corpus_train)"
      ],
      "metadata": {
        "id": "yriNo7AriDq0"
      },
      "execution_count": 8,
      "outputs": []
    },
    {
      "cell_type": "code",
      "source": [
        "# На основе полученного словаря токены переводятся в их id и сформировываем последовательности sequences\n",
        "\n",
        "sequences_train = tokenizer.texts_to_sequences(text_corpus_train)\n",
        "sequences_test = tokenizer.texts_to_sequences(text_corpus_test)"
      ],
      "metadata": {
        "id": "HtbYvYCoiHtO"
      },
      "execution_count": 9,
      "outputs": []
    },
    {
      "cell_type": "code",
      "source": [
        "# всего слов в словаре\n",
        "word_count = len(tokenizer.index_word) + 1\n",
        "\n",
        "# находим максимальную длину будущей последовательности в тренировочном наборе отзывов\n",
        "training_length = max([len(i.split()) for i in text_corpus_train])\n",
        "\n",
        "word_count, training_length"
      ],
      "metadata": {
        "colab": {
          "base_uri": "https://localhost:8080/"
        },
        "id": "uNfPwY6_iJ9k",
        "outputId": "1dacb882-a6fe-485f-bac6-c0b6c0949e93"
      },
      "execution_count": 10,
      "outputs": [
        {
          "output_type": "execute_result",
          "data": {
            "text/plain": [
              "(10293, 113)"
            ]
          },
          "metadata": {},
          "execution_count": 10
        }
      ]
    },
    {
      "cell_type": "code",
      "source": [
        "X_train = pad_sequences(sequences_train, maxlen=training_length)\n",
        "X_test = pad_sequences(sequences_test, maxlen=training_length)\n",
        "\n",
        "X_train[5]"
      ],
      "metadata": {
        "colab": {
          "base_uri": "https://localhost:8080/"
        },
        "id": "QaKYjvhoiMwM",
        "outputId": "d4560f8b-b7d5-4caf-d8cf-544c97c4e5bd"
      },
      "execution_count": 11,
      "outputs": [
        {
          "output_type": "execute_result",
          "data": {
            "text/plain": [
              "array([  0,   0,   0,   0,   0,   0,   0,   0,   0,   0,   0,   0,   0,\n",
              "         0,   0,   0,   0,   0,   0,   0,   0,   0,   0,   0,   0,   0,\n",
              "         0,   0,   0,   0,   0,   0,   0,   0,   0,   0,   0,   0,   0,\n",
              "         0,   0,   0,   0,   0,   0,   0,   0,   0,   0,   0,   0,   0,\n",
              "         0,   0,   0,   0,   0,   0,   0,   0,   0,   0,   0,   0,   0,\n",
              "         0,   0,   0,   0,   0,   0,   0,   0,   0,   0,   0,   0,   0,\n",
              "         0,   0,   0,   0,   0,   0,   0,   0,   0,   0,   0,   0,   0,\n",
              "         0,   0,   0,   0,   0,   0,   0,   0,   0,   0,   0,   0,   0,\n",
              "         0,   0,   0,   0,   0,   0,   0, 127,   1], dtype=int32)"
            ]
          },
          "metadata": {},
          "execution_count": 11
        }
      ]
    },
    {
      "cell_type": "code",
      "source": [
        "# Преобразование значений y\n",
        "le = LabelEncoder()\n",
        "train_enc_labels = le.fit_transform(df_train['Rating']) \n",
        "test_enc_labels = le.transform(df_test['Rating'])\n",
        "le.classes_"
      ],
      "metadata": {
        "colab": {
          "base_uri": "https://localhost:8080/"
        },
        "id": "NHso61g3iQ0U",
        "outputId": "d39de3bb-f00d-462b-91af-1efaf9e4df48"
      },
      "execution_count": 12,
      "outputs": [
        {
          "output_type": "execute_result",
          "data": {
            "text/plain": [
              "array([1, 2, 3, 4, 5])"
            ]
          },
          "metadata": {},
          "execution_count": 12
        }
      ]
    },
    {
      "cell_type": "code",
      "source": [
        "num_classes = df_train['Rating'].nunique()\n",
        "y_train = to_categorical(train_enc_labels, num_classes)\n",
        "y_test = to_categorical(test_enc_labels, num_classes)"
      ],
      "metadata": {
        "id": "nvZNwMY3iRgp"
      },
      "execution_count": 13,
      "outputs": []
    },
    {
      "cell_type": "code",
      "source": [
        "y_train.shape, y_train[3]"
      ],
      "metadata": {
        "colab": {
          "base_uri": "https://localhost:8080/"
        },
        "id": "o8ETuAXbiVJe",
        "outputId": "63636f7f-6131-4501-d689-d5ab1c9eeb0a"
      },
      "execution_count": 14,
      "outputs": [
        {
          "output_type": "execute_result",
          "data": {
            "text/plain": [
              "((13841, 5), array([0., 0., 0., 0., 1.], dtype=float32))"
            ]
          },
          "metadata": {},
          "execution_count": 14
        }
      ]
    },
    {
      "cell_type": "markdown",
      "source": [
        "**CNN (Сверточные нейронные сети)**"
      ],
      "metadata": {
        "id": "i2wv_xyWifue"
      }
    },
    {
      "cell_type": "code",
      "source": [
        "model = Sequential()\n",
        "model.add(Embedding(input_dim=word_count, output_dim=256, input_length=training_length)) \n",
        "                    #inputdim -- размер словаря, outputdim -- длина вектора, input_length -- длина входной последовательности\n",
        "                    #на вход: (батч, input_lenght), на выходе: (батч, input_lenght, output_dim)\n",
        "\n",
        "model.add(Conv1D(128, 3, padding = 'same'))\n",
        "                   #64 -- количество 1D-фильтров, длина фильтра -- 3\n",
        "                   #на выходе (количество объектов, 128 - длина нового эмбединга)\n",
        "\n",
        "model.add(MaxPool1D(2))  \n",
        "model.add(Activation(\"relu\"))\n",
        "\n",
        "\n",
        "model.add(Conv1D(256, 3, padding = 'same'))\n",
        "model.add(MaxPool1D(2))\n",
        "model.add(Activation(\"relu\"))\n",
        "                    #применяем функцию активации к выходу предыдущего слоя\n",
        "\n",
        "model.add(GlobalMaxPool1D())\n",
        "                    # в каждой свертке для каждого элемента эмбединга оставляем максимум - получаем один 128-м эмбеддинг\n",
        "\n",
        "model.add(Dense(128))\n",
        "               #128-количество выходов\n",
        "model.add(Activation(\"relu\"))\n",
        "model.add(Dense(64))\n",
        "model.add(Activation(\"relu\"))\n",
        "\n",
        "model.add(Dense(num_classes))\n",
        "                #num_classes = 5 -- количество выходов\n",
        "model.add(Activation('softmax'))\n",
        "                #преобразуем вектор в раcgределение вероятностей"
      ],
      "metadata": {
        "id": "fuUcG8shieMA"
      },
      "execution_count": 15,
      "outputs": []
    },
    {
      "cell_type": "code",
      "source": [
        "model.compile(loss='categorical_crossentropy', \n",
        "              optimizer='adam',\n",
        "              metrics=['accuracy'])"
      ],
      "metadata": {
        "id": "vrpkoh71ijUp"
      },
      "execution_count": 16,
      "outputs": []
    },
    {
      "cell_type": "code",
      "source": [
        "early_stopping=EarlyStopping(monitor='val_loss', patience = 1, mode = 'min')  \n",
        "\n",
        "\n",
        "history = model.fit(X_train, y_train,\n",
        "                    batch_size=256,\n",
        "                    epochs=10,\n",
        "                    verbose=1,\n",
        "                    validation_data = (X_test, y_test),\n",
        "                    callbacks=[early_stopping]\n",
        "                    )"
      ],
      "metadata": {
        "colab": {
          "base_uri": "https://localhost:8080/"
        },
        "id": "IUo66r_KilGQ",
        "outputId": "247b36b3-678a-46af-d825-eed0780f8cee"
      },
      "execution_count": 17,
      "outputs": [
        {
          "output_type": "stream",
          "name": "stdout",
          "text": [
            "Epoch 1/10\n",
            "55/55 [==============================] - 5s 34ms/step - loss: 0.9450 - accuracy: 0.7124 - val_loss: 0.6892 - val_accuracy: 0.7600\n",
            "Epoch 2/10\n",
            "55/55 [==============================] - 1s 24ms/step - loss: 0.6417 - accuracy: 0.7719 - val_loss: 0.6550 - val_accuracy: 0.7702\n",
            "Epoch 3/10\n",
            "55/55 [==============================] - 1s 26ms/step - loss: 0.5482 - accuracy: 0.8015 - val_loss: 0.6757 - val_accuracy: 0.7646\n"
          ]
        }
      ]
    },
    {
      "cell_type": "code",
      "source": [
        "cnn_score = model.evaluate(X_test, y_test, batch_size=256, verbose=1)\n",
        "print('\\n')\n",
        "print('Test score:', cnn_score[0])\n",
        "print('Test accuracy:', cnn_score[1])"
      ],
      "metadata": {
        "colab": {
          "base_uri": "https://localhost:8080/"
        },
        "id": "7dbGIgh2ioGI",
        "outputId": "caeb861d-a8bf-477f-c27b-5ce6121689b8"
      },
      "execution_count": 18,
      "outputs": [
        {
          "output_type": "stream",
          "name": "stdout",
          "text": [
            "27/27 [==============================] - 0s 9ms/step - loss: 0.6757 - accuracy: 0.7646\n",
            "\n",
            "\n",
            "Test score: 0.6756554841995239\n",
            "Test accuracy: 0.7645937204360962\n"
          ]
        }
      ]
    },
    {
      "cell_type": "markdown",
      "source": [
        "**RNN (Рекуррентные нейронные сети)**"
      ],
      "metadata": {
        "id": "ECxvTuOYioek"
      }
    },
    {
      "cell_type": "markdown",
      "source": [
        "Simple RNN"
      ],
      "metadata": {
        "id": "jT_yhjyfisxw"
      }
    },
    {
      "cell_type": "code",
      "source": [
        "model = Sequential()\n",
        "\n",
        "model.add(Embedding(input_dim=word_count,\n",
        "              input_length=training_length,\n",
        "              output_dim=30,\n",
        "              trainable=True,\n",
        "              mask_zero=True))\n",
        "model.add(Masking(mask_value=0.0))\n",
        "\n",
        "model.add(SimpleRNN(64))  #64 -- количество ячеек, размер выходного пространства - количество скрытых состояний на момент последнего эл-тв послед-сти\n",
        "model.add(Dense(64, activation='relu'))\n",
        "model.add(Dropout(0.5))\n",
        "model.add(Dense(num_classes, activation='softmax'))"
      ],
      "metadata": {
        "id": "YuAYxb3XirK8"
      },
      "execution_count": 19,
      "outputs": []
    },
    {
      "cell_type": "code",
      "source": [
        "model.compile(\n",
        "    optimizer='adam', \n",
        "    loss='binary_crossentropy', \n",
        "    metrics=['accuracy'])\n",
        "\n",
        "history = model.fit(X_train, y_train,\n",
        "                    batch_size=512,\n",
        "                    epochs=10,\n",
        "                    verbose=1,\n",
        "                    validation_data = (X_test, y_test),\n",
        "                    callbacks = [early_stopping]\n",
        "                    )"
      ],
      "metadata": {
        "colab": {
          "base_uri": "https://localhost:8080/"
        },
        "id": "4FNegl7FoMfU",
        "outputId": "83bba2ef-e7ba-4d3e-dd38-0c01689c4188"
      },
      "execution_count": 20,
      "outputs": [
        {
          "output_type": "stream",
          "name": "stdout",
          "text": [
            "Epoch 1/10\n",
            "28/28 [==============================] - 13s 385ms/step - loss: 0.4311 - accuracy: 0.6914 - val_loss: 0.3054 - val_accuracy: 0.7124\n",
            "Epoch 2/10\n",
            "28/28 [==============================] - 5s 195ms/step - loss: 0.3167 - accuracy: 0.7085 - val_loss: 0.2641 - val_accuracy: 0.7347\n",
            "Epoch 3/10\n",
            "28/28 [==============================] - 5s 194ms/step - loss: 0.2753 - accuracy: 0.7334 - val_loss: 0.2442 - val_accuracy: 0.7486\n",
            "Epoch 4/10\n",
            "28/28 [==============================] - 5s 190ms/step - loss: 0.2508 - accuracy: 0.7569 - val_loss: 0.2318 - val_accuracy: 0.7570\n",
            "Epoch 5/10\n",
            "28/28 [==============================] - 5s 174ms/step - loss: 0.2319 - accuracy: 0.7716 - val_loss: 0.2268 - val_accuracy: 0.7614\n",
            "Epoch 6/10\n",
            "28/28 [==============================] - 5s 181ms/step - loss: 0.2137 - accuracy: 0.7852 - val_loss: 0.2362 - val_accuracy: 0.7598\n"
          ]
        }
      ]
    },
    {
      "cell_type": "code",
      "source": [
        "srnn_score = model.evaluate(X_test, y_test, batch_size=512, verbose=1)\n",
        "print('\\n')\n",
        "print('Test score:', srnn_score[0])\n",
        "print('Test accuracy:', srnn_score[1])"
      ],
      "metadata": {
        "colab": {
          "base_uri": "https://localhost:8080/"
        },
        "id": "itudHpxxoQCD",
        "outputId": "561ba200-f452-4846-fa6c-48fc1011b27c"
      },
      "execution_count": 21,
      "outputs": [
        {
          "output_type": "stream",
          "name": "stdout",
          "text": [
            "14/14 [==============================] - 0s 16ms/step - loss: 0.2362 - accuracy: 0.7598\n",
            "\n",
            "\n",
            "Test score: 0.23622490465641022\n",
            "Test accuracy: 0.7597535848617554\n"
          ]
        }
      ]
    },
    {
      "cell_type": "markdown",
      "source": [
        "LSTM (Long short term memory)"
      ],
      "metadata": {
        "id": "NLBwaIXLoS6x"
      }
    },
    {
      "cell_type": "code",
      "source": [
        "model = Sequential()\n",
        "\n",
        "model.add(Embedding(input_dim=word_count,\n",
        "              input_length=training_length,\n",
        "              output_dim=30,\n",
        "              trainable=True,\n",
        "              mask_zero=True))\n",
        "model.add(Masking(mask_value=0.0))\n",
        "\n",
        "model.add(LSTM(64))  #64 -- количество ячеек, размер выходного пространства - количество скрытых состояний на момент последнего эл-тв послед-сти\n",
        "model.add(Dense(64, activation='relu'))\n",
        "model.add(Dropout(0.5))\n",
        "model.add(Dense(num_classes, activation='softmax'))\n",
        "\n",
        "\n",
        "model.compile(\n",
        "    optimizer='adam', \n",
        "    loss='binary_crossentropy', \n",
        "    metrics=['accuracy'])\n",
        "\n",
        "history = model.fit(X_train, y_train,\n",
        "                    batch_size=512,\n",
        "                    epochs=10,\n",
        "                    verbose=1,\n",
        "                    validation_data = (X_test, y_test),\n",
        "                    callbacks = [early_stopping]\n",
        "                    )"
      ],
      "metadata": {
        "colab": {
          "base_uri": "https://localhost:8080/"
        },
        "id": "XHJOXCmjoSXe",
        "outputId": "a6dc4011-b795-464c-b0d8-0126cca8b3a8"
      },
      "execution_count": 22,
      "outputs": [
        {
          "output_type": "stream",
          "name": "stdout",
          "text": [
            "Epoch 1/10\n",
            "28/28 [==============================] - 7s 70ms/step - loss: 0.5637 - accuracy: 0.4719 - val_loss: 0.3211 - val_accuracy: 0.7125\n",
            "Epoch 2/10\n",
            "28/28 [==============================] - 1s 19ms/step - loss: 0.3689 - accuracy: 0.6910 - val_loss: 0.3167 - val_accuracy: 0.7125\n",
            "Epoch 3/10\n",
            "28/28 [==============================] - 1s 18ms/step - loss: 0.3417 - accuracy: 0.7007 - val_loss: 0.2849 - val_accuracy: 0.7125\n",
            "Epoch 4/10\n",
            "28/28 [==============================] - 1s 19ms/step - loss: 0.2903 - accuracy: 0.7171 - val_loss: 0.2485 - val_accuracy: 0.7379\n",
            "Epoch 5/10\n",
            "28/28 [==============================] - 1s 18ms/step - loss: 0.2604 - accuracy: 0.7377 - val_loss: 0.2334 - val_accuracy: 0.7548\n",
            "Epoch 6/10\n",
            "28/28 [==============================] - 1s 18ms/step - loss: 0.2420 - accuracy: 0.7576 - val_loss: 0.2274 - val_accuracy: 0.7605\n",
            "Epoch 7/10\n",
            "28/28 [==============================] - 1s 18ms/step - loss: 0.2303 - accuracy: 0.7663 - val_loss: 0.2309 - val_accuracy: 0.7622\n"
          ]
        }
      ]
    },
    {
      "cell_type": "code",
      "source": [
        "lstm_score = model.evaluate(X_test, y_test, batch_size=512, verbose=1)\n",
        "print('\\n')\n",
        "print('Test score:', lstm_score[0])\n",
        "print('Test accuracy:', lstm_score[1])"
      ],
      "metadata": {
        "colab": {
          "base_uri": "https://localhost:8080/"
        },
        "id": "-cjCkaV8oWpx",
        "outputId": "60f04c03-7bc9-4e14-eb4d-29e2a5c3ced7"
      },
      "execution_count": 23,
      "outputs": [
        {
          "output_type": "stream",
          "name": "stdout",
          "text": [
            "14/14 [==============================] - 0s 10ms/step - loss: 0.2309 - accuracy: 0.7622\n",
            "\n",
            "\n",
            "Test score: 0.23087015748023987\n",
            "Test accuracy: 0.7622469663619995\n"
          ]
        }
      ]
    },
    {
      "cell_type": "markdown",
      "source": [
        "GRU (Gated recurrent unit)"
      ],
      "metadata": {
        "id": "R3Mj7hBvoY1w"
      }
    },
    {
      "cell_type": "code",
      "source": [
        "model = Sequential()\n",
        "\n",
        "model.add(Embedding(input_dim=word_count,\n",
        "              input_length=training_length,\n",
        "              output_dim=30,\n",
        "              trainable=True,\n",
        "              mask_zero=True))\n",
        "model.add(Masking(mask_value=0.0))\n",
        "\n",
        "model.add(LSTM(64))  #64 -- количество ячеек, размер выходного пространства - количество скрытых состояний на момент последнего эл-тв послед-сти\n",
        "model.add(Dense(64, activation='relu'))\n",
        "model.add(Dropout(0.5))\n",
        "model.add(Dense(num_classes, activation='softmax'))\n",
        "\n",
        "\n",
        "model.compile(\n",
        "    optimizer='adam', \n",
        "    loss='binary_crossentropy', \n",
        "    metrics=['accuracy'])\n",
        "\n",
        "history = model.fit(X_train, y_train,\n",
        "                    batch_size=512,\n",
        "                    epochs=10,\n",
        "                    verbose=1,\n",
        "                    validation_data = (X_test, y_test),\n",
        "                    callbacks = [early_stopping]\n",
        "                    )"
      ],
      "metadata": {
        "colab": {
          "base_uri": "https://localhost:8080/"
        },
        "id": "zJOay9w6oZNW",
        "outputId": "5d6f3a4a-d9c3-4d7d-e116-cb40d06ac8d9"
      },
      "execution_count": 24,
      "outputs": [
        {
          "output_type": "stream",
          "name": "stdout",
          "text": [
            "Epoch 1/10\n",
            "28/28 [==============================] - 6s 68ms/step - loss: 0.5351 - accuracy: 0.5193 - val_loss: 0.3196 - val_accuracy: 0.7125\n",
            "Epoch 2/10\n",
            "28/28 [==============================] - 1s 18ms/step - loss: 0.3591 - accuracy: 0.6990 - val_loss: 0.3162 - val_accuracy: 0.7125\n",
            "Epoch 3/10\n",
            "28/28 [==============================] - 1s 18ms/step - loss: 0.3271 - accuracy: 0.7035 - val_loss: 0.2717 - val_accuracy: 0.7259\n",
            "Epoch 4/10\n",
            "28/28 [==============================] - 1s 21ms/step - loss: 0.2776 - accuracy: 0.7282 - val_loss: 0.2404 - val_accuracy: 0.7504\n",
            "Epoch 5/10\n",
            "28/28 [==============================] - 1s 19ms/step - loss: 0.2507 - accuracy: 0.7518 - val_loss: 0.2330 - val_accuracy: 0.7559\n",
            "Epoch 6/10\n",
            "28/28 [==============================] - 1s 19ms/step - loss: 0.2349 - accuracy: 0.7646 - val_loss: 0.2285 - val_accuracy: 0.7602\n",
            "Epoch 7/10\n",
            "28/28 [==============================] - 1s 18ms/step - loss: 0.2237 - accuracy: 0.7749 - val_loss: 0.2276 - val_accuracy: 0.7644\n",
            "Epoch 8/10\n",
            "28/28 [==============================] - 1s 19ms/step - loss: 0.2131 - accuracy: 0.7833 - val_loss: 0.2286 - val_accuracy: 0.7694\n"
          ]
        }
      ]
    },
    {
      "cell_type": "code",
      "source": [
        "gru_score = model.evaluate(X_test, y_test, batch_size=512, verbose=1)\n",
        "print('\\n')\n",
        "print('Test score:', gru_score[0])\n",
        "print('Test accuracy:', gru_score[1])"
      ],
      "metadata": {
        "colab": {
          "base_uri": "https://localhost:8080/"
        },
        "id": "EGLBCS_3ob36",
        "outputId": "f037c129-e405-4d20-91d1-80c3e1e04c8d"
      },
      "execution_count": 25,
      "outputs": [
        {
          "output_type": "stream",
          "name": "stdout",
          "text": [
            "14/14 [==============================] - 0s 10ms/step - loss: 0.2286 - accuracy: 0.7694\n",
            "\n",
            "\n",
            "Test score: 0.22855816781520844\n",
            "Test accuracy: 0.769433856010437\n"
          ]
        }
      ]
    },
    {
      "cell_type": "markdown",
      "source": [
        "RNN + CNN"
      ],
      "metadata": {
        "id": "wmxb5hFEoeXk"
      }
    },
    {
      "cell_type": "code",
      "source": [
        "# CNN - > RNN\n",
        "\n",
        "model = Sequential()\n",
        "\n",
        "model.add(Embedding(input_dim=word_count,\n",
        "              input_length=training_length,\n",
        "              output_dim=30,\n",
        "              trainable=True,\n",
        "              mask_zero=True))\n",
        "model.add(Masking(mask_value=0.0))\n",
        "\n",
        "model.add(Conv1D(128, 3))\n",
        "model.add(Activation(\"relu\"))\n",
        "model.add(LSTM(64,recurrent_dropout=0.2)) \n",
        "model.add(Dense(32, activation='relu'))\n",
        "model.add(Dropout(0.5))\n",
        "model.add(Dense(5, activation='softmax'))\n",
        "\n",
        "model.compile(\n",
        "    optimizer='adam', \n",
        "    loss='binary_crossentropy', \n",
        "    metrics=['accuracy'])\n",
        "\n",
        "history = model.fit(X_train, y_train,\n",
        "                    batch_size=512,\n",
        "                    epochs=10,\n",
        "                    verbose=1,\n",
        "                    validation_data = (X_test, y_test),\n",
        "                    callbacks = [early_stopping]\n",
        "                    )"
      ],
      "metadata": {
        "colab": {
          "base_uri": "https://localhost:8080/"
        },
        "id": "DvooxXbzofYd",
        "outputId": "bae9e718-e9cf-42d6-9a06-1b3e8b50eff6"
      },
      "execution_count": 26,
      "outputs": [
        {
          "output_type": "stream",
          "name": "stdout",
          "text": [
            "WARNING:tensorflow:Layer lstm_2 will not use cuDNN kernels since it doesn't meet the criteria. It will use a generic GPU kernel as fallback when running on GPU.\n",
            "Epoch 1/10\n",
            "28/28 [==============================] - 16s 498ms/step - loss: 0.5620 - accuracy: 0.3797 - val_loss: 0.3733 - val_accuracy: 0.7125\n",
            "Epoch 2/10\n",
            "28/28 [==============================] - 12s 427ms/step - loss: 0.3816 - accuracy: 0.6731 - val_loss: 0.2762 - val_accuracy: 0.7385\n",
            "Epoch 3/10\n",
            "28/28 [==============================] - 12s 426ms/step - loss: 0.3127 - accuracy: 0.7183 - val_loss: 0.2430 - val_accuracy: 0.7520\n",
            "Epoch 4/10\n",
            "28/28 [==============================] - 12s 423ms/step - loss: 0.2740 - accuracy: 0.7457 - val_loss: 0.2283 - val_accuracy: 0.7620\n",
            "Epoch 5/10\n",
            "28/28 [==============================] - 12s 422ms/step - loss: 0.2479 - accuracy: 0.7657 - val_loss: 0.2262 - val_accuracy: 0.7666\n",
            "Epoch 6/10\n",
            "28/28 [==============================] - 12s 428ms/step - loss: 0.2311 - accuracy: 0.7782 - val_loss: 0.2294 - val_accuracy: 0.7686\n"
          ]
        }
      ]
    },
    {
      "cell_type": "code",
      "source": [
        "cnn_rnn_score = model.evaluate(X_test, y_test, batch_size=512, verbose=1)\n",
        "print('\\n')\n",
        "print('Test score:', cnn_rnn_score[0])\n",
        "print('Test accuracy:', cnn_rnn_score[1])"
      ],
      "metadata": {
        "colab": {
          "base_uri": "https://localhost:8080/"
        },
        "id": "bPEUuxwXopSk",
        "outputId": "a2433f3f-b56a-40b8-f50a-55a9a6bbe203"
      },
      "execution_count": 27,
      "outputs": [
        {
          "output_type": "stream",
          "name": "stdout",
          "text": [
            "14/14 [==============================] - 1s 37ms/step - loss: 0.2294 - accuracy: 0.7686\n",
            "\n",
            "\n",
            "Test score: 0.22943797707557678\n",
            "Test accuracy: 0.7685538530349731\n"
          ]
        }
      ]
    },
    {
      "cell_type": "code",
      "source": [
        "# RNN - > CNN\n",
        "model = Sequential()\n",
        "\n",
        "model.add(Embedding(input_dim=word_count,\n",
        "              input_length=training_length,\n",
        "              output_dim=30,\n",
        "              trainable=True,\n",
        "              mask_zero=True))\n",
        "model.add(Masking(mask_value=0.0))\n",
        "\n",
        "model.add(LSTM(64,recurrent_dropout=0.2, return_sequences=True))\n",
        "  #return_sequences = True с- возвращаем последовательность скрытых состояний для каждого токена\n",
        "model.add(Conv1D(64, 3, padding = 'same', activation = 'relu'))\n",
        "model.add(GlobalMaxPool1D())\n",
        "model.add(Dense(32, activation='relu'))\n",
        "model.add(Dropout(0.5))\n",
        "model.add(Dense(5, activation='softmax'))\n",
        "\n",
        "\n",
        "\n",
        "model.compile(\n",
        "    optimizer='adam', \n",
        "    loss='binary_crossentropy', \n",
        "    metrics=['accuracy'])\n",
        "\n",
        "history = model.fit(X_train, y_train,\n",
        "                    batch_size=512,\n",
        "                    epochs=10,\n",
        "                    verbose=1,\n",
        "                    validation_data = (X_test, y_test),\n",
        "                    callbacks = [early_stopping]\n",
        "                    )"
      ],
      "metadata": {
        "colab": {
          "base_uri": "https://localhost:8080/"
        },
        "id": "26fxaUkNot2D",
        "outputId": "df83c167-48d1-44c9-f6e7-96679b7978d7"
      },
      "execution_count": 28,
      "outputs": [
        {
          "output_type": "stream",
          "name": "stdout",
          "text": [
            "WARNING:tensorflow:Layer lstm_3 will not use cuDNN kernels since it doesn't meet the criteria. It will use a generic GPU kernel as fallback when running on GPU.\n",
            "Epoch 1/10\n",
            "28/28 [==============================] - 17s 530ms/step - loss: 0.5544 - accuracy: 0.6385 - val_loss: 0.3430 - val_accuracy: 0.7125\n",
            "Epoch 2/10\n",
            "28/28 [==============================] - 14s 493ms/step - loss: 0.4050 - accuracy: 0.6742 - val_loss: 0.3293 - val_accuracy: 0.7125\n",
            "Epoch 3/10\n",
            "28/28 [==============================] - 14s 486ms/step - loss: 0.3849 - accuracy: 0.6870 - val_loss: 0.3206 - val_accuracy: 0.7125\n",
            "Epoch 4/10\n",
            "28/28 [==============================] - 14s 487ms/step - loss: 0.3756 - accuracy: 0.6937 - val_loss: 0.3112 - val_accuracy: 0.7125\n",
            "Epoch 5/10\n",
            "28/28 [==============================] - 14s 501ms/step - loss: 0.3494 - accuracy: 0.6991 - val_loss: 0.2645 - val_accuracy: 0.7229\n",
            "Epoch 6/10\n",
            "28/28 [==============================] - 14s 496ms/step - loss: 0.2938 - accuracy: 0.7261 - val_loss: 0.2384 - val_accuracy: 0.7441\n",
            "Epoch 7/10\n",
            "28/28 [==============================] - 14s 487ms/step - loss: 0.2695 - accuracy: 0.7403 - val_loss: 0.2307 - val_accuracy: 0.7624\n",
            "Epoch 8/10\n",
            "28/28 [==============================] - 14s 493ms/step - loss: 0.2517 - accuracy: 0.7494 - val_loss: 0.2268 - val_accuracy: 0.7665\n",
            "Epoch 9/10\n",
            "28/28 [==============================] - 14s 486ms/step - loss: 0.2440 - accuracy: 0.7561 - val_loss: 0.2241 - val_accuracy: 0.7706\n",
            "Epoch 10/10\n",
            "28/28 [==============================] - 13s 483ms/step - loss: 0.2310 - accuracy: 0.7647 - val_loss: 0.2224 - val_accuracy: 0.7727\n"
          ]
        }
      ]
    },
    {
      "cell_type": "code",
      "source": [
        "rnn_cnn_score = model.evaluate(X_test, y_test, batch_size=512, verbose=1)\n",
        "print('\\n')\n",
        "print('Test score:', rnn_cnn_score[0])\n",
        "print('Test accuracy:', rnn_cnn_score[1])"
      ],
      "metadata": {
        "colab": {
          "base_uri": "https://localhost:8080/"
        },
        "id": "483uqb97oy6F",
        "outputId": "45818fc2-5b2d-4379-cbe7-2a1ac9f2f334"
      },
      "execution_count": 29,
      "outputs": [
        {
          "output_type": "stream",
          "name": "stdout",
          "text": [
            "14/14 [==============================] - 1s 41ms/step - loss: 0.2224 - accuracy: 0.7727\n",
            "\n",
            "\n",
            "Test score: 0.2224355787038803\n",
            "Test accuracy: 0.7726606130599976\n"
          ]
        }
      ]
    },
    {
      "cell_type": "markdown",
      "source": [
        "Оценка результатов"
      ],
      "metadata": {
        "id": "a_knwQWJo0gu"
      }
    },
    {
      "cell_type": "code",
      "source": [
        "result = pd.DataFrame({'model': ['CNN', 'SimpleRNN', 'LSTM', 'GRU', 'CNN->LSTM', 'LSTM->CNN'], \n",
        "                       'accuracy': [cnn_score[1], srnn_score[1], lstm_score[1], gru_score[1], cnn_rnn_score[1], rnn_cnn_score[1]]})\n",
        "result.sort_values(by='accuracy', ascending=False)"
      ],
      "metadata": {
        "colab": {
          "base_uri": "https://localhost:8080/",
          "height": 237
        },
        "id": "KBbQxi-lo10j",
        "outputId": "2b7917b1-84dc-42fd-c3b0-b402155e7d20"
      },
      "execution_count": 30,
      "outputs": [
        {
          "output_type": "execute_result",
          "data": {
            "text/plain": [
              "       model  accuracy\n",
              "5  LSTM->CNN  0.772661\n",
              "3        GRU  0.769434\n",
              "4  CNN->LSTM  0.768554\n",
              "0        CNN  0.764594\n",
              "2       LSTM  0.762247\n",
              "1  SimpleRNN  0.759754"
            ],
            "text/html": [
              "\n",
              "  <div id=\"df-fc83d386-e59a-4874-b504-84cf7e7bee92\">\n",
              "    <div class=\"colab-df-container\">\n",
              "      <div>\n",
              "<style scoped>\n",
              "    .dataframe tbody tr th:only-of-type {\n",
              "        vertical-align: middle;\n",
              "    }\n",
              "\n",
              "    .dataframe tbody tr th {\n",
              "        vertical-align: top;\n",
              "    }\n",
              "\n",
              "    .dataframe thead th {\n",
              "        text-align: right;\n",
              "    }\n",
              "</style>\n",
              "<table border=\"1\" class=\"dataframe\">\n",
              "  <thead>\n",
              "    <tr style=\"text-align: right;\">\n",
              "      <th></th>\n",
              "      <th>model</th>\n",
              "      <th>accuracy</th>\n",
              "    </tr>\n",
              "  </thead>\n",
              "  <tbody>\n",
              "    <tr>\n",
              "      <th>5</th>\n",
              "      <td>LSTM-&gt;CNN</td>\n",
              "      <td>0.772661</td>\n",
              "    </tr>\n",
              "    <tr>\n",
              "      <th>3</th>\n",
              "      <td>GRU</td>\n",
              "      <td>0.769434</td>\n",
              "    </tr>\n",
              "    <tr>\n",
              "      <th>4</th>\n",
              "      <td>CNN-&gt;LSTM</td>\n",
              "      <td>0.768554</td>\n",
              "    </tr>\n",
              "    <tr>\n",
              "      <th>0</th>\n",
              "      <td>CNN</td>\n",
              "      <td>0.764594</td>\n",
              "    </tr>\n",
              "    <tr>\n",
              "      <th>2</th>\n",
              "      <td>LSTM</td>\n",
              "      <td>0.762247</td>\n",
              "    </tr>\n",
              "    <tr>\n",
              "      <th>1</th>\n",
              "      <td>SimpleRNN</td>\n",
              "      <td>0.759754</td>\n",
              "    </tr>\n",
              "  </tbody>\n",
              "</table>\n",
              "</div>\n",
              "      <button class=\"colab-df-convert\" onclick=\"convertToInteractive('df-fc83d386-e59a-4874-b504-84cf7e7bee92')\"\n",
              "              title=\"Convert this dataframe to an interactive table.\"\n",
              "              style=\"display:none;\">\n",
              "        \n",
              "  <svg xmlns=\"http://www.w3.org/2000/svg\" height=\"24px\"viewBox=\"0 0 24 24\"\n",
              "       width=\"24px\">\n",
              "    <path d=\"M0 0h24v24H0V0z\" fill=\"none\"/>\n",
              "    <path d=\"M18.56 5.44l.94 2.06.94-2.06 2.06-.94-2.06-.94-.94-2.06-.94 2.06-2.06.94zm-11 1L8.5 8.5l.94-2.06 2.06-.94-2.06-.94L8.5 2.5l-.94 2.06-2.06.94zm10 10l.94 2.06.94-2.06 2.06-.94-2.06-.94-.94-2.06-.94 2.06-2.06.94z\"/><path d=\"M17.41 7.96l-1.37-1.37c-.4-.4-.92-.59-1.43-.59-.52 0-1.04.2-1.43.59L10.3 9.45l-7.72 7.72c-.78.78-.78 2.05 0 2.83L4 21.41c.39.39.9.59 1.41.59.51 0 1.02-.2 1.41-.59l7.78-7.78 2.81-2.81c.8-.78.8-2.07 0-2.86zM5.41 20L4 18.59l7.72-7.72 1.47 1.35L5.41 20z\"/>\n",
              "  </svg>\n",
              "      </button>\n",
              "      \n",
              "  <style>\n",
              "    .colab-df-container {\n",
              "      display:flex;\n",
              "      flex-wrap:wrap;\n",
              "      gap: 12px;\n",
              "    }\n",
              "\n",
              "    .colab-df-convert {\n",
              "      background-color: #E8F0FE;\n",
              "      border: none;\n",
              "      border-radius: 50%;\n",
              "      cursor: pointer;\n",
              "      display: none;\n",
              "      fill: #1967D2;\n",
              "      height: 32px;\n",
              "      padding: 0 0 0 0;\n",
              "      width: 32px;\n",
              "    }\n",
              "\n",
              "    .colab-df-convert:hover {\n",
              "      background-color: #E2EBFA;\n",
              "      box-shadow: 0px 1px 2px rgba(60, 64, 67, 0.3), 0px 1px 3px 1px rgba(60, 64, 67, 0.15);\n",
              "      fill: #174EA6;\n",
              "    }\n",
              "\n",
              "    [theme=dark] .colab-df-convert {\n",
              "      background-color: #3B4455;\n",
              "      fill: #D2E3FC;\n",
              "    }\n",
              "\n",
              "    [theme=dark] .colab-df-convert:hover {\n",
              "      background-color: #434B5C;\n",
              "      box-shadow: 0px 1px 3px 1px rgba(0, 0, 0, 0.15);\n",
              "      filter: drop-shadow(0px 1px 2px rgba(0, 0, 0, 0.3));\n",
              "      fill: #FFFFFF;\n",
              "    }\n",
              "  </style>\n",
              "\n",
              "      <script>\n",
              "        const buttonEl =\n",
              "          document.querySelector('#df-fc83d386-e59a-4874-b504-84cf7e7bee92 button.colab-df-convert');\n",
              "        buttonEl.style.display =\n",
              "          google.colab.kernel.accessAllowed ? 'block' : 'none';\n",
              "\n",
              "        async function convertToInteractive(key) {\n",
              "          const element = document.querySelector('#df-fc83d386-e59a-4874-b504-84cf7e7bee92');\n",
              "          const dataTable =\n",
              "            await google.colab.kernel.invokeFunction('convertToInteractive',\n",
              "                                                     [key], {});\n",
              "          if (!dataTable) return;\n",
              "\n",
              "          const docLinkHtml = 'Like what you see? Visit the ' +\n",
              "            '<a target=\"_blank\" href=https://colab.research.google.com/notebooks/data_table.ipynb>data table notebook</a>'\n",
              "            + ' to learn more about interactive tables.';\n",
              "          element.innerHTML = '';\n",
              "          dataTable['output_type'] = 'display_data';\n",
              "          await google.colab.output.renderOutput(dataTable, element);\n",
              "          const docLink = document.createElement('div');\n",
              "          docLink.innerHTML = docLinkHtml;\n",
              "          element.appendChild(docLink);\n",
              "        }\n",
              "      </script>\n",
              "    </div>\n",
              "  </div>\n",
              "  "
            ]
          },
          "metadata": {},
          "execution_count": 30
        }
      ]
    },
    {
      "cell_type": "markdown",
      "source": [
        "Наилучший результат показала совместная модель LSTM>CNN, однако в целом все модели достаточно неплохо справились с задачей. "
      ],
      "metadata": {
        "id": "ADVr5pRno3Xb"
      }
    }
  ]
}