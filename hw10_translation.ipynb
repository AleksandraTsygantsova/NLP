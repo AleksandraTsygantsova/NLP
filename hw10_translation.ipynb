{
  "nbformat": 4,
  "nbformat_minor": 0,
  "metadata": {
    "colab": {
      "name": "hw10_translation.ipynb",
      "provenance": [],
      "collapsed_sections": []
    },
    "kernelspec": {
      "name": "python3",
      "display_name": "Python 3"
    },
    "language_info": {
      "name": "python"
    },
    "accelerator": "GPU",
    "gpuClass": "standard"
  },
  "cells": [
    {
      "cell_type": "markdown",
      "source": [
        "**Урок 10. Машинный перевод. Модель seq2seq и механизм внимания**\n",
        "\n",
        "Разобраться с моделькой перевода как она устроена\n",
        "запустить для перевода с русского на английский (при желании можно взять другие пары языков) два варианта с вниманием и без внимания\n",
        "оценить качество насколько корректно переводит (для теста отобрать примеры с увеличением длины текста) (так как оценка визуальная достаточно 20-ти примеров в тестовой выборке)\n"
      ],
      "metadata": {
        "id": "bG7hy3hkAQYq"
      }
    },
    {
      "cell_type": "code",
      "execution_count": 1,
      "metadata": {
        "id": "Y6jQqlALAODV"
      },
      "outputs": [],
      "source": [
        "import tensorflow as tf\n",
        "\n",
        "import matplotlib.pyplot as plt\n",
        "import matplotlib.ticker as ticker\n",
        "from sklearn.model_selection import train_test_split\n",
        "\n",
        "import unicodedata\n",
        "import re\n",
        "import numpy as np\n",
        "import os\n",
        "import io\n",
        "import time"
      ]
    },
    {
      "cell_type": "code",
      "source": [
        "#Скачиваем датасет\n",
        "!wget http://www.manythings.org/anki/rus-eng.zip"
      ],
      "metadata": {
        "colab": {
          "base_uri": "https://localhost:8080/"
        },
        "id": "ucAc1LrkAWM8",
        "outputId": "686b6575-a245-4a0d-b283-84ffc7a722fe"
      },
      "execution_count": 2,
      "outputs": [
        {
          "output_type": "stream",
          "name": "stdout",
          "text": [
            "--2022-07-14 13:03:59--  http://www.manythings.org/anki/rus-eng.zip\n",
            "Resolving www.manythings.org (www.manythings.org)... 173.254.30.110\n",
            "Connecting to www.manythings.org (www.manythings.org)|173.254.30.110|:80... connected.\n",
            "HTTP request sent, awaiting response... 200 OK\n",
            "Length: 14819554 (14M) [application/zip]\n",
            "Saving to: ‘rus-eng.zip’\n",
            "\n",
            "rus-eng.zip         100%[===================>]  14.13M  24.4MB/s    in 0.6s    \n",
            "\n",
            "2022-07-14 13:04:00 (24.4 MB/s) - ‘rus-eng.zip’ saved [14819554/14819554]\n",
            "\n"
          ]
        }
      ]
    },
    {
      "cell_type": "code",
      "source": [
        "#Создаем папку и извлекаем туда файлы из архива\n",
        "!mkdir rus-eng\n",
        "!unzip rus-eng.zip -d rus-eng/"
      ],
      "metadata": {
        "colab": {
          "base_uri": "https://localhost:8080/"
        },
        "id": "7Gp2voa1AX9A",
        "outputId": "fc162c56-79e1-4a4d-89ea-4a2a8acfefb1"
      },
      "execution_count": 3,
      "outputs": [
        {
          "output_type": "stream",
          "name": "stdout",
          "text": [
            "Archive:  rus-eng.zip\n",
            "  inflating: rus-eng/rus.txt         \n",
            "  inflating: rus-eng/_about.txt      \n"
          ]
        }
      ]
    },
    {
      "cell_type": "code",
      "source": [
        "# Загружаем файл\n",
        "path_to_file = \"/content/rus-eng/rus.txt\""
      ],
      "metadata": {
        "id": "H5i2UppgAZni"
      },
      "execution_count": 4,
      "outputs": []
    },
    {
      "cell_type": "code",
      "source": [
        "# Откроем пример строки\n",
        "f = open(path_to_file)\n",
        "for line in f:\n",
        "    print(line)\n",
        "    break"
      ],
      "metadata": {
        "colab": {
          "base_uri": "https://localhost:8080/"
        },
        "id": "60oq9osUAbiz",
        "outputId": "c639050a-caf2-4f04-9674-53de8bfd1a7d"
      },
      "execution_count": 5,
      "outputs": [
        {
          "output_type": "stream",
          "name": "stdout",
          "text": [
            "Go.\tМарш!\tCC-BY 2.0 (France) Attribution: tatoeba.org #2877272 (CM) & #1159202 (shanghainese)\n",
            "\n"
          ]
        }
      ]
    },
    {
      "cell_type": "code",
      "source": [
        "''' ПРЕДОБРАБОТКА ТЕКСТА'''\n",
        "\n",
        "#функция препроцессинга\n",
        "def preprocess_sentence(w):\n",
        "    #переводим предложение к нижнему регистру и удалем начальные и конечные пробелы\n",
        "    w = w.lower().strip()\n",
        "\n",
        "    # отделяем пробелом слово и следующую за ним пунктуацию\n",
        "    w = re.sub(r\"([?.!,])\", r\" \\1 \", w)\n",
        "    # убираем множественные проблемы (заменяем одним)\n",
        "    w = re.sub(r'[\" \"]+', \" \", w)\n",
        "\n",
        "   # все, кроме букв и знаков пунктуации, заменяем пробелом\n",
        "    w = re.sub(r\"[^a-zA-Zа-яА-Я?.!,']+\", \" \", w)\n",
        "  \n",
        "   #удаляем лишние пробелы в начале и конце\n",
        "    w = w.strip()\n",
        "\n",
        "    # Добавляем стартовый и конечный токены <start> и <end>\n",
        "    # теперь модель знает, где начинать и заканчивать предсказания\n",
        "    w = '<start> ' + w + ' <end>'\n",
        "    return w"
      ],
      "metadata": {
        "id": "hykLkNgNAgul"
      },
      "execution_count": 6,
      "outputs": []
    },
    {
      "cell_type": "code",
      "source": [
        "'''СОЗДАНИЕ ДАТАСЕТА'''\n",
        "\n",
        "# 1. Удаление акцентов\n",
        "# 2. Чистка последовательности\n",
        "# 3. Возвращаем пары слов: [ENG, RUS]\n",
        "\n",
        "def create_dataset(path, num_examples):\n",
        "  # считываем строки файла\n",
        "  lines = io.open(path, encoding='UTF-8').read().strip().split('\\n')\n",
        "\n",
        "  # каждую строку сплитуем по \\t и берем первые два объекта - это и будут слова английское и русское слова (фразы)\n",
        "  word_pairs = [[preprocess_sentence(w) for w in l.split('\\t')[:2]]  for l in lines[:num_examples]]\n",
        " \n",
        "  return zip(*word_pairs)"
      ],
      "metadata": {
        "id": "Rr-3an5LAjQa"
      },
      "execution_count": 7,
      "outputs": []
    },
    {
      "cell_type": "code",
      "source": [
        "# Токенизация\n",
        "\n",
        "def tokenize(lang):\n",
        "    lang_tokenizer = tf.keras.preprocessing.text.Tokenizer(\n",
        "      filters='')\n",
        "    lang_tokenizer.fit_on_texts(lang)\n",
        "\n",
        "    # преобразовываем фразу в последовательность индексов\n",
        "    tensor = lang_tokenizer.texts_to_sequences(lang)\n",
        "\n",
        "    # выравниваем последовательность так, чтобы\n",
        "    tensor = tf.keras.preprocessing.sequence.pad_sequences(tensor,\n",
        "                                                         padding='post')\n",
        "\n",
        "    return tensor, lang_tokenizer"
      ],
      "metadata": {
        "id": "fwofPSDXAmCG"
      },
      "execution_count": 8,
      "outputs": []
    },
    {
      "cell_type": "code",
      "source": [
        "# Загрузчик датасета\n",
        "\n",
        "def load_dataset(path, num_examples=None):\n",
        "  # создаем пары английское слово (фраза) - русское слово (фраза)\n",
        "  targ_lang, inp_lang = create_dataset(path, num_examples)\n",
        "\n",
        "  input_tensor, inp_lang_tokenizer = tokenize(inp_lang)\n",
        "  target_tensor, targ_lang_tokenizer = tokenize(targ_lang)\n",
        "\n",
        "  return input_tensor, target_tensor, inp_lang_tokenizer, targ_lang_tokenizer"
      ],
      "metadata": {
        "id": "kSHXwvdoAouH"
      },
      "execution_count": 9,
      "outputs": []
    },
    {
      "cell_type": "code",
      "source": [
        "num_examples = 100000\n",
        "input_tensor, target_tensor, inp_lang, targ_lang = load_dataset(path_to_file, num_examples)\n",
        "\n",
        "input_tensor, target_tensor"
      ],
      "metadata": {
        "colab": {
          "base_uri": "https://localhost:8080/"
        },
        "id": "c9lID6-rAqdh",
        "outputId": "5aaf0066-078b-43e9-a5f0-43b2e77dc84a"
      },
      "execution_count": 10,
      "outputs": [
        {
          "output_type": "execute_result",
          "data": {
            "text/plain": [
              "(array([[    1,  5674,    24, ...,     0,     0,     0],\n",
              "        [    1,   198,     3, ...,     0,     0,     0],\n",
              "        [    1,   298,     3, ...,     0,     0,     0],\n",
              "        ...,\n",
              "        [    1,    19, 20543, ...,     0,     0,     0],\n",
              "        [    1,    19,     9, ...,     0,     0,     0],\n",
              "        [    1,    19,    60, ...,     0,     0,     0]], dtype=int32),\n",
              " array([[  1,  27,   3, ...,   0,   0,   0],\n",
              "        [  1,  27,   3, ...,   0,   0,   0],\n",
              "        [  1,  27,   3, ...,   0,   0,   0],\n",
              "        ...,\n",
              "        [  1,  28, 377, ...,   0,   0,   0],\n",
              "        [  1,  28, 113, ...,   2,   0,   0],\n",
              "        [  1,  28, 113, ...,   0,   0,   0]], dtype=int32))"
            ]
          },
          "metadata": {},
          "execution_count": 10
        }
      ]
    },
    {
      "cell_type": "code",
      "source": [
        "# Найдем максимальную длину полученных последовательностей в тензорах\n",
        "\n",
        "max_length_targ, max_length_inp = target_tensor.shape[1], input_tensor.shape[1]"
      ],
      "metadata": {
        "id": "nQIYjMB_Ar_K"
      },
      "execution_count": 11,
      "outputs": []
    },
    {
      "cell_type": "code",
      "source": [
        "# Сформируем тренировочный и валидационный датасеты в соотношении 80/20\n",
        "input_tensor_train, input_tensor_val, target_tensor_train, target_tensor_val = train_test_split(input_tensor, target_tensor, test_size=0.2)\n",
        "\n",
        "# Длина полученных наборов данных\n",
        "print(len(input_tensor_train), len(target_tensor_train), len(input_tensor_val), len(target_tensor_val))"
      ],
      "metadata": {
        "colab": {
          "base_uri": "https://localhost:8080/"
        },
        "id": "cQKCs9UXAtpu",
        "outputId": "f00bd9ad-bb00-4753-f47b-591bb019e653"
      },
      "execution_count": 12,
      "outputs": [
        {
          "output_type": "stream",
          "name": "stdout",
          "text": [
            "80000 80000 20000 20000\n"
          ]
        }
      ]
    },
    {
      "cell_type": "code",
      "source": [
        "# функция вывода преобразования текста из токена\n",
        "\n",
        "def convert(lang, tensor):\n",
        "    for t in tensor:\n",
        "        if t!=0:\n",
        "            print (\"%d ----> %s\" % (t, lang.index_word[t]))"
      ],
      "metadata": {
        "id": "Dy6f9te6Avic"
      },
      "execution_count": 13,
      "outputs": []
    },
    {
      "cell_type": "code",
      "source": [
        "print (\"Input Language; index to word mapping\")\n",
        "convert(inp_lang, input_tensor_train[13])\n",
        "print ()\n",
        "print (\"Target Language; index to word mapping\")\n",
        "convert(targ_lang, target_tensor_train[13])"
      ],
      "metadata": {
        "colab": {
          "base_uri": "https://localhost:8080/"
        },
        "id": "sCStiFwOAxMs",
        "outputId": "6ffc3670-8ddc-465d-f56b-83f64be5772b"
      },
      "execution_count": 14,
      "outputs": [
        {
          "output_type": "stream",
          "name": "stdout",
          "text": [
            "Input Language; index to word mapping\n",
            "1 ----> <start>\n",
            "163 ----> деньги\n",
            "44 ----> за\n",
            "8 ----> это\n",
            "7 ----> не\n",
            "11429 ----> возвращаются\n",
            "3 ----> .\n",
            "2 ----> <end>\n",
            "\n",
            "Target Language; index to word mapping\n",
            "1 ----> <start>\n",
            "30 ----> it's\n",
            "6603 ----> non\n",
            "6604 ----> refundable\n",
            "3 ----> .\n",
            "2 ----> <end>\n"
          ]
        }
      ]
    },
    {
      "cell_type": "markdown",
      "source": [
        "Создаем tensorflow dataset"
      ],
      "metadata": {
        "id": "ZIaRV39XA1vU"
      }
    },
    {
      "cell_type": "code",
      "source": [
        "# Зададим значения параметров\n",
        "BUFFER_SIZE = len(input_tensor_train)\n",
        "BATCH_SIZE = 64\n",
        "steps_per_epoch = len(input_tensor_train)//BATCH_SIZE\n",
        "embedding_dim = 300\n",
        "units = 1024\n",
        "vocab_inp_size = len(inp_lang.word_index)+1\n",
        "vocab_tar_size = len(targ_lang.word_index)+1\n",
        "\n",
        "# Теперь создаем датасет\n",
        "dataset = tf.data.Dataset.from_tensor_slices((input_tensor_train, target_tensor_train)).shuffle(BUFFER_SIZE)\n",
        "\n",
        "# Делим на батчи и параметром drop_reminder убираем лишний батч мЕньшего размера, если при разбиении такой образуется\n",
        "dataset = dataset.batch(BATCH_SIZE, drop_remainder=True)"
      ],
      "metadata": {
        "id": "-H3T-WpXA2w-"
      },
      "execution_count": 15,
      "outputs": []
    },
    {
      "cell_type": "code",
      "source": [
        "example_input_batch, example_target_batch = next(iter(dataset))\n",
        "example_input_batch.shape, example_target_batch.shape"
      ],
      "metadata": {
        "colab": {
          "base_uri": "https://localhost:8080/"
        },
        "id": "jYu2Rz1DA6Dd",
        "outputId": "3613f5f4-6bc4-429f-abcc-17756a163ce9"
      },
      "execution_count": 16,
      "outputs": [
        {
          "output_type": "execute_result",
          "data": {
            "text/plain": [
              "(TensorShape([64, 15]), TensorShape([64, 11]))"
            ]
          },
          "metadata": {},
          "execution_count": 16
        }
      ]
    },
    {
      "cell_type": "markdown",
      "source": [
        "Модель машинного перевода (без внимания)"
      ],
      "metadata": {
        "id": "f3Iwq2ahA9Yh"
      }
    },
    {
      "cell_type": "code",
      "source": [
        "'''1 ЭТАП - ENCODER'''\n",
        "\n",
        "class Encoder(tf.keras.Model):\n",
        "    def __init__(self, vocab_size, embedding_dim, enc_units, batch_sz):\n",
        "      super(Encoder, self).__init__()\n",
        "\n",
        "      self.batch_sz = batch_sz\n",
        "      self.enc_units = enc_units\n",
        "      self.embedding = tf.keras.layers.Embedding(vocab_size, embedding_dim)\n",
        "      self.gru = tf.keras.layers.GRU(self.enc_units,\n",
        "                                    return_sequences=False,\n",
        "                                    return_state=True,\n",
        "                                    recurrent_initializer='glorot_uniform')\n",
        "\n",
        "\n",
        "    def call(self, x, hidden):\n",
        "      x = self.embedding(x)\n",
        "      output, state = self.gru(x, initial_state = hidden)\n",
        "      # print(f'Output_shape: {output.shape}, State_shape: {state.shape}') # они будут одинаковые\n",
        "      return state\n",
        "\n",
        "    def initialize_hidden_state(self):\n",
        "      #создаем тензор из нулей размера (батч, кол-во ячеек)- скрытое состояние, которое будет входить в первый узел будет нулевым\n",
        "      return tf.zeros((self.batch_sz, self.enc_units))"
      ],
      "metadata": {
        "id": "S8J6hPrsA6o0"
      },
      "execution_count": 17,
      "outputs": []
    },
    {
      "cell_type": "code",
      "source": [
        "encoder = Encoder(vocab_inp_size, embedding_dim, units, BATCH_SIZE)\n",
        "\n",
        "# инициализитеруем начальное скрытое состояние (из нулей)\n",
        "sample_hidden = encoder.initialize_hidden_state()\n",
        "\n",
        "# применяем энкодер (к входному батчу и скрытому состоянию) - получаем конечное выходное скрытое состояние\n",
        "sample_hidden = encoder(example_input_batch, sample_hidden)\n",
        "\n",
        "# print ('Форма выхода энкодера: (batch size, sequence length, units) {}'.format(sample_output.shape))\n",
        "print ('Encoder Hidden state shape: (batch size, units) {}'.format(sample_hidden.shape))"
      ],
      "metadata": {
        "colab": {
          "base_uri": "https://localhost:8080/"
        },
        "id": "ILbXDTPsBLAW",
        "outputId": "644b2a80-f729-4050-c15d-848c2935bf92"
      },
      "execution_count": 18,
      "outputs": [
        {
          "output_type": "stream",
          "name": "stdout",
          "text": [
            "Encoder Hidden state shape: (batch size, units) (64, 1024)\n"
          ]
        }
      ]
    },
    {
      "cell_type": "code",
      "source": [
        "'''2 ЭТАП - DECODER'''\n",
        "\n",
        "class Decoder(tf.keras.Model):\n",
        "    def __init__(self, vocab_size, embedding_dim, dec_units, batch_sz):\n",
        "        super(Decoder, self).__init__()\n",
        "        self.batch_sz = batch_sz\n",
        "        self.dec_units = dec_units\n",
        "        self.embedding = tf.keras.layers.Embedding(vocab_size, embedding_dim)\n",
        "        self.gru = tf.keras.layers.GRU(self.dec_units,\n",
        "                                       return_sequences=True,\n",
        "                                       return_state=True,\n",
        "                                       recurrent_initializer='glorot_uniform')\n",
        "        self.fc = tf.keras.layers.Dense(vocab_size)\n",
        "\n",
        "    def call(self, x, hidden):\n",
        "        # x shape после прохождения через эмбеддинг == (batch_size, 1, embedding_dim)\n",
        "        x = self.embedding(x)\n",
        "\n",
        "        # отправляем в GRU входные данные и скрытое состояние (от энкодера)\n",
        "        #выход GRU (batch_size, timesteps, units)\n",
        "        #размер возвращаемого внутреннего состояния (batch_size, units)\n",
        "        output, state = self.gru(x, initial_state=hidden)\n",
        "\n",
        "        # output shape == (batch_size * 1, hidden_size)\n",
        "        output = tf.reshape(output, (-1, output.shape[2]))\n",
        "\n",
        "        # x shape == (batch_size, vocab)\n",
        "        x = self.fc(output)\n",
        "\n",
        "        return x, state"
      ],
      "metadata": {
        "id": "4RuAkwG3A_BN"
      },
      "execution_count": 19,
      "outputs": []
    },
    {
      "cell_type": "code",
      "source": [
        "decoder = Decoder(vocab_tar_size, embedding_dim, units, BATCH_SIZE)\n",
        "\n",
        "#применяем декодер к случайному батчу из равномерного распределения (размер: батч,1) и выходу энкодера\n",
        "decoder_sample_x, decoder_sample_h = decoder(tf.random.uniform((BATCH_SIZE, 1)), sample_hidden)\n",
        "decoder_sample_x.shape, decoder_sample_h.shape"
      ],
      "metadata": {
        "colab": {
          "base_uri": "https://localhost:8080/"
        },
        "id": "pwqs38Q0BPAW",
        "outputId": "224ebd29-9949-4f23-e9a5-6dfd6a0a5fa9"
      },
      "execution_count": 20,
      "outputs": [
        {
          "output_type": "execute_result",
          "data": {
            "text/plain": [
              "(TensorShape([64, 7334]), TensorShape([64, 1024]))"
            ]
          },
          "metadata": {},
          "execution_count": 20
        }
      ]
    },
    {
      "cell_type": "markdown",
      "source": [
        "Подготовка и обучение модели"
      ],
      "metadata": {
        "id": "1rNIk3TXBUCr"
      }
    },
    {
      "cell_type": "code",
      "source": [
        "'''КОМПИЛЯЦИЯ'''\n",
        "\n",
        "# оптимизатор\n",
        "optimizer = tf.keras.optimizers.Adam()\n",
        "\n",
        "loss_object = tf.keras.losses.SparseCategoricalCrossentropy(\n",
        "    from_logits=True, reduction='none')\n",
        "\n",
        "# функция потерь\n",
        "# здесь важно сделать так, чтобы через токены маски (0) не проходил градиент\n",
        "def loss_function(real, pred): \n",
        "\n",
        "    #делаем инверсию значений сравнения каждого из real с нулем (возвращается true, если 0 или false, если не 0), где 0 - это максирующий токен \n",
        "    mask = tf.math.logical_not(tf.math.equal(real, 0))\n",
        "\n",
        "    #применяем функцию ошибок к реальным данным и предсказанным\n",
        "    loss_ = loss_object(real, pred)\n",
        "\n",
        "    #приводим тензор mask к новому типу loss_.dtype\n",
        "    mask = tf.cast(mask, dtype=loss_.dtype)\n",
        "\n",
        "    #умножаем loss_ на mask\n",
        "    loss_ *= mask\n",
        "\n",
        "    # возвращаем среднее значениe всех элементов\n",
        "    return tf.reduce_mean(loss_)"
      ],
      "metadata": {
        "id": "Xwo3xe_1BSN2"
      },
      "execution_count": 21,
      "outputs": []
    },
    {
      "cell_type": "code",
      "source": [
        "'''CHECKPOINT'''\n",
        "\n",
        "checkpoint_dir = './training_nmt_checkpoints'\n",
        "\n",
        "checkpoint_prefix = os.path.join(checkpoint_dir, \"ckpt\")\n",
        "\n",
        "checkpoint = tf.train.Checkpoint(optimizer=optimizer,\n",
        "                                 encoder=encoder,\n",
        "                                 decoder=decoder)"
      ],
      "metadata": {
        "id": "AJyWN4eoBV6G"
      },
      "execution_count": 22,
      "outputs": []
    },
    {
      "cell_type": "code",
      "source": [
        "@tf.function\n",
        "def train_step(inp, targ, enc_hidden):\n",
        "    loss = 0\n",
        "    # перечисляем операции для автоматического дифференцирования\n",
        "    with tf.GradientTape() as tape:\n",
        "\n",
        "        # получаем выход encoder\n",
        "        enc_hidden = encoder(inp, enc_hidden)\n",
        "\n",
        "        # помещаем его в скрытое состояние decoder\n",
        "        dec_hidden = enc_hidden\n",
        "\n",
        "        # формируем вход декодера:\n",
        "\n",
        "        # берем список длины батч из индексов тега <start> (1)\n",
        "        # приписываем списку размерность 1 сзади (батч, 1)\n",
        "        dec_input = tf.expand_dims([targ_lang.word_index['<start>']] * BATCH_SIZE, 1)\n",
        "\n",
        "        # Teacher forcing - выводим target в качестве следующего входа\n",
        "        for t in range(1, targ.shape[1]):\n",
        "          # помещаем enc_output в decoder\n",
        "          predictions, dec_hidden = decoder(dec_input, dec_hidden)\n",
        "\n",
        "          # считаем функцию потерь \n",
        "          loss += loss_function(targ[:, t], predictions)\n",
        "\n",
        "          # используем teacher forcing (приписываем списку размерность 1 сзади)\n",
        "          # посылаем dec_input на вход декордера \n",
        "          dec_input = tf.expand_dims(targ[:, t], 1)\n",
        "\n",
        "    batch_loss = (loss / int(targ.shape[1]))\n",
        "\n",
        "    #переменные\n",
        "    variables = encoder.trainable_variables + decoder.trainable_variables\n",
        "\n",
        "    #вычисляем градиенты loss по variables\n",
        "    gradients = tape.gradient(loss, variables)\n",
        "    \n",
        "    #оптимизатор применяет подсчитанные градиенты\n",
        "    optimizer.apply_gradients(zip(gradients, variables))\n",
        "\n",
        "    return batch_loss"
      ],
      "metadata": {
        "id": "hbKOBpVFBV80"
      },
      "execution_count": 23,
      "outputs": []
    },
    {
      "cell_type": "code",
      "source": [
        "EPOCHS = 50\n",
        "\n",
        "# Идем по эпохам и считаем loss\n",
        "for epoch in range(EPOCHS):\n",
        "    start = time.time()\n",
        "\n",
        "    # инициализируем входное скрытое состояние (из нулей) размера (батч, кол-во рекуррентных ячеек)\n",
        "    enc_hidden = encoder.initialize_hidden_state()\n",
        "    total_loss = 0\n",
        "\n",
        "    for (batch, (inp, targ)) in enumerate(dataset.take(steps_per_epoch)):\n",
        "\n",
        "        # делаем шаг обучения. находим ошибку по батчу\n",
        "        batch_loss = train_step(inp, targ, enc_hidden)\n",
        "\n",
        "        # считаем накопленный ошибку\n",
        "        total_loss += batch_loss\n",
        "\n",
        "        if batch % 100 == 0:\n",
        "            print('Epoch {} Batch {} Loss {:.4f}'.format(epoch + 1,\n",
        "                                                       batch,\n",
        "                                                       batch_loss.numpy()))\n",
        "    # saving (checkpoint) the model every 2 epochs\n",
        "    if (epoch + 1) % 2 == 0:\n",
        "        checkpoint.save(file_prefix = checkpoint_prefix)\n",
        "    # выводим лосс по каждой эпохе и время \n",
        "    print('Epoch {} Loss {:.4f}'.format(epoch + 1,\n",
        "                                      total_loss / steps_per_epoch))\n",
        "    print('Time taken for 1 epoch {} sec\\n'.format(time.time() - start))"
      ],
      "metadata": {
        "colab": {
          "base_uri": "https://localhost:8080/"
        },
        "id": "08SSEGZ2BV_h",
        "outputId": "8be1ecaf-463e-460d-d0ab-58855ab266df"
      },
      "execution_count": null,
      "outputs": [
        {
          "output_type": "stream",
          "name": "stdout",
          "text": [
            "Epoch 1 Batch 0 Loss 4.7662\n",
            "Epoch 1 Batch 100 Loss 1.8548\n",
            "Epoch 1 Batch 200 Loss 1.7763\n",
            "Epoch 1 Batch 300 Loss 1.7934\n",
            "Epoch 1 Batch 400 Loss 1.5479\n",
            "Epoch 1 Batch 500 Loss 1.5184\n",
            "Epoch 1 Batch 600 Loss 1.5031\n",
            "Epoch 1 Batch 700 Loss 1.4264\n",
            "Epoch 1 Batch 800 Loss 1.2629\n",
            "Epoch 1 Batch 900 Loss 1.2345\n",
            "Epoch 1 Batch 1000 Loss 1.2667\n",
            "Epoch 1 Batch 1100 Loss 1.1998\n",
            "Epoch 1 Batch 1200 Loss 1.0692\n",
            "Epoch 1 Loss 1.5148\n",
            "Time taken for 1 epoch 68.04487085342407 sec\n",
            "\n",
            "Epoch 2 Batch 0 Loss 0.9822\n",
            "Epoch 2 Batch 100 Loss 1.0644\n",
            "Epoch 2 Batch 200 Loss 1.0142\n",
            "Epoch 2 Batch 300 Loss 0.9167\n",
            "Epoch 2 Batch 400 Loss 0.8626\n",
            "Epoch 2 Batch 500 Loss 0.8896\n",
            "Epoch 2 Batch 600 Loss 0.8197\n",
            "Epoch 2 Batch 700 Loss 0.7925\n",
            "Epoch 2 Batch 800 Loss 0.7492\n",
            "Epoch 2 Batch 900 Loss 0.8843\n",
            "Epoch 2 Batch 1000 Loss 0.7642\n",
            "Epoch 2 Batch 1100 Loss 0.7826\n",
            "Epoch 2 Batch 1200 Loss 0.8597\n",
            "Epoch 2 Loss 0.8688\n",
            "Time taken for 1 epoch 58.54895567893982 sec\n",
            "\n",
            "Epoch 3 Batch 0 Loss 0.4975\n",
            "Epoch 3 Batch 100 Loss 0.6021\n",
            "Epoch 3 Batch 200 Loss 0.5441\n",
            "Epoch 3 Batch 300 Loss 0.5787\n",
            "Epoch 3 Batch 400 Loss 0.5309\n",
            "Epoch 3 Batch 500 Loss 0.5719\n",
            "Epoch 3 Batch 600 Loss 0.5160\n",
            "Epoch 3 Batch 700 Loss 0.5610\n",
            "Epoch 3 Batch 800 Loss 0.4765\n",
            "Epoch 3 Batch 900 Loss 0.4965\n",
            "Epoch 3 Batch 1000 Loss 0.4855\n",
            "Epoch 3 Batch 1100 Loss 0.4933\n",
            "Epoch 3 Batch 1200 Loss 0.4503\n",
            "Epoch 3 Loss 0.5314\n",
            "Time taken for 1 epoch 57.715161085128784 sec\n",
            "\n",
            "Epoch 4 Batch 0 Loss 0.3688\n",
            "Epoch 4 Batch 100 Loss 0.3011\n",
            "Epoch 4 Batch 200 Loss 0.3127\n",
            "Epoch 4 Batch 300 Loss 0.2973\n",
            "Epoch 4 Batch 400 Loss 0.3414\n",
            "Epoch 4 Batch 500 Loss 0.3452\n",
            "Epoch 4 Batch 600 Loss 0.3823\n",
            "Epoch 4 Batch 700 Loss 0.2902\n",
            "Epoch 4 Batch 800 Loss 0.2971\n",
            "Epoch 4 Batch 900 Loss 0.2846\n",
            "Epoch 4 Batch 1000 Loss 0.3251\n",
            "Epoch 4 Batch 1100 Loss 0.3935\n",
            "Epoch 4 Batch 1200 Loss 0.2839\n",
            "Epoch 4 Loss 0.3305\n",
            "Time taken for 1 epoch 58.40833234786987 sec\n",
            "\n",
            "Epoch 5 Batch 0 Loss 0.2440\n",
            "Epoch 5 Batch 100 Loss 0.1772\n",
            "Epoch 5 Batch 200 Loss 0.1853\n",
            "Epoch 5 Batch 300 Loss 0.2207\n",
            "Epoch 5 Batch 400 Loss 0.2246\n",
            "Epoch 5 Batch 500 Loss 0.2418\n",
            "Epoch 5 Batch 600 Loss 0.2600\n",
            "Epoch 5 Batch 700 Loss 0.2416\n",
            "Epoch 5 Batch 800 Loss 0.2160\n",
            "Epoch 5 Batch 900 Loss 0.2108\n",
            "Epoch 5 Batch 1000 Loss 0.1886\n",
            "Epoch 5 Batch 1100 Loss 0.2418\n",
            "Epoch 5 Batch 1200 Loss 0.2493\n",
            "Epoch 5 Loss 0.2201\n",
            "Time taken for 1 epoch 57.88272738456726 sec\n",
            "\n",
            "Epoch 6 Batch 0 Loss 0.1967\n",
            "Epoch 6 Batch 100 Loss 0.0957\n",
            "Epoch 6 Batch 200 Loss 0.1815\n",
            "Epoch 6 Batch 300 Loss 0.1430\n",
            "Epoch 6 Batch 400 Loss 0.1659\n",
            "Epoch 6 Batch 500 Loss 0.1405\n",
            "Epoch 6 Batch 600 Loss 0.1765\n",
            "Epoch 6 Batch 700 Loss 0.1509\n",
            "Epoch 6 Batch 800 Loss 0.1128\n",
            "Epoch 6 Batch 900 Loss 0.1987\n",
            "Epoch 6 Batch 1000 Loss 0.1837\n",
            "Epoch 6 Batch 1100 Loss 0.2147\n",
            "Epoch 6 Batch 1200 Loss 0.1341\n",
            "Epoch 6 Loss 0.1606\n",
            "Time taken for 1 epoch 58.5045485496521 sec\n",
            "\n",
            "Epoch 7 Batch 0 Loss 0.0853\n",
            "Epoch 7 Batch 100 Loss 0.0881\n",
            "Epoch 7 Batch 200 Loss 0.0736\n",
            "Epoch 7 Batch 300 Loss 0.0954\n",
            "Epoch 7 Batch 400 Loss 0.1104\n",
            "Epoch 7 Batch 500 Loss 0.1281\n",
            "Epoch 7 Batch 600 Loss 0.1703\n",
            "Epoch 7 Batch 700 Loss 0.1533\n",
            "Epoch 7 Batch 800 Loss 0.1101\n",
            "Epoch 7 Batch 900 Loss 0.1389\n",
            "Epoch 7 Batch 1000 Loss 0.1765\n",
            "Epoch 7 Batch 1100 Loss 0.1369\n",
            "Epoch 7 Batch 1200 Loss 0.1336\n",
            "Epoch 7 Loss 0.1263\n",
            "Time taken for 1 epoch 57.958664894104004 sec\n",
            "\n",
            "Epoch 8 Batch 0 Loss 0.0804\n",
            "Epoch 8 Batch 100 Loss 0.0859\n",
            "Epoch 8 Batch 200 Loss 0.0723\n",
            "Epoch 8 Batch 300 Loss 0.1061\n",
            "Epoch 8 Batch 400 Loss 0.1011\n",
            "Epoch 8 Batch 500 Loss 0.0782\n",
            "Epoch 8 Batch 600 Loss 0.1165\n",
            "Epoch 8 Batch 700 Loss 0.0750\n",
            "Epoch 8 Batch 800 Loss 0.0798\n",
            "Epoch 8 Batch 900 Loss 0.1254\n",
            "Epoch 8 Batch 1000 Loss 0.1379\n",
            "Epoch 8 Batch 1100 Loss 0.1162\n",
            "Epoch 8 Batch 1200 Loss 0.0940\n",
            "Epoch 8 Loss 0.1070\n",
            "Time taken for 1 epoch 58.54788064956665 sec\n",
            "\n",
            "Epoch 9 Batch 0 Loss 0.0664\n",
            "Epoch 9 Batch 100 Loss 0.0926\n",
            "Epoch 9 Batch 200 Loss 0.1077\n",
            "Epoch 9 Batch 300 Loss 0.1192\n",
            "Epoch 9 Batch 400 Loss 0.0775\n",
            "Epoch 9 Batch 500 Loss 0.0932\n",
            "Epoch 9 Batch 600 Loss 0.0906\n",
            "Epoch 9 Batch 700 Loss 0.1070\n",
            "Epoch 9 Batch 800 Loss 0.1392\n",
            "Epoch 9 Batch 900 Loss 0.1399\n",
            "Epoch 9 Batch 1000 Loss 0.1011\n",
            "Epoch 9 Batch 1100 Loss 0.0660\n",
            "Epoch 9 Batch 1200 Loss 0.1047\n",
            "Epoch 9 Loss 0.0970\n",
            "Time taken for 1 epoch 57.97234320640564 sec\n",
            "\n",
            "Epoch 10 Batch 0 Loss 0.0721\n",
            "Epoch 10 Batch 100 Loss 0.0460\n",
            "Epoch 10 Batch 200 Loss 0.0511\n",
            "Epoch 10 Batch 300 Loss 0.0657\n",
            "Epoch 10 Batch 400 Loss 0.0942\n",
            "Epoch 10 Batch 500 Loss 0.0726\n",
            "Epoch 10 Batch 600 Loss 0.0762\n",
            "Epoch 10 Batch 700 Loss 0.0824\n",
            "Epoch 10 Batch 800 Loss 0.0664\n",
            "Epoch 10 Batch 900 Loss 0.0887\n",
            "Epoch 10 Batch 1000 Loss 0.1075\n",
            "Epoch 10 Batch 1100 Loss 0.0746\n",
            "Epoch 10 Batch 1200 Loss 0.1024\n",
            "Epoch 10 Loss 0.0893\n",
            "Time taken for 1 epoch 58.54808831214905 sec\n",
            "\n",
            "Epoch 11 Batch 0 Loss 0.0644\n",
            "Epoch 11 Batch 100 Loss 0.1082\n",
            "Epoch 11 Batch 200 Loss 0.0590\n",
            "Epoch 11 Batch 300 Loss 0.0982\n",
            "Epoch 11 Batch 400 Loss 0.0767\n",
            "Epoch 11 Batch 500 Loss 0.0863\n",
            "Epoch 11 Batch 600 Loss 0.0626\n",
            "Epoch 11 Batch 700 Loss 0.1061\n",
            "Epoch 11 Batch 800 Loss 0.0920\n",
            "Epoch 11 Batch 900 Loss 0.0665\n",
            "Epoch 11 Batch 1000 Loss 0.0803\n",
            "Epoch 11 Batch 1100 Loss 0.0779\n",
            "Epoch 11 Batch 1200 Loss 0.0529\n",
            "Epoch 11 Loss 0.0832\n",
            "Time taken for 1 epoch 58.00229477882385 sec\n",
            "\n",
            "Epoch 12 Batch 0 Loss 0.0723\n",
            "Epoch 12 Batch 100 Loss 0.0441\n",
            "Epoch 12 Batch 200 Loss 0.0646\n",
            "Epoch 12 Batch 300 Loss 0.0840\n",
            "Epoch 12 Batch 400 Loss 0.0608\n",
            "Epoch 12 Batch 500 Loss 0.0603\n",
            "Epoch 12 Batch 600 Loss 0.0705\n",
            "Epoch 12 Batch 700 Loss 0.0713\n",
            "Epoch 12 Batch 800 Loss 0.0422\n",
            "Epoch 12 Batch 900 Loss 0.1056\n",
            "Epoch 12 Batch 1000 Loss 0.1112\n",
            "Epoch 12 Batch 1100 Loss 0.1154\n",
            "Epoch 12 Batch 1200 Loss 0.0836\n",
            "Epoch 12 Loss 0.0802\n",
            "Time taken for 1 epoch 58.52101445198059 sec\n",
            "\n",
            "Epoch 13 Batch 0 Loss 0.0735\n",
            "Epoch 13 Batch 100 Loss 0.0676\n",
            "Epoch 13 Batch 200 Loss 0.0584\n",
            "Epoch 13 Batch 300 Loss 0.0733\n",
            "Epoch 13 Batch 400 Loss 0.0865\n",
            "Epoch 13 Batch 500 Loss 0.0595\n",
            "Epoch 13 Batch 600 Loss 0.0927\n",
            "Epoch 13 Batch 700 Loss 0.1051\n",
            "Epoch 13 Batch 800 Loss 0.1262\n",
            "Epoch 13 Batch 900 Loss 0.1054\n",
            "Epoch 13 Batch 1000 Loss 0.0958\n",
            "Epoch 13 Batch 1100 Loss 0.0853\n",
            "Epoch 13 Batch 1200 Loss 0.1134\n",
            "Epoch 13 Loss 0.0766\n",
            "Time taken for 1 epoch 57.966331005096436 sec\n",
            "\n",
            "Epoch 14 Batch 0 Loss 0.0339\n",
            "Epoch 14 Batch 100 Loss 0.0696\n",
            "Epoch 14 Batch 200 Loss 0.0472\n",
            "Epoch 14 Batch 300 Loss 0.0442\n",
            "Epoch 14 Batch 400 Loss 0.0337\n",
            "Epoch 14 Batch 500 Loss 0.0646\n",
            "Epoch 14 Batch 600 Loss 0.0701\n",
            "Epoch 14 Batch 700 Loss 0.0660\n",
            "Epoch 14 Batch 800 Loss 0.1060\n",
            "Epoch 14 Batch 900 Loss 0.0733\n",
            "Epoch 14 Batch 1000 Loss 0.0682\n",
            "Epoch 14 Batch 1100 Loss 0.1125\n",
            "Epoch 14 Batch 1200 Loss 0.1017\n",
            "Epoch 14 Loss 0.0747\n",
            "Time taken for 1 epoch 58.515795946121216 sec\n",
            "\n",
            "Epoch 15 Batch 0 Loss 0.0525\n",
            "Epoch 15 Batch 100 Loss 0.0634\n",
            "Epoch 15 Batch 200 Loss 0.0578\n",
            "Epoch 15 Batch 300 Loss 0.0730\n",
            "Epoch 15 Batch 400 Loss 0.0876\n",
            "Epoch 15 Batch 500 Loss 0.0754\n",
            "Epoch 15 Batch 600 Loss 0.0780\n",
            "Epoch 15 Batch 700 Loss 0.0469\n",
            "Epoch 15 Batch 800 Loss 0.0724\n",
            "Epoch 15 Batch 900 Loss 0.0853\n",
            "Epoch 15 Batch 1000 Loss 0.0860\n",
            "Epoch 15 Batch 1100 Loss 0.0737\n",
            "Epoch 15 Batch 1200 Loss 0.0948\n",
            "Epoch 15 Loss 0.0718\n",
            "Time taken for 1 epoch 57.9629180431366 sec\n",
            "\n",
            "Epoch 16 Batch 0 Loss 0.0564\n",
            "Epoch 16 Batch 100 Loss 0.0285\n",
            "Epoch 16 Batch 200 Loss 0.0353\n",
            "Epoch 16 Batch 300 Loss 0.0675\n",
            "Epoch 16 Batch 400 Loss 0.0653\n",
            "Epoch 16 Batch 500 Loss 0.1167\n",
            "Epoch 16 Batch 600 Loss 0.0732\n",
            "Epoch 16 Batch 700 Loss 0.0796\n",
            "Epoch 16 Batch 800 Loss 0.0983\n",
            "Epoch 16 Batch 900 Loss 0.0891\n",
            "Epoch 16 Batch 1000 Loss 0.0578\n",
            "Epoch 16 Batch 1100 Loss 0.1175\n",
            "Epoch 16 Batch 1200 Loss 0.1240\n",
            "Epoch 16 Loss 0.0714\n",
            "Time taken for 1 epoch 58.443464040756226 sec\n",
            "\n",
            "Epoch 17 Batch 0 Loss 0.0622\n",
            "Epoch 17 Batch 100 Loss 0.0652\n",
            "Epoch 17 Batch 200 Loss 0.0560\n",
            "Epoch 17 Batch 300 Loss 0.0449\n",
            "Epoch 17 Batch 400 Loss 0.0786\n",
            "Epoch 17 Batch 500 Loss 0.0747\n",
            "Epoch 17 Batch 600 Loss 0.0955\n",
            "Epoch 17 Batch 700 Loss 0.0497\n",
            "Epoch 17 Batch 800 Loss 0.0884\n",
            "Epoch 17 Batch 900 Loss 0.0997\n",
            "Epoch 17 Batch 1000 Loss 0.0761\n",
            "Epoch 17 Batch 1100 Loss 0.0487\n",
            "Epoch 17 Batch 1200 Loss 0.0818\n",
            "Epoch 17 Loss 0.0690\n",
            "Time taken for 1 epoch 57.92206406593323 sec\n",
            "\n",
            "Epoch 18 Batch 0 Loss 0.0574\n",
            "Epoch 18 Batch 100 Loss 0.0535\n",
            "Epoch 18 Batch 200 Loss 0.0605\n",
            "Epoch 18 Batch 300 Loss 0.0690\n",
            "Epoch 18 Batch 400 Loss 0.0618\n",
            "Epoch 18 Batch 500 Loss 0.0662\n",
            "Epoch 18 Batch 600 Loss 0.1169\n",
            "Epoch 18 Batch 700 Loss 0.0823\n",
            "Epoch 18 Batch 800 Loss 0.0740\n",
            "Epoch 18 Batch 900 Loss 0.0785\n",
            "Epoch 18 Batch 1000 Loss 0.0592\n",
            "Epoch 18 Batch 1100 Loss 0.0958\n",
            "Epoch 18 Batch 1200 Loss 0.0492\n",
            "Epoch 18 Loss 0.0672\n",
            "Time taken for 1 epoch 58.496079444885254 sec\n",
            "\n",
            "Epoch 19 Batch 0 Loss 0.0306\n",
            "Epoch 19 Batch 100 Loss 0.0761\n",
            "Epoch 19 Batch 200 Loss 0.0465\n",
            "Epoch 19 Batch 300 Loss 0.0449\n",
            "Epoch 19 Batch 400 Loss 0.0557\n",
            "Epoch 19 Batch 500 Loss 0.0423\n",
            "Epoch 19 Batch 600 Loss 0.0315\n",
            "Epoch 19 Batch 700 Loss 0.0867\n",
            "Epoch 19 Batch 800 Loss 0.0444\n",
            "Epoch 19 Batch 900 Loss 0.1069\n",
            "Epoch 19 Batch 1000 Loss 0.0802\n",
            "Epoch 19 Batch 1100 Loss 0.0778\n",
            "Epoch 19 Batch 1200 Loss 0.0796\n",
            "Epoch 19 Loss 0.0658\n",
            "Time taken for 1 epoch 57.973737955093384 sec\n",
            "\n",
            "Epoch 20 Batch 0 Loss 0.0226\n",
            "Epoch 20 Batch 100 Loss 0.0426\n",
            "Epoch 20 Batch 200 Loss 0.0612\n",
            "Epoch 20 Batch 300 Loss 0.0358\n",
            "Epoch 20 Batch 400 Loss 0.0569\n",
            "Epoch 20 Batch 500 Loss 0.0576\n",
            "Epoch 20 Batch 600 Loss 0.0718\n",
            "Epoch 20 Batch 700 Loss 0.0863\n",
            "Epoch 20 Batch 800 Loss 0.0539\n",
            "Epoch 20 Batch 900 Loss 0.0491\n",
            "Epoch 20 Batch 1000 Loss 0.0420\n",
            "Epoch 20 Batch 1100 Loss 0.0690\n",
            "Epoch 20 Batch 1200 Loss 0.0916\n",
            "Epoch 20 Loss 0.0647\n",
            "Time taken for 1 epoch 58.538928747177124 sec\n",
            "\n",
            "Epoch 21 Batch 0 Loss 0.0421\n",
            "Epoch 21 Batch 100 Loss 0.0592\n",
            "Epoch 21 Batch 200 Loss 0.0363\n",
            "Epoch 21 Batch 300 Loss 0.0326\n",
            "Epoch 21 Batch 400 Loss 0.0546\n",
            "Epoch 21 Batch 500 Loss 0.0751\n",
            "Epoch 21 Batch 600 Loss 0.0777\n",
            "Epoch 21 Batch 700 Loss 0.0668\n",
            "Epoch 21 Batch 800 Loss 0.0944\n",
            "Epoch 21 Batch 900 Loss 0.0622\n",
            "Epoch 21 Batch 1000 Loss 0.0788\n",
            "Epoch 21 Batch 1100 Loss 0.0796\n",
            "Epoch 21 Batch 1200 Loss 0.0672\n",
            "Epoch 21 Loss 0.0640\n",
            "Time taken for 1 epoch 58.01103186607361 sec\n",
            "\n",
            "Epoch 22 Batch 0 Loss 0.0623\n",
            "Epoch 22 Batch 100 Loss 0.0216\n",
            "Epoch 22 Batch 200 Loss 0.0717\n",
            "Epoch 22 Batch 300 Loss 0.0531\n",
            "Epoch 22 Batch 400 Loss 0.0417\n",
            "Epoch 22 Batch 500 Loss 0.0792\n",
            "Epoch 22 Batch 600 Loss 0.0558\n",
            "Epoch 22 Batch 700 Loss 0.0877\n",
            "Epoch 22 Batch 800 Loss 0.0529\n",
            "Epoch 22 Batch 900 Loss 0.0676\n",
            "Epoch 22 Batch 1000 Loss 0.0925\n",
            "Epoch 22 Batch 1100 Loss 0.0976\n",
            "Epoch 22 Batch 1200 Loss 0.0797\n",
            "Epoch 22 Loss 0.0628\n",
            "Time taken for 1 epoch 58.596583127975464 sec\n",
            "\n",
            "Epoch 23 Batch 0 Loss 0.0339\n",
            "Epoch 23 Batch 100 Loss 0.0403\n",
            "Epoch 23 Batch 200 Loss 0.0385\n",
            "Epoch 23 Batch 300 Loss 0.0675\n",
            "Epoch 23 Batch 400 Loss 0.0409\n",
            "Epoch 23 Batch 500 Loss 0.0753\n",
            "Epoch 23 Batch 600 Loss 0.0520\n",
            "Epoch 23 Batch 700 Loss 0.0993\n",
            "Epoch 23 Batch 800 Loss 0.0577\n",
            "Epoch 23 Batch 900 Loss 0.0531\n",
            "Epoch 23 Batch 1000 Loss 0.0800\n",
            "Epoch 23 Batch 1100 Loss 0.0677\n",
            "Epoch 23 Batch 1200 Loss 0.0697\n",
            "Epoch 23 Loss 0.0619\n",
            "Time taken for 1 epoch 57.935986042022705 sec\n",
            "\n",
            "Epoch 24 Batch 0 Loss 0.0412\n",
            "Epoch 24 Batch 100 Loss 0.0348\n",
            "Epoch 24 Batch 200 Loss 0.0832\n",
            "Epoch 24 Batch 300 Loss 0.0744\n",
            "Epoch 24 Batch 400 Loss 0.0478\n",
            "Epoch 24 Batch 500 Loss 0.0568\n",
            "Epoch 24 Batch 600 Loss 0.0604\n",
            "Epoch 24 Batch 700 Loss 0.1012\n",
            "Epoch 24 Batch 800 Loss 0.0472\n",
            "Epoch 24 Batch 900 Loss 0.1033\n",
            "Epoch 24 Batch 1000 Loss 0.0562\n",
            "Epoch 24 Batch 1100 Loss 0.0582\n",
            "Epoch 24 Batch 1200 Loss 0.0423\n",
            "Epoch 24 Loss 0.0619\n",
            "Time taken for 1 epoch 58.57320284843445 sec\n",
            "\n",
            "Epoch 25 Batch 0 Loss 0.0522\n",
            "Epoch 25 Batch 100 Loss 0.0369\n",
            "Epoch 25 Batch 200 Loss 0.0317\n",
            "Epoch 25 Batch 300 Loss 0.0249\n",
            "Epoch 25 Batch 400 Loss 0.0907\n",
            "Epoch 25 Batch 500 Loss 0.0537\n",
            "Epoch 25 Batch 600 Loss 0.0418\n",
            "Epoch 25 Batch 700 Loss 0.1067\n",
            "Epoch 25 Batch 800 Loss 0.0845\n",
            "Epoch 25 Batch 900 Loss 0.0767\n",
            "Epoch 25 Batch 1000 Loss 0.0622\n",
            "Epoch 25 Batch 1100 Loss 0.0421\n",
            "Epoch 25 Batch 1200 Loss 0.0755\n",
            "Epoch 25 Loss 0.0598\n",
            "Time taken for 1 epoch 57.971131563186646 sec\n",
            "\n",
            "Epoch 26 Batch 0 Loss 0.0419\n",
            "Epoch 26 Batch 100 Loss 0.0486\n",
            "Epoch 26 Batch 200 Loss 0.0486\n",
            "Epoch 26 Batch 300 Loss 0.0438\n",
            "Epoch 26 Batch 400 Loss 0.0632\n",
            "Epoch 26 Batch 500 Loss 0.0504\n",
            "Epoch 26 Batch 600 Loss 0.0340\n",
            "Epoch 26 Batch 700 Loss 0.0512\n",
            "Epoch 26 Batch 800 Loss 0.0423\n",
            "Epoch 26 Batch 900 Loss 0.0939\n",
            "Epoch 26 Batch 1000 Loss 0.1040\n",
            "Epoch 26 Batch 1100 Loss 0.0948\n",
            "Epoch 26 Batch 1200 Loss 0.0658\n",
            "Epoch 26 Loss 0.0600\n",
            "Time taken for 1 epoch 58.56537628173828 sec\n",
            "\n",
            "Epoch 27 Batch 0 Loss 0.0235\n",
            "Epoch 27 Batch 100 Loss 0.0349\n",
            "Epoch 27 Batch 200 Loss 0.0502\n",
            "Epoch 27 Batch 300 Loss 0.0578\n",
            "Epoch 27 Batch 400 Loss 0.0469\n",
            "Epoch 27 Batch 500 Loss 0.0481\n",
            "Epoch 27 Batch 600 Loss 0.0899\n",
            "Epoch 27 Batch 700 Loss 0.0521\n",
            "Epoch 27 Batch 800 Loss 0.0601\n",
            "Epoch 27 Batch 900 Loss 0.0423\n",
            "Epoch 27 Batch 1000 Loss 0.0756\n",
            "Epoch 27 Batch 1100 Loss 0.0655\n",
            "Epoch 27 Batch 1200 Loss 0.0865\n",
            "Epoch 27 Loss 0.0583\n",
            "Time taken for 1 epoch 57.919926166534424 sec\n",
            "\n",
            "Epoch 28 Batch 0 Loss 0.0764\n",
            "Epoch 28 Batch 100 Loss 0.0742\n",
            "Epoch 28 Batch 200 Loss 0.0720\n",
            "Epoch 28 Batch 300 Loss 0.0347\n",
            "Epoch 28 Batch 400 Loss 0.0523\n",
            "Epoch 28 Batch 500 Loss 0.0659\n",
            "Epoch 28 Batch 600 Loss 0.0344\n",
            "Epoch 28 Batch 700 Loss 0.0423\n",
            "Epoch 28 Batch 800 Loss 0.0398\n",
            "Epoch 28 Batch 900 Loss 0.0282\n",
            "Epoch 28 Batch 1000 Loss 0.0486\n",
            "Epoch 28 Batch 1100 Loss 0.0500\n",
            "Epoch 28 Batch 1200 Loss 0.0723\n",
            "Epoch 28 Loss 0.0580\n",
            "Time taken for 1 epoch 58.53779053688049 sec\n",
            "\n",
            "Epoch 29 Batch 0 Loss 0.0325\n",
            "Epoch 29 Batch 100 Loss 0.0201\n",
            "Epoch 29 Batch 200 Loss 0.0883\n",
            "Epoch 29 Batch 300 Loss 0.0380\n",
            "Epoch 29 Batch 400 Loss 0.0565\n",
            "Epoch 29 Batch 500 Loss 0.0673\n",
            "Epoch 29 Batch 600 Loss 0.0476\n",
            "Epoch 29 Batch 700 Loss 0.0527\n",
            "Epoch 29 Batch 800 Loss 0.0371\n",
            "Epoch 29 Batch 900 Loss 0.0476\n",
            "Epoch 29 Batch 1000 Loss 0.0815\n",
            "Epoch 29 Batch 1100 Loss 0.0551\n",
            "Epoch 29 Batch 1200 Loss 0.0546\n",
            "Epoch 29 Loss 0.0569\n",
            "Time taken for 1 epoch 57.96724224090576 sec\n",
            "\n",
            "Epoch 30 Batch 0 Loss 0.0441\n",
            "Epoch 30 Batch 100 Loss 0.0274\n",
            "Epoch 30 Batch 200 Loss 0.0454\n",
            "Epoch 30 Batch 300 Loss 0.0595\n",
            "Epoch 30 Batch 400 Loss 0.0836\n",
            "Epoch 30 Batch 500 Loss 0.0502\n",
            "Epoch 30 Batch 600 Loss 0.0386\n",
            "Epoch 30 Batch 700 Loss 0.0701\n",
            "Epoch 30 Batch 800 Loss 0.0512\n",
            "Epoch 30 Batch 900 Loss 0.0362\n",
            "Epoch 30 Batch 1000 Loss 0.0598\n",
            "Epoch 30 Batch 1100 Loss 0.0634\n",
            "Epoch 30 Batch 1200 Loss 0.0543\n",
            "Epoch 30 Loss 0.0564\n",
            "Time taken for 1 epoch 58.604578495025635 sec\n",
            "\n",
            "Epoch 31 Batch 0 Loss 0.0500\n",
            "Epoch 31 Batch 100 Loss 0.0611\n",
            "Epoch 31 Batch 200 Loss 0.0482\n",
            "Epoch 31 Batch 300 Loss 0.0374\n",
            "Epoch 31 Batch 400 Loss 0.1030\n",
            "Epoch 31 Batch 500 Loss 0.0872\n",
            "Epoch 31 Batch 600 Loss 0.0601\n",
            "Epoch 31 Batch 700 Loss 0.0665\n",
            "Epoch 31 Batch 800 Loss 0.0532\n",
            "Epoch 31 Batch 900 Loss 0.0650\n",
            "Epoch 31 Batch 1000 Loss 0.0937\n",
            "Epoch 31 Batch 1100 Loss 0.0588\n",
            "Epoch 31 Batch 1200 Loss 0.0472\n",
            "Epoch 31 Loss 0.0560\n",
            "Time taken for 1 epoch 57.92171359062195 sec\n",
            "\n",
            "Epoch 32 Batch 0 Loss 0.0539\n",
            "Epoch 32 Batch 100 Loss 0.0608\n",
            "Epoch 32 Batch 200 Loss 0.0537\n",
            "Epoch 32 Batch 300 Loss 0.0505\n",
            "Epoch 32 Batch 400 Loss 0.0314\n",
            "Epoch 32 Batch 500 Loss 0.0378\n",
            "Epoch 32 Batch 600 Loss 0.0986\n",
            "Epoch 32 Batch 700 Loss 0.0509\n",
            "Epoch 32 Batch 800 Loss 0.0658\n",
            "Epoch 32 Batch 900 Loss 0.0644\n",
            "Epoch 32 Batch 1000 Loss 0.0558\n",
            "Epoch 32 Batch 1100 Loss 0.0609\n",
            "Epoch 32 Batch 1200 Loss 0.1062\n",
            "Epoch 32 Loss 0.0549\n",
            "Time taken for 1 epoch 58.556198835372925 sec\n",
            "\n",
            "Epoch 33 Batch 0 Loss 0.0318\n",
            "Epoch 33 Batch 100 Loss 0.0311\n",
            "Epoch 33 Batch 200 Loss 0.0836\n",
            "Epoch 33 Batch 300 Loss 0.0506\n",
            "Epoch 33 Batch 400 Loss 0.0331\n",
            "Epoch 33 Batch 500 Loss 0.0506\n",
            "Epoch 33 Batch 600 Loss 0.0512\n",
            "Epoch 33 Batch 700 Loss 0.0777\n",
            "Epoch 33 Batch 800 Loss 0.0553\n",
            "Epoch 33 Batch 900 Loss 0.0622\n",
            "Epoch 33 Batch 1000 Loss 0.0637\n",
            "Epoch 33 Batch 1100 Loss 0.0565\n",
            "Epoch 33 Batch 1200 Loss 0.0614\n",
            "Epoch 33 Loss 0.0552\n",
            "Time taken for 1 epoch 57.94069695472717 sec\n",
            "\n",
            "Epoch 34 Batch 0 Loss 0.0543\n",
            "Epoch 34 Batch 100 Loss 0.0499\n",
            "Epoch 34 Batch 200 Loss 0.0520\n",
            "Epoch 34 Batch 300 Loss 0.0482\n",
            "Epoch 34 Batch 400 Loss 0.0468\n",
            "Epoch 34 Batch 500 Loss 0.0681\n",
            "Epoch 34 Batch 600 Loss 0.0651\n",
            "Epoch 34 Batch 700 Loss 0.0323\n",
            "Epoch 34 Batch 800 Loss 0.0456\n",
            "Epoch 34 Batch 900 Loss 0.0436\n",
            "Epoch 34 Batch 1000 Loss 0.0605\n",
            "Epoch 34 Batch 1100 Loss 0.0388\n",
            "Epoch 34 Batch 1200 Loss 0.0685\n",
            "Epoch 34 Loss 0.0543\n",
            "Time taken for 1 epoch 58.58831167221069 sec\n",
            "\n",
            "Epoch 35 Batch 0 Loss 0.0402\n",
            "Epoch 35 Batch 100 Loss 0.0263\n",
            "Epoch 35 Batch 200 Loss 0.0207\n",
            "Epoch 35 Batch 300 Loss 0.0359\n",
            "Epoch 35 Batch 400 Loss 0.0836\n",
            "Epoch 35 Batch 500 Loss 0.0460\n",
            "Epoch 35 Batch 600 Loss 0.0185\n",
            "Epoch 35 Batch 700 Loss 0.0392\n",
            "Epoch 35 Batch 800 Loss 0.0570\n",
            "Epoch 35 Batch 900 Loss 0.0529\n",
            "Epoch 35 Batch 1000 Loss 0.0467\n",
            "Epoch 35 Batch 1100 Loss 0.0535\n",
            "Epoch 35 Batch 1200 Loss 0.0702\n",
            "Epoch 35 Loss 0.0522\n",
            "Time taken for 1 epoch 58.015857219696045 sec\n",
            "\n",
            "Epoch 36 Batch 0 Loss 0.0593\n",
            "Epoch 36 Batch 100 Loss 0.0306\n",
            "Epoch 36 Batch 200 Loss 0.0290\n",
            "Epoch 36 Batch 300 Loss 0.0753\n",
            "Epoch 36 Batch 400 Loss 0.0446\n",
            "Epoch 36 Batch 500 Loss 0.0504\n",
            "Epoch 36 Batch 600 Loss 0.0417\n",
            "Epoch 36 Batch 700 Loss 0.0642\n"
          ]
        }
      ]
    },
    {
      "cell_type": "code",
      "source": [
        "def evaluate(sentence):\n",
        "    '''\n",
        "    Функция повторяет шаг обучения, но бзе использования teacher forcing. \n",
        "    Входным сигналом для декодера на каждом временном шаге являются его предыдущие предсказания вместе со скрытым состоянием и выходным сигналом энсодера.\n",
        "    '''\n",
        "    #препоцессим предложение\n",
        "    sentence = preprocess_sentence(sentence)\n",
        "    #разбиваем предложение по пробелам и составляем список индексов каждого слова\n",
        "    inputs = [inp_lang.word_index[i] for i in sentence.split(' ')]\n",
        "    #добиваем inputs нулями справа до максимальной длины входного текста\n",
        "    inputs = tf.keras.preprocessing.sequence.pad_sequences([inputs],\n",
        "                                                          maxlen=max_length_inp,\n",
        "                                                          padding='post')\n",
        "    #преобразуем inputs в тензор\n",
        "    inputs = tf.convert_to_tensor(inputs)\n",
        "\n",
        "    result = ''\n",
        "    # инициализируем входной хидден из нулей размера (1, units)\n",
        "    hidden = [tf.zeros((1, units))]\n",
        "    #подаем inputs и hidden в encoder\n",
        "    enc_hidden = encoder(inputs, hidden)\n",
        "\n",
        "    #инициализируем входной хидден декодера -- выходной хидден энкодера\n",
        "    dec_hidden = enc_hidden\n",
        "    #вход декодера -- список [индекс start] размера(1,1)\n",
        "    dec_input = tf.expand_dims([targ_lang.word_index['<start>']], 0)\n",
        "\n",
        "    for t in range(max_length_targ):\n",
        "        #получаем выход декодера\n",
        "        predictions, dec_hidden = decoder(dec_input, dec_hidden)\n",
        "\n",
        "        predicted_id = tf.argmax(predictions[0]).numpy()\n",
        "        result += targ_lang.index_word[predicted_id] + ' '\n",
        "\n",
        "        #заканчиваем на токене end\n",
        "        if targ_lang.index_word[predicted_id] == '<end>':\n",
        "            return result, sentence\n",
        "\n",
        "        # предсказанный predicted ID подаем обратно в декодер (добавляем ось - будет размер (1,1), т к сеть принимает на вход объекты батчами)\n",
        "        dec_input = tf.expand_dims([predicted_id], 0)\n",
        "\n",
        "    return result, sentence"
      ],
      "metadata": {
        "id": "bT-c6jJjBdQn"
      },
      "execution_count": null,
      "outputs": []
    },
    {
      "cell_type": "code",
      "source": [
        "# функция для перевода\n",
        "def translate(sentence):\n",
        "    result, sentence = evaluate(sentence)\n",
        "    print('Input: %s' % (sentence))\n",
        "    print('Predicted translation: {}'.format(result))"
      ],
      "metadata": {
        "id": "WAWlvd5LBgrw"
      },
      "execution_count": null,
      "outputs": []
    },
    {
      "cell_type": "code",
      "source": [
        "# загружаем последний checkpoint из checkpoint_dir\n",
        "\n",
        "checkpoint.restore(tf.train.latest_checkpoint(checkpoint_dir))"
      ],
      "metadata": {
        "id": "u1x2wuxDBiJ5"
      },
      "execution_count": null,
      "outputs": []
    },
    {
      "cell_type": "markdown",
      "source": [
        "Проверяем качество перевода"
      ],
      "metadata": {
        "id": "L64YCYEIBlO5"
      }
    },
    {
      "cell_type": "code",
      "source": [
        "translate('работа')"
      ],
      "metadata": {
        "id": "Ex6Ty28XSj63"
      },
      "execution_count": null,
      "outputs": []
    },
    {
      "cell_type": "code",
      "source": [
        "translate('Хорошая работа')"
      ],
      "metadata": {
        "id": "YId_Q9wXSj64"
      },
      "execution_count": null,
      "outputs": []
    },
    {
      "cell_type": "code",
      "source": [
        "translate('Я люблю работать')"
      ],
      "metadata": {
        "id": "ewsx2RbdSj65"
      },
      "execution_count": null,
      "outputs": []
    },
    {
      "cell_type": "code",
      "source": [
        "translate('Я люблю работать по выходным')"
      ],
      "metadata": {
        "id": "MPF2BhTDSj66"
      },
      "execution_count": null,
      "outputs": []
    },
    {
      "cell_type": "code",
      "source": [
        "translate('Я люблю работать по выходным дням')"
      ],
      "metadata": {
        "id": "L4fDNViwSj66"
      },
      "execution_count": null,
      "outputs": []
    },
    {
      "cell_type": "code",
      "source": [
        "translate('Я не люблю работать по выходным дням, люблю отдыхать')"
      ],
      "metadata": {
        "id": "UO9hWgwTSj66"
      },
      "execution_count": null,
      "outputs": []
    },
    {
      "cell_type": "markdown",
      "source": [
        "Можно наблюдать, как качество перевода снижается, вместе с  тем, что предложения становятся длинее и сложнее."
      ],
      "metadata": {
        "id": "PfZXAO_PCQ33"
      }
    },
    {
      "cell_type": "markdown",
      "source": [
        "Обучим модель машинного перевода с вниманием"
      ],
      "metadata": {
        "id": "WCDCCvlbCZx6"
      }
    },
    {
      "cell_type": "code",
      "source": [
        "'''1 ЭТАП - ENCODER (аналогичен первой модели без внимания)'''\n",
        "\n",
        "class Encoder(tf.keras.Model):\n",
        "    def __init__(self, vocab_size, embedding_dim, enc_units, batch_sz):\n",
        "        super(Encoder, self).__init__()\n",
        "        self.batch_sz = batch_sz\n",
        "        self.enc_units = enc_units\n",
        "        self.embedding = tf.keras.layers.Embedding(vocab_size, embedding_dim)\n",
        "        self.gru = tf.keras.layers.GRU(self.enc_units,\n",
        "                                       return_sequences=True,\n",
        "                                       return_state=True,\n",
        "                                       recurrent_initializer='glorot_uniform')\n",
        "\n",
        "    def call(self, x, hidden):\n",
        "        x = self.embedding(x)\n",
        "        output, state = self.gru(x, initial_state = hidden)\n",
        "        return output, state\n",
        "\n",
        "    def initialize_hidden_state(self):\n",
        "        return tf.zeros((self.batch_sz, self.enc_units))"
      ],
      "metadata": {
        "id": "Kfi7-K8NCBAL"
      },
      "execution_count": null,
      "outputs": []
    },
    {
      "cell_type": "code",
      "source": [
        "encoder = Encoder(vocab_inp_size, embedding_dim, units, BATCH_SIZE)\n",
        "\n",
        "# инициализируем начальное скрытое состояние из нулей\n",
        "sample_hidden = encoder.initialize_hidden_state()\n",
        "#получаем выходы энкодера по каждому символу и последнее скрытое состояние\n",
        "sample_output, sample_hidden = encoder(example_input_batch, sample_hidden)\n",
        "print ('Encoder output shape: (batch size, sequence length, units) {}'.format(sample_output.shape))\n",
        "\n",
        "print ('Encoder Hidden state shape: (batch size, units) {}'.format(sample_hidden.shape))"
      ],
      "metadata": {
        "id": "YxlYvBSvCBH2"
      },
      "execution_count": null,
      "outputs": []
    },
    {
      "cell_type": "code",
      "source": [
        "'''СЛОЙ ВНИМАНИЯ'''\n",
        "\n",
        "class BahdanauAttention(tf.keras.layers.Layer):\n",
        "    def __init__(self, units):\n",
        "        super(BahdanauAttention, self).__init__()\n",
        "        self.W1 = tf.keras.layers.Dense(units)\n",
        "        self.W2 = tf.keras.layers.Dense(units)\n",
        "        self.V = tf.keras.layers.Dense(1)\n",
        "\n",
        "    def call(self, query, values):\n",
        "\n",
        "        # values - выходы из encoder-a по всем символам - входы в декодер = sample_output\n",
        "        # query - последний выход из encoder-a = sample_hidden\n",
        "\n",
        "        # query hidden state shape == (batch_size, hidden size)\n",
        "        # values shape == (batch_size, max_len, hidden size)\n",
        "\n",
        "        # добавляем размерность по индексу 1\n",
        "        query_with_time_axis = tf.expand_dims(query, 1)\n",
        "\n",
        "        # score shape == (batch_size, max_length, 1)\n",
        "        # we get 1 at the last axis because we are applying score to self.V\n",
        "        # the shape of the tensor before applying self.V is (batch_size, max_length, units)\n",
        "        \n",
        "        #применяем к векторам скрытого состояния и выходов энкодера полносвязный слой: (выход (batch_size, 1, units) и (batch_size, max_length, units))\n",
        "        #складываем полученные векторы, применяем к сумме тангенс\n",
        "        # выход (batch_size, max_length, units)\n",
        "        #проводим результат через dense слой выход (batch_size, max_length, 1)\n",
        "        score = self.V(tf.nn.tanh(\n",
        "            self.W1(query_with_time_axis) + self.W2(values)))\n",
        "        # print((self.W1(query_with_time_axis).shape))\n",
        "        # print((self.W2(values).shape))\n",
        "        # print((self.W1(query_with_time_axis) + self.W2(values)).shape)\n",
        "        # print(score.shape)\n",
        "\n",
        "        # attention_weights shape == (batch_size, max_length, 1)\n",
        "        # получаем вероятностное распределение\n",
        "        attention_weights = tf.nn.softmax(score, axis=1)\n",
        "\n",
        "        # context_vector shape after sum == (batch_size, hidden_size)\n",
        "        # умножаем веса внимания умножаем на векторы значенй выход (batch_size, max_len, hidden size)\n",
        "        context_vector = attention_weights * values\n",
        "        #находим сумму по стобцам - общую сумму контекста для (batch_size, hidden_size)\n",
        "        context_vector = tf.reduce_sum(context_vector, axis=1)\n",
        "\n",
        "        return context_vector, attention_weights"
      ],
      "metadata": {
        "id": "gZjAweI4CBQb"
      },
      "execution_count": null,
      "outputs": []
    },
    {
      "cell_type": "code",
      "source": [
        "attention_layer = BahdanauAttention(10)\n",
        "\n",
        "#передаем выход энкодера и его последовательность скрытых состояний\n",
        "attention_result, attention_weights = attention_layer(sample_hidden, sample_output)\n",
        "\n",
        "print(\"Attention result shape: (batch size, units) {}\".format(attention_result.shape))\n",
        "print(\"Attention weights shape: (batch_size, sequence_length, 1) {}\".format(attention_weights.shape))"
      ],
      "metadata": {
        "id": "Dx2l17c0CBX3"
      },
      "execution_count": null,
      "outputs": []
    },
    {
      "cell_type": "code",
      "source": [
        "'''2 ЭТАП - DECODER'''\n",
        "\n",
        "class Decoder(tf.keras.Model):\n",
        "    def __init__(self, vocab_size, embedding_dim, dec_units, batch_sz):\n",
        "        super(Decoder, self).__init__()\n",
        "        self.batch_sz = batch_sz\n",
        "        self.dec_units = dec_units\n",
        "        self.embedding = tf.keras.layers.Embedding(vocab_size, embedding_dim)\n",
        "        self.gru = tf.keras.layers.GRU(self.dec_units,\n",
        "                                       return_sequences=True,\n",
        "                                       return_state=True,\n",
        "                                       recurrent_initializer='glorot_uniform')\n",
        "        self.fc = tf.keras.layers.Dense(vocab_size)\n",
        "        # используем слой внимания\n",
        "        self.attention = BahdanauAttention(self.dec_units)\n",
        "\n",
        "    def call(self, x, hidden, enc_output):\n",
        "        # enc_output shape == (batch_size, max_length, hidden_size)\n",
        "        # получаем выходы слоя внимания \n",
        "        # context_vector shape == (batch_size, hidden_size)\n",
        "        # attention_weights shape == (batch_size, max_len, 1)\n",
        "        context_vector, attention_weights = self.attention(hidden, enc_output)\n",
        "\n",
        "        # x shape after passing through embedding == (batch_size, 1, embedding_dim)\n",
        "        x = self.embedding(x)\n",
        "\n",
        "        # x shape after concatenation == (batch_size, 1, embedding_dim + hidden_size)\n",
        "        #соединяем выход эмбеддинга с вектором контекста и подаем навход RNN\n",
        "        x = tf.concat([tf.expand_dims(context_vector, 1), x], axis=-1)\n",
        "\n",
        "        # passing the concatenated vector to the GRU\n",
        "        output, state = self.gru(x)\n",
        "\n",
        "        # (batch_size, 1, hidden_size) --> output shape == (batch_size * 1, hidden_size)\n",
        "        output = tf.reshape(output, (-1, output.shape[2]))\n",
        "\n",
        "        # output shape == (batch_size, vocab)\n",
        "        x = self.fc(output)\n",
        "\n",
        "        return x, state, attention_weights"
      ],
      "metadata": {
        "id": "xiFsjkbsCBe0"
      },
      "execution_count": null,
      "outputs": []
    },
    {
      "cell_type": "code",
      "source": [
        "decoder = Decoder(vocab_tar_size, embedding_dim, units, BATCH_SIZE)\n",
        "#применяем декодер к случайному батчу из равномерного распределения (батч,1) и выходам энкодера\n",
        "sample_decoder_output, _, _ = decoder(tf.random.uniform((BATCH_SIZE, 1)),\n",
        "                                      sample_hidden, sample_output)\n",
        "\n",
        "print ('Decoder output shape: (batch_size, vocab size) {}'.format(sample_decoder_output.shape))"
      ],
      "metadata": {
        "id": "EVTRKMRyCxGC"
      },
      "execution_count": null,
      "outputs": []
    },
    {
      "cell_type": "code",
      "source": [
        "'''CHECKPOINT'''\n",
        "\n",
        "checkpoint_dir = './training_attention_checkpoints'\n",
        "checkpoint_prefix = os.path.join(checkpoint_dir, \"ckpt\")\n",
        "checkpoint = tf.train.Checkpoint(optimizer=optimizer,\n",
        "                                 encoder=encoder,\n",
        "                                 decoder=decoder)"
      ],
      "metadata": {
        "id": "b3Uyb6kWCBlw"
      },
      "execution_count": null,
      "outputs": []
    },
    {
      "cell_type": "code",
      "source": [
        "@tf.function\n",
        "def train_step(inp, targ, enc_hidden):\n",
        "    loss = 0\n",
        "    # перечисляем операции для автоматического дифференцирования\n",
        "    with tf.GradientTape() as tape:\n",
        "\n",
        "        # получаем выход encoder\n",
        "        enc_output, enc_hidden = encoder(inp, enc_hidden)\n",
        "\n",
        "        # помещаем его в скрытое состояние decoder\n",
        "        dec_hidden = enc_hidden\n",
        "\n",
        "        # формируем вход декодера:\n",
        "\n",
        "        # берем список длины батч из индексов тега <start> (1)\n",
        "        # приписываем списку размерность 1 сзади (батч, 1)\n",
        "        dec_input = tf.expand_dims([targ_lang.word_index['<start>']] * BATCH_SIZE, 1)\n",
        "\n",
        "        # Teacher forcing - выводим target в качестве следующего входа\n",
        "        for t in range(1, targ.shape[1]):\n",
        "          # помещаем enc_output в decoder\n",
        "          predictions, dec_hidden, _ = decoder(dec_input, dec_hidden, enc_output)\n",
        "\n",
        "          # считаем функцию потерь \n",
        "          loss += loss_function(targ[:, t], predictions)\n",
        "\n",
        "          # используем teacher forcing (приписываем списку размерность 1 сзади)\n",
        "          # посылаем dec_input на вход декордера \n",
        "          dec_input = tf.expand_dims(targ[:, t], 1)\n",
        "\n",
        "    batch_loss = (loss / int(targ.shape[1]))\n",
        "\n",
        "    #переменные\n",
        "    variables = encoder.trainable_variables + decoder.trainable_variables\n",
        "\n",
        "    #вычисляем градиенты loss по variables\n",
        "    gradients = tape.gradient(loss, variables)\n",
        "    \n",
        "    #оптимизатор применяет подсчитанные градиенты\n",
        "    optimizer.apply_gradients(zip(gradients, variables))\n",
        "\n",
        "    return batch_loss"
      ],
      "metadata": {
        "id": "WJIWg2zvCBse"
      },
      "execution_count": null,
      "outputs": []
    },
    {
      "cell_type": "code",
      "source": [
        "EPOCHS = 50\n",
        "\n",
        "for epoch in range(EPOCHS):\n",
        "    start = time.time()\n",
        "\n",
        "    #инициализируем входное скрытое состояние (из нулей) размера (батч, кол-во рекуррентных ячеек)\n",
        "    enc_hidden = encoder.initialize_hidden_state()\n",
        "    total_loss = 0\n",
        "\n",
        "    for (batch, (inp, targ)) in enumerate(dataset.take(steps_per_epoch)):\n",
        "        #делаем шаг обучения\n",
        "        batch_loss = train_step(inp, targ, enc_hidden)\n",
        "        #считаем ошибку\n",
        "        total_loss += batch_loss\n",
        "\n",
        "        if batch % 100 == 0:\n",
        "            print('Epoch {} Batch {} Loss {:.4f}'.format(epoch + 1,\n",
        "                                                       batch,\n",
        "                                                       batch_loss.numpy()))\n",
        "    # saving (checkpoint) the model every 2 epochs\n",
        "    if (epoch + 1) % 2 == 0:\n",
        "        checkpoint.save(file_prefix = checkpoint_prefix)\n",
        "\n",
        "    print('Epoch {} Loss {:.4f}'.format(epoch + 1,\n",
        "                                      total_loss / steps_per_epoch))\n",
        "    print('Time taken for 1 epoch {} sec\\n'.format(time.time() - start))"
      ],
      "metadata": {
        "id": "B2aJDmu3CBzl"
      },
      "execution_count": null,
      "outputs": []
    },
    {
      "cell_type": "code",
      "source": [
        "def evaluate_att(sentence):\n",
        "    #строим матрицу внимания из нулей размера (макс длина таргета, макс длина входа)  \n",
        "    attention_plot = np.zeros((max_length_targ, max_length_inp))\n",
        "    #препоцессим предложение\n",
        "    sentence = preprocess_sentence(sentence)\n",
        "    #разбиваем предложение по пробелам и составляем список индексов каждого слова\n",
        "    inputs = [inp_lang.word_index[i] for i in sentence.split(' ')]\n",
        "    #добиваем inputs нулями справа до максимальной длины входного текста\n",
        "    inputs = tf.keras.preprocessing.sequence.pad_sequences([inputs],\n",
        "                                                         maxlen=max_length_inp,\n",
        "                                                         padding='post')\n",
        "    #преобразуем inputs в тензор\n",
        "    inputs = tf.convert_to_tensor(inputs)\n",
        "\n",
        "    result = ''\n",
        "    # инициализируем входной хидден из нулей размера (1, units)\n",
        "    hidden = [tf.zeros((1, units))]\n",
        "    #подаем inputs и hidden в encoder\n",
        "    enc_out, enc_hidden = encoder(inputs, hidden)\n",
        "\n",
        "    #инициализируем входной хидден декодера -- выходной хидден энкодера\n",
        "    dec_hidden = enc_hidden\n",
        "    #вход декодера -- список [индекс start] размера(1,1)  \n",
        "    dec_input = tf.expand_dims([targ_lang.word_index['<start>']], 0)\n",
        "\n",
        "    for t in range(max_length_targ):\n",
        "        #получаем выход декодера\n",
        "        predictions, dec_hidden, attention_weights = decoder(dec_input, dec_hidden, enc_out)\n",
        "\n",
        "        # сохраняем веса внимания, чтобы позже визуализировать\n",
        "        attention_weights = tf.reshape(attention_weights, (-1, ))\n",
        "        attention_plot[t] = attention_weights.numpy()\n",
        "\n",
        "        predicted_id = tf.argmax(predictions[0]).numpy()\n",
        "        result += targ_lang.index_word[predicted_id] + ' '\n",
        "\n",
        "        #заканчиваем на токене end\n",
        "        if targ_lang.index_word[predicted_id] == '<end>':\n",
        "            return result, sentence, attention_plot\n",
        "\n",
        "        # предсказанный predicted ID подаем обратно в декодер (размер (1,1))\n",
        "        dec_input = tf.expand_dims([predicted_id], 0)\n",
        "\n",
        "    return result, sentence, attention_plot"
      ],
      "metadata": {
        "id": "Z2_WtVLFCB6T"
      },
      "execution_count": null,
      "outputs": []
    },
    {
      "cell_type": "code",
      "source": [
        "# визуализация весов внимания\n",
        "def plot_attention(attention, sentence, predicted_sentence):\n",
        "    fig = plt.figure(figsize=(10,10))\n",
        "    ax = fig.add_subplot(1, 1, 1)\n",
        "    ax.matshow(attention, cmap='viridis')\n",
        "\n",
        "    fontdict = {'fontsize': 14}\n",
        "\n",
        "    ax.set_xticklabels([''] + sentence, fontdict=fontdict, rotation=90)\n",
        "    ax.set_yticklabels([''] + predicted_sentence, fontdict=fontdict)\n",
        "\n",
        "    ax.xaxis.set_major_locator(ticker.MultipleLocator(1))\n",
        "    ax.yaxis.set_major_locator(ticker.MultipleLocator(1))\n",
        "\n",
        "    plt.show()"
      ],
      "metadata": {
        "id": "8NZNGn4nCCBX"
      },
      "execution_count": null,
      "outputs": []
    },
    {
      "cell_type": "code",
      "source": [
        "# функция, которая будет переводить и визуализировать\n",
        "def translate_att(sentence):\n",
        "    result, sentence, attention_plot = evaluate_att(sentence)\n",
        "    print('Input: %s' % (sentence))\n",
        "    print('Predicted translation: {}'.format(result))\n",
        "\n",
        "    attention_plot = attention_plot[:len(result.split(' ')), :len(sentence.split(' '))]\n",
        "    plot_attention(attention_plot, sentence.split(' '), result.split(' '))"
      ],
      "metadata": {
        "id": "ydNrgISDDD2k"
      },
      "execution_count": null,
      "outputs": []
    },
    {
      "cell_type": "code",
      "source": [
        "# restoring the latest checkpoint in checkpoint_dir\n",
        "checkpoint.restore(tf.train.latest_checkpoint(checkpoint_dir))"
      ],
      "metadata": {
        "id": "5LdSDlceDFWv"
      },
      "execution_count": null,
      "outputs": []
    },
    {
      "cell_type": "code",
      "source": [
        "translate_att('работа')"
      ],
      "metadata": {
        "id": "J24vSYFnDMYa"
      },
      "execution_count": null,
      "outputs": []
    },
    {
      "cell_type": "code",
      "source": [
        "translate_att('Хорошая работа')"
      ],
      "metadata": {
        "id": "_lFSKvdGDMYa"
      },
      "execution_count": null,
      "outputs": []
    },
    {
      "cell_type": "code",
      "source": [
        "translate_att('Я люблю работать')"
      ],
      "metadata": {
        "id": "CxDp3HslDMYb"
      },
      "execution_count": null,
      "outputs": []
    },
    {
      "cell_type": "code",
      "source": [
        "translate_att('Я люблю работать по выходным')"
      ],
      "metadata": {
        "id": "HdHIADI9DMYb"
      },
      "execution_count": null,
      "outputs": []
    },
    {
      "cell_type": "code",
      "source": [
        "translate_att('Я люблю работать по выходным дням')"
      ],
      "metadata": {
        "id": "BWet1EAKDMYc"
      },
      "execution_count": null,
      "outputs": []
    },
    {
      "cell_type": "code",
      "source": [
        "translate_att('Я не люблю работать по выходным дням, люблю отдыхать')"
      ],
      "metadata": {
        "id": "4DSyOYPvDMYc"
      },
      "execution_count": null,
      "outputs": []
    },
    {
      "cell_type": "code",
      "source": [
        "translate_att('Я не люблю работать по выходным дням, люблю отдыхать. Но если меня попросят - я помогу')"
      ],
      "metadata": {
        "id": "sxgw7xQrDMYc"
      },
      "execution_count": null,
      "outputs": []
    },
    {
      "cell_type": "code",
      "source": [
        "translate_att('Я не люблю работать по выходным дням, потому что человеку нужно отдыхать. Но если меня попросят - я помогу')"
      ],
      "metadata": {
        "id": "ahLmCX5sDMYc"
      },
      "execution_count": null,
      "outputs": []
    },
    {
      "cell_type": "code",
      "source": [
        "translate_att('Я так люблю свою работу, что готов работать по выходным дням, хотя человеку и нужно отдыхать. Поэтому если меня попросят - я обязательно помогу')"
      ],
      "metadata": {
        "id": "hC-ewSMADMYd"
      },
      "execution_count": null,
      "outputs": []
    },
    {
      "cell_type": "markdown",
      "source": [
        "Модель с вниманием отработала гораздо лучше, чем без"
      ],
      "metadata": {
        "id": "fjBRYlQcB_3V"
      }
    }
  ]
}