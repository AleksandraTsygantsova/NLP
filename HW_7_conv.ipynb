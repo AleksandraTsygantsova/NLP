{
  "nbformat": 4,
  "nbformat_minor": 0,
  "metadata": {
    "colab": {
      "name": "HW_7_conv.ipynb",
      "provenance": []
    },
    "kernelspec": {
      "name": "python3",
      "display_name": "Python 3"
    },
    "language_info": {
      "name": "python"
    },
    "accelerator": "GPU",
    "gpuClass": "standard"
  },
  "cells": [
    {
      "cell_type": "markdown",
      "source": [
        "Задание\n",
        "Берем отызывы за лето (из архива с материалами или предыдущего занятия)\n",
        "1. Учим conv сеть для классификации\n",
        "2. Рассмотреть 2-а варианта сеточек\n",
        "2.1 Инициализировать tf.keras.layers.Embedding предобученными векторами взять к примеру с https://rusvectores.org/ru/\n",
        "2.2 Инициализировать слой tf.keras.layers.Embedding по умолчанию (ну то есть вам ничего не делать с весами)\n",
        "\n",
        "Сравнить две архитектуры с предобученными весами и когда tf.keras.layers.Embedding обучается сразу со всей сеточкой, что получилось лучше\n"
      ],
      "metadata": {
        "id": "wRa0n-YB1ers"
      }
    },
    {
      "cell_type": "code",
      "source": [
        "! pip install stop_words\n",
        "! pip install pymorphy2"
      ],
      "metadata": {
        "colab": {
          "base_uri": "https://localhost:8080/"
        },
        "id": "iyIzaBJE2oJs",
        "outputId": "68adac3f-da6b-4c5c-9c4a-d2dee4845d24"
      },
      "execution_count": 1,
      "outputs": [
        {
          "output_type": "stream",
          "name": "stdout",
          "text": [
            "Looking in indexes: https://pypi.org/simple, https://us-python.pkg.dev/colab-wheels/public/simple/\n",
            "Requirement already satisfied: stop_words in /usr/local/lib/python3.7/dist-packages (2018.7.23)\n",
            "Looking in indexes: https://pypi.org/simple, https://us-python.pkg.dev/colab-wheels/public/simple/\n",
            "Requirement already satisfied: pymorphy2 in /usr/local/lib/python3.7/dist-packages (0.9.1)\n",
            "Requirement already satisfied: dawg-python>=0.7.1 in /usr/local/lib/python3.7/dist-packages (from pymorphy2) (0.7.2)\n",
            "Requirement already satisfied: docopt>=0.6 in /usr/local/lib/python3.7/dist-packages (from pymorphy2) (0.6.2)\n",
            "Requirement already satisfied: pymorphy2-dicts-ru<3.0,>=2.4 in /usr/local/lib/python3.7/dist-packages (from pymorphy2) (2.4.417127.4579844)\n"
          ]
        }
      ]
    },
    {
      "cell_type": "code",
      "execution_count": 2,
      "metadata": {
        "colab": {
          "base_uri": "https://localhost:8080/"
        },
        "id": "HTzpSx3z1RN_",
        "outputId": "42c247de-3c36-4f3c-c5da-fbdb57a8e873"
      },
      "outputs": [
        {
          "output_type": "stream",
          "name": "stderr",
          "text": [
            "[nltk_data] Downloading package punkt to /root/nltk_data...\n",
            "[nltk_data]   Package punkt is already up-to-date!\n"
          ]
        }
      ],
      "source": [
        "import pandas as pd\n",
        "from sklearn.model_selection import train_test_split\n",
        "\n",
        "from string import punctuation\n",
        "from stop_words import get_stop_words\n",
        "from pymorphy2 import MorphAnalyzer\n",
        "import re\n",
        "\n",
        "import nltk\n",
        "from nltk.tokenize import word_tokenize\n",
        "nltk.download(\"punkt\")\n",
        "from nltk.probability import FreqDist\n",
        "\n",
        "import numpy as np\n",
        "import tensorflow as tf\n",
        "import keras\n",
        "from keras.models import Sequential, Model\n",
        "from keras.layers import Dense, Dropout, Activation, Input, Embedding, Conv1D, GlobalMaxPool1D, MaxPool1D\n",
        "from keras.preprocessing.text import Tokenizer\n",
        "from keras.preprocessing.sequence import pad_sequences\n",
        "from keras.callbacks import TensorBoard \n",
        "from keras.losses import SparseCategoricalCrossentropy\n",
        "from keras.callbacks import EarlyStopping  \n",
        "from tensorflow.keras.utils import to_categorical\n",
        "\n",
        "from sklearn.preprocessing import LabelEncoder\n",
        "import gensim"
      ]
    },
    {
      "cell_type": "code",
      "source": [
        "#! pip install --upgrade xlrd"
      ],
      "metadata": {
        "id": "73wyAMQV3-O6"
      },
      "execution_count": 3,
      "outputs": []
    },
    {
      "cell_type": "code",
      "source": [
        "#Загрузка данных\n",
        "df = pd.read_excel('/content/отзывы за лето.xls')\n",
        "df.head(5)"
      ],
      "metadata": {
        "colab": {
          "base_uri": "https://localhost:8080/",
          "height": 206
        },
        "id": "hAbdf1Hb2e7u",
        "outputId": "e0cd6a68-ebdb-4c17-e3f5-614b1474a1ce"
      },
      "execution_count": 4,
      "outputs": [
        {
          "output_type": "execute_result",
          "data": {
            "text/plain": [
              "   Rating                                            Content        Date\n",
              "0       5                                     It just works!  2017-08-14\n",
              "1       4  В целом удобноное приложение...из минусов хотя...  2017-08-14\n",
              "2       5                                        Отлично все  2017-08-14\n",
              "3       5  Стал зависать на 1% работы антивируса. Дальше ...  2017-08-14\n",
              "4       5                     Очень удобно, работает быстро.  2017-08-14"
            ],
            "text/html": [
              "\n",
              "  <div id=\"df-c102a7da-70ca-4d1c-8055-e60fa7a839b6\">\n",
              "    <div class=\"colab-df-container\">\n",
              "      <div>\n",
              "<style scoped>\n",
              "    .dataframe tbody tr th:only-of-type {\n",
              "        vertical-align: middle;\n",
              "    }\n",
              "\n",
              "    .dataframe tbody tr th {\n",
              "        vertical-align: top;\n",
              "    }\n",
              "\n",
              "    .dataframe thead th {\n",
              "        text-align: right;\n",
              "    }\n",
              "</style>\n",
              "<table border=\"1\" class=\"dataframe\">\n",
              "  <thead>\n",
              "    <tr style=\"text-align: right;\">\n",
              "      <th></th>\n",
              "      <th>Rating</th>\n",
              "      <th>Content</th>\n",
              "      <th>Date</th>\n",
              "    </tr>\n",
              "  </thead>\n",
              "  <tbody>\n",
              "    <tr>\n",
              "      <th>0</th>\n",
              "      <td>5</td>\n",
              "      <td>It just works!</td>\n",
              "      <td>2017-08-14</td>\n",
              "    </tr>\n",
              "    <tr>\n",
              "      <th>1</th>\n",
              "      <td>4</td>\n",
              "      <td>В целом удобноное приложение...из минусов хотя...</td>\n",
              "      <td>2017-08-14</td>\n",
              "    </tr>\n",
              "    <tr>\n",
              "      <th>2</th>\n",
              "      <td>5</td>\n",
              "      <td>Отлично все</td>\n",
              "      <td>2017-08-14</td>\n",
              "    </tr>\n",
              "    <tr>\n",
              "      <th>3</th>\n",
              "      <td>5</td>\n",
              "      <td>Стал зависать на 1% работы антивируса. Дальше ...</td>\n",
              "      <td>2017-08-14</td>\n",
              "    </tr>\n",
              "    <tr>\n",
              "      <th>4</th>\n",
              "      <td>5</td>\n",
              "      <td>Очень удобно, работает быстро.</td>\n",
              "      <td>2017-08-14</td>\n",
              "    </tr>\n",
              "  </tbody>\n",
              "</table>\n",
              "</div>\n",
              "      <button class=\"colab-df-convert\" onclick=\"convertToInteractive('df-c102a7da-70ca-4d1c-8055-e60fa7a839b6')\"\n",
              "              title=\"Convert this dataframe to an interactive table.\"\n",
              "              style=\"display:none;\">\n",
              "        \n",
              "  <svg xmlns=\"http://www.w3.org/2000/svg\" height=\"24px\"viewBox=\"0 0 24 24\"\n",
              "       width=\"24px\">\n",
              "    <path d=\"M0 0h24v24H0V0z\" fill=\"none\"/>\n",
              "    <path d=\"M18.56 5.44l.94 2.06.94-2.06 2.06-.94-2.06-.94-.94-2.06-.94 2.06-2.06.94zm-11 1L8.5 8.5l.94-2.06 2.06-.94-2.06-.94L8.5 2.5l-.94 2.06-2.06.94zm10 10l.94 2.06.94-2.06 2.06-.94-2.06-.94-.94-2.06-.94 2.06-2.06.94z\"/><path d=\"M17.41 7.96l-1.37-1.37c-.4-.4-.92-.59-1.43-.59-.52 0-1.04.2-1.43.59L10.3 9.45l-7.72 7.72c-.78.78-.78 2.05 0 2.83L4 21.41c.39.39.9.59 1.41.59.51 0 1.02-.2 1.41-.59l7.78-7.78 2.81-2.81c.8-.78.8-2.07 0-2.86zM5.41 20L4 18.59l7.72-7.72 1.47 1.35L5.41 20z\"/>\n",
              "  </svg>\n",
              "      </button>\n",
              "      \n",
              "  <style>\n",
              "    .colab-df-container {\n",
              "      display:flex;\n",
              "      flex-wrap:wrap;\n",
              "      gap: 12px;\n",
              "    }\n",
              "\n",
              "    .colab-df-convert {\n",
              "      background-color: #E8F0FE;\n",
              "      border: none;\n",
              "      border-radius: 50%;\n",
              "      cursor: pointer;\n",
              "      display: none;\n",
              "      fill: #1967D2;\n",
              "      height: 32px;\n",
              "      padding: 0 0 0 0;\n",
              "      width: 32px;\n",
              "    }\n",
              "\n",
              "    .colab-df-convert:hover {\n",
              "      background-color: #E2EBFA;\n",
              "      box-shadow: 0px 1px 2px rgba(60, 64, 67, 0.3), 0px 1px 3px 1px rgba(60, 64, 67, 0.15);\n",
              "      fill: #174EA6;\n",
              "    }\n",
              "\n",
              "    [theme=dark] .colab-df-convert {\n",
              "      background-color: #3B4455;\n",
              "      fill: #D2E3FC;\n",
              "    }\n",
              "\n",
              "    [theme=dark] .colab-df-convert:hover {\n",
              "      background-color: #434B5C;\n",
              "      box-shadow: 0px 1px 3px 1px rgba(0, 0, 0, 0.15);\n",
              "      filter: drop-shadow(0px 1px 2px rgba(0, 0, 0, 0.3));\n",
              "      fill: #FFFFFF;\n",
              "    }\n",
              "  </style>\n",
              "\n",
              "      <script>\n",
              "        const buttonEl =\n",
              "          document.querySelector('#df-c102a7da-70ca-4d1c-8055-e60fa7a839b6 button.colab-df-convert');\n",
              "        buttonEl.style.display =\n",
              "          google.colab.kernel.accessAllowed ? 'block' : 'none';\n",
              "\n",
              "        async function convertToInteractive(key) {\n",
              "          const element = document.querySelector('#df-c102a7da-70ca-4d1c-8055-e60fa7a839b6');\n",
              "          const dataTable =\n",
              "            await google.colab.kernel.invokeFunction('convertToInteractive',\n",
              "                                                     [key], {});\n",
              "          if (!dataTable) return;\n",
              "\n",
              "          const docLinkHtml = 'Like what you see? Visit the ' +\n",
              "            '<a target=\"_blank\" href=https://colab.research.google.com/notebooks/data_table.ipynb>data table notebook</a>'\n",
              "            + ' to learn more about interactive tables.';\n",
              "          element.innerHTML = '';\n",
              "          dataTable['output_type'] = 'display_data';\n",
              "          await google.colab.output.renderOutput(dataTable, element);\n",
              "          const docLink = document.createElement('div');\n",
              "          docLink.innerHTML = docLinkHtml;\n",
              "          element.appendChild(docLink);\n",
              "        }\n",
              "      </script>\n",
              "    </div>\n",
              "  </div>\n",
              "  "
            ]
          },
          "metadata": {},
          "execution_count": 4
        }
      ]
    },
    {
      "cell_type": "code",
      "source": [
        "#Разбиваем на трейн и тест\n",
        "df_train, df_test = train_test_split(df, test_size=0.33, random_state=42)\n",
        "df_train = df_train.reset_index(drop=True)\n",
        "df_test = df_test.reset_index(drop=True)\n",
        "df_train.shape, df_test.shape"
      ],
      "metadata": {
        "colab": {
          "base_uri": "https://localhost:8080/"
        },
        "id": "shRcZBYJ3bbS",
        "outputId": "063a16b1-652c-4237-c3e4-ff53ec8f0045"
      },
      "execution_count": 5,
      "outputs": [
        {
          "output_type": "execute_result",
          "data": {
            "text/plain": [
              "((13841, 3), (6818, 3))"
            ]
          },
          "metadata": {},
          "execution_count": 5
        }
      ]
    },
    {
      "cell_type": "code",
      "source": [
        "#Предобрабатываем данные\n",
        "sw = set(get_stop_words(\"ru\"))\n",
        "exclude = set(punctuation)\n",
        "morpher = MorphAnalyzer()\n",
        "\n",
        "def preprocess_text(txt):\n",
        "    txt = str(txt)\n",
        "    txt = \"\".join(c for c in txt if c not in exclude)\n",
        "    txt = txt.lower()\n",
        "    txt = re.sub(\"\\sне\", \"не\", txt)\n",
        "    txt = [morpher.parse(word)[0].normal_form for word in txt.split() if word not in sw]\n",
        "    return \" \".join(txt)\n",
        "\n",
        "df_train['Content'] = df_train['Content'].apply(preprocess_text)\n",
        "df_test['Content'] = df_test['Content'].apply(preprocess_text)\n"
      ],
      "metadata": {
        "id": "cyKgUqvX3i11"
      },
      "execution_count": 6,
      "outputs": []
    },
    {
      "cell_type": "code",
      "source": [
        "train_corpus = \" \".join(df_train[\"Content\"])\n",
        "train_corpus = train_corpus.lower()"
      ],
      "metadata": {
        "id": "2WqkTHPI3xoQ"
      },
      "execution_count": 7,
      "outputs": []
    },
    {
      "cell_type": "code",
      "source": [
        "tokens = word_tokenize(train_corpus)\n",
        "tokens[:5]"
      ],
      "metadata": {
        "colab": {
          "base_uri": "https://localhost:8080/"
        },
        "id": "OMnwzFEQ4YhH",
        "outputId": "27617551-1e74-4f74-ffe9-657b4b6eccf0"
      },
      "execution_count": 8,
      "outputs": [
        {
          "output_type": "execute_result",
          "data": {
            "text/plain": [
              "['наконецтый', 'исправить', 'чушь', 'снеоргинальный', 'прошивка']"
            ]
          },
          "metadata": {},
          "execution_count": 8
        }
      ]
    },
    {
      "cell_type": "code",
      "source": [
        "# Фильтрация токенов\n",
        "tokens_filtered = [word for word in tokens if word.isalnum()]"
      ],
      "metadata": {
        "id": "B3C84BRL4dMw"
      },
      "execution_count": 9,
      "outputs": []
    },
    {
      "cell_type": "code",
      "source": [
        "max_words = 800\n",
        "\n",
        "dist = FreqDist(tokens_filtered)\n",
        "tokens_filtered_top = [pair[0] for pair in dist.most_common(max_words-1)]"
      ],
      "metadata": {
        "id": "0FUXJb9D4h1S"
      },
      "execution_count": 10,
      "outputs": []
    },
    {
      "cell_type": "code",
      "source": [
        "tokens_filtered_top[:5]"
      ],
      "metadata": {
        "colab": {
          "base_uri": "https://localhost:8080/"
        },
        "id": "rqL100oS4nRb",
        "outputId": "c25733f9-191d-4048-db15-d42aacd5b654"
      },
      "execution_count": 11,
      "outputs": [
        {
          "output_type": "execute_result",
          "data": {
            "text/plain": [
              "['приложение', 'удобно', 'работать', 'удобный', 'отлично']"
            ]
          },
          "metadata": {},
          "execution_count": 11
        }
      ]
    },
    {
      "cell_type": "code",
      "source": [
        "#Создаем словарь\n",
        "vocabulary = {v: k for k, v in dict(enumerate(tokens_filtered_top, 1)).items()}"
      ],
      "metadata": {
        "id": "z-5ReIOM4pD_"
      },
      "execution_count": 12,
      "outputs": []
    },
    {
      "cell_type": "code",
      "source": [
        "#Преобразуем текст\n",
        "max_len = 100\n",
        "\n",
        "def text_to_sequence(text, maxlen):\n",
        "    result = []\n",
        "    tokens = word_tokenize(text.lower())\n",
        "    tokens_filtered = [word for word in tokens if word.isalnum()]\n",
        "    for word in tokens_filtered:\n",
        "        if word in vocabulary:\n",
        "            result.append(vocabulary[word])\n",
        "    padding = [0]*(maxlen-len(result))\n",
        "    return padding + result[-maxlen:]"
      ],
      "metadata": {
        "id": "2Dr0P95Y4trI"
      },
      "execution_count": 13,
      "outputs": []
    },
    {
      "cell_type": "code",
      "source": [
        "x_train = np.asarray([text_to_sequence(text, max_len) for text in df_train[\"Content\"]], dtype=np.int32)\n",
        "x_test = np.asarray([text_to_sequence(text, max_len) for text in df_test[\"Content\"]], dtype=np.int32)"
      ],
      "metadata": {
        "id": "YrjQswrK4ysj"
      },
      "execution_count": 14,
      "outputs": []
    },
    {
      "cell_type": "code",
      "source": [
        "# Проведем экнодинг лейблов\n",
        "\n",
        "num_classes = df['Rating'].nunique()\n",
        "le = LabelEncoder()\n",
        "train_enc_labels = le.fit_transform(df_train['Rating']) \n",
        "test_enc_labels = le.transform(df_test['Rating'])\n",
        "le.classes_"
      ],
      "metadata": {
        "colab": {
          "base_uri": "https://localhost:8080/"
        },
        "id": "yUD3B2AN40yQ",
        "outputId": "276f132c-589d-4e20-86d4-5e0fd9a75029"
      },
      "execution_count": 15,
      "outputs": [
        {
          "output_type": "execute_result",
          "data": {
            "text/plain": [
              "array([1, 2, 3, 4, 5])"
            ]
          },
          "metadata": {},
          "execution_count": 15
        }
      ]
    },
    {
      "cell_type": "code",
      "source": [
        "y_train = to_categorical(train_enc_labels, num_classes)\n",
        "y_test = to_categorical(test_enc_labels, num_classes)"
      ],
      "metadata": {
        "id": "DhNCEbaZ47pa"
      },
      "execution_count": 16,
      "outputs": []
    },
    {
      "cell_type": "markdown",
      "source": [
        "**Обучаем нейронную сеть с предобученными векторами в слое Embedding**"
      ],
      "metadata": {
        "id": "tS0RCaA04_X2"
      }
    },
    {
      "cell_type": "code",
      "source": [
        "!wget http://vectors.nlpl.eu/repository/20/180.zip"
      ],
      "metadata": {
        "colab": {
          "base_uri": "https://localhost:8080/"
        },
        "id": "k7jPUfDg5DFv",
        "outputId": "6cf21e77-d940-449f-a40e-e7cc10b12241"
      },
      "execution_count": 17,
      "outputs": [
        {
          "output_type": "stream",
          "name": "stdout",
          "text": [
            "--2022-07-04 11:06:53--  http://vectors.nlpl.eu/repository/20/180.zip\n",
            "Resolving vectors.nlpl.eu (vectors.nlpl.eu)... 129.240.189.181\n",
            "Connecting to vectors.nlpl.eu (vectors.nlpl.eu)|129.240.189.181|:80... connected.\n",
            "HTTP request sent, awaiting response... 200 OK\n",
            "Length: 484452317 (462M) [application/zip]\n",
            "Saving to: ‘180.zip’\n",
            "\n",
            "180.zip             100%[===================>] 462.01M  12.9MB/s    in 39s     \n",
            "\n",
            "2022-07-04 11:07:33 (11.9 MB/s) - ‘180.zip’ saved [484452317/484452317]\n",
            "\n"
          ]
        }
      ]
    },
    {
      "cell_type": "code",
      "source": [
        "!unzip 180.zip"
      ],
      "metadata": {
        "colab": {
          "base_uri": "https://localhost:8080/"
        },
        "id": "HySSBzfN5E1H",
        "outputId": "cc2d8479-d66a-4666-8209-387bf2c48e41"
      },
      "execution_count": 18,
      "outputs": [
        {
          "output_type": "stream",
          "name": "stdout",
          "text": [
            "Archive:  180.zip\n",
            "  inflating: meta.json               \n",
            "  inflating: model.bin               \n",
            "  inflating: model.txt               \n",
            "  inflating: README                  \n"
          ]
        }
      ]
    },
    {
      "cell_type": "code",
      "source": [
        "#Загрузим предобученные векторы\n",
        "word_vectors = gensim.models.KeyedVectors.load_word2vec_format('/content/model.bin', binary=True) .vectors "
      ],
      "metadata": {
        "id": "U_xuwfiN5GzK"
      },
      "execution_count": 19,
      "outputs": []
    },
    {
      "cell_type": "code",
      "source": [
        "#обрежем word_vectors по размеру эмбеддингов по количеству слов, которые у нас есть в словаре\n",
        "word_vectors_emd = [word_vectors[i][:256] for i in range(max_words)]\n",
        "word_vectors_emd[1]"
      ],
      "metadata": {
        "colab": {
          "base_uri": "https://localhost:8080/"
        },
        "id": "W29Nqqhh5JkW",
        "outputId": "a181ef95-c30b-401b-b607-e78574afd864"
      },
      "execution_count": 20,
      "outputs": [
        {
          "output_type": "execute_result",
          "data": {
            "text/plain": [
              "array([ 0.56827927, -0.3209115 , -0.01912439, -1.9356475 , -0.8124491 ,\n",
              "        1.657973  , -1.3159128 ,  1.1186373 , -2.0223322 , -3.2186239 ,\n",
              "       -0.8087832 , -1.6359693 ,  0.30781016, -1.9637547 ,  1.1508301 ,\n",
              "        0.09154594,  1.499977  , -1.9233339 , -1.395698  ,  0.4522272 ,\n",
              "        1.3875449 , -0.6991994 ,  1.1241058 , -0.8872212 ,  1.5669478 ,\n",
              "        0.10525192, -0.72891355, -1.7446259 , -0.39187282, -0.21783888,\n",
              "        0.99993414, -2.8352168 ,  0.28585172, -1.2888701 , -0.7390094 ,\n",
              "        0.7050435 ,  2.6338942 ,  0.37333074,  2.078776  , -0.19290456,\n",
              "       -0.73848265, -1.7742666 ,  1.6497376 ,  3.7614036 , -1.2978705 ,\n",
              "       -0.00728586,  1.3725481 , -1.5491337 , -0.81334364, -0.7748071 ,\n",
              "       -0.61844414,  0.7076229 ,  0.53189814, -0.519196  ,  1.2863954 ,\n",
              "        0.99337226,  1.1154282 , -0.930117  ,  1.572236  , -1.2262355 ,\n",
              "       -0.86334157,  0.61980397, -0.09515494,  0.5440264 , -0.50054914,\n",
              "        0.32205996, -1.49439   ,  0.63581914,  2.5604725 ,  0.62158006,\n",
              "       -0.9675487 ,  1.7475013 , -1.055982  ,  1.8056836 ,  0.29194352,\n",
              "        0.72323376, -0.2652101 , -1.5487951 , -1.2479311 ,  0.6863535 ,\n",
              "       -0.5887072 , -0.25386146, -1.0167173 , -2.9647908 , -0.96875453,\n",
              "       -1.6287156 , -0.60758674, -0.5515135 , -0.4176201 ,  0.6098959 ,\n",
              "       -2.8192685 ,  2.5853198 ,  0.85308856,  0.87172407, -0.897581  ,\n",
              "       -0.40489018,  1.4343278 ,  1.2818788 , -0.1038449 ,  3.5178578 ,\n",
              "        3.2740445 , -0.8202849 , -1.8105402 ,  0.01102561,  0.237255  ,\n",
              "       -4.524287  , -2.5001287 ,  1.012236  ,  0.9220278 ,  0.08768477,\n",
              "        1.7009947 , -0.1830261 ,  0.27147695,  2.9195416 ,  0.801868  ,\n",
              "       -0.21166666,  1.8762391 ,  2.0312402 , -0.83916956, -1.8924448 ,\n",
              "       -0.8591967 ,  1.3861572 ,  1.4221402 , -0.22199516,  0.88558954,\n",
              "       -2.7754016 ,  0.76693803, -0.03952743,  0.74935645,  1.3386279 ,\n",
              "       -0.39080724, -0.26873833,  0.8972396 , -0.60566366, -0.8532991 ,\n",
              "        0.01436545, -0.67513114, -0.52097553,  1.1179368 , -1.1936499 ,\n",
              "       -0.6559193 ,  0.938022  , -2.2571654 , -3.0508792 , -0.7227019 ,\n",
              "        1.2745616 ,  1.0202187 ,  0.9840875 , -2.8626523 ,  1.2382461 ,\n",
              "        1.1355385 ,  0.01369386,  2.0628734 ,  0.1089448 , -0.86612064,\n",
              "       -0.8116914 ,  0.9342249 , -0.8987377 ,  0.01130854,  0.80704564,\n",
              "        2.0953562 , -1.9135808 , -0.5009951 , -0.22260208,  0.8624965 ,\n",
              "        0.5630634 , -0.46424702, -1.6521688 ,  0.34720603, -1.36089   ,\n",
              "       -0.21586478,  1.9220291 ,  0.46534094,  1.4874742 , -1.329455  ,\n",
              "        2.045918  ,  2.821619  ,  1.9280642 , -1.1321975 ,  0.9344899 ,\n",
              "       -0.7038843 ,  0.7139956 , -0.3580236 ,  0.30644202,  1.1503032 ,\n",
              "        0.18564531, -2.0370424 ,  1.7469863 , -0.19078876, -0.645339  ,\n",
              "        0.505186  , -0.60695523,  1.1013697 , -0.57632995, -0.22718555,\n",
              "        2.282853  ,  2.5692198 ,  1.8646836 ,  1.0998862 , -1.6795722 ,\n",
              "        0.16015984,  0.37569702,  1.9649556 ,  2.360805  , -1.6617944 ,\n",
              "       -1.0738456 , -1.0985037 ,  1.4406085 , -1.5327767 , -0.13647187,\n",
              "        1.3672692 , -0.15450615, -0.4382513 , -3.0015786 , -2.6966953 ,\n",
              "        0.46445477, -0.11757527, -1.1011763 , -0.3542566 , -0.5057304 ,\n",
              "       -0.42879865,  0.32639202, -0.18921247,  1.5726771 , -0.7151896 ,\n",
              "       -1.1668553 , -0.42700508, -1.1397042 ,  1.5330937 , -3.2055368 ,\n",
              "        0.06028447, -0.587752  ,  0.28860852, -1.5711918 , -0.46920586,\n",
              "        0.70577353, -0.1825155 ,  2.6019137 ,  0.53800887,  2.0388956 ,\n",
              "        1.1267477 ,  1.2491167 ,  2.2639756 , -0.695714  ,  0.02100026,\n",
              "       -0.01805468, -0.31883276,  3.05128   , -1.3045707 , -2.8690743 ,\n",
              "        0.04250355, -1.0368543 ,  1.4625484 ,  2.132626  , -1.0482056 ,\n",
              "        1.1042211 ], dtype=float32)"
            ]
          },
          "metadata": {},
          "execution_count": 20
        }
      ]
    },
    {
      "cell_type": "code",
      "source": [
        "#инициализируем веса в эмбеддинге\n",
        "initializer = tf.keras.initializers.Constant(word_vectors_emd)\n",
        "\n",
        "model = Sequential()\n",
        "model.add(Embedding(input_dim=max_words, output_dim=256, embeddings_initializer = initializer, input_length=max_len)) \n",
        "                    #inputdim -- размер словаря, outputdim -- длина вектора, input_length -- длина входной последовательности\n",
        "                    #на вход: (батч, input_lenght), на выходе: (батч, input_lenght, output_dim)\n",
        "\n",
        "model.add(Conv1D(64, 3, padding = 'same'))\n",
        "                   #128 -- количество 1D-фильтров, длина фильтра -- 3\n",
        "                   #на выходе (количество объектов, 128 - длина нового эмбединга)\n",
        "\n",
        "model.add(MaxPool1D(2))  \n",
        "\n",
        "model.add(Activation(\"relu\"))\n",
        "\n",
        "\n",
        "model.add(Conv1D(128, 3, padding = 'same'))\n",
        "\n",
        "model.add(MaxPool1D(2))\n",
        "\n",
        "model.add(Activation(\"relu\"))\n",
        "                    #применяем функцию активации к выходу предыдущего слоя\n",
        "\n",
        "model.add(GlobalMaxPool1D())\n",
        "                    # в каждой свертке для каждого элемента эмбединга оставляем максимум - получаем один 128-м эмбеддинг\n",
        "\n",
        "model.add(Dense(128))\n",
        "               #128-количество выходов\n",
        "model.add(Activation(\"relu\"))\n",
        "model.add(Dense(64))\n",
        "model.add(Activation(\"relu\"))\n",
        "\n",
        "model.add(Dense(num_classes))\n",
        "                #num_classes = 5 -- количество выходов\n",
        "model.add(Activation('softmax'))\n",
        "                #преобразуем вектор в рапределение вероятностей"
      ],
      "metadata": {
        "id": "oRZ6FVOi5SW_"
      },
      "execution_count": 21,
      "outputs": []
    },
    {
      "cell_type": "code",
      "source": [
        "# Компилируем модель\n",
        "model.compile(loss='categorical_crossentropy',\n",
        "              optimizer='adam',\n",
        "              metrics=['accuracy'])"
      ],
      "metadata": {
        "id": "EKBT0hXO5WG3"
      },
      "execution_count": 23,
      "outputs": []
    },
    {
      "cell_type": "code",
      "source": [
        "# Обучаем модель без раней остановки\n",
        "epochs = 10\n",
        "batch_size = 512\n",
        "\n",
        "history = model.fit(x_train, y_train,\n",
        "                    batch_size=batch_size,\n",
        "                    epochs=epochs,\n",
        "                    verbose=1,\n",
        "                    validation_split=0.1,\n",
        "                    # callbacks=[early_stopping]\n",
        "                    )"
      ],
      "metadata": {
        "colab": {
          "base_uri": "https://localhost:8080/"
        },
        "id": "Mqog4QFM5aG5",
        "outputId": "94f3271d-9f1e-40a1-dec6-dbc48eb3d11b"
      },
      "execution_count": 24,
      "outputs": [
        {
          "output_type": "stream",
          "name": "stdout",
          "text": [
            "Epoch 1/10\n",
            "25/25 [==============================] - 16s 43ms/step - loss: 0.9359 - accuracy: 0.6917 - val_loss: 0.8109 - val_accuracy: 0.7199\n",
            "Epoch 2/10\n",
            "25/25 [==============================] - 0s 19ms/step - loss: 0.7606 - accuracy: 0.7433 - val_loss: 0.7599 - val_accuracy: 0.7300\n",
            "Epoch 3/10\n",
            "25/25 [==============================] - 0s 19ms/step - loss: 0.6931 - accuracy: 0.7631 - val_loss: 0.7633 - val_accuracy: 0.7372\n",
            "Epoch 4/10\n",
            "25/25 [==============================] - 0s 19ms/step - loss: 0.6496 - accuracy: 0.7754 - val_loss: 0.7337 - val_accuracy: 0.7408\n",
            "Epoch 5/10\n",
            "25/25 [==============================] - 0s 20ms/step - loss: 0.6026 - accuracy: 0.7933 - val_loss: 0.7838 - val_accuracy: 0.7350\n",
            "Epoch 6/10\n",
            "25/25 [==============================] - 0s 19ms/step - loss: 0.5686 - accuracy: 0.8091 - val_loss: 0.7593 - val_accuracy: 0.7372\n",
            "Epoch 7/10\n",
            "25/25 [==============================] - 0s 18ms/step - loss: 0.5116 - accuracy: 0.8303 - val_loss: 0.7699 - val_accuracy: 0.7379\n",
            "Epoch 8/10\n",
            "25/25 [==============================] - 0s 17ms/step - loss: 0.4660 - accuracy: 0.8489 - val_loss: 0.8087 - val_accuracy: 0.7365\n",
            "Epoch 9/10\n",
            "25/25 [==============================] - 0s 18ms/step - loss: 0.4150 - accuracy: 0.8714 - val_loss: 0.8295 - val_accuracy: 0.7343\n",
            "Epoch 10/10\n",
            "25/25 [==============================] - 1s 22ms/step - loss: 0.3709 - accuracy: 0.8882 - val_loss: 0.9506 - val_accuracy: 0.7285\n"
          ]
        }
      ]
    },
    {
      "cell_type": "code",
      "source": [
        "# Смотрим метрики\n",
        "score = model.evaluate(x_test, y_test, batch_size=batch_size, verbose=1)\n",
        "print('\\n')\n",
        "print('Test loss:', score[0])\n",
        "print('Test f1_score:', score[1])"
      ],
      "metadata": {
        "colab": {
          "base_uri": "https://localhost:8080/"
        },
        "id": "_tgEE88g5jDA",
        "outputId": "17ec5b62-637f-4cf2-dfcb-5d4af9b0b5e2"
      },
      "execution_count": 25,
      "outputs": [
        {
          "output_type": "stream",
          "name": "stdout",
          "text": [
            "14/14 [==============================] - 0s 14ms/step - loss: 0.8474 - accuracy: 0.7537\n",
            "\n",
            "\n",
            "Test loss: 0.8473901152610779\n",
            "Test f1_score: 0.7537400722503662\n"
          ]
        }
      ]
    },
    {
      "cell_type": "markdown",
      "source": [
        "**Нейронная сеть с обучаемым слоем Embedding**\n"
      ],
      "metadata": {
        "id": "ZEN4dUW75nbn"
      }
    },
    {
      "cell_type": "code",
      "source": [
        "model = Sequential()\n",
        "model.add(Embedding(input_dim=max_words, output_dim=256, input_length=max_len)) \n",
        "                    #inputdim -- размер словаря, outputdim -- длина вектора, input_length -- длина входной последовательности\n",
        "                    #на вход: (батч, input_lenght), на выходе: (батч, input_lenght, output_dim)\n",
        "\n",
        "model.add(Conv1D(64, 3, padding = 'same'))\n",
        "                   #128 -- количество 1D-фильтров, длина фильтра -- 3\n",
        "                   #на выходе (количество объектов, 128 - длина нового эмбединга)\n",
        "\n",
        "model.add(MaxPool1D(2))  \n",
        "\n",
        "model.add(Activation(\"relu\"))\n",
        "\n",
        "\n",
        "model.add(Conv1D(128, 3, padding = 'same'))\n",
        "\n",
        "model.add(MaxPool1D(2))\n",
        "\n",
        "model.add(Activation(\"relu\"))\n",
        "                    #применяем функцию активации к выходу предыдущего слоя\n",
        "\n",
        "model.add(GlobalMaxPool1D())\n",
        "                    # в каждой свертке для каждого элемента эмбединга оставляем максимум - получаем один 128-м эмбеддинг\n",
        "\n",
        "model.add(Dense(128))\n",
        "               #128-количество выходов\n",
        "model.add(Activation(\"relu\"))\n",
        "model.add(Dense(64))\n",
        "model.add(Activation(\"relu\"))\n",
        "\n",
        "model.add(Dense(num_classes))\n",
        "                #num_classes = 5 -- количество выходов\n",
        "model.add(Activation('softmax'))\n",
        "                #преобразуем вектор в рапределение вероятностей"
      ],
      "metadata": {
        "id": "AbrYDdAl5s33"
      },
      "execution_count": 26,
      "outputs": []
    },
    {
      "cell_type": "code",
      "source": [
        "#Компилируем модель\n",
        "model.compile(loss='categorical_crossentropy',\n",
        "              optimizer='adam',\n",
        "              metrics=['accuracy'])"
      ],
      "metadata": {
        "id": "-UddAVCv5wjH"
      },
      "execution_count": 27,
      "outputs": []
    },
    {
      "cell_type": "code",
      "source": [
        "#Обучаем модель без раней остановки\n",
        "epochs = 10\n",
        "batch_size = 512\n",
        "\n",
        "history = model.fit(x_train, y_train,\n",
        "                    batch_size=batch_size,\n",
        "                    epochs=epochs,\n",
        "                    verbose=1,\n",
        "                    validation_split=0.1,\n",
        "                    # callbacks=[early_stopping]\n",
        "                    )"
      ],
      "metadata": {
        "colab": {
          "base_uri": "https://localhost:8080/"
        },
        "id": "PGGmhCaP50Rx",
        "outputId": "8fb2e2b0-b1d8-4016-9dfe-d83d232d6df2"
      },
      "execution_count": 28,
      "outputs": [
        {
          "output_type": "stream",
          "name": "stdout",
          "text": [
            "Epoch 1/10\n",
            "25/25 [==============================] - 1s 29ms/step - loss: 1.1729 - accuracy: 0.6801 - val_loss: 0.9825 - val_accuracy: 0.7011\n",
            "Epoch 2/10\n",
            "25/25 [==============================] - 0s 17ms/step - loss: 0.8250 - accuracy: 0.7202 - val_loss: 0.7170 - val_accuracy: 0.7509\n",
            "Epoch 3/10\n",
            "25/25 [==============================] - 0s 17ms/step - loss: 0.6644 - accuracy: 0.7687 - val_loss: 0.7001 - val_accuracy: 0.7531\n",
            "Epoch 4/10\n",
            "25/25 [==============================] - 0s 18ms/step - loss: 0.6273 - accuracy: 0.7793 - val_loss: 0.7025 - val_accuracy: 0.7523\n",
            "Epoch 5/10\n",
            "25/25 [==============================] - 1s 22ms/step - loss: 0.6072 - accuracy: 0.7858 - val_loss: 0.7037 - val_accuracy: 0.7480\n",
            "Epoch 6/10\n",
            "25/25 [==============================] - 1s 20ms/step - loss: 0.5921 - accuracy: 0.7936 - val_loss: 0.7056 - val_accuracy: 0.7487\n",
            "Epoch 7/10\n",
            "25/25 [==============================] - 0s 17ms/step - loss: 0.5745 - accuracy: 0.7994 - val_loss: 0.7144 - val_accuracy: 0.7523\n",
            "Epoch 8/10\n",
            "25/25 [==============================] - 0s 19ms/step - loss: 0.5487 - accuracy: 0.8090 - val_loss: 0.7338 - val_accuracy: 0.7552\n",
            "Epoch 9/10\n",
            "25/25 [==============================] - 0s 17ms/step - loss: 0.5234 - accuracy: 0.8190 - val_loss: 0.7294 - val_accuracy: 0.7567\n",
            "Epoch 10/10\n",
            "25/25 [==============================] - 0s 17ms/step - loss: 0.4903 - accuracy: 0.8339 - val_loss: 0.7552 - val_accuracy: 0.7581\n"
          ]
        }
      ]
    },
    {
      "cell_type": "code",
      "source": [
        "#Смотрим метрики\n",
        "score = model.evaluate(x_test, y_test, batch_size=batch_size, verbose=1)\n",
        "print('\\n')\n",
        "print('Test loss:', score[0])\n",
        "print('Test f1_score:', score[1])"
      ],
      "metadata": {
        "colab": {
          "base_uri": "https://localhost:8080/"
        },
        "id": "fqs7U7Hs553P",
        "outputId": "fe5df11d-8d87-4691-fdd4-27e942f5e219"
      },
      "execution_count": 29,
      "outputs": [
        {
          "output_type": "stream",
          "name": "stdout",
          "text": [
            "14/14 [==============================] - 0s 8ms/step - loss: 0.7121 - accuracy: 0.7686\n",
            "\n",
            "\n",
            "Test loss: 0.7121235132217407\n",
            "Test f1_score: 0.7685538530349731\n"
          ]
        }
      ]
    },
    {
      "cell_type": "markdown",
      "source": [
        "**Вывод:** нейросеть, в которой мы обучали эмбеддинги а не использовали изначально инициализированные, показала лучший результат"
      ],
      "metadata": {
        "id": "JGjdZiGz5_ST"
      }
    }
  ]
}