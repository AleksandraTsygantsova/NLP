{
  "cells": [
    {
      "cell_type": "markdown",
      "metadata": {
        "id": "Lg7BehgNoNRH"
      },
      "source": [
        "\n",
        "\n",
        "Задание:\n",
        "\n",
        "    объединить в одну выборку\n",
        "    на основе word2vec/fasttext/glove/слоя Embedding реализовать метод поиска ближайших твитов (на вход метода должен приходить запрос (какой-то твит, вопрос) и количество вариантов вывода к примеру 5-ть, ваш метод должен возвращать 5-ть ближайших твитов к этому запросу)\n",
        "    Проверить насколько хорошо работают подходы\n",
        "\n"
      ]
    },
    {
      "cell_type": "code",
      "execution_count": 1,
      "metadata": {
        "colab": {
          "base_uri": "https://localhost:8080/"
        },
        "id": "cmKXPp4RoEdV",
        "outputId": "d76f666b-3d2c-42e2-b88f-2f701d3bd2c2"
      },
      "outputs": [
        {
          "output_type": "stream",
          "name": "stdout",
          "text": [
            "--2022-06-19 10:40:23--  https://www.dropbox.com/s/fnpq3z4bcnoktiv/positive.csv\n",
            "Resolving www.dropbox.com (www.dropbox.com)... 162.125.5.18, 2620:100:601d:18::a27d:512\n",
            "Connecting to www.dropbox.com (www.dropbox.com)|162.125.5.18|:443... connected.\n",
            "HTTP request sent, awaiting response... 301 Moved Permanently\n",
            "Location: /s/raw/fnpq3z4bcnoktiv/positive.csv [following]\n",
            "--2022-06-19 10:40:23--  https://www.dropbox.com/s/raw/fnpq3z4bcnoktiv/positive.csv\n",
            "Reusing existing connection to www.dropbox.com:443.\n",
            "HTTP request sent, awaiting response... 302 Found\n",
            "Location: https://ucf788216df7723680704e016ab2.dl.dropboxusercontent.com/cd/0/inline/BndDsGIisiIdipVQHkhUHJ7fyss_q6mYm0bfAoy602rRJMXLeH9tR9gCp_SPuHHwMD6tXSIOvWuraRk1TUq2kjfzQ_I2msKAmfmmXV-ARkUv-iEHifIXgg3vRfxelASpC414fBLx_-Uy-tjLs4Tq13pkrqP-uc4a1fNrW1M8cLuNZw/file# [following]\n",
            "--2022-06-19 10:40:24--  https://ucf788216df7723680704e016ab2.dl.dropboxusercontent.com/cd/0/inline/BndDsGIisiIdipVQHkhUHJ7fyss_q6mYm0bfAoy602rRJMXLeH9tR9gCp_SPuHHwMD6tXSIOvWuraRk1TUq2kjfzQ_I2msKAmfmmXV-ARkUv-iEHifIXgg3vRfxelASpC414fBLx_-Uy-tjLs4Tq13pkrqP-uc4a1fNrW1M8cLuNZw/file\n",
            "Resolving ucf788216df7723680704e016ab2.dl.dropboxusercontent.com (ucf788216df7723680704e016ab2.dl.dropboxusercontent.com)... 162.125.5.15, 2620:100:601d:15::a27d:50f\n",
            "Connecting to ucf788216df7723680704e016ab2.dl.dropboxusercontent.com (ucf788216df7723680704e016ab2.dl.dropboxusercontent.com)|162.125.5.15|:443... connected.\n",
            "HTTP request sent, awaiting response... 200 OK\n",
            "Length: 26233379 (25M) [text/plain]\n",
            "Saving to: ‘positive.csv.2’\n",
            "\n",
            "positive.csv.2      100%[===================>]  25.02M  55.4MB/s    in 0.5s    \n",
            "\n",
            "2022-06-19 10:40:24 (55.4 MB/s) - ‘positive.csv.2’ saved [26233379/26233379]\n",
            "\n",
            "--2022-06-19 10:40:25--  https://www.dropbox.com/s/r6u59ljhhjdg6j0/negative.csv\n",
            "Resolving www.dropbox.com (www.dropbox.com)... 162.125.5.18, 2620:100:601d:18::a27d:512\n",
            "Connecting to www.dropbox.com (www.dropbox.com)|162.125.5.18|:443... connected.\n",
            "HTTP request sent, awaiting response... 301 Moved Permanently\n",
            "Location: /s/raw/r6u59ljhhjdg6j0/negative.csv [following]\n",
            "--2022-06-19 10:40:25--  https://www.dropbox.com/s/raw/r6u59ljhhjdg6j0/negative.csv\n",
            "Reusing existing connection to www.dropbox.com:443.\n",
            "HTTP request sent, awaiting response... 302 Found\n",
            "Location: https://uc5bab547a2547d6c7ac400ca152.dl.dropboxusercontent.com/cd/0/inline/BnePYs0b1HkI7O-ykGxDVDpzf9oFy2F91QpZvUcn3IuitIlAOL5fQPKp0bW4agWzfzxITWqJYUFHsR9Wc1L06b_PsjTaw76Fyptj3KhLUsfLLSm2983nDZYgJGQKl5CHDQcMgZanLy_zuRoUhBk2r6PlKl3gYf5RvgD8fBj4MTZwbQ/file# [following]\n",
            "--2022-06-19 10:40:25--  https://uc5bab547a2547d6c7ac400ca152.dl.dropboxusercontent.com/cd/0/inline/BnePYs0b1HkI7O-ykGxDVDpzf9oFy2F91QpZvUcn3IuitIlAOL5fQPKp0bW4agWzfzxITWqJYUFHsR9Wc1L06b_PsjTaw76Fyptj3KhLUsfLLSm2983nDZYgJGQKl5CHDQcMgZanLy_zuRoUhBk2r6PlKl3gYf5RvgD8fBj4MTZwbQ/file\n",
            "Resolving uc5bab547a2547d6c7ac400ca152.dl.dropboxusercontent.com (uc5bab547a2547d6c7ac400ca152.dl.dropboxusercontent.com)... 162.125.5.15, 2620:100:601d:15::a27d:50f\n",
            "Connecting to uc5bab547a2547d6c7ac400ca152.dl.dropboxusercontent.com (uc5bab547a2547d6c7ac400ca152.dl.dropboxusercontent.com)|162.125.5.15|:443... connected.\n",
            "HTTP request sent, awaiting response... 200 OK\n",
            "Length: 24450101 (23M) [text/plain]\n",
            "Saving to: ‘negative.csv.2’\n",
            "\n",
            "negative.csv.2      100%[===================>]  23.32M  51.3MB/s    in 0.5s    \n",
            "\n",
            "2022-06-19 10:40:26 (51.3 MB/s) - ‘negative.csv.2’ saved [24450101/24450101]\n",
            "\n"
          ]
        }
      ],
      "source": [
        "#Загрузка данных\n",
        "!wget https://www.dropbox.com/s/fnpq3z4bcnoktiv/positive.csv\n",
        "!wget https://www.dropbox.com/s/r6u59ljhhjdg6j0/negative.csv"
      ]
    },
    {
      "cell_type": "code",
      "execution_count": 2,
      "metadata": {
        "colab": {
          "base_uri": "https://localhost:8080/"
        },
        "id": "4YK_ZXoaobaK",
        "outputId": "1b1d18d4-cb93-4223-84d3-216e6de11898"
      },
      "outputs": [
        {
          "output_type": "stream",
          "name": "stdout",
          "text": [
            "Looking in indexes: https://pypi.org/simple, https://us-python.pkg.dev/colab-wheels/public/simple/\n",
            "Requirement already satisfied: pymorphy2 in /usr/local/lib/python3.7/dist-packages (0.9.1)\n",
            "Requirement already satisfied: docopt>=0.6 in /usr/local/lib/python3.7/dist-packages (from pymorphy2) (0.6.2)\n",
            "Requirement already satisfied: pymorphy2-dicts-ru<3.0,>=2.4 in /usr/local/lib/python3.7/dist-packages (from pymorphy2) (2.4.417127.4579844)\n",
            "Requirement already satisfied: dawg-python>=0.7.1 in /usr/local/lib/python3.7/dist-packages (from pymorphy2) (0.7.2)\n",
            "Looking in indexes: https://pypi.org/simple, https://us-python.pkg.dev/colab-wheels/public/simple/\n",
            "Requirement already satisfied: stop_words in /usr/local/lib/python3.7/dist-packages (2018.7.23)\n",
            "Looking in indexes: https://pypi.org/simple, https://us-python.pkg.dev/colab-wheels/public/simple/\n",
            "Requirement already satisfied: annoy in /usr/local/lib/python3.7/dist-packages (1.17.0)\n"
          ]
        }
      ],
      "source": [
        "# Установка библиотек\n",
        "!pip install pymorphy2\n",
        "!pip install stop_words\n",
        "!pip install annoy"
      ]
    },
    {
      "cell_type": "code",
      "execution_count": 3,
      "metadata": {
        "id": "cNJGaGWAoKxO"
      },
      "outputs": [],
      "source": [
        "# Загрузка библиотек\n",
        "import pandas as pd\n",
        "import gensim.downloader as api\n",
        "from gensim.models import Word2Vec, FastText\n",
        "from pymorphy2 import MorphAnalyzer\n",
        "from stop_words import get_stop_words\n",
        "import string\n",
        "from sklearn.model_selection import train_test_split\n",
        "import annoy\n",
        "from nltk.corpus import stopwords\n",
        "from nltk.tokenize import word_tokenize\n",
        "import numpy as np\n",
        "import gensim.models\n",
        "import tensorflow as tf\n",
        "from tensorflow.keras import Sequential\n",
        "from tensorflow.keras.layers import Input, Embedding\n",
        "from tensorflow.keras.layers.experimental.preprocessing import TextVectorization\n",
        "from tqdm import tqdm"
      ]
    },
    {
      "cell_type": "code",
      "execution_count": 4,
      "metadata": {
        "colab": {
          "base_uri": "https://localhost:8080/",
          "height": 363
        },
        "id": "O6Wp1LxHosNH",
        "outputId": "8e6922fd-60f8-4302-8962-6c3908b585e0"
      },
      "outputs": [
        {
          "output_type": "execute_result",
          "data": {
            "text/plain": [
              "                                                     text     label\n",
              "74088   Четось я смотрю как мин половина тех, кто пост...  positive\n",
              "94150   Пиздато, когда у тебя новый номер и его знают ...  positive\n",
              "97161   Почему? Ну почему мне всегда приходится выбира...  negative\n",
              "70963   25 самых опасных для психики фильмов\\nОграниче...  negative\n",
              "17348   @mosssberry вотвот( теперь учусь на ошибках и ...  negative\n",
              "35434   @dasha_nechaeVa даш, ну ты че??!?!?!?! это сли...  positive\n",
              "1116    Красивая)) — Воооу спасибочки:3 http://t.co/a6...  positive\n",
              "22641   @hotselenurr одно вытекает из другово. соответ...  negative\n",
              "36105   час потратила, но наткнулась на то, что хотела...  positive\n",
              "101621  Хочу что бы были снегопады большие.Эйй,зимааа,...  negative"
            ],
            "text/html": [
              "\n",
              "  <div id=\"df-e65e1c7e-d85e-45fb-a766-8d06549bfa3f\">\n",
              "    <div class=\"colab-df-container\">\n",
              "      <div>\n",
              "<style scoped>\n",
              "    .dataframe tbody tr th:only-of-type {\n",
              "        vertical-align: middle;\n",
              "    }\n",
              "\n",
              "    .dataframe tbody tr th {\n",
              "        vertical-align: top;\n",
              "    }\n",
              "\n",
              "    .dataframe thead th {\n",
              "        text-align: right;\n",
              "    }\n",
              "</style>\n",
              "<table border=\"1\" class=\"dataframe\">\n",
              "  <thead>\n",
              "    <tr style=\"text-align: right;\">\n",
              "      <th></th>\n",
              "      <th>text</th>\n",
              "      <th>label</th>\n",
              "    </tr>\n",
              "  </thead>\n",
              "  <tbody>\n",
              "    <tr>\n",
              "      <th>74088</th>\n",
              "      <td>Четось я смотрю как мин половина тех, кто пост...</td>\n",
              "      <td>positive</td>\n",
              "    </tr>\n",
              "    <tr>\n",
              "      <th>94150</th>\n",
              "      <td>Пиздато, когда у тебя новый номер и его знают ...</td>\n",
              "      <td>positive</td>\n",
              "    </tr>\n",
              "    <tr>\n",
              "      <th>97161</th>\n",
              "      <td>Почему? Ну почему мне всегда приходится выбира...</td>\n",
              "      <td>negative</td>\n",
              "    </tr>\n",
              "    <tr>\n",
              "      <th>70963</th>\n",
              "      <td>25 самых опасных для психики фильмов\\nОграниче...</td>\n",
              "      <td>negative</td>\n",
              "    </tr>\n",
              "    <tr>\n",
              "      <th>17348</th>\n",
              "      <td>@mosssberry вотвот( теперь учусь на ошибках и ...</td>\n",
              "      <td>negative</td>\n",
              "    </tr>\n",
              "    <tr>\n",
              "      <th>35434</th>\n",
              "      <td>@dasha_nechaeVa даш, ну ты че??!?!?!?! это сли...</td>\n",
              "      <td>positive</td>\n",
              "    </tr>\n",
              "    <tr>\n",
              "      <th>1116</th>\n",
              "      <td>Красивая)) — Воооу спасибочки:3 http://t.co/a6...</td>\n",
              "      <td>positive</td>\n",
              "    </tr>\n",
              "    <tr>\n",
              "      <th>22641</th>\n",
              "      <td>@hotselenurr одно вытекает из другово. соответ...</td>\n",
              "      <td>negative</td>\n",
              "    </tr>\n",
              "    <tr>\n",
              "      <th>36105</th>\n",
              "      <td>час потратила, но наткнулась на то, что хотела...</td>\n",
              "      <td>positive</td>\n",
              "    </tr>\n",
              "    <tr>\n",
              "      <th>101621</th>\n",
              "      <td>Хочу что бы были снегопады большие.Эйй,зимааа,...</td>\n",
              "      <td>negative</td>\n",
              "    </tr>\n",
              "  </tbody>\n",
              "</table>\n",
              "</div>\n",
              "      <button class=\"colab-df-convert\" onclick=\"convertToInteractive('df-e65e1c7e-d85e-45fb-a766-8d06549bfa3f')\"\n",
              "              title=\"Convert this dataframe to an interactive table.\"\n",
              "              style=\"display:none;\">\n",
              "        \n",
              "  <svg xmlns=\"http://www.w3.org/2000/svg\" height=\"24px\"viewBox=\"0 0 24 24\"\n",
              "       width=\"24px\">\n",
              "    <path d=\"M0 0h24v24H0V0z\" fill=\"none\"/>\n",
              "    <path d=\"M18.56 5.44l.94 2.06.94-2.06 2.06-.94-2.06-.94-.94-2.06-.94 2.06-2.06.94zm-11 1L8.5 8.5l.94-2.06 2.06-.94-2.06-.94L8.5 2.5l-.94 2.06-2.06.94zm10 10l.94 2.06.94-2.06 2.06-.94-2.06-.94-.94-2.06-.94 2.06-2.06.94z\"/><path d=\"M17.41 7.96l-1.37-1.37c-.4-.4-.92-.59-1.43-.59-.52 0-1.04.2-1.43.59L10.3 9.45l-7.72 7.72c-.78.78-.78 2.05 0 2.83L4 21.41c.39.39.9.59 1.41.59.51 0 1.02-.2 1.41-.59l7.78-7.78 2.81-2.81c.8-.78.8-2.07 0-2.86zM5.41 20L4 18.59l7.72-7.72 1.47 1.35L5.41 20z\"/>\n",
              "  </svg>\n",
              "      </button>\n",
              "      \n",
              "  <style>\n",
              "    .colab-df-container {\n",
              "      display:flex;\n",
              "      flex-wrap:wrap;\n",
              "      gap: 12px;\n",
              "    }\n",
              "\n",
              "    .colab-df-convert {\n",
              "      background-color: #E8F0FE;\n",
              "      border: none;\n",
              "      border-radius: 50%;\n",
              "      cursor: pointer;\n",
              "      display: none;\n",
              "      fill: #1967D2;\n",
              "      height: 32px;\n",
              "      padding: 0 0 0 0;\n",
              "      width: 32px;\n",
              "    }\n",
              "\n",
              "    .colab-df-convert:hover {\n",
              "      background-color: #E2EBFA;\n",
              "      box-shadow: 0px 1px 2px rgba(60, 64, 67, 0.3), 0px 1px 3px 1px rgba(60, 64, 67, 0.15);\n",
              "      fill: #174EA6;\n",
              "    }\n",
              "\n",
              "    [theme=dark] .colab-df-convert {\n",
              "      background-color: #3B4455;\n",
              "      fill: #D2E3FC;\n",
              "    }\n",
              "\n",
              "    [theme=dark] .colab-df-convert:hover {\n",
              "      background-color: #434B5C;\n",
              "      box-shadow: 0px 1px 3px 1px rgba(0, 0, 0, 0.15);\n",
              "      filter: drop-shadow(0px 1px 2px rgba(0, 0, 0, 0.3));\n",
              "      fill: #FFFFFF;\n",
              "    }\n",
              "  </style>\n",
              "\n",
              "      <script>\n",
              "        const buttonEl =\n",
              "          document.querySelector('#df-e65e1c7e-d85e-45fb-a766-8d06549bfa3f button.colab-df-convert');\n",
              "        buttonEl.style.display =\n",
              "          google.colab.kernel.accessAllowed ? 'block' : 'none';\n",
              "\n",
              "        async function convertToInteractive(key) {\n",
              "          const element = document.querySelector('#df-e65e1c7e-d85e-45fb-a766-8d06549bfa3f');\n",
              "          const dataTable =\n",
              "            await google.colab.kernel.invokeFunction('convertToInteractive',\n",
              "                                                     [key], {});\n",
              "          if (!dataTable) return;\n",
              "\n",
              "          const docLinkHtml = 'Like what you see? Visit the ' +\n",
              "            '<a target=\"_blank\" href=https://colab.research.google.com/notebooks/data_table.ipynb>data table notebook</a>'\n",
              "            + ' to learn more about interactive tables.';\n",
              "          element.innerHTML = '';\n",
              "          dataTable['output_type'] = 'display_data';\n",
              "          await google.colab.output.renderOutput(dataTable, element);\n",
              "          const docLink = document.createElement('div');\n",
              "          docLink.innerHTML = docLinkHtml;\n",
              "          element.appendChild(docLink);\n",
              "        }\n",
              "      </script>\n",
              "    </div>\n",
              "  </div>\n",
              "  "
            ]
          },
          "metadata": {},
          "execution_count": 4
        }
      ],
      "source": [
        "#Импорт данных и объединение в один датасет\n",
        "positive = pd.read_csv('positive.csv', sep=';', usecols=[3], names=['text'])\n",
        "positive['label'] = 'positive'\n",
        "\n",
        "negative = pd.read_csv('negative.csv', sep=';', usecols=[3], names=['text'])\n",
        "negative['label'] = 'negative'\n",
        "\n",
        "df = positive.append(negative)\n",
        "df.sample(10)"
      ]
    },
    {
      "cell_type": "code",
      "execution_count": 5,
      "metadata": {
        "id": "uobQZrXEosa-"
      },
      "outputs": [],
      "source": [
        "# Разделение на трейн и тест\n",
        "X_train, X_test, y_train, y_test = train_test_split(df.text, df.label)"
      ]
    },
    {
      "cell_type": "code",
      "execution_count": 6,
      "metadata": {
        "colab": {
          "base_uri": "https://localhost:8080/"
        },
        "id": "ryJsbOE3osif",
        "outputId": "bf19b195-847d-4b37-c98e-006245e15481"
      },
      "outputs": [
        {
          "output_type": "stream",
          "name": "stderr",
          "text": [
            "[nltk_data] Downloading package stopwords to /root/nltk_data...\n",
            "[nltk_data]   Package stopwords is already up-to-date!\n",
            "[nltk_data] Downloading package punkt to /root/nltk_data...\n",
            "[nltk_data]   Package punkt is already up-to-date!\n"
          ]
        },
        {
          "output_type": "execute_result",
          "data": {
            "text/plain": [
              "True"
            ]
          },
          "metadata": {},
          "execution_count": 6
        }
      ],
      "source": [
        "#Предобработка данных\n",
        "\n",
        "import nltk\n",
        "nltk.download('stopwords')\n",
        "\n",
        "import nltk\n",
        "nltk.download('punkt')"
      ]
    },
    {
      "cell_type": "code",
      "execution_count": 7,
      "metadata": {
        "id": "tk5qcQplpTRw"
      },
      "outputs": [],
      "source": [
        "morpher = MorphAnalyzer()\n",
        "sw = get_stop_words(\"ru\") + stopwords.words('russian')\n",
        "punkt = list(string.punctuation)\n",
        "noise = set(sw + punkt)\n",
        "\n",
        "def preprocess_txt(text):\n",
        "    return [t for t in [morpher.parse(token)[0].normal_form \n",
        "                                for token in word_tokenize(text)] if t not in noise]"
      ]
    },
    {
      "cell_type": "code",
      "execution_count": 8,
      "metadata": {
        "id": "T4soPO41pYX9",
        "colab": {
          "base_uri": "https://localhost:8080/"
        },
        "outputId": "1bdb9eef-3e35-42d2-da45-4c9e72851647"
      },
      "outputs": [
        {
          "output_type": "stream",
          "name": "stderr",
          "text": [
            " 59%|█████▉    | 100000/170125 [04:42<03:18, 353.47it/s]"
          ]
        },
        {
          "output_type": "stream",
          "name": "stdout",
          "text": [
            "CPU times: user 4min 32s, sys: 2.34 s, total: 4min 34s\n",
            "Wall time: 4min 42s\n"
          ]
        },
        {
          "output_type": "stream",
          "name": "stderr",
          "text": [
            "\n"
          ]
        }
      ],
      "source": [
        "%%time\n",
        "assert True\n",
        "\n",
        "# Preprocess for models fitting\n",
        "tweet_tokens = []\n",
        "c = 0\n",
        "for text in tqdm(X_train):\n",
        "    tweet_prep = preprocess_txt(text)\n",
        "    tweet_tokens.append(tweet_prep)\n",
        "    c += 1\n",
        "    \n",
        "    if c > 100000:\n",
        "        break"
      ]
    },
    {
      "cell_type": "code",
      "execution_count": 9,
      "metadata": {
        "id": "TF-M-pvnpc0h"
      },
      "outputs": [],
      "source": [
        "# убираем из токенов X_train'a те, короче 2 символов\n",
        "tweet_tokens = [i for i in tweet_tokens if len(i) > 2]"
      ]
    },
    {
      "cell_type": "code",
      "execution_count": 10,
      "metadata": {
        "id": "llYvIMf0pgzf"
      },
      "outputs": [],
      "source": [
        "# Функция поиска 5 ближайших твитов\n",
        "def get_response(tweet, index, model, index_map):\n",
        "    tweet_token = preprocess_txt(tweet)\n",
        "    vector = np.zeros(300)\n",
        "    norm = 0\n",
        "    for word in tweet_token:\n",
        "        if word in model:\n",
        "            vector += model[word]\n",
        "            norm += 1\n",
        "    if norm > 0:\n",
        "        vector = vector / norm\n",
        "    similar_tweet = index.get_nns_by_vector(vector, 5, include_distances=True)\n",
        "    \n",
        "    result = pd.DataFrame({'tweet': [index_map[i]  for i in similar_tweet[0]], \n",
        "                           'distance' : similar_tweet[1]})\n",
        "    return result"
      ]
    },
    {
      "cell_type": "code",
      "execution_count": 11,
      "metadata": {
        "id": "oA1b-ALfpkL7"
      },
      "outputs": [],
      "source": [
        "# Процедура поиска ближайших твитов\n",
        "def get_model_index(model):\n",
        "    model_index = annoy.AnnoyIndex(300 ,'angular') # поиск ближайших соседей\n",
        "\n",
        "    index_map = {}\n",
        "    counter = 0\n",
        "\n",
        "    for tweet in X_train:\n",
        "        n_model = 0\n",
        "        index_map[counter] = tweet\n",
        "        tweet_prep = preprocess_txt(tweet)\n",
        "        \n",
        "        vector_model = np.zeros(300) #вектор твита\n",
        "\n",
        "        for word in tweet_prep:\n",
        "            if word in model:\n",
        "                vector_model += model[word]\n",
        "                n_model += 1\n",
        "        if n_model > 0:\n",
        "            vector_model = vector_model / n_model #нормализуем вектор твита\n",
        "       \n",
        "        model_index.add_item(counter, vector_model) #добавляем элемент для индексации\n",
        "     \n",
        "        counter += 1\n",
        "\n",
        "        if counter > 100000:\n",
        "            break\n",
        "\n",
        "    model_index.build(10) #из индексов создаем 10 кластеров\n",
        "    return model_index, index_map"
      ]
    },
    {
      "cell_type": "markdown",
      "metadata": {
        "id": "MOu-g0gfp2LQ"
      },
      "source": [
        "**Word2Vec**"
      ]
    },
    {
      "cell_type": "code",
      "execution_count": 12,
      "metadata": {
        "id": "XGLH0faDptqt"
      },
      "outputs": [],
      "source": [
        "modelW2V = Word2Vec(sentences=tweet_tokens, size = 300, window=5, min_count=1)\n",
        "w2v_index, index_map = get_model_index(modelW2V.wv)"
      ]
    },
    {
      "cell_type": "code",
      "execution_count": 13,
      "metadata": {
        "colab": {
          "base_uri": "https://localhost:8080/",
          "height": 241
        },
        "id": "5lrZONMQp838",
        "outputId": "6b837ad9-00e9-4aa7-a102-72c74df31550"
      },
      "outputs": [
        {
          "output_type": "stream",
          "name": "stdout",
          "text": [
            "Выходной на Ура!!!:)\n",
            "И все вроде супер но мало....!!!хочу еще.\n"
          ]
        },
        {
          "output_type": "execute_result",
          "data": {
            "text/plain": [
              "                                               tweet  distance\n",
              "0        Эх...Как все таки быстро прошли выходные:((  0.028363\n",
              "1  Ну что ж....сегодняшний день прошёл довольно-т...  0.034504\n",
              "2  Вроде как и выходной сегодня,но дел куча.пришл...  0.036346\n",
              "3  @_oolya Воу! Крутенько...  если бы я так просп...  0.036352\n",
              "4  Проспала на работку((( Опоздала....плохой день:((  0.037033"
            ],
            "text/html": [
              "\n",
              "  <div id=\"df-86be63f7-f0f3-414d-a1f7-9d00aa9e90b2\">\n",
              "    <div class=\"colab-df-container\">\n",
              "      <div>\n",
              "<style scoped>\n",
              "    .dataframe tbody tr th:only-of-type {\n",
              "        vertical-align: middle;\n",
              "    }\n",
              "\n",
              "    .dataframe tbody tr th {\n",
              "        vertical-align: top;\n",
              "    }\n",
              "\n",
              "    .dataframe thead th {\n",
              "        text-align: right;\n",
              "    }\n",
              "</style>\n",
              "<table border=\"1\" class=\"dataframe\">\n",
              "  <thead>\n",
              "    <tr style=\"text-align: right;\">\n",
              "      <th></th>\n",
              "      <th>tweet</th>\n",
              "      <th>distance</th>\n",
              "    </tr>\n",
              "  </thead>\n",
              "  <tbody>\n",
              "    <tr>\n",
              "      <th>0</th>\n",
              "      <td>Эх...Как все таки быстро прошли выходные:((</td>\n",
              "      <td>0.028363</td>\n",
              "    </tr>\n",
              "    <tr>\n",
              "      <th>1</th>\n",
              "      <td>Ну что ж....сегодняшний день прошёл довольно-т...</td>\n",
              "      <td>0.034504</td>\n",
              "    </tr>\n",
              "    <tr>\n",
              "      <th>2</th>\n",
              "      <td>Вроде как и выходной сегодня,но дел куча.пришл...</td>\n",
              "      <td>0.036346</td>\n",
              "    </tr>\n",
              "    <tr>\n",
              "      <th>3</th>\n",
              "      <td>@_oolya Воу! Крутенько...  если бы я так просп...</td>\n",
              "      <td>0.036352</td>\n",
              "    </tr>\n",
              "    <tr>\n",
              "      <th>4</th>\n",
              "      <td>Проспала на работку((( Опоздала....плохой день:((</td>\n",
              "      <td>0.037033</td>\n",
              "    </tr>\n",
              "  </tbody>\n",
              "</table>\n",
              "</div>\n",
              "      <button class=\"colab-df-convert\" onclick=\"convertToInteractive('df-86be63f7-f0f3-414d-a1f7-9d00aa9e90b2')\"\n",
              "              title=\"Convert this dataframe to an interactive table.\"\n",
              "              style=\"display:none;\">\n",
              "        \n",
              "  <svg xmlns=\"http://www.w3.org/2000/svg\" height=\"24px\"viewBox=\"0 0 24 24\"\n",
              "       width=\"24px\">\n",
              "    <path d=\"M0 0h24v24H0V0z\" fill=\"none\"/>\n",
              "    <path d=\"M18.56 5.44l.94 2.06.94-2.06 2.06-.94-2.06-.94-.94-2.06-.94 2.06-2.06.94zm-11 1L8.5 8.5l.94-2.06 2.06-.94-2.06-.94L8.5 2.5l-.94 2.06-2.06.94zm10 10l.94 2.06.94-2.06 2.06-.94-2.06-.94-.94-2.06-.94 2.06-2.06.94z\"/><path d=\"M17.41 7.96l-1.37-1.37c-.4-.4-.92-.59-1.43-.59-.52 0-1.04.2-1.43.59L10.3 9.45l-7.72 7.72c-.78.78-.78 2.05 0 2.83L4 21.41c.39.39.9.59 1.41.59.51 0 1.02-.2 1.41-.59l7.78-7.78 2.81-2.81c.8-.78.8-2.07 0-2.86zM5.41 20L4 18.59l7.72-7.72 1.47 1.35L5.41 20z\"/>\n",
              "  </svg>\n",
              "      </button>\n",
              "      \n",
              "  <style>\n",
              "    .colab-df-container {\n",
              "      display:flex;\n",
              "      flex-wrap:wrap;\n",
              "      gap: 12px;\n",
              "    }\n",
              "\n",
              "    .colab-df-convert {\n",
              "      background-color: #E8F0FE;\n",
              "      border: none;\n",
              "      border-radius: 50%;\n",
              "      cursor: pointer;\n",
              "      display: none;\n",
              "      fill: #1967D2;\n",
              "      height: 32px;\n",
              "      padding: 0 0 0 0;\n",
              "      width: 32px;\n",
              "    }\n",
              "\n",
              "    .colab-df-convert:hover {\n",
              "      background-color: #E2EBFA;\n",
              "      box-shadow: 0px 1px 2px rgba(60, 64, 67, 0.3), 0px 1px 3px 1px rgba(60, 64, 67, 0.15);\n",
              "      fill: #174EA6;\n",
              "    }\n",
              "\n",
              "    [theme=dark] .colab-df-convert {\n",
              "      background-color: #3B4455;\n",
              "      fill: #D2E3FC;\n",
              "    }\n",
              "\n",
              "    [theme=dark] .colab-df-convert:hover {\n",
              "      background-color: #434B5C;\n",
              "      box-shadow: 0px 1px 3px 1px rgba(0, 0, 0, 0.15);\n",
              "      filter: drop-shadow(0px 1px 2px rgba(0, 0, 0, 0.3));\n",
              "      fill: #FFFFFF;\n",
              "    }\n",
              "  </style>\n",
              "\n",
              "      <script>\n",
              "        const buttonEl =\n",
              "          document.querySelector('#df-86be63f7-f0f3-414d-a1f7-9d00aa9e90b2 button.colab-df-convert');\n",
              "        buttonEl.style.display =\n",
              "          google.colab.kernel.accessAllowed ? 'block' : 'none';\n",
              "\n",
              "        async function convertToInteractive(key) {\n",
              "          const element = document.querySelector('#df-86be63f7-f0f3-414d-a1f7-9d00aa9e90b2');\n",
              "          const dataTable =\n",
              "            await google.colab.kernel.invokeFunction('convertToInteractive',\n",
              "                                                     [key], {});\n",
              "          if (!dataTable) return;\n",
              "\n",
              "          const docLinkHtml = 'Like what you see? Visit the ' +\n",
              "            '<a target=\"_blank\" href=https://colab.research.google.com/notebooks/data_table.ipynb>data table notebook</a>'\n",
              "            + ' to learn more about interactive tables.';\n",
              "          element.innerHTML = '';\n",
              "          dataTable['output_type'] = 'display_data';\n",
              "          await google.colab.output.renderOutput(dataTable, element);\n",
              "          const docLink = document.createElement('div');\n",
              "          docLink.innerHTML = docLinkHtml;\n",
              "          element.appendChild(docLink);\n",
              "        }\n",
              "      </script>\n",
              "    </div>\n",
              "  </div>\n",
              "  "
            ]
          },
          "metadata": {},
          "execution_count": 13
        }
      ],
      "source": [
        "print(X_test.iloc[0])\n",
        "get_response(X_test.values[0], w2v_index, modelW2V.wv, index_map)"
      ]
    },
    {
      "cell_type": "markdown",
      "metadata": {
        "id": "aAe-HgN5p_lC"
      },
      "source": [
        "**Fasttext**"
      ]
    },
    {
      "cell_type": "code",
      "execution_count": 14,
      "metadata": {
        "id": "CDqu-Rxlp_GI"
      },
      "outputs": [],
      "source": [
        "modelFT = FastText(sentences=tweet_tokens, size=300, min_count=1, window=5, workers=8)\n",
        "ft_index, index_map = get_model_index(modelFT.wv)"
      ]
    },
    {
      "cell_type": "code",
      "execution_count": 15,
      "metadata": {
        "colab": {
          "base_uri": "https://localhost:8080/",
          "height": 241
        },
        "id": "M9E1eBubqFWP",
        "outputId": "0fc54fa3-f1b0-4813-ce9c-eadc69602b86"
      },
      "outputs": [
        {
          "output_type": "stream",
          "name": "stdout",
          "text": [
            "Выходной на Ура!!!:)\n",
            "И все вроде супер но мало....!!!хочу еще.\n"
          ]
        },
        {
          "output_type": "execute_result",
          "data": {
            "text/plain": [
              "                                               tweet  distance\n",
              "0  @Artem_Nebozdes привет. Вчера был выходной!!!)...  0.052555\n",
              "1  Мдаа...\\nОтличное начало дня,\\n5 пар просто ши...  0.052869\n",
              "2  Велосипед это здорово! Пару часиков вечерком.....  0.058243\n",
              "3  Велосипед это здорово! Пару часиков вечерком.....  0.058243\n",
              "4  Плюсы и минусы понедельника: \\n +:\\n -Танцы\\n-...  0.065570"
            ],
            "text/html": [
              "\n",
              "  <div id=\"df-f183320f-87c1-4bd5-9b54-0e509c0e90ac\">\n",
              "    <div class=\"colab-df-container\">\n",
              "      <div>\n",
              "<style scoped>\n",
              "    .dataframe tbody tr th:only-of-type {\n",
              "        vertical-align: middle;\n",
              "    }\n",
              "\n",
              "    .dataframe tbody tr th {\n",
              "        vertical-align: top;\n",
              "    }\n",
              "\n",
              "    .dataframe thead th {\n",
              "        text-align: right;\n",
              "    }\n",
              "</style>\n",
              "<table border=\"1\" class=\"dataframe\">\n",
              "  <thead>\n",
              "    <tr style=\"text-align: right;\">\n",
              "      <th></th>\n",
              "      <th>tweet</th>\n",
              "      <th>distance</th>\n",
              "    </tr>\n",
              "  </thead>\n",
              "  <tbody>\n",
              "    <tr>\n",
              "      <th>0</th>\n",
              "      <td>@Artem_Nebozdes привет. Вчера был выходной!!!)...</td>\n",
              "      <td>0.052555</td>\n",
              "    </tr>\n",
              "    <tr>\n",
              "      <th>1</th>\n",
              "      <td>Мдаа...\\nОтличное начало дня,\\n5 пар просто ши...</td>\n",
              "      <td>0.052869</td>\n",
              "    </tr>\n",
              "    <tr>\n",
              "      <th>2</th>\n",
              "      <td>Велосипед это здорово! Пару часиков вечерком.....</td>\n",
              "      <td>0.058243</td>\n",
              "    </tr>\n",
              "    <tr>\n",
              "      <th>3</th>\n",
              "      <td>Велосипед это здорово! Пару часиков вечерком.....</td>\n",
              "      <td>0.058243</td>\n",
              "    </tr>\n",
              "    <tr>\n",
              "      <th>4</th>\n",
              "      <td>Плюсы и минусы понедельника: \\n +:\\n -Танцы\\n-...</td>\n",
              "      <td>0.065570</td>\n",
              "    </tr>\n",
              "  </tbody>\n",
              "</table>\n",
              "</div>\n",
              "      <button class=\"colab-df-convert\" onclick=\"convertToInteractive('df-f183320f-87c1-4bd5-9b54-0e509c0e90ac')\"\n",
              "              title=\"Convert this dataframe to an interactive table.\"\n",
              "              style=\"display:none;\">\n",
              "        \n",
              "  <svg xmlns=\"http://www.w3.org/2000/svg\" height=\"24px\"viewBox=\"0 0 24 24\"\n",
              "       width=\"24px\">\n",
              "    <path d=\"M0 0h24v24H0V0z\" fill=\"none\"/>\n",
              "    <path d=\"M18.56 5.44l.94 2.06.94-2.06 2.06-.94-2.06-.94-.94-2.06-.94 2.06-2.06.94zm-11 1L8.5 8.5l.94-2.06 2.06-.94-2.06-.94L8.5 2.5l-.94 2.06-2.06.94zm10 10l.94 2.06.94-2.06 2.06-.94-2.06-.94-.94-2.06-.94 2.06-2.06.94z\"/><path d=\"M17.41 7.96l-1.37-1.37c-.4-.4-.92-.59-1.43-.59-.52 0-1.04.2-1.43.59L10.3 9.45l-7.72 7.72c-.78.78-.78 2.05 0 2.83L4 21.41c.39.39.9.59 1.41.59.51 0 1.02-.2 1.41-.59l7.78-7.78 2.81-2.81c.8-.78.8-2.07 0-2.86zM5.41 20L4 18.59l7.72-7.72 1.47 1.35L5.41 20z\"/>\n",
              "  </svg>\n",
              "      </button>\n",
              "      \n",
              "  <style>\n",
              "    .colab-df-container {\n",
              "      display:flex;\n",
              "      flex-wrap:wrap;\n",
              "      gap: 12px;\n",
              "    }\n",
              "\n",
              "    .colab-df-convert {\n",
              "      background-color: #E8F0FE;\n",
              "      border: none;\n",
              "      border-radius: 50%;\n",
              "      cursor: pointer;\n",
              "      display: none;\n",
              "      fill: #1967D2;\n",
              "      height: 32px;\n",
              "      padding: 0 0 0 0;\n",
              "      width: 32px;\n",
              "    }\n",
              "\n",
              "    .colab-df-convert:hover {\n",
              "      background-color: #E2EBFA;\n",
              "      box-shadow: 0px 1px 2px rgba(60, 64, 67, 0.3), 0px 1px 3px 1px rgba(60, 64, 67, 0.15);\n",
              "      fill: #174EA6;\n",
              "    }\n",
              "\n",
              "    [theme=dark] .colab-df-convert {\n",
              "      background-color: #3B4455;\n",
              "      fill: #D2E3FC;\n",
              "    }\n",
              "\n",
              "    [theme=dark] .colab-df-convert:hover {\n",
              "      background-color: #434B5C;\n",
              "      box-shadow: 0px 1px 3px 1px rgba(0, 0, 0, 0.15);\n",
              "      filter: drop-shadow(0px 1px 2px rgba(0, 0, 0, 0.3));\n",
              "      fill: #FFFFFF;\n",
              "    }\n",
              "  </style>\n",
              "\n",
              "      <script>\n",
              "        const buttonEl =\n",
              "          document.querySelector('#df-f183320f-87c1-4bd5-9b54-0e509c0e90ac button.colab-df-convert');\n",
              "        buttonEl.style.display =\n",
              "          google.colab.kernel.accessAllowed ? 'block' : 'none';\n",
              "\n",
              "        async function convertToInteractive(key) {\n",
              "          const element = document.querySelector('#df-f183320f-87c1-4bd5-9b54-0e509c0e90ac');\n",
              "          const dataTable =\n",
              "            await google.colab.kernel.invokeFunction('convertToInteractive',\n",
              "                                                     [key], {});\n",
              "          if (!dataTable) return;\n",
              "\n",
              "          const docLinkHtml = 'Like what you see? Visit the ' +\n",
              "            '<a target=\"_blank\" href=https://colab.research.google.com/notebooks/data_table.ipynb>data table notebook</a>'\n",
              "            + ' to learn more about interactive tables.';\n",
              "          element.innerHTML = '';\n",
              "          dataTable['output_type'] = 'display_data';\n",
              "          await google.colab.output.renderOutput(dataTable, element);\n",
              "          const docLink = document.createElement('div');\n",
              "          docLink.innerHTML = docLinkHtml;\n",
              "          element.appendChild(docLink);\n",
              "        }\n",
              "      </script>\n",
              "    </div>\n",
              "  </div>\n",
              "  "
            ]
          },
          "metadata": {},
          "execution_count": 15
        }
      ],
      "source": [
        "print(X_test.iloc[0])\n",
        "get_response(X_test.values[0], ft_index, modelFT.wv, index_map)"
      ]
    },
    {
      "cell_type": "markdown",
      "metadata": {
        "id": "9lkVSPvWqJiv"
      },
      "source": [
        "**Embedding слой**"
      ]
    },
    {
      "cell_type": "code",
      "execution_count": 16,
      "metadata": {
        "id": "VAHxdTUeqRvq"
      },
      "outputs": [],
      "source": [
        "text_dataset = tf.data.Dataset.from_tensor_slices([x for l in tweet_tokens for x in l]) #список всех токенов из x_train"
      ]
    },
    {
      "cell_type": "code",
      "execution_count": 17,
      "metadata": {
        "id": "DNLewhvRqZSO"
      },
      "outputs": [],
      "source": [
        "# Создание слоя словаря\n",
        "\n",
        "vectorize_layer = TextVectorization(\n",
        "    max_tokens=100000,\n",
        "    output_mode='int',\n",
        "    output_sequence_length=1)\n",
        "#создаем словарь\n",
        "vectorize_layer.adapt(text_dataset)"
      ]
    },
    {
      "cell_type": "code",
      "execution_count": 18,
      "metadata": {
        "id": "z6hnXlpzqava"
      },
      "outputs": [],
      "source": [
        "#создаем модель\n",
        "model = Sequential()\n",
        "model.add(tf.keras.Input(shape=(1,), dtype=tf.string)) #на вход подается строка\n",
        "model.add(vectorize_layer)  #получаем тензор (1, 100), содержащий для каждого слова индексы из словаря \n",
        "model.add(Embedding(100000, 300, input_length=100, mask_zero=True))"
      ]
    },
    {
      "cell_type": "code",
      "execution_count": 19,
      "metadata": {
        "id": "W3naZvEzqdDR",
        "colab": {
          "base_uri": "https://localhost:8080/"
        },
        "outputId": "8c6e8b45-25ac-489d-99a5-866923ff0215"
      },
      "outputs": [
        {
          "output_type": "execute_result",
          "data": {
            "text/plain": [
              "array([-1.87604427e-02, -7.56000355e-03, -8.64162296e-03, -8.82103294e-03,\n",
              "       -4.90226597e-03,  1.65427960e-02,  4.59314510e-03,  1.73037089e-02,\n",
              "       -1.87179223e-02, -2.33843084e-02, -2.67689582e-02,  1.83700062e-02,\n",
              "       -5.20361587e-03, -1.25202909e-02,  1.08218081e-02, -2.51884591e-02,\n",
              "        2.69699432e-02, -1.35995448e-04,  4.20327820e-02,  4.88635637e-02,\n",
              "       -3.68692875e-02, -2.87249219e-02, -3.09357885e-02, -1.16921961e-04,\n",
              "        8.71505588e-03, -3.49123962e-02, -1.94815155e-02,  1.90007351e-02,\n",
              "        9.82488319e-03, -8.04698467e-03, -5.27235121e-03,  6.29782677e-03,\n",
              "       -4.02356163e-02, -3.79657634e-02,  2.37519853e-02,  6.77867979e-03,\n",
              "        4.64197882e-02,  4.96873371e-02,  4.97776307e-02,  2.30693482e-02,\n",
              "        4.18761708e-02,  4.41130884e-02, -9.64593887e-03,  1.56892464e-03,\n",
              "       -4.10956517e-02,  2.27440633e-02,  4.65472676e-02,  1.28646381e-02,\n",
              "        2.25502588e-02,  1.74317025e-02, -4.07623537e-02, -2.68353950e-02,\n",
              "       -2.21077092e-02, -1.23502240e-02, -4.39628474e-02,  3.61933969e-02,\n",
              "        2.52473839e-02,  3.33658494e-02,  4.90778126e-02, -4.45679426e-02,\n",
              "       -4.23706174e-02,  8.11684877e-04, -2.21087337e-02,  1.34888180e-02,\n",
              "       -4.56500426e-02,  3.16512845e-02, -4.69705835e-02,  1.00455992e-02,\n",
              "       -3.60517725e-02,  1.00749843e-02,  4.46557999e-04, -2.68627051e-02,\n",
              "        1.69923343e-02, -1.83786154e-02, -6.67072833e-04,  5.49940020e-03,\n",
              "       -7.99087435e-03,  5.46754524e-03,  4.56546061e-02,  2.25516595e-02,\n",
              "        4.27963026e-02, -1.95176005e-02, -3.52072120e-02, -4.72360253e-02,\n",
              "        1.80808641e-02, -3.31096053e-02, -8.36688280e-03,  4.65439446e-02,\n",
              "       -1.88171510e-02,  6.05242327e-03, -1.26099363e-02,  4.95330952e-02,\n",
              "        2.65381373e-02, -4.04768363e-02, -7.63152912e-03, -2.12078579e-02,\n",
              "        1.81968696e-02,  1.63169764e-02, -3.68968137e-02,  3.74511220e-02,\n",
              "       -8.16927105e-03,  2.81278379e-02, -4.51549180e-02,  2.22575329e-02,\n",
              "       -3.20371240e-03, -4.35545295e-03,  1.57158636e-02,  1.01405606e-02,\n",
              "        1.69621147e-02,  3.41711529e-02, -1.79545060e-02,  2.56379358e-02,\n",
              "       -4.50310707e-02,  3.78320254e-02,  2.44988836e-02, -4.63492870e-02,\n",
              "       -1.61562450e-02,  2.62340344e-02,  4.83202972e-02,  2.01869495e-02,\n",
              "       -9.61384922e-03,  4.69593294e-02, -5.67935780e-03, -3.02399527e-02,\n",
              "       -1.42738335e-02, -5.15323877e-03, -4.48849797e-02, -1.97053440e-02,\n",
              "       -5.02802432e-04,  1.37772821e-02, -6.16192818e-03, -4.61161509e-02,\n",
              "        3.94314863e-02,  1.98079385e-02,  4.38112356e-02, -4.79733944e-03,\n",
              "       -1.87873840e-04, -3.84581462e-02, -2.85018571e-02, -1.02496967e-02,\n",
              "       -7.64443725e-03, -1.37259811e-03,  8.87107104e-04,  4.20451052e-02,\n",
              "        2.11935081e-02, -1.66776553e-02, -4.42307256e-02, -4.27792557e-02,\n",
              "        3.85370292e-02, -3.85844707e-03, -8.09768587e-03,  2.32342519e-02,\n",
              "       -3.97811905e-02, -1.07601993e-02, -2.32920647e-02, -2.03616153e-02,\n",
              "        4.97201346e-02,  2.93763317e-02,  2.46871971e-02, -2.65448820e-02,\n",
              "       -3.51125821e-02,  1.03688464e-02, -8.85285065e-03, -9.15179402e-03,\n",
              "       -2.40578409e-02,  1.38600804e-02,  8.67935270e-03,  2.95189656e-02,\n",
              "        1.78265013e-02,  4.26978506e-02,  4.06019390e-05,  4.66833450e-02,\n",
              "       -2.13892460e-02,  7.20388815e-03,  1.91670991e-02, -2.43332982e-02,\n",
              "        4.47034352e-02, -2.51021031e-02,  2.65876763e-02,  9.92162153e-03,\n",
              "        6.00468367e-04,  6.31555170e-03,  1.72379054e-02,  1.15911141e-02,\n",
              "       -2.59199273e-02,  4.39439304e-02, -3.34520116e-02, -2.97301169e-02,\n",
              "        4.58709709e-02, -3.08288820e-02, -2.46590972e-02,  4.09395806e-02,\n",
              "        1.20751150e-02, -4.03419249e-02, -3.97464857e-02,  4.44873311e-02,\n",
              "       -3.35101709e-02, -1.70795433e-02,  3.10597904e-02,  2.18739547e-02,\n",
              "        4.00406383e-02, -3.35142240e-02,  1.25125982e-02, -6.34305179e-05,\n",
              "       -2.07598563e-02, -3.50162387e-02, -3.03735137e-02,  3.49337347e-02,\n",
              "        1.95258297e-02, -2.96105035e-02,  2.18942277e-02,  4.83158343e-02,\n",
              "       -1.15939863e-02,  3.74057405e-02, -4.34711091e-02,  4.19905894e-02,\n",
              "       -4.27146330e-02, -4.16948684e-02, -1.69788599e-02,  1.67640708e-02,\n",
              "        8.29335302e-03,  7.34865665e-03, -2.68263575e-02,  4.12633456e-02,\n",
              "        3.17349471e-02,  3.91273759e-02,  1.19540095e-02, -3.73791084e-02,\n",
              "        1.43423118e-02,  1.01921074e-02,  4.06794213e-02,  3.47676761e-02,\n",
              "        1.61510222e-02,  3.59731354e-02,  1.09149702e-02,  2.37698667e-02,\n",
              "       -4.81722616e-02, -1.60039589e-03, -4.09161933e-02, -1.42057054e-02,\n",
              "        3.72838229e-04, -3.69050615e-02, -1.35022774e-02, -2.78829932e-02,\n",
              "        2.82192491e-02,  4.69553582e-02,  4.63473834e-02,  1.14017725e-03,\n",
              "        3.97515297e-03, -2.29490753e-02,  3.69891785e-02,  7.17475265e-03,\n",
              "       -1.00250132e-02, -1.37898922e-02, -2.92558316e-02, -3.50833312e-02,\n",
              "        5.44635206e-03,  4.82265092e-02, -1.74957402e-02,  1.84395947e-02,\n",
              "        4.27820534e-03, -3.25558782e-02,  8.07408243e-03, -4.16901596e-02,\n",
              "       -1.92806609e-02,  1.62236132e-02,  2.79290602e-03,  1.22356787e-02,\n",
              "       -5.04965708e-03,  1.65707208e-02,  3.22566070e-02, -1.52126327e-02,\n",
              "        4.70125563e-02, -3.96045297e-03,  3.05687450e-02, -2.47396585e-02,\n",
              "        4.92156781e-02,  4.70962562e-02,  2.24821642e-03,  4.10403647e-02,\n",
              "       -1.06416568e-02,  3.00612487e-02, -3.57522368e-02,  4.69566621e-02,\n",
              "        6.02180883e-03,  1.39106438e-03, -4.35226075e-02,  3.84060033e-02,\n",
              "       -1.12728700e-02, -3.65962014e-02,  3.86937298e-02, -2.90460233e-02,\n",
              "        3.00572552e-02,  3.46381329e-02, -3.51798646e-02, -3.28458324e-02,\n",
              "        4.02746685e-02,  3.62018012e-02,  4.66345288e-02, -2.02948581e-02],\n",
              "      dtype=float32)"
            ]
          },
          "metadata": {},
          "execution_count": 19
        }
      ],
      "source": [
        "model.predict([X_test.values[0]]).squeeze()"
      ]
    },
    {
      "cell_type": "code",
      "execution_count": 20,
      "metadata": {
        "id": "LFrxWakNqkC7",
        "colab": {
          "base_uri": "https://localhost:8080/"
        },
        "outputId": "2019a529-f904-4e7f-8da5-b59b91a690ff"
      },
      "outputs": [
        {
          "output_type": "stream",
          "name": "stderr",
          "text": [
            " 59%|█████▉    | 100000/170125 [1:21:03<56:50, 20.56it/s]\n"
          ]
        },
        {
          "output_type": "execute_result",
          "data": {
            "text/plain": [
              "True"
            ]
          },
          "metadata": {},
          "execution_count": 20
        }
      ],
      "source": [
        "# Процедура поиска ближайших твитов\n",
        "emb_index = annoy.AnnoyIndex(300 ,'angular') # поиск ближайших соседей\n",
        "\n",
        "emb_map = {}\n",
        "counter = 0\n",
        "\n",
        "for tweet in tqdm(X_train):\n",
        "    emb_map[counter] = tweet\n",
        "    vector_emb = model.predict([tweet]).squeeze()\n",
        "    emb_index.add_item(counter, vector_emb) #добавляем элемент для индексации\n",
        "    counter += 1\n",
        "        \n",
        "    if counter > 100000:\n",
        "        break\n",
        "\n",
        "emb_index.build(10) #из 10 кластеров"
      ]
    },
    {
      "cell_type": "code",
      "execution_count": 21,
      "metadata": {
        "id": "2ox7F6-3qkrS"
      },
      "outputs": [],
      "source": [
        "def get_response_emb(model, emb_index, tweet, n_similar_tweets):\n",
        "    vector = model.predict([tweet])[0][0]\n",
        "\n",
        "    similar_tweet = emb_index.get_nns_by_vector(vector, n_similar_tweets, include_distances=True)\n",
        "    \n",
        "    result = pd.DataFrame({'tweet': [emb_map[i]  for i in similar_tweet[0]], \n",
        "                           'distance' : similar_tweet[1]\n",
        "                          })\n",
        "    return result"
      ]
    },
    {
      "cell_type": "code",
      "execution_count": 22,
      "metadata": {
        "id": "v9P-k8RhqmFI",
        "colab": {
          "base_uri": "https://localhost:8080/",
          "height": 241
        },
        "outputId": "347ee11f-a0bc-4deb-deac-e14eff7fc506"
      },
      "outputs": [
        {
          "output_type": "stream",
          "name": "stdout",
          "text": [
            "Выходной на Ура!!!:)\n",
            "И все вроде супер но мало....!!!хочу еще.\n"
          ]
        },
        {
          "output_type": "execute_result",
          "data": {
            "text/plain": [
              "                                               tweet  distance\n",
              "0  @lieisnotgood ты думал, что я та девочка с ава...       0.0\n",
              "1  #Смех на всю квартиру... \"Открыл\" дверь комнат...       0.0\n",
              "2  Серъезная заявка на участие в соревнованиях!) ...       0.0\n",
              "3       Очень плохо, что нету инстаграма для iPad ;(       0.0\n",
              "4  Ужасный новый год с температурой и под одеялом...       0.0"
            ],
            "text/html": [
              "\n",
              "  <div id=\"df-28bd74b7-aac7-440f-b693-f9a05569903a\">\n",
              "    <div class=\"colab-df-container\">\n",
              "      <div>\n",
              "<style scoped>\n",
              "    .dataframe tbody tr th:only-of-type {\n",
              "        vertical-align: middle;\n",
              "    }\n",
              "\n",
              "    .dataframe tbody tr th {\n",
              "        vertical-align: top;\n",
              "    }\n",
              "\n",
              "    .dataframe thead th {\n",
              "        text-align: right;\n",
              "    }\n",
              "</style>\n",
              "<table border=\"1\" class=\"dataframe\">\n",
              "  <thead>\n",
              "    <tr style=\"text-align: right;\">\n",
              "      <th></th>\n",
              "      <th>tweet</th>\n",
              "      <th>distance</th>\n",
              "    </tr>\n",
              "  </thead>\n",
              "  <tbody>\n",
              "    <tr>\n",
              "      <th>0</th>\n",
              "      <td>@lieisnotgood ты думал, что я та девочка с ава...</td>\n",
              "      <td>0.0</td>\n",
              "    </tr>\n",
              "    <tr>\n",
              "      <th>1</th>\n",
              "      <td>#Смех на всю квартиру... \"Открыл\" дверь комнат...</td>\n",
              "      <td>0.0</td>\n",
              "    </tr>\n",
              "    <tr>\n",
              "      <th>2</th>\n",
              "      <td>Серъезная заявка на участие в соревнованиях!) ...</td>\n",
              "      <td>0.0</td>\n",
              "    </tr>\n",
              "    <tr>\n",
              "      <th>3</th>\n",
              "      <td>Очень плохо, что нету инстаграма для iPad ;(</td>\n",
              "      <td>0.0</td>\n",
              "    </tr>\n",
              "    <tr>\n",
              "      <th>4</th>\n",
              "      <td>Ужасный новый год с температурой и под одеялом...</td>\n",
              "      <td>0.0</td>\n",
              "    </tr>\n",
              "  </tbody>\n",
              "</table>\n",
              "</div>\n",
              "      <button class=\"colab-df-convert\" onclick=\"convertToInteractive('df-28bd74b7-aac7-440f-b693-f9a05569903a')\"\n",
              "              title=\"Convert this dataframe to an interactive table.\"\n",
              "              style=\"display:none;\">\n",
              "        \n",
              "  <svg xmlns=\"http://www.w3.org/2000/svg\" height=\"24px\"viewBox=\"0 0 24 24\"\n",
              "       width=\"24px\">\n",
              "    <path d=\"M0 0h24v24H0V0z\" fill=\"none\"/>\n",
              "    <path d=\"M18.56 5.44l.94 2.06.94-2.06 2.06-.94-2.06-.94-.94-2.06-.94 2.06-2.06.94zm-11 1L8.5 8.5l.94-2.06 2.06-.94-2.06-.94L8.5 2.5l-.94 2.06-2.06.94zm10 10l.94 2.06.94-2.06 2.06-.94-2.06-.94-.94-2.06-.94 2.06-2.06.94z\"/><path d=\"M17.41 7.96l-1.37-1.37c-.4-.4-.92-.59-1.43-.59-.52 0-1.04.2-1.43.59L10.3 9.45l-7.72 7.72c-.78.78-.78 2.05 0 2.83L4 21.41c.39.39.9.59 1.41.59.51 0 1.02-.2 1.41-.59l7.78-7.78 2.81-2.81c.8-.78.8-2.07 0-2.86zM5.41 20L4 18.59l7.72-7.72 1.47 1.35L5.41 20z\"/>\n",
              "  </svg>\n",
              "      </button>\n",
              "      \n",
              "  <style>\n",
              "    .colab-df-container {\n",
              "      display:flex;\n",
              "      flex-wrap:wrap;\n",
              "      gap: 12px;\n",
              "    }\n",
              "\n",
              "    .colab-df-convert {\n",
              "      background-color: #E8F0FE;\n",
              "      border: none;\n",
              "      border-radius: 50%;\n",
              "      cursor: pointer;\n",
              "      display: none;\n",
              "      fill: #1967D2;\n",
              "      height: 32px;\n",
              "      padding: 0 0 0 0;\n",
              "      width: 32px;\n",
              "    }\n",
              "\n",
              "    .colab-df-convert:hover {\n",
              "      background-color: #E2EBFA;\n",
              "      box-shadow: 0px 1px 2px rgba(60, 64, 67, 0.3), 0px 1px 3px 1px rgba(60, 64, 67, 0.15);\n",
              "      fill: #174EA6;\n",
              "    }\n",
              "\n",
              "    [theme=dark] .colab-df-convert {\n",
              "      background-color: #3B4455;\n",
              "      fill: #D2E3FC;\n",
              "    }\n",
              "\n",
              "    [theme=dark] .colab-df-convert:hover {\n",
              "      background-color: #434B5C;\n",
              "      box-shadow: 0px 1px 3px 1px rgba(0, 0, 0, 0.15);\n",
              "      filter: drop-shadow(0px 1px 2px rgba(0, 0, 0, 0.3));\n",
              "      fill: #FFFFFF;\n",
              "    }\n",
              "  </style>\n",
              "\n",
              "      <script>\n",
              "        const buttonEl =\n",
              "          document.querySelector('#df-28bd74b7-aac7-440f-b693-f9a05569903a button.colab-df-convert');\n",
              "        buttonEl.style.display =\n",
              "          google.colab.kernel.accessAllowed ? 'block' : 'none';\n",
              "\n",
              "        async function convertToInteractive(key) {\n",
              "          const element = document.querySelector('#df-28bd74b7-aac7-440f-b693-f9a05569903a');\n",
              "          const dataTable =\n",
              "            await google.colab.kernel.invokeFunction('convertToInteractive',\n",
              "                                                     [key], {});\n",
              "          if (!dataTable) return;\n",
              "\n",
              "          const docLinkHtml = 'Like what you see? Visit the ' +\n",
              "            '<a target=\"_blank\" href=https://colab.research.google.com/notebooks/data_table.ipynb>data table notebook</a>'\n",
              "            + ' to learn more about interactive tables.';\n",
              "          element.innerHTML = '';\n",
              "          dataTable['output_type'] = 'display_data';\n",
              "          await google.colab.output.renderOutput(dataTable, element);\n",
              "          const docLink = document.createElement('div');\n",
              "          docLink.innerHTML = docLinkHtml;\n",
              "          element.appendChild(docLink);\n",
              "        }\n",
              "      </script>\n",
              "    </div>\n",
              "  </div>\n",
              "  "
            ]
          },
          "metadata": {},
          "execution_count": 22
        }
      ],
      "source": [
        "print(X_test.values[0])\n",
        "get_response_emb(model, emb_index, X_test.values[0], 5)"
      ]
    }
  ],
  "metadata": {
    "accelerator": "GPU",
    "colab": {
      "collapsed_sections": [],
      "name": "HW3_looking for closeup neighbor.ipynb",
      "provenance": []
    },
    "gpuClass": "standard",
    "kernelspec": {
      "display_name": "Python 3",
      "name": "python3"
    },
    "language_info": {
      "name": "python"
    }
  },
  "nbformat": 4,
  "nbformat_minor": 0
}