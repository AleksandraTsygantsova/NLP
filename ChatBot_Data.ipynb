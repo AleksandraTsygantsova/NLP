{
  "nbformat": 4,
  "nbformat_minor": 0,
  "metadata": {
    "colab": {
      "name": "ChatBot Data.ipynb",
      "provenance": [],
      "collapsed_sections": []
    },
    "kernelspec": {
      "name": "python3",
      "display_name": "Python 3"
    },
    "language_info": {
      "name": "python"
    },
    "accelerator": "GPU",
    "gpuClass": "standard"
  },
  "cells": [
    {
      "cell_type": "markdown",
      "source": [
        "**Задание**\n",
        "\n",
        "    продумать написать тему курсового проекта\n",
        "    подготовить данные для обучения\n",
        "    продумать интенты на которые вы будете обучаться\n",
        "\n",
        "**Для сдачи задания необходимо написать**\n",
        "\n",
        "    на какую тему ваш бот будет общаться (на каких датасетах планируете обучать модели)\n",
        "    написать на какие интенты вы будете обучать бота\n"
      ],
      "metadata": {
        "id": "wzeNBbSYyN_k"
      }
    },
    {
      "cell_type": "markdown",
      "source": [
        "# Решение"
      ],
      "metadata": {
        "id": "ot8VM53s5re1"
      }
    },
    {
      "cell_type": "markdown",
      "source": [
        "**Lord of the rings ChatBot**\n",
        "\n",
        "`Задача чат-бота - общаться с людьми в тематике Властелина колец. Также чат-бот может сыграть в игру типо простого \"Акинатора\" - угадывать персонажа, которого загадал пользователь. Помимо этого бот может придумывать (генерировать) имена в стилистике Властелина колец.`\n",
        "\n",
        "*Интенты:*\n",
        "1. Болталка: чат-бот ведет диалог в стилистике Властелина колец\n",
        "2. Игра \"Угадай персонажа\"\n",
        "3. Генератор *имен*\n",
        "\n"
      ],
      "metadata": {
        "id": "hrIvwcssyRa5"
      }
    },
    {
      "cell_type": "code",
      "source": [
        "# Загружаем библиотеки\n",
        "! pip install pymorphy2\n",
        "! pip install annoy\n",
        "! pip install stop_words\n",
        "\n",
        "import pandas as pd\n",
        "import numpy as np\n",
        "import random\n",
        "from tqdm import tqdm\n",
        "import string\n",
        "\n",
        "import io\n",
        "import chardet\n",
        "import os\n",
        "import codecs\n",
        "\n",
        "import gensim.downloader as api\n",
        "from gensim.models import Word2Vec, FastText\n",
        "from pymorphy2 import MorphAnalyzer\n",
        "import annoy\n",
        "import gensim.models\n",
        "\n",
        "from stop_words import get_stop_words\n",
        "import nltk\n",
        "import nltk.data\n",
        "from nltk.corpus import stopwords\n",
        "from nltk.tokenize import word_tokenize\n",
        "\n",
        "nltk.download('stopwords')\n",
        "nltk.download('punkt')"
      ],
      "metadata": {
        "colab": {
          "base_uri": "https://localhost:8080/"
        },
        "id": "aVYiudRzEje-",
        "outputId": "ca7cdc31-261e-4ab7-a078-3fe0b13af4a7"
      },
      "execution_count": null,
      "outputs": [
        {
          "output_type": "stream",
          "name": "stdout",
          "text": [
            "Looking in indexes: https://pypi.org/simple, https://us-python.pkg.dev/colab-wheels/public/simple/\n",
            "Collecting pymorphy2\n",
            "  Downloading pymorphy2-0.9.1-py3-none-any.whl (55 kB)\n",
            "\u001b[K     |████████████████████████████████| 55 kB 3.8 MB/s \n",
            "\u001b[?25hCollecting dawg-python>=0.7.1\n",
            "  Downloading DAWG_Python-0.7.2-py2.py3-none-any.whl (11 kB)\n",
            "Collecting pymorphy2-dicts-ru<3.0,>=2.4\n",
            "  Downloading pymorphy2_dicts_ru-2.4.417127.4579844-py2.py3-none-any.whl (8.2 MB)\n",
            "\u001b[K     |████████████████████████████████| 8.2 MB 29.0 MB/s \n",
            "\u001b[?25hCollecting docopt>=0.6\n",
            "  Downloading docopt-0.6.2.tar.gz (25 kB)\n",
            "Building wheels for collected packages: docopt\n",
            "  Building wheel for docopt (setup.py) ... \u001b[?25l\u001b[?25hdone\n",
            "  Created wheel for docopt: filename=docopt-0.6.2-py2.py3-none-any.whl size=13723 sha256=b880baea4062a95ca4d32fabf26c90ba748724cd764b93447e622a6abef32fac\n",
            "  Stored in directory: /root/.cache/pip/wheels/72/b0/3f/1d95f96ff986c7dfffe46ce2be4062f38ebd04b506c77c81b9\n",
            "Successfully built docopt\n",
            "Installing collected packages: pymorphy2-dicts-ru, docopt, dawg-python, pymorphy2\n",
            "Successfully installed dawg-python-0.7.2 docopt-0.6.2 pymorphy2-0.9.1 pymorphy2-dicts-ru-2.4.417127.4579844\n",
            "Looking in indexes: https://pypi.org/simple, https://us-python.pkg.dev/colab-wheels/public/simple/\n",
            "Collecting annoy\n",
            "  Downloading annoy-1.17.0.tar.gz (646 kB)\n",
            "\u001b[K     |████████████████████████████████| 646 kB 13.9 MB/s \n",
            "\u001b[?25hBuilding wheels for collected packages: annoy\n",
            "  Building wheel for annoy (setup.py) ... \u001b[?25l\u001b[?25hdone\n",
            "  Created wheel for annoy: filename=annoy-1.17.0-cp37-cp37m-linux_x86_64.whl size=394598 sha256=44b7ae781ff7666627d07d6ad8f45ed642935f824f68dbedab70003d0053943b\n",
            "  Stored in directory: /root/.cache/pip/wheels/4f/e8/1e/7cc9ebbfa87a3b9f8ba79408d4d31831d67eea918b679a4c07\n",
            "Successfully built annoy\n",
            "Installing collected packages: annoy\n",
            "Successfully installed annoy-1.17.0\n",
            "Looking in indexes: https://pypi.org/simple, https://us-python.pkg.dev/colab-wheels/public/simple/\n",
            "Collecting stop_words\n",
            "  Downloading stop-words-2018.7.23.tar.gz (31 kB)\n",
            "Building wheels for collected packages: stop-words\n",
            "  Building wheel for stop-words (setup.py) ... \u001b[?25l\u001b[?25hdone\n",
            "  Created wheel for stop-words: filename=stop_words-2018.7.23-py3-none-any.whl size=32911 sha256=ef0c4afc61836658dc097651bc1ab96f594a340f4037580168e95aefe8e87fb0\n",
            "  Stored in directory: /root/.cache/pip/wheels/fb/86/b2/277b10b1ce9f73ce15059bf6975d4547cc4ec3feeb651978e9\n",
            "Successfully built stop-words\n",
            "Installing collected packages: stop-words\n",
            "Successfully installed stop-words-2018.7.23\n"
          ]
        },
        {
          "output_type": "stream",
          "name": "stderr",
          "text": [
            "[nltk_data] Downloading package stopwords to /root/nltk_data...\n",
            "[nltk_data]   Unzipping corpora/stopwords.zip.\n",
            "[nltk_data] Downloading package punkt to /root/nltk_data...\n",
            "[nltk_data]   Unzipping tokenizers/punkt.zip.\n"
          ]
        },
        {
          "output_type": "execute_result",
          "data": {
            "text/plain": [
              "True"
            ]
          },
          "metadata": {},
          "execution_count": 1
        }
      ]
    },
    {
      "cell_type": "markdown",
      "source": [
        "**Болталка: чат-бот ведет диалог в стилистике Властелина колец**"
      ],
      "metadata": {
        "id": "yiQDTCjWW8Yu"
      }
    },
    {
      "cell_type": "markdown",
      "source": [
        "Для первой задачи - обучим нейросеть на тексте Властелина колец. Пользователь пишет сообщение в чат-бот, модель ищет максимально похожий текст в столбце \"question\" и выдает ответ с минимальной дистанцией."
      ],
      "metadata": {
        "id": "tmE58c1r5WMH"
      }
    },
    {
      "cell_type": "code",
      "source": [
        "# Загружаем данные и сразу преобразуем их в токены\n",
        "tokenizer = nltk.data.load('tokenizers/punkt/russian.pickle')\n",
        "data = open(\"/content/lotr.txt\").read()\n",
        "\n",
        "\n",
        "# Предложения вопросы\n",
        "tokens_q = tokenizer.tokenize(data)\n",
        "print(len(tokens_q)), print(tokens_q[:3])"
      ],
      "metadata": {
        "colab": {
          "base_uri": "https://localhost:8080/"
        },
        "id": "bJ1H_2GDYXVQ",
        "outputId": "36eb96f8-7165-47f5-f79a-dc6b958818db"
      },
      "execution_count": null,
      "outputs": [
        {
          "output_type": "stream",
          "name": "stdout",
          "text": [
            "5204\n",
            "['Мир изменился.', 'Я чувствую это в воде, чувствую в земле, ощущаю в воздухе.', 'Многое из того, что было - ушло.']\n"
          ]
        },
        {
          "output_type": "execute_result",
          "data": {
            "text/plain": [
              "(None, None)"
            ]
          },
          "metadata": {},
          "execution_count": 2
        }
      ]
    },
    {
      "cell_type": "code",
      "source": [
        "# Предложения ответы: из получившегося списка вопросов\n",
        "# формируем ответы - каждое последующее предложение является ответом для предыдущего\n",
        "\n",
        "tokens_a = tokens_q[1:]\n",
        "tokens_a.append(tokens_q[:1])\n",
        "print(len(tokens_a)), print(tokens_a[:3])"
      ],
      "metadata": {
        "colab": {
          "base_uri": "https://localhost:8080/"
        },
        "id": "PtRj-qtvaN4t",
        "outputId": "6e3b2a01-936f-43bc-a740-e63025c985b9"
      },
      "execution_count": null,
      "outputs": [
        {
          "output_type": "stream",
          "name": "stdout",
          "text": [
            "5204\n",
            "['Я чувствую это в воде, чувствую в земле, ощущаю в воздухе.', 'Многое из того, что было - ушло.', 'И не осталось тех, кто помнит об этом.']\n"
          ]
        },
        {
          "output_type": "execute_result",
          "data": {
            "text/plain": [
              "(None, None)"
            ]
          },
          "metadata": {},
          "execution_count": 3
        }
      ]
    },
    {
      "cell_type": "code",
      "source": [
        "df = pd.DataFrame({'question': tokens_q, 'answer': tokens_a})\n",
        "df.sample(2)"
      ],
      "metadata": {
        "colab": {
          "base_uri": "https://localhost:8080/",
          "height": 112
        },
        "id": "flHRmLPTZR7g",
        "outputId": "daad6815-0fd3-4db2-8692-f9067581e0f2"
      },
      "execution_count": null,
      "outputs": [
        {
          "output_type": "execute_result",
          "data": {
            "text/plain": [
              "                               question                              answer\n",
              "3441              Да, хорошее местечко.         Говорят и обслуга отличная.\n",
              "4480  Мне будет стыдно остаться в тылу.  Нам три дня ехать до Минас Тирита."
            ],
            "text/html": [
              "\n",
              "  <div id=\"df-96fcc029-7eb0-415f-ba3c-ca168497acb2\">\n",
              "    <div class=\"colab-df-container\">\n",
              "      <div>\n",
              "<style scoped>\n",
              "    .dataframe tbody tr th:only-of-type {\n",
              "        vertical-align: middle;\n",
              "    }\n",
              "\n",
              "    .dataframe tbody tr th {\n",
              "        vertical-align: top;\n",
              "    }\n",
              "\n",
              "    .dataframe thead th {\n",
              "        text-align: right;\n",
              "    }\n",
              "</style>\n",
              "<table border=\"1\" class=\"dataframe\">\n",
              "  <thead>\n",
              "    <tr style=\"text-align: right;\">\n",
              "      <th></th>\n",
              "      <th>question</th>\n",
              "      <th>answer</th>\n",
              "    </tr>\n",
              "  </thead>\n",
              "  <tbody>\n",
              "    <tr>\n",
              "      <th>3441</th>\n",
              "      <td>Да, хорошее местечко.</td>\n",
              "      <td>Говорят и обслуга отличная.</td>\n",
              "    </tr>\n",
              "    <tr>\n",
              "      <th>4480</th>\n",
              "      <td>Мне будет стыдно остаться в тылу.</td>\n",
              "      <td>Нам три дня ехать до Минас Тирита.</td>\n",
              "    </tr>\n",
              "  </tbody>\n",
              "</table>\n",
              "</div>\n",
              "      <button class=\"colab-df-convert\" onclick=\"convertToInteractive('df-96fcc029-7eb0-415f-ba3c-ca168497acb2')\"\n",
              "              title=\"Convert this dataframe to an interactive table.\"\n",
              "              style=\"display:none;\">\n",
              "        \n",
              "  <svg xmlns=\"http://www.w3.org/2000/svg\" height=\"24px\"viewBox=\"0 0 24 24\"\n",
              "       width=\"24px\">\n",
              "    <path d=\"M0 0h24v24H0V0z\" fill=\"none\"/>\n",
              "    <path d=\"M18.56 5.44l.94 2.06.94-2.06 2.06-.94-2.06-.94-.94-2.06-.94 2.06-2.06.94zm-11 1L8.5 8.5l.94-2.06 2.06-.94-2.06-.94L8.5 2.5l-.94 2.06-2.06.94zm10 10l.94 2.06.94-2.06 2.06-.94-2.06-.94-.94-2.06-.94 2.06-2.06.94z\"/><path d=\"M17.41 7.96l-1.37-1.37c-.4-.4-.92-.59-1.43-.59-.52 0-1.04.2-1.43.59L10.3 9.45l-7.72 7.72c-.78.78-.78 2.05 0 2.83L4 21.41c.39.39.9.59 1.41.59.51 0 1.02-.2 1.41-.59l7.78-7.78 2.81-2.81c.8-.78.8-2.07 0-2.86zM5.41 20L4 18.59l7.72-7.72 1.47 1.35L5.41 20z\"/>\n",
              "  </svg>\n",
              "      </button>\n",
              "      \n",
              "  <style>\n",
              "    .colab-df-container {\n",
              "      display:flex;\n",
              "      flex-wrap:wrap;\n",
              "      gap: 12px;\n",
              "    }\n",
              "\n",
              "    .colab-df-convert {\n",
              "      background-color: #E8F0FE;\n",
              "      border: none;\n",
              "      border-radius: 50%;\n",
              "      cursor: pointer;\n",
              "      display: none;\n",
              "      fill: #1967D2;\n",
              "      height: 32px;\n",
              "      padding: 0 0 0 0;\n",
              "      width: 32px;\n",
              "    }\n",
              "\n",
              "    .colab-df-convert:hover {\n",
              "      background-color: #E2EBFA;\n",
              "      box-shadow: 0px 1px 2px rgba(60, 64, 67, 0.3), 0px 1px 3px 1px rgba(60, 64, 67, 0.15);\n",
              "      fill: #174EA6;\n",
              "    }\n",
              "\n",
              "    [theme=dark] .colab-df-convert {\n",
              "      background-color: #3B4455;\n",
              "      fill: #D2E3FC;\n",
              "    }\n",
              "\n",
              "    [theme=dark] .colab-df-convert:hover {\n",
              "      background-color: #434B5C;\n",
              "      box-shadow: 0px 1px 3px 1px rgba(0, 0, 0, 0.15);\n",
              "      filter: drop-shadow(0px 1px 2px rgba(0, 0, 0, 0.3));\n",
              "      fill: #FFFFFF;\n",
              "    }\n",
              "  </style>\n",
              "\n",
              "      <script>\n",
              "        const buttonEl =\n",
              "          document.querySelector('#df-96fcc029-7eb0-415f-ba3c-ca168497acb2 button.colab-df-convert');\n",
              "        buttonEl.style.display =\n",
              "          google.colab.kernel.accessAllowed ? 'block' : 'none';\n",
              "\n",
              "        async function convertToInteractive(key) {\n",
              "          const element = document.querySelector('#df-96fcc029-7eb0-415f-ba3c-ca168497acb2');\n",
              "          const dataTable =\n",
              "            await google.colab.kernel.invokeFunction('convertToInteractive',\n",
              "                                                     [key], {});\n",
              "          if (!dataTable) return;\n",
              "\n",
              "          const docLinkHtml = 'Like what you see? Visit the ' +\n",
              "            '<a target=\"_blank\" href=https://colab.research.google.com/notebooks/data_table.ipynb>data table notebook</a>'\n",
              "            + ' to learn more about interactive tables.';\n",
              "          element.innerHTML = '';\n",
              "          dataTable['output_type'] = 'display_data';\n",
              "          await google.colab.output.renderOutput(dataTable, element);\n",
              "          const docLink = document.createElement('div');\n",
              "          docLink.innerHTML = docLinkHtml;\n",
              "          element.appendChild(docLink);\n",
              "        }\n",
              "      </script>\n",
              "    </div>\n",
              "  </div>\n",
              "  "
            ]
          },
          "metadata": {},
          "execution_count": 4
        }
      ]
    },
    {
      "cell_type": "markdown",
      "source": [
        "Функции для модели"
      ],
      "metadata": {
        "id": "YIqOVGnLX5oA"
      }
    },
    {
      "cell_type": "code",
      "source": [
        "# Преобразование данных\n",
        "\n",
        "morpher = MorphAnalyzer()\n",
        "sw = get_stop_words(\"ru\") + stopwords.words('russian')\n",
        "punkt = list(string.punctuation)\n",
        "noise = set(sw + punkt)\n",
        "\n",
        "def preprocess_txt(text):\n",
        "    return [t for t in [morpher.parse(token)[0].normal_form \n",
        "                                for token in word_tokenize(text)] if t not in noise]\n",
        "\n",
        "\n",
        "def start_prep(data):\n",
        "    result = []\n",
        "\n",
        "    for text in tqdm(data):\n",
        "      prep = preprocess_txt(text)\n",
        "      result.append(prep)\n",
        "\n",
        "    return result"
      ],
      "metadata": {
        "id": "SLiZQ3ccElA_"
      },
      "execution_count": null,
      "outputs": []
    },
    {
      "cell_type": "code",
      "source": [
        "# Процедура поиска ближайших вопросов\n",
        "def get_model_index(model):\n",
        "    model_index = annoy.AnnoyIndex(300 ,'angular') # поиск ближайших соседей\n",
        "\n",
        "    index_map = {}\n",
        "    counter = 0\n",
        "\n",
        "    for question in df.question:\n",
        "        n_model = 0\n",
        "        index_map[counter] = question\n",
        "        que_prep = preprocess_txt(question)\n",
        "        \n",
        "        vector_model = np.zeros(300) #вектор твита\n",
        "\n",
        "        for word in que_prep:\n",
        "            if word in model:\n",
        "                vector_model += model[word]\n",
        "                n_model += 1\n",
        "\n",
        "        if n_model > 0:\n",
        "            vector_model = vector_model / n_model #нормализуем вектор=\n",
        "       \n",
        "        model_index.add_item(counter, vector_model) #добавляем элемент для индексации\n",
        "     \n",
        "        counter += 1\n",
        "\n",
        "        if counter > 100000:\n",
        "            break\n",
        "\n",
        "    model_index.build(100) #из индексов создаем кластеры\n",
        "    return model_index, index_map"
      ],
      "metadata": {
        "id": "iGynyCAoFJFK"
      },
      "execution_count": null,
      "outputs": []
    },
    {
      "cell_type": "code",
      "source": [
        "# Функция поиска ближайших соседей\n",
        "def get_response(que, index, model, index_map, df):\n",
        "    token = preprocess_txt(que)\n",
        "    vector = np.zeros(300)\n",
        "    norm = 0\n",
        "\n",
        "    for word in token:\n",
        "        if word in model:\n",
        "            vector += model[word]\n",
        "            norm += 1\n",
        "    if norm > 0:\n",
        "        vector = vector / norm\n",
        "    similar_que = index.get_nns_by_vector(vector, 15, include_distances=True)\n",
        "    \n",
        "    result = pd.DataFrame({'question': [index_map[i]  for i in similar_que[0]], \n",
        "                           'distance' : similar_que[1], 'answer': [df[df.index == i].answer.values[0] for i in similar_que[0]]})\n",
        "    \n",
        "\n",
        "    return result"
      ],
      "metadata": {
        "id": "3VOfFQGYFLr7"
      },
      "execution_count": null,
      "outputs": []
    },
    {
      "cell_type": "code",
      "source": [
        "tokens = start_prep(df.question)\n",
        "modelFT = FastText(sentences=tokens, size=300, min_count=1, window=5, workers=8)\n",
        "ft_index, index_map = get_model_index(modelFT.wv)"
      ],
      "metadata": {
        "colab": {
          "base_uri": "https://localhost:8080/"
        },
        "id": "0sYrZHPgE7XE",
        "outputId": "c0b5897a-393f-4a1d-8e59-295459c6316b"
      },
      "execution_count": null,
      "outputs": [
        {
          "output_type": "stream",
          "name": "stderr",
          "text": [
            "100%|██████████| 5204/5204 [00:06<00:00, 794.26it/s] \n"
          ]
        }
      ]
    },
    {
      "cell_type": "markdown",
      "source": [
        "Пример работы модели"
      ],
      "metadata": {
        "id": "-iWLtJ-6v4P7"
      }
    },
    {
      "cell_type": "code",
      "source": [
        "smp = 'Арагорн?'\n",
        "\n",
        "print(smp)\n",
        "# get_response(smp, ft_index, modelFT.wv, index_map, df)\n",
        "\n",
        "# single answer\n",
        "rand = random.randint(0,4)\n",
        "resp = get_response(smp, ft_index, modelFT.wv, index_map, df)\n",
        "print(resp.answer.values[rand])"
      ],
      "metadata": {
        "colab": {
          "base_uri": "https://localhost:8080/"
        },
        "id": "Zzp39mmXGGkt",
        "outputId": "6f4231c3-caea-4da6-9177-41ccae45392c"
      },
      "execution_count": null,
      "outputs": [
        {
          "output_type": "stream",
          "name": "stdout",
          "text": [
            "Арагорн?\n",
            "Держись!\n"
          ]
        }
      ]
    },
    {
      "cell_type": "markdown",
      "source": [
        "**Игра \"Угадай персонажа\"**"
      ],
      "metadata": {
        "id": "jDD_3Z7Rjgr4"
      }
    },
    {
      "cell_type": "markdown",
      "source": [
        "Пользователь вводит описание персонажа, модель делает предсказание, к кому из персонажей это описание может относиться. Если модель не отгадала, пользователю предлагается дать подсказку - дополнительные факты о загаданном персонаже. Всего у модели 3 попытки на отгадывание."
      ],
      "metadata": {
        "id": "Y5HptECarRTw"
      }
    },
    {
      "cell_type": "code",
      "source": [
        "df2 = pd.read_excel('lotr_persons.xlsx')\n",
        "df2.head(2)"
      ],
      "metadata": {
        "colab": {
          "base_uri": "https://localhost:8080/",
          "height": 112
        },
        "id": "KntljAjXjj-G",
        "outputId": "cc95aa54-5885-498d-b834-62eb95a60a7e"
      },
      "execution_count": null,
      "outputs": [
        {
          "output_type": "execute_result",
          "data": {
            "text/plain": [
              "                                         description character\n",
              "0  Арагорн на синдарине означает «почитаемый коро...   Арагорн\n",
              "1  Странник/Скороход/Колоброд/Бродяжник/Шатун (ан...   Арагорн"
            ],
            "text/html": [
              "\n",
              "  <div id=\"df-ee5574f9-edac-4524-904c-740b090d984e\">\n",
              "    <div class=\"colab-df-container\">\n",
              "      <div>\n",
              "<style scoped>\n",
              "    .dataframe tbody tr th:only-of-type {\n",
              "        vertical-align: middle;\n",
              "    }\n",
              "\n",
              "    .dataframe tbody tr th {\n",
              "        vertical-align: top;\n",
              "    }\n",
              "\n",
              "    .dataframe thead th {\n",
              "        text-align: right;\n",
              "    }\n",
              "</style>\n",
              "<table border=\"1\" class=\"dataframe\">\n",
              "  <thead>\n",
              "    <tr style=\"text-align: right;\">\n",
              "      <th></th>\n",
              "      <th>description</th>\n",
              "      <th>character</th>\n",
              "    </tr>\n",
              "  </thead>\n",
              "  <tbody>\n",
              "    <tr>\n",
              "      <th>0</th>\n",
              "      <td>Арагорн на синдарине означает «почитаемый коро...</td>\n",
              "      <td>Арагорн</td>\n",
              "    </tr>\n",
              "    <tr>\n",
              "      <th>1</th>\n",
              "      <td>Странник/Скороход/Колоброд/Бродяжник/Шатун (ан...</td>\n",
              "      <td>Арагорн</td>\n",
              "    </tr>\n",
              "  </tbody>\n",
              "</table>\n",
              "</div>\n",
              "      <button class=\"colab-df-convert\" onclick=\"convertToInteractive('df-ee5574f9-edac-4524-904c-740b090d984e')\"\n",
              "              title=\"Convert this dataframe to an interactive table.\"\n",
              "              style=\"display:none;\">\n",
              "        \n",
              "  <svg xmlns=\"http://www.w3.org/2000/svg\" height=\"24px\"viewBox=\"0 0 24 24\"\n",
              "       width=\"24px\">\n",
              "    <path d=\"M0 0h24v24H0V0z\" fill=\"none\"/>\n",
              "    <path d=\"M18.56 5.44l.94 2.06.94-2.06 2.06-.94-2.06-.94-.94-2.06-.94 2.06-2.06.94zm-11 1L8.5 8.5l.94-2.06 2.06-.94-2.06-.94L8.5 2.5l-.94 2.06-2.06.94zm10 10l.94 2.06.94-2.06 2.06-.94-2.06-.94-.94-2.06-.94 2.06-2.06.94z\"/><path d=\"M17.41 7.96l-1.37-1.37c-.4-.4-.92-.59-1.43-.59-.52 0-1.04.2-1.43.59L10.3 9.45l-7.72 7.72c-.78.78-.78 2.05 0 2.83L4 21.41c.39.39.9.59 1.41.59.51 0 1.02-.2 1.41-.59l7.78-7.78 2.81-2.81c.8-.78.8-2.07 0-2.86zM5.41 20L4 18.59l7.72-7.72 1.47 1.35L5.41 20z\"/>\n",
              "  </svg>\n",
              "      </button>\n",
              "      \n",
              "  <style>\n",
              "    .colab-df-container {\n",
              "      display:flex;\n",
              "      flex-wrap:wrap;\n",
              "      gap: 12px;\n",
              "    }\n",
              "\n",
              "    .colab-df-convert {\n",
              "      background-color: #E8F0FE;\n",
              "      border: none;\n",
              "      border-radius: 50%;\n",
              "      cursor: pointer;\n",
              "      display: none;\n",
              "      fill: #1967D2;\n",
              "      height: 32px;\n",
              "      padding: 0 0 0 0;\n",
              "      width: 32px;\n",
              "    }\n",
              "\n",
              "    .colab-df-convert:hover {\n",
              "      background-color: #E2EBFA;\n",
              "      box-shadow: 0px 1px 2px rgba(60, 64, 67, 0.3), 0px 1px 3px 1px rgba(60, 64, 67, 0.15);\n",
              "      fill: #174EA6;\n",
              "    }\n",
              "\n",
              "    [theme=dark] .colab-df-convert {\n",
              "      background-color: #3B4455;\n",
              "      fill: #D2E3FC;\n",
              "    }\n",
              "\n",
              "    [theme=dark] .colab-df-convert:hover {\n",
              "      background-color: #434B5C;\n",
              "      box-shadow: 0px 1px 3px 1px rgba(0, 0, 0, 0.15);\n",
              "      filter: drop-shadow(0px 1px 2px rgba(0, 0, 0, 0.3));\n",
              "      fill: #FFFFFF;\n",
              "    }\n",
              "  </style>\n",
              "\n",
              "      <script>\n",
              "        const buttonEl =\n",
              "          document.querySelector('#df-ee5574f9-edac-4524-904c-740b090d984e button.colab-df-convert');\n",
              "        buttonEl.style.display =\n",
              "          google.colab.kernel.accessAllowed ? 'block' : 'none';\n",
              "\n",
              "        async function convertToInteractive(key) {\n",
              "          const element = document.querySelector('#df-ee5574f9-edac-4524-904c-740b090d984e');\n",
              "          const dataTable =\n",
              "            await google.colab.kernel.invokeFunction('convertToInteractive',\n",
              "                                                     [key], {});\n",
              "          if (!dataTable) return;\n",
              "\n",
              "          const docLinkHtml = 'Like what you see? Visit the ' +\n",
              "            '<a target=\"_blank\" href=https://colab.research.google.com/notebooks/data_table.ipynb>data table notebook</a>'\n",
              "            + ' to learn more about interactive tables.';\n",
              "          element.innerHTML = '';\n",
              "          dataTable['output_type'] = 'display_data';\n",
              "          await google.colab.output.renderOutput(dataTable, element);\n",
              "          const docLink = document.createElement('div');\n",
              "          docLink.innerHTML = docLinkHtml;\n",
              "          element.appendChild(docLink);\n",
              "        }\n",
              "      </script>\n",
              "    </div>\n",
              "  </div>\n",
              "  "
            ]
          },
          "metadata": {},
          "execution_count": 96
        }
      ]
    },
    {
      "cell_type": "code",
      "source": [
        "# Импорт дополнительных библиотек\n",
        "from sklearn.model_selection import train_test_split\n",
        "from string import punctuation\n",
        "from keras.preprocessing.sequence import pad_sequences\n",
        "from sklearn.preprocessing import LabelEncoder\n",
        "from tensorflow.keras.utils import to_categorical\n",
        "\n",
        "from keras.losses import SparseCategoricalCrossentropy\n",
        "from keras.models import Sequential, Model\n",
        "from keras.layers import Dense, Dropout, Activation, Input, Embedding, Conv1D, GlobalMaxPool1D, MaxPool1D, SimpleRNN, LSTM, GRU, Masking, Flatten\n",
        "from keras.callbacks import TensorBoard \n",
        "from keras.callbacks import EarlyStopping "
      ],
      "metadata": {
        "id": "ZBOA3ESKwQYl"
      },
      "execution_count": null,
      "outputs": []
    },
    {
      "cell_type": "code",
      "source": [
        "# Преобразование данных\n",
        "sw = set(get_stop_words(\"ru\"))\n",
        "exclude = set(punctuation)\n",
        "cats = set(df2.character.str.lower().to_list()) # исключаем из обучающих текстов имена самих персонажей\n",
        "morpher = MorphAnalyzer()\n",
        "\n",
        "def preprocess_text(txt):\n",
        "    #print('raw: ', txt)\n",
        "    txt = str(txt)\n",
        "    #print('to str: ', txt)\n",
        "    txt = \"\".join(c for c in txt if c not in exclude)\n",
        "    #print('exclude: ', txt)\n",
        "    txt = txt.lower()\n",
        "    #print('lower: ', txt)\n",
        "    txt = [morpher.parse(word)[0].normal_form for word in txt.split(' ') if word not in sw]\n",
        "    #print('morpher: ', txt)\n",
        "    txt = \" \".join(c for c in txt if c not in cats)\n",
        "    #print('wo cats: ', txt)\n",
        "    return \"\".join(txt)"
      ],
      "metadata": {
        "id": "ZG5YFgrznrLV"
      },
      "execution_count": null,
      "outputs": []
    },
    {
      "cell_type": "code",
      "source": [
        "tqdm.pandas()\n",
        "df2['description'] = df2['description'].progress_apply(preprocess_text)"
      ],
      "metadata": {
        "colab": {
          "base_uri": "https://localhost:8080/"
        },
        "id": "7FIKvdbuwluL",
        "outputId": "23f8bb0a-3ff7-4075-ee18-831deaad91fc"
      },
      "execution_count": null,
      "outputs": [
        {
          "output_type": "stream",
          "name": "stderr",
          "text": [
            "100%|██████████| 78/78 [00:00<00:00, 132.09it/s]\n"
          ]
        }
      ]
    },
    {
      "cell_type": "code",
      "source": [
        "df2['description'].sample(2)"
      ],
      "metadata": {
        "colab": {
          "base_uri": "https://localhost:8080/"
        },
        "id": "-wkj__z61LTz",
        "outputId": "d98f4620-23e4-4fe5-bd2c-43eb0216096a"
      },
      "execution_count": null,
      "outputs": [
        {
          "output_type": "execute_result",
          "data": {
            "text/plain": [
              "53    следовать пророческий сон присниться фарамир б...\n",
              "36    ранний версия сценарий экранизация питер джекс...\n",
              "Name: description, dtype: object"
            ]
          },
          "metadata": {},
          "execution_count": 100
        }
      ]
    },
    {
      "cell_type": "code",
      "source": [
        "from nltk.tokenize import word_tokenize\n",
        "tokenizer = nltk.data.load('tokenizers/punkt/russian.pickle')\n",
        "\n",
        "\n",
        "# Проведем токенизацию по 3-ем словам\n",
        "upd_df2 = {'description': [],\n",
        "           'character': []}\n",
        "\n",
        "for char in df2.character.unique():\n",
        "  data = df2[df2.character == char].description.to_list()\n",
        "  for d in data:\n",
        "    desc = tokenizer.tokenize(d)\n",
        "    for el in desc:\n",
        "      #print(el)\n",
        "      words = el.split(' ')\n",
        "      #print(words)\n",
        "      n_min = 0\n",
        "      n_max = len(words)\n",
        "      \n",
        "      while n_min != n_max:\n",
        "        tok = [''.join(word) for word in words[n_min:n_min+3]]\n",
        "        n_min += 1\n",
        "        #print(tok)\n",
        "\n",
        "        upd_df2['description'].append(preprocess_text(tok))\n",
        "        upd_df2['character'].append(char)"
      ],
      "metadata": {
        "id": "H7ON-_Mx0K6w"
      },
      "execution_count": null,
      "outputs": []
    },
    {
      "cell_type": "code",
      "source": [
        "df2 = pd.DataFrame.from_dict(upd_df2)\n",
        "df2.sample(2)"
      ],
      "metadata": {
        "colab": {
          "base_uri": "https://localhost:8080/",
          "height": 112
        },
        "id": "QdFjtxQx1bfB",
        "outputId": "ade7a3d5-dc07-4549-de53-f880e90ad9c6"
      },
      "execution_count": null,
      "outputs": [
        {
          "output_type": "execute_result",
          "data": {
            "text/plain": [
              "                     description character\n",
              "58    инкогнито сражаться войско   Арагорн\n",
              "1420             тихо мирно свой    Бильбо"
            ],
            "text/html": [
              "\n",
              "  <div id=\"df-2a3eed43-1e14-4e0d-a3f1-cfcfc094e14f\">\n",
              "    <div class=\"colab-df-container\">\n",
              "      <div>\n",
              "<style scoped>\n",
              "    .dataframe tbody tr th:only-of-type {\n",
              "        vertical-align: middle;\n",
              "    }\n",
              "\n",
              "    .dataframe tbody tr th {\n",
              "        vertical-align: top;\n",
              "    }\n",
              "\n",
              "    .dataframe thead th {\n",
              "        text-align: right;\n",
              "    }\n",
              "</style>\n",
              "<table border=\"1\" class=\"dataframe\">\n",
              "  <thead>\n",
              "    <tr style=\"text-align: right;\">\n",
              "      <th></th>\n",
              "      <th>description</th>\n",
              "      <th>character</th>\n",
              "    </tr>\n",
              "  </thead>\n",
              "  <tbody>\n",
              "    <tr>\n",
              "      <th>58</th>\n",
              "      <td>инкогнито сражаться войско</td>\n",
              "      <td>Арагорн</td>\n",
              "    </tr>\n",
              "    <tr>\n",
              "      <th>1420</th>\n",
              "      <td>тихо мирно свой</td>\n",
              "      <td>Бильбо</td>\n",
              "    </tr>\n",
              "  </tbody>\n",
              "</table>\n",
              "</div>\n",
              "      <button class=\"colab-df-convert\" onclick=\"convertToInteractive('df-2a3eed43-1e14-4e0d-a3f1-cfcfc094e14f')\"\n",
              "              title=\"Convert this dataframe to an interactive table.\"\n",
              "              style=\"display:none;\">\n",
              "        \n",
              "  <svg xmlns=\"http://www.w3.org/2000/svg\" height=\"24px\"viewBox=\"0 0 24 24\"\n",
              "       width=\"24px\">\n",
              "    <path d=\"M0 0h24v24H0V0z\" fill=\"none\"/>\n",
              "    <path d=\"M18.56 5.44l.94 2.06.94-2.06 2.06-.94-2.06-.94-.94-2.06-.94 2.06-2.06.94zm-11 1L8.5 8.5l.94-2.06 2.06-.94-2.06-.94L8.5 2.5l-.94 2.06-2.06.94zm10 10l.94 2.06.94-2.06 2.06-.94-2.06-.94-.94-2.06-.94 2.06-2.06.94z\"/><path d=\"M17.41 7.96l-1.37-1.37c-.4-.4-.92-.59-1.43-.59-.52 0-1.04.2-1.43.59L10.3 9.45l-7.72 7.72c-.78.78-.78 2.05 0 2.83L4 21.41c.39.39.9.59 1.41.59.51 0 1.02-.2 1.41-.59l7.78-7.78 2.81-2.81c.8-.78.8-2.07 0-2.86zM5.41 20L4 18.59l7.72-7.72 1.47 1.35L5.41 20z\"/>\n",
              "  </svg>\n",
              "      </button>\n",
              "      \n",
              "  <style>\n",
              "    .colab-df-container {\n",
              "      display:flex;\n",
              "      flex-wrap:wrap;\n",
              "      gap: 12px;\n",
              "    }\n",
              "\n",
              "    .colab-df-convert {\n",
              "      background-color: #E8F0FE;\n",
              "      border: none;\n",
              "      border-radius: 50%;\n",
              "      cursor: pointer;\n",
              "      display: none;\n",
              "      fill: #1967D2;\n",
              "      height: 32px;\n",
              "      padding: 0 0 0 0;\n",
              "      width: 32px;\n",
              "    }\n",
              "\n",
              "    .colab-df-convert:hover {\n",
              "      background-color: #E2EBFA;\n",
              "      box-shadow: 0px 1px 2px rgba(60, 64, 67, 0.3), 0px 1px 3px 1px rgba(60, 64, 67, 0.15);\n",
              "      fill: #174EA6;\n",
              "    }\n",
              "\n",
              "    [theme=dark] .colab-df-convert {\n",
              "      background-color: #3B4455;\n",
              "      fill: #D2E3FC;\n",
              "    }\n",
              "\n",
              "    [theme=dark] .colab-df-convert:hover {\n",
              "      background-color: #434B5C;\n",
              "      box-shadow: 0px 1px 3px 1px rgba(0, 0, 0, 0.15);\n",
              "      filter: drop-shadow(0px 1px 2px rgba(0, 0, 0, 0.3));\n",
              "      fill: #FFFFFF;\n",
              "    }\n",
              "  </style>\n",
              "\n",
              "      <script>\n",
              "        const buttonEl =\n",
              "          document.querySelector('#df-2a3eed43-1e14-4e0d-a3f1-cfcfc094e14f button.colab-df-convert');\n",
              "        buttonEl.style.display =\n",
              "          google.colab.kernel.accessAllowed ? 'block' : 'none';\n",
              "\n",
              "        async function convertToInteractive(key) {\n",
              "          const element = document.querySelector('#df-2a3eed43-1e14-4e0d-a3f1-cfcfc094e14f');\n",
              "          const dataTable =\n",
              "            await google.colab.kernel.invokeFunction('convertToInteractive',\n",
              "                                                     [key], {});\n",
              "          if (!dataTable) return;\n",
              "\n",
              "          const docLinkHtml = 'Like what you see? Visit the ' +\n",
              "            '<a target=\"_blank\" href=https://colab.research.google.com/notebooks/data_table.ipynb>data table notebook</a>'\n",
              "            + ' to learn more about interactive tables.';\n",
              "          element.innerHTML = '';\n",
              "          dataTable['output_type'] = 'display_data';\n",
              "          await google.colab.output.renderOutput(dataTable, element);\n",
              "          const docLink = document.createElement('div');\n",
              "          docLink.innerHTML = docLinkHtml;\n",
              "          element.appendChild(docLink);\n",
              "        }\n",
              "      </script>\n",
              "    </div>\n",
              "  </div>\n",
              "  "
            ]
          },
          "metadata": {},
          "execution_count": 102
        }
      ]
    },
    {
      "cell_type": "code",
      "source": [
        "#Разбиваем на трейн и тест\n",
        "df_train, df_test = train_test_split(df2, test_size=0.15, random_state=42)\n",
        "df_train = df_train.reset_index(drop=True)\n",
        "df_test = df_test.reset_index(drop=True)\n",
        "df_train.shape, df_test.shape"
      ],
      "metadata": {
        "colab": {
          "base_uri": "https://localhost:8080/"
        },
        "id": "uhNvnP_OwZxr",
        "outputId": "69c680e2-8898-4b13-bbd6-518c6fe77e45"
      },
      "execution_count": null,
      "outputs": [
        {
          "output_type": "execute_result",
          "data": {
            "text/plain": [
              "((2504, 2), (442, 2))"
            ]
          },
          "metadata": {},
          "execution_count": 103
        }
      ]
    },
    {
      "cell_type": "code",
      "source": [
        "df_train['description'].sample(5)"
      ],
      "metadata": {
        "colab": {
          "base_uri": "https://localhost:8080/"
        },
        "id": "BXcKi2F6wqcM",
        "outputId": "0580cce4-9a97-4dca-d380-afa5b15f2feb"
      },
      "execution_count": null,
      "outputs": [
        {
          "output_type": "execute_result",
          "data": {
            "text/plain": [
              "374              элендил отправить\n",
              "906      оружиеxa0— эльфийский меч\n",
              "2131    являться внучка келеборный\n",
              "726        участвовать битва хельм\n",
              "1394        гондора пират получить\n",
              "Name: description, dtype: object"
            ]
          },
          "metadata": {},
          "execution_count": 104
        }
      ]
    },
    {
      "cell_type": "code",
      "source": [
        "text_corpus_train = df_train['description'].values\n",
        "text_corpus_test = df_test['description'].values"
      ],
      "metadata": {
        "id": "TYZ6gFVz2vCi"
      },
      "execution_count": null,
      "outputs": []
    },
    {
      "cell_type": "code",
      "source": [
        "from keras.preprocessing.text import Tokenizer\n",
        "\n",
        "# Определяем токенайзер\n",
        "tokenizer = Tokenizer(num_words=None, \n",
        "                     filters='#$%&()*+-<=>@[\\\\]^_`{|}~\\t\\n',\n",
        "                     lower = False, split = ' ')\n",
        "\n",
        "# Обучаем токенайзер на тренировочном наборе данных - > получаем готовый словарь\n",
        "tokenizer.fit_on_texts(text_corpus_train)"
      ],
      "metadata": {
        "id": "4Fshuk_M2zDy"
      },
      "execution_count": null,
      "outputs": []
    },
    {
      "cell_type": "code",
      "source": [
        "# На основе полученного словаря токены переводятся в их id и сформировываем последовательности sequences\n",
        "\n",
        "sequences_train = tokenizer.texts_to_sequences(text_corpus_train)\n",
        "sequences_test = tokenizer.texts_to_sequences(text_corpus_test)"
      ],
      "metadata": {
        "id": "KTpyrkBw26lW"
      },
      "execution_count": null,
      "outputs": []
    },
    {
      "cell_type": "code",
      "source": [
        "# всего слов в словаре\n",
        "word_count = len(tokenizer.index_word) + 1\n",
        "\n",
        "# находим максимальную длину будущей последовательности в тренировочном наборе\n",
        "training_length = max([len(i.split()) for i in text_corpus_train])\n",
        "\n",
        "word_count, training_length"
      ],
      "metadata": {
        "colab": {
          "base_uri": "https://localhost:8080/"
        },
        "id": "30N2x5p-28sB",
        "outputId": "d5d64cb6-1e64-4504-864b-b60044717ef3"
      },
      "execution_count": null,
      "outputs": [
        {
          "output_type": "execute_result",
          "data": {
            "text/plain": [
              "(1564, 3)"
            ]
          },
          "metadata": {},
          "execution_count": 108
        }
      ]
    },
    {
      "cell_type": "code",
      "source": [
        "X_train = pad_sequences(sequences_train, maxlen=training_length)\n",
        "X_test = pad_sequences(sequences_test, maxlen=training_length)\n",
        "\n",
        "X_train[5]"
      ],
      "metadata": {
        "colab": {
          "base_uri": "https://localhost:8080/"
        },
        "id": "oWUF7t-d2-uw",
        "outputId": "1d5248e6-3455-4ca1-bc8c-809453a37c71"
      },
      "execution_count": null,
      "outputs": [
        {
          "output_type": "execute_result",
          "data": {
            "text/plain": [
              "array([ 457, 1102, 1456], dtype=int32)"
            ]
          },
          "metadata": {},
          "execution_count": 109
        }
      ]
    },
    {
      "cell_type": "code",
      "source": [
        "# Преобразование значений y\n",
        "le = LabelEncoder()\n",
        "train_enc_labels = le.fit_transform(df_train['character']) \n",
        "test_enc_labels = le.transform(df_test['character'])\n",
        "le.classes_"
      ],
      "metadata": {
        "colab": {
          "base_uri": "https://localhost:8080/"
        },
        "id": "J3MUcKH83B5b",
        "outputId": "0d049622-0015-4b3e-81b4-9837ba3b2df2"
      },
      "execution_count": null,
      "outputs": [
        {
          "output_type": "execute_result",
          "data": {
            "text/plain": [
              "array(['Арагорн', 'Арвен', 'Бильбо', 'Боромир', 'Фродо'], dtype=object)"
            ]
          },
          "metadata": {},
          "execution_count": 111
        }
      ]
    },
    {
      "cell_type": "code",
      "source": [
        "num_classes = df_train['character'].nunique()\n",
        "y_train = to_categorical(train_enc_labels, num_classes)\n",
        "y_test = to_categorical(test_enc_labels, num_classes)"
      ],
      "metadata": {
        "id": "Cfl5W-dx3TC8"
      },
      "execution_count": null,
      "outputs": []
    },
    {
      "cell_type": "code",
      "source": [
        "y_train.shape, y_train[3]"
      ],
      "metadata": {
        "colab": {
          "base_uri": "https://localhost:8080/"
        },
        "id": "hPx_pqGs3Zzo",
        "outputId": "ae77ac79-c9ca-4dfb-d50d-b5fde2494f4d"
      },
      "execution_count": null,
      "outputs": [
        {
          "output_type": "execute_result",
          "data": {
            "text/plain": [
              "((2504, 5), array([0., 0., 0., 1., 0.], dtype=float32))"
            ]
          },
          "metadata": {},
          "execution_count": 113
        }
      ]
    },
    {
      "cell_type": "code",
      "source": [
        "early_stopping=EarlyStopping(monitor='val_loss', patience = 1, mode = 'min') \n",
        "\n",
        "# RNN - > CNN\n",
        "model = Sequential()\n",
        "\n",
        "model.add(Embedding(input_dim=word_count,\n",
        "              input_length=training_length,\n",
        "              output_dim=num_classes, # !!! указать кол-во категорий\n",
        "              trainable=True,\n",
        "              mask_zero=True))\n",
        "\n",
        "model.add(Masking(mask_value=0.0))\n",
        "\n",
        "model.add(LSTM(64,recurrent_dropout=0.2, return_sequences=True))\n",
        "model.add(Conv1D(64, 3, padding = 'same', activation = 'relu'))\n",
        "model.add(GlobalMaxPool1D())\n",
        "model.add(Dense(32, activation='relu'))\n",
        "model.add(Dropout(0.5))\n",
        "model.add(Dense(num_classes, activation='softmax')) # !!! указать кол-во категорий\n",
        "\n",
        "model.compile(\n",
        "    optimizer='adam', \n",
        "    loss='binary_crossentropy', \n",
        "    metrics=['accuracy'])\n",
        "\n",
        "history = model.fit(X_train, y_train,\n",
        "                    batch_size=10,\n",
        "                    epochs=10,\n",
        "                    verbose=1,\n",
        "                    validation_data = (X_test, y_test),\n",
        "                    callbacks = [early_stopping]\n",
        "                    )"
      ],
      "metadata": {
        "colab": {
          "base_uri": "https://localhost:8080/"
        },
        "id": "MtfHkUwu3ckU",
        "outputId": "a5b97b50-86c8-44cc-d135-1394a330456f"
      },
      "execution_count": null,
      "outputs": [
        {
          "output_type": "stream",
          "name": "stdout",
          "text": [
            "WARNING:tensorflow:Layer lstm_2 will not use cuDNN kernels since it doesn't meet the criteria. It will use a generic GPU kernel as fallback when running on GPU.\n"
          ]
        },
        {
          "output_type": "stream",
          "name": "stderr",
          "text": [
            "WARNING:tensorflow:Layer lstm_2 will not use cuDNN kernels since it doesn't meet the criteria. It will use a generic GPU kernel as fallback when running on GPU.\n"
          ]
        },
        {
          "output_type": "stream",
          "name": "stdout",
          "text": [
            "Epoch 1/10\n",
            "251/251 [==============================] - 8s 21ms/step - loss: 0.5448 - accuracy: 0.2460 - val_loss: 0.4865 - val_accuracy: 0.3100\n",
            "Epoch 2/10\n",
            "251/251 [==============================] - 5s 20ms/step - loss: 0.5066 - accuracy: 0.2696 - val_loss: 0.4726 - val_accuracy: 0.3100\n",
            "Epoch 3/10\n",
            "251/251 [==============================] - 5s 20ms/step - loss: 0.4361 - accuracy: 0.3614 - val_loss: 0.3830 - val_accuracy: 0.4570\n",
            "Epoch 4/10\n",
            "251/251 [==============================] - 5s 20ms/step - loss: 0.3762 - accuracy: 0.4497 - val_loss: 0.3571 - val_accuracy: 0.5136\n",
            "Epoch 5/10\n",
            "251/251 [==============================] - 5s 20ms/step - loss: 0.3313 - accuracy: 0.5579 - val_loss: 0.3039 - val_accuracy: 0.5995\n",
            "Epoch 6/10\n",
            "251/251 [==============================] - 5s 20ms/step - loss: 0.2735 - accuracy: 0.6817 - val_loss: 0.2883 - val_accuracy: 0.6765\n",
            "Epoch 7/10\n",
            "251/251 [==============================] - 5s 20ms/step - loss: 0.2326 - accuracy: 0.7396 - val_loss: 0.2372 - val_accuracy: 0.7466\n",
            "Epoch 8/10\n",
            "251/251 [==============================] - 5s 20ms/step - loss: 0.1961 - accuracy: 0.7847 - val_loss: 0.2287 - val_accuracy: 0.7376\n",
            "Epoch 9/10\n",
            "251/251 [==============================] - 5s 20ms/step - loss: 0.1696 - accuracy: 0.8347 - val_loss: 0.2245 - val_accuracy: 0.7534\n",
            "Epoch 10/10\n",
            "251/251 [==============================] - 5s 20ms/step - loss: 0.1541 - accuracy: 0.8550 - val_loss: 0.1919 - val_accuracy: 0.7986\n"
          ]
        }
      ]
    },
    {
      "cell_type": "code",
      "source": [
        "predictions = model.predict(X_test)"
      ],
      "metadata": {
        "id": "JwNO5NDO3xkv"
      },
      "execution_count": null,
      "outputs": []
    },
    {
      "cell_type": "code",
      "source": [
        "preds = []\n",
        "for pred in predictions:\n",
        "    preds.append(pred.argmax())\n",
        "    \n",
        "len(preds), preds[:3]"
      ],
      "metadata": {
        "colab": {
          "base_uri": "https://localhost:8080/"
        },
        "id": "BYP4hVIy3xqz",
        "outputId": "b9b03523-5048-4b4f-862d-5fd46fe55493"
      },
      "execution_count": null,
      "outputs": [
        {
          "output_type": "execute_result",
          "data": {
            "text/plain": [
              "(442, [0, 1, 2])"
            ]
          },
          "metadata": {},
          "execution_count": 119
        }
      ]
    },
    {
      "cell_type": "code",
      "source": [
        "dec_preds = le.inverse_transform(preds)\n",
        "dec_preds[:3]"
      ],
      "metadata": {
        "colab": {
          "base_uri": "https://localhost:8080/"
        },
        "id": "Oia3sizK30bH",
        "outputId": "0fb93517-7fd3-49af-b361-28cf4dda8f74"
      },
      "execution_count": null,
      "outputs": [
        {
          "output_type": "execute_result",
          "data": {
            "text/plain": [
              "array(['Арагорн', 'Арвен', 'Бильбо'], dtype=object)"
            ]
          },
          "metadata": {},
          "execution_count": 120
        }
      ]
    },
    {
      "cell_type": "code",
      "source": [
        "cols = ['description', 'character']\n",
        "vals = df_test[cols]\n",
        "vals['preds'] = dec_preds\n",
        "vals.sample(5)"
      ],
      "metadata": {
        "colab": {
          "base_uri": "https://localhost:8080/",
          "height": 206
        },
        "id": "kuNkj6uJ31-D",
        "outputId": "bdf409ad-d5eb-49c4-e9b0-1d840d1b5d38"
      },
      "execution_count": null,
      "outputs": [
        {
          "output_type": "execute_result",
          "data": {
            "text/plain": [
              "                 description character    preds\n",
              "259      выстлать плитка пол    Бильбо   Бильбо\n",
              "327  ямочка подбородок ясный     Фродо    Фродо\n",
              "86        пиппин смерть амон   Боромир  Боромир\n",
              "204   дверь открываться холл    Бильбо   Бильбо\n",
              "219        фродый дальнейший    Бильбо   Бильбо"
            ],
            "text/html": [
              "\n",
              "  <div id=\"df-6746dd62-6bad-4e3b-98ec-d1bc58c55a69\">\n",
              "    <div class=\"colab-df-container\">\n",
              "      <div>\n",
              "<style scoped>\n",
              "    .dataframe tbody tr th:only-of-type {\n",
              "        vertical-align: middle;\n",
              "    }\n",
              "\n",
              "    .dataframe tbody tr th {\n",
              "        vertical-align: top;\n",
              "    }\n",
              "\n",
              "    .dataframe thead th {\n",
              "        text-align: right;\n",
              "    }\n",
              "</style>\n",
              "<table border=\"1\" class=\"dataframe\">\n",
              "  <thead>\n",
              "    <tr style=\"text-align: right;\">\n",
              "      <th></th>\n",
              "      <th>description</th>\n",
              "      <th>character</th>\n",
              "      <th>preds</th>\n",
              "    </tr>\n",
              "  </thead>\n",
              "  <tbody>\n",
              "    <tr>\n",
              "      <th>259</th>\n",
              "      <td>выстлать плитка пол</td>\n",
              "      <td>Бильбо</td>\n",
              "      <td>Бильбо</td>\n",
              "    </tr>\n",
              "    <tr>\n",
              "      <th>327</th>\n",
              "      <td>ямочка подбородок ясный</td>\n",
              "      <td>Фродо</td>\n",
              "      <td>Фродо</td>\n",
              "    </tr>\n",
              "    <tr>\n",
              "      <th>86</th>\n",
              "      <td>пиппин смерть амон</td>\n",
              "      <td>Боромир</td>\n",
              "      <td>Боромир</td>\n",
              "    </tr>\n",
              "    <tr>\n",
              "      <th>204</th>\n",
              "      <td>дверь открываться холл</td>\n",
              "      <td>Бильбо</td>\n",
              "      <td>Бильбо</td>\n",
              "    </tr>\n",
              "    <tr>\n",
              "      <th>219</th>\n",
              "      <td>фродый дальнейший</td>\n",
              "      <td>Бильбо</td>\n",
              "      <td>Бильбо</td>\n",
              "    </tr>\n",
              "  </tbody>\n",
              "</table>\n",
              "</div>\n",
              "      <button class=\"colab-df-convert\" onclick=\"convertToInteractive('df-6746dd62-6bad-4e3b-98ec-d1bc58c55a69')\"\n",
              "              title=\"Convert this dataframe to an interactive table.\"\n",
              "              style=\"display:none;\">\n",
              "        \n",
              "  <svg xmlns=\"http://www.w3.org/2000/svg\" height=\"24px\"viewBox=\"0 0 24 24\"\n",
              "       width=\"24px\">\n",
              "    <path d=\"M0 0h24v24H0V0z\" fill=\"none\"/>\n",
              "    <path d=\"M18.56 5.44l.94 2.06.94-2.06 2.06-.94-2.06-.94-.94-2.06-.94 2.06-2.06.94zm-11 1L8.5 8.5l.94-2.06 2.06-.94-2.06-.94L8.5 2.5l-.94 2.06-2.06.94zm10 10l.94 2.06.94-2.06 2.06-.94-2.06-.94-.94-2.06-.94 2.06-2.06.94z\"/><path d=\"M17.41 7.96l-1.37-1.37c-.4-.4-.92-.59-1.43-.59-.52 0-1.04.2-1.43.59L10.3 9.45l-7.72 7.72c-.78.78-.78 2.05 0 2.83L4 21.41c.39.39.9.59 1.41.59.51 0 1.02-.2 1.41-.59l7.78-7.78 2.81-2.81c.8-.78.8-2.07 0-2.86zM5.41 20L4 18.59l7.72-7.72 1.47 1.35L5.41 20z\"/>\n",
              "  </svg>\n",
              "      </button>\n",
              "      \n",
              "  <style>\n",
              "    .colab-df-container {\n",
              "      display:flex;\n",
              "      flex-wrap:wrap;\n",
              "      gap: 12px;\n",
              "    }\n",
              "\n",
              "    .colab-df-convert {\n",
              "      background-color: #E8F0FE;\n",
              "      border: none;\n",
              "      border-radius: 50%;\n",
              "      cursor: pointer;\n",
              "      display: none;\n",
              "      fill: #1967D2;\n",
              "      height: 32px;\n",
              "      padding: 0 0 0 0;\n",
              "      width: 32px;\n",
              "    }\n",
              "\n",
              "    .colab-df-convert:hover {\n",
              "      background-color: #E2EBFA;\n",
              "      box-shadow: 0px 1px 2px rgba(60, 64, 67, 0.3), 0px 1px 3px 1px rgba(60, 64, 67, 0.15);\n",
              "      fill: #174EA6;\n",
              "    }\n",
              "\n",
              "    [theme=dark] .colab-df-convert {\n",
              "      background-color: #3B4455;\n",
              "      fill: #D2E3FC;\n",
              "    }\n",
              "\n",
              "    [theme=dark] .colab-df-convert:hover {\n",
              "      background-color: #434B5C;\n",
              "      box-shadow: 0px 1px 3px 1px rgba(0, 0, 0, 0.15);\n",
              "      filter: drop-shadow(0px 1px 2px rgba(0, 0, 0, 0.3));\n",
              "      fill: #FFFFFF;\n",
              "    }\n",
              "  </style>\n",
              "\n",
              "      <script>\n",
              "        const buttonEl =\n",
              "          document.querySelector('#df-6746dd62-6bad-4e3b-98ec-d1bc58c55a69 button.colab-df-convert');\n",
              "        buttonEl.style.display =\n",
              "          google.colab.kernel.accessAllowed ? 'block' : 'none';\n",
              "\n",
              "        async function convertToInteractive(key) {\n",
              "          const element = document.querySelector('#df-6746dd62-6bad-4e3b-98ec-d1bc58c55a69');\n",
              "          const dataTable =\n",
              "            await google.colab.kernel.invokeFunction('convertToInteractive',\n",
              "                                                     [key], {});\n",
              "          if (!dataTable) return;\n",
              "\n",
              "          const docLinkHtml = 'Like what you see? Visit the ' +\n",
              "            '<a target=\"_blank\" href=https://colab.research.google.com/notebooks/data_table.ipynb>data table notebook</a>'\n",
              "            + ' to learn more about interactive tables.';\n",
              "          element.innerHTML = '';\n",
              "          dataTable['output_type'] = 'display_data';\n",
              "          await google.colab.output.renderOutput(dataTable, element);\n",
              "          const docLink = document.createElement('div');\n",
              "          docLink.innerHTML = docLinkHtml;\n",
              "          element.appendChild(docLink);\n",
              "        }\n",
              "      </script>\n",
              "    </div>\n",
              "  </div>\n",
              "  "
            ]
          },
          "metadata": {},
          "execution_count": 121
        }
      ]
    },
    {
      "cell_type": "markdown",
      "source": [
        "Пример работы модели"
      ],
      "metadata": {
        "id": "tPQKcrKCB3Ps"
      }
    },
    {
      "cell_type": "code",
      "source": [
        "def prep_input_text(text):\n",
        "  text = preprocess_text(text)\n",
        "  text_list = []\n",
        "  text_list.append(text)\n",
        "  sequences = tokenizer.texts_to_sequences(text_list)\n",
        "  pad = pad_sequences(sequences, maxlen=training_length)\n",
        "  return pad\n",
        "  \n",
        "def make_pred(pad):\n",
        "  predictions_single = model.predict(pad)\n",
        "  preds = [predictions_single.argmax()]\n",
        "  return le.inverse_transform(preds)"
      ],
      "metadata": {
        "id": "oBL-lWW3B2HO"
      },
      "execution_count": null,
      "outputs": []
    },
    {
      "cell_type": "code",
      "source": [
        "inp = 'влюблен в эльфийку'\n",
        "print('Загадайте героя: ', inp)\n",
        "\n",
        "pred = make_pred(prep_input_text(inp))\n",
        "print('Ответ: ', pred)"
      ],
      "metadata": {
        "colab": {
          "base_uri": "https://localhost:8080/"
        },
        "id": "p70T5kPgEP9Y",
        "outputId": "82dc3604-1082-4081-e22d-5ff9ce2898ba"
      },
      "execution_count": null,
      "outputs": [
        {
          "output_type": "stream",
          "name": "stdout",
          "text": [
            "Загадайте героя:  влюблен в эльфийку\n",
            "Ответ:  ['Арагорн']\n"
          ]
        }
      ]
    },
    {
      "cell_type": "code",
      "source": [
        "inp = 'носит кольцо'\n",
        "print('Загадайте героя: ', inp)\n",
        "\n",
        "pred = make_pred(prep_input_text(inp))\n",
        "print('Ответ: ', pred)"
      ],
      "metadata": {
        "colab": {
          "base_uri": "https://localhost:8080/"
        },
        "id": "7h7MG82vMaJD",
        "outputId": "ffab69c8-4865-4895-eeaa-690700728f1d"
      },
      "execution_count": null,
      "outputs": [
        {
          "output_type": "stream",
          "name": "stdout",
          "text": [
            "Загадайте героя:  носит кольцо\n",
            "Ответ:  ['Боромир']\n"
          ]
        }
      ]
    },
    {
      "cell_type": "code",
      "source": [
        "inp = 'Элезар'\n",
        "print('Загадайте героя: ', inp)\n",
        "\n",
        "pred = make_pred(prep_input_text(inp))\n",
        "print('Ответ: ', pred)"
      ],
      "metadata": {
        "colab": {
          "base_uri": "https://localhost:8080/"
        },
        "id": "QW66j2SsMgd2",
        "outputId": "89b7a6b8-dd87-49aa-eeba-32c9e9edc2cb"
      },
      "execution_count": null,
      "outputs": [
        {
          "output_type": "stream",
          "name": "stdout",
          "text": [
            "Загадайте героя:  Элезар\n",
            "Ответ:  ['Арагорн']\n"
          ]
        }
      ]
    },
    {
      "cell_type": "code",
      "source": [
        "inp = 'друг Сэма'\n",
        "print('Загадайте героя: ', inp)\n",
        "\n",
        "pred = make_pred(prep_input_text(inp))\n",
        "print('Ответ: ', pred)"
      ],
      "metadata": {
        "colab": {
          "base_uri": "https://localhost:8080/"
        },
        "id": "X0A76h645vO3",
        "outputId": "99afc665-dfa9-4546-8464-76f1b9bfba05"
      },
      "execution_count": null,
      "outputs": [
        {
          "output_type": "stream",
          "name": "stdout",
          "text": [
            "Загадайте героя:  друг Сэма\n",
            "Ответ:  ['Фродо']\n"
          ]
        }
      ]
    },
    {
      "cell_type": "markdown",
      "source": [
        "**Генератор имен**"
      ],
      "metadata": {
        "id": "ITjl2YVe57-d"
      }
    },
    {
      "cell_type": "markdown",
      "source": [
        "Пользователю предлагается задать начальную букву имени, бот в ответ выдаст сгенерированное имя, похожее на эльфийское. Для этой задачи напишем простой алгоритм, который будет основываться на списке имен из Властелина колец и генерировать случайное."
      ],
      "metadata": {
        "id": "C3vhENdk6Dlw"
      }
    },
    {
      "cell_type": "code",
      "source": [
        "# Загружаем данные\n",
        "df3 = pd.read_excel('lotr_names.xlsx')\n",
        "df3.sample(3)"
      ],
      "metadata": {
        "colab": {
          "base_uri": "https://localhost:8080/",
          "height": 143
        },
        "id": "Q_jMYu-J6OJo",
        "outputId": "10707c02-38c1-4ad1-db95-2c5d93f70feb"
      },
      "execution_count": null,
      "outputs": [
        {
          "output_type": "execute_result",
          "data": {
            "text/plain": [
              "          name\n",
              "4    Селебриан\n",
              "26  Галадриэль\n",
              "57      Идриль"
            ],
            "text/html": [
              "\n",
              "  <div id=\"df-114780b4-5fa7-4106-a5ad-83234f9cb973\">\n",
              "    <div class=\"colab-df-container\">\n",
              "      <div>\n",
              "<style scoped>\n",
              "    .dataframe tbody tr th:only-of-type {\n",
              "        vertical-align: middle;\n",
              "    }\n",
              "\n",
              "    .dataframe tbody tr th {\n",
              "        vertical-align: top;\n",
              "    }\n",
              "\n",
              "    .dataframe thead th {\n",
              "        text-align: right;\n",
              "    }\n",
              "</style>\n",
              "<table border=\"1\" class=\"dataframe\">\n",
              "  <thead>\n",
              "    <tr style=\"text-align: right;\">\n",
              "      <th></th>\n",
              "      <th>name</th>\n",
              "    </tr>\n",
              "  </thead>\n",
              "  <tbody>\n",
              "    <tr>\n",
              "      <th>4</th>\n",
              "      <td>Селебриан</td>\n",
              "    </tr>\n",
              "    <tr>\n",
              "      <th>26</th>\n",
              "      <td>Галадриэль</td>\n",
              "    </tr>\n",
              "    <tr>\n",
              "      <th>57</th>\n",
              "      <td>Идриль</td>\n",
              "    </tr>\n",
              "  </tbody>\n",
              "</table>\n",
              "</div>\n",
              "      <button class=\"colab-df-convert\" onclick=\"convertToInteractive('df-114780b4-5fa7-4106-a5ad-83234f9cb973')\"\n",
              "              title=\"Convert this dataframe to an interactive table.\"\n",
              "              style=\"display:none;\">\n",
              "        \n",
              "  <svg xmlns=\"http://www.w3.org/2000/svg\" height=\"24px\"viewBox=\"0 0 24 24\"\n",
              "       width=\"24px\">\n",
              "    <path d=\"M0 0h24v24H0V0z\" fill=\"none\"/>\n",
              "    <path d=\"M18.56 5.44l.94 2.06.94-2.06 2.06-.94-2.06-.94-.94-2.06-.94 2.06-2.06.94zm-11 1L8.5 8.5l.94-2.06 2.06-.94-2.06-.94L8.5 2.5l-.94 2.06-2.06.94zm10 10l.94 2.06.94-2.06 2.06-.94-2.06-.94-.94-2.06-.94 2.06-2.06.94z\"/><path d=\"M17.41 7.96l-1.37-1.37c-.4-.4-.92-.59-1.43-.59-.52 0-1.04.2-1.43.59L10.3 9.45l-7.72 7.72c-.78.78-.78 2.05 0 2.83L4 21.41c.39.39.9.59 1.41.59.51 0 1.02-.2 1.41-.59l7.78-7.78 2.81-2.81c.8-.78.8-2.07 0-2.86zM5.41 20L4 18.59l7.72-7.72 1.47 1.35L5.41 20z\"/>\n",
              "  </svg>\n",
              "      </button>\n",
              "      \n",
              "  <style>\n",
              "    .colab-df-container {\n",
              "      display:flex;\n",
              "      flex-wrap:wrap;\n",
              "      gap: 12px;\n",
              "    }\n",
              "\n",
              "    .colab-df-convert {\n",
              "      background-color: #E8F0FE;\n",
              "      border: none;\n",
              "      border-radius: 50%;\n",
              "      cursor: pointer;\n",
              "      display: none;\n",
              "      fill: #1967D2;\n",
              "      height: 32px;\n",
              "      padding: 0 0 0 0;\n",
              "      width: 32px;\n",
              "    }\n",
              "\n",
              "    .colab-df-convert:hover {\n",
              "      background-color: #E2EBFA;\n",
              "      box-shadow: 0px 1px 2px rgba(60, 64, 67, 0.3), 0px 1px 3px 1px rgba(60, 64, 67, 0.15);\n",
              "      fill: #174EA6;\n",
              "    }\n",
              "\n",
              "    [theme=dark] .colab-df-convert {\n",
              "      background-color: #3B4455;\n",
              "      fill: #D2E3FC;\n",
              "    }\n",
              "\n",
              "    [theme=dark] .colab-df-convert:hover {\n",
              "      background-color: #434B5C;\n",
              "      box-shadow: 0px 1px 3px 1px rgba(0, 0, 0, 0.15);\n",
              "      filter: drop-shadow(0px 1px 2px rgba(0, 0, 0, 0.3));\n",
              "      fill: #FFFFFF;\n",
              "    }\n",
              "  </style>\n",
              "\n",
              "      <script>\n",
              "        const buttonEl =\n",
              "          document.querySelector('#df-114780b4-5fa7-4106-a5ad-83234f9cb973 button.colab-df-convert');\n",
              "        buttonEl.style.display =\n",
              "          google.colab.kernel.accessAllowed ? 'block' : 'none';\n",
              "\n",
              "        async function convertToInteractive(key) {\n",
              "          const element = document.querySelector('#df-114780b4-5fa7-4106-a5ad-83234f9cb973');\n",
              "          const dataTable =\n",
              "            await google.colab.kernel.invokeFunction('convertToInteractive',\n",
              "                                                     [key], {});\n",
              "          if (!dataTable) return;\n",
              "\n",
              "          const docLinkHtml = 'Like what you see? Visit the ' +\n",
              "            '<a target=\"_blank\" href=https://colab.research.google.com/notebooks/data_table.ipynb>data table notebook</a>'\n",
              "            + ' to learn more about interactive tables.';\n",
              "          element.innerHTML = '';\n",
              "          dataTable['output_type'] = 'display_data';\n",
              "          await google.colab.output.renderOutput(dataTable, element);\n",
              "          const docLink = document.createElement('div');\n",
              "          docLink.innerHTML = docLinkHtml;\n",
              "          element.appendChild(docLink);\n",
              "        }\n",
              "      </script>\n",
              "    </div>\n",
              "  </div>\n",
              "  "
            ]
          },
          "metadata": {},
          "execution_count": 130
        }
      ]
    },
    {
      "cell_type": "code",
      "source": [
        "# Разобъем имена на фонемы и создадим словарь по первым буквам\n",
        "\n",
        "fons = {'а': [], 'б': [], 'в': [], 'г': [], 'д': [], 'е': [], 'ё': [], 'ж': [], 'з': [], 'и': [], 'й': [], 'к': [], 'л': [], 'м': [], 'н': [],\n",
        "        'о': [], 'п': [], 'р': [], 'с': [], 'т': [], 'у': [], 'ф': [], 'х': [], 'ц': [], 'ч': [], 'ш': [], 'щ': [], 'ы':[], 'ъ':[], 'ь': [], 'э': [], 'ю': [], 'я': [],\n",
        "        '-': []}\n",
        "\n",
        "for name in df3.name.str.lower().to_list():\n",
        "  #print(name, len(name))\n",
        "  n_min = 0\n",
        "  n_max = len(name)\n",
        "  while n_min != n_max:\n",
        "    fon = name[n_min:n_min+3]\n",
        "    fl = fon[:1]\n",
        "    fons[fl].append(fon)\n",
        "    n_min +=1\n"
      ],
      "metadata": {
        "id": "oJnIjmlT7t9A"
      },
      "execution_count": null,
      "outputs": []
    },
    {
      "cell_type": "code",
      "source": [
        "def gen_name(letter):\n",
        "  vars = fons[letter]\n",
        "  r = random.randint(0, len(vars))\n",
        "  name = vars[r]\n",
        "  name_length = random.randint(1, 3)\n",
        "  \n",
        "  while name_length:\n",
        "    \n",
        "    try:\n",
        "      nl = random.choice(list(fons.keys()))[0]\n",
        "      var_nl = fons[nl]\n",
        "      r_nl = random.randint(0, len(var_nl))\n",
        "      name += var_nl[r_nl]\n",
        "    except IndexError:\n",
        "      pass\n",
        "\n",
        "    name_length -= 1\n",
        "\n",
        "  return name.title()"
      ],
      "metadata": {
        "id": "XsjzgqS1-CW_"
      },
      "execution_count": null,
      "outputs": []
    },
    {
      "cell_type": "code",
      "source": [
        "let = 'о'\n",
        "print('Ваше имя: ', gen_name(let))"
      ],
      "metadata": {
        "colab": {
          "base_uri": "https://localhost:8080/"
        },
        "id": "3D18ipsi-pGF",
        "outputId": "f362abcf-7228-47aa-db5f-cb56233d511f"
      },
      "execution_count": null,
      "outputs": [
        {
          "output_type": "stream",
          "name": "stdout",
          "text": [
            "Ваше имя:  Орнвин\n"
          ]
        }
      ]
    }
  ]
}